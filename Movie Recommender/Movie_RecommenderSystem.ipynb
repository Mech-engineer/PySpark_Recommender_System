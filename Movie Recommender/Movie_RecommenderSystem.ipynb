{
 "cells": [
  {
   "cell_type": "markdown",
   "metadata": {},
   "source": [
    "# Big Data - Movie Recommender System"
   ]
  },
  {
   "cell_type": "code",
   "execution_count": 0,
   "metadata": {
    "application/vnd.databricks.v1+cell": {
     "inputWidgets": {},
     "nuid": "d621d5e7-9a1f-4959-a597-115163ce8464",
     "showTitle": false,
     "title": ""
    }
   },
   "outputs": [
    {
     "data": {
      "text/html": [
       "<style scoped>\n",
       "  .ansiout {\n",
       "    display: block;\n",
       "    unicode-bidi: embed;\n",
       "    white-space: pre-wrap;\n",
       "    word-wrap: break-word;\n",
       "    word-break: break-all;\n",
       "    font-family: \"Source Code Pro\", \"Menlo\", monospace;;\n",
       "    font-size: 13px;\n",
       "    color: #555;\n",
       "    margin-left: 4px;\n",
       "    line-height: 19px;\n",
       "  }\n",
       "</style>\n",
       "<div class=\"ansiout\"></div>"
      ]
     },
     "metadata": {
      "application/vnd.databricks.v1+output": {
       "addedWidgets": {},
       "arguments": {},
       "data": "<div class=\"ansiout\"></div>",
       "datasetInfos": [],
       "metadata": {},
       "removedWidgets": [],
       "type": "html"
      }
     },
     "output_type": "display_data"
    }
   ],
   "source": [
    "from pyspark.sql import SparkSession\n",
    "from pyspark.sql.functions import *\n",
    "from pyspark.ml.feature import  Imputer, StringIndexer, VectorAssembler\n",
    "from pyspark.ml.linalg import SparseVector, DenseVector\n",
    "from pyspark.sql.types import *\n",
    "from pyspark.ml import Pipeline\n",
    "from pyspark.ml.recommendation import ALS # Alternating least square  \n",
    "from pyspark.ml.tuning import TrainValidationSplit, ParamGridBuilder, CrossValidator, TrainValidationSplit\n",
    "from pyspark.ml.evaluation import RegressionEvaluator\n"
   ]
  },
  {
   "cell_type": "code",
   "execution_count": 0,
   "metadata": {
    "application/vnd.databricks.v1+cell": {
     "inputWidgets": {},
     "nuid": "c7297313-53f5-4c7d-9283-17645a33ae5d",
     "showTitle": false,
     "title": ""
    }
   },
   "outputs": [
    {
     "data": {
      "text/html": [
       "<style scoped>\n",
       "  .ansiout {\n",
       "    display: block;\n",
       "    unicode-bidi: embed;\n",
       "    white-space: pre-wrap;\n",
       "    word-wrap: break-word;\n",
       "    word-break: break-all;\n",
       "    font-family: \"Source Code Pro\", \"Menlo\", monospace;;\n",
       "    font-size: 13px;\n",
       "    color: #555;\n",
       "    margin-left: 4px;\n",
       "    line-height: 19px;\n",
       "  }\n",
       "</style>\n",
       "<div class=\"ansiout\"></div>"
      ]
     },
     "metadata": {
      "application/vnd.databricks.v1+output": {
       "addedWidgets": {},
       "arguments": {},
       "data": "<div class=\"ansiout\"></div>",
       "datasetInfos": [],
       "metadata": {},
       "removedWidgets": [],
       "type": "html"
      }
     },
     "output_type": "display_data"
    }
   ],
   "source": [
    "#instantiate the spark session\n",
    "spark = SparkSession.builder.appName(\"A2-PartB\").getOrCreate()\n",
    " \n",
    "#set the shuffle partition same as number of cpu cores to improve performance \n",
    "# spark.conf.set(\"spark.sql.shuffle.partitions\")"
   ]
  },
  {
   "cell_type": "code",
   "execution_count": 0,
   "metadata": {
    "application/vnd.databricks.v1+cell": {
     "inputWidgets": {},
     "nuid": "75d0fff9-842f-450b-b9a1-c07998ee5105",
     "showTitle": false,
     "title": ""
    }
   },
   "outputs": [
    {
     "data": {
      "text/html": [
       "<style scoped>\n",
       "  .table-result-container {\n",
       "    max-height: 300px;\n",
       "    overflow: auto;\n",
       "  }\n",
       "  table, th, td {\n",
       "    border: 1px solid black;\n",
       "    border-collapse: collapse;\n",
       "  }\n",
       "  th, td {\n",
       "    padding: 5px;\n",
       "  }\n",
       "  th {\n",
       "    text-align: left;\n",
       "  }\n",
       "</style><div class='table-result-container'><table class='table-result'><thead style='background-color: white'><tr><th>movieId</th><th>rating</th><th>userId</th></tr></thead><tbody><tr><td>2</td><td>3</td><td>0</td></tr><tr><td>3</td><td>1</td><td>0</td></tr><tr><td>5</td><td>2</td><td>0</td></tr><tr><td>9</td><td>4</td><td>0</td></tr><tr><td>11</td><td>1</td><td>0</td></tr><tr><td>12</td><td>2</td><td>0</td></tr><tr><td>15</td><td>1</td><td>0</td></tr><tr><td>17</td><td>1</td><td>0</td></tr><tr><td>19</td><td>1</td><td>0</td></tr><tr><td>21</td><td>1</td><td>0</td></tr><tr><td>23</td><td>1</td><td>0</td></tr><tr><td>26</td><td>3</td><td>0</td></tr><tr><td>27</td><td>1</td><td>0</td></tr><tr><td>28</td><td>1</td><td>0</td></tr><tr><td>29</td><td>1</td><td>0</td></tr><tr><td>30</td><td>1</td><td>0</td></tr><tr><td>31</td><td>1</td><td>0</td></tr><tr><td>34</td><td>1</td><td>0</td></tr><tr><td>37</td><td>1</td><td>0</td></tr><tr><td>41</td><td>2</td><td>0</td></tr><tr><td>44</td><td>1</td><td>0</td></tr><tr><td>45</td><td>2</td><td>0</td></tr><tr><td>46</td><td>1</td><td>0</td></tr><tr><td>47</td><td>1</td><td>0</td></tr><tr><td>48</td><td>1</td><td>0</td></tr><tr><td>50</td><td>1</td><td>0</td></tr><tr><td>51</td><td>1</td><td>0</td></tr><tr><td>54</td><td>1</td><td>0</td></tr><tr><td>55</td><td>1</td><td>0</td></tr><tr><td>59</td><td>2</td><td>0</td></tr><tr><td>61</td><td>2</td><td>0</td></tr><tr><td>64</td><td>1</td><td>0</td></tr><tr><td>67</td><td>1</td><td>0</td></tr><tr><td>68</td><td>1</td><td>0</td></tr><tr><td>69</td><td>1</td><td>0</td></tr><tr><td>71</td><td>1</td><td>0</td></tr><tr><td>72</td><td>1</td><td>0</td></tr><tr><td>77</td><td>2</td><td>0</td></tr><tr><td>79</td><td>1</td><td>0</td></tr><tr><td>83</td><td>1</td><td>0</td></tr><tr><td>87</td><td>1</td><td>0</td></tr><tr><td>89</td><td>2</td><td>0</td></tr><tr><td>91</td><td>3</td><td>0</td></tr><tr><td>92</td><td>4</td><td>0</td></tr><tr><td>94</td><td>1</td><td>0</td></tr><tr><td>95</td><td>2</td><td>0</td></tr><tr><td>96</td><td>1</td><td>0</td></tr><tr><td>98</td><td>1</td><td>0</td></tr><tr><td>99</td><td>1</td><td>0</td></tr><tr><td>2</td><td>2</td><td>1</td></tr><tr><td>3</td><td>1</td><td>1</td></tr><tr><td>4</td><td>2</td><td>1</td></tr><tr><td>6</td><td>1</td><td>1</td></tr><tr><td>9</td><td>3</td><td>1</td></tr><tr><td>12</td><td>1</td><td>1</td></tr><tr><td>13</td><td>1</td><td>1</td></tr><tr><td>14</td><td>1</td><td>1</td></tr><tr><td>16</td><td>1</td><td>1</td></tr><tr><td>19</td><td>1</td><td>1</td></tr><tr><td>21</td><td>3</td><td>1</td></tr><tr><td>27</td><td>1</td><td>1</td></tr><tr><td>28</td><td>3</td><td>1</td></tr><tr><td>33</td><td>1</td><td>1</td></tr><tr><td>36</td><td>2</td><td>1</td></tr><tr><td>37</td><td>1</td><td>1</td></tr><tr><td>40</td><td>1</td><td>1</td></tr><tr><td>41</td><td>2</td><td>1</td></tr><tr><td>43</td><td>1</td><td>1</td></tr><tr><td>44</td><td>1</td><td>1</td></tr><tr><td>47</td><td>1</td><td>1</td></tr><tr><td>50</td><td>1</td><td>1</td></tr><tr><td>54</td><td>1</td><td>1</td></tr><tr><td>56</td><td>2</td><td>1</td></tr><tr><td>57</td><td>1</td><td>1</td></tr><tr><td>58</td><td>1</td><td>1</td></tr><tr><td>60</td><td>1</td><td>1</td></tr><tr><td>62</td><td>4</td><td>1</td></tr><tr><td>63</td><td>1</td><td>1</td></tr><tr><td>67</td><td>1</td><td>1</td></tr><tr><td>68</td><td>4</td><td>1</td></tr><tr><td>70</td><td>2</td><td>1</td></tr><tr><td>72</td><td>1</td><td>1</td></tr><tr><td>73</td><td>1</td><td>1</td></tr><tr><td>74</td><td>2</td><td>1</td></tr><tr><td>76</td><td>1</td><td>1</td></tr><tr><td>77</td><td>3</td><td>1</td></tr><tr><td>78</td><td>1</td><td>1</td></tr><tr><td>81</td><td>1</td><td>1</td></tr><tr><td>82</td><td>1</td><td>1</td></tr><tr><td>85</td><td>3</td><td>1</td></tr><tr><td>86</td><td>2</td><td>1</td></tr><tr><td>88</td><td>2</td><td>1</td></tr><tr><td>91</td><td>1</td><td>1</td></tr><tr><td>92</td><td>2</td><td>1</td></tr><tr><td>93</td><td>1</td><td>1</td></tr><tr><td>94</td><td>2</td><td>1</td></tr><tr><td>96</td><td>1</td><td>1</td></tr><tr><td>97</td><td>1</td><td>1</td></tr><tr><td>4</td><td>3</td><td>2</td></tr><tr><td>6</td><td>1</td><td>2</td></tr><tr><td>8</td><td>5</td><td>2</td></tr><tr><td>9</td><td>1</td><td>2</td></tr><tr><td>10</td><td>1</td><td>2</td></tr><tr><td>12</td><td>3</td><td>2</td></tr><tr><td>13</td><td>1</td><td>2</td></tr><tr><td>15</td><td>2</td><td>2</td></tr><tr><td>18</td><td>2</td><td>2</td></tr><tr><td>19</td><td>4</td><td>2</td></tr><tr><td>22</td><td>1</td><td>2</td></tr><tr><td>26</td><td>1</td><td>2</td></tr><tr><td>28</td><td>1</td><td>2</td></tr><tr><td>34</td><td>4</td><td>2</td></tr><tr><td>35</td><td>1</td><td>2</td></tr><tr><td>37</td><td>5</td><td>2</td></tr><tr><td>38</td><td>1</td><td>2</td></tr><tr><td>39</td><td>5</td><td>2</td></tr><tr><td>40</td><td>4</td><td>2</td></tr><tr><td>47</td><td>1</td><td>2</td></tr><tr><td>50</td><td>1</td><td>2</td></tr><tr><td>52</td><td>2</td><td>2</td></tr><tr><td>54</td><td>1</td><td>2</td></tr><tr><td>55</td><td>1</td><td>2</td></tr><tr><td>57</td><td>2</td><td>2</td></tr><tr><td>58</td><td>2</td><td>2</td></tr><tr><td>59</td><td>1</td><td>2</td></tr><tr><td>61</td><td>1</td><td>2</td></tr><tr><td>62</td><td>1</td><td>2</td></tr><tr><td>64</td><td>1</td><td>2</td></tr><tr><td>65</td><td>1</td><td>2</td></tr><tr><td>66</td><td>3</td><td>2</td></tr><tr><td>68</td><td>1</td><td>2</td></tr><tr><td>71</td><td>3</td><td>2</td></tr><tr><td>76</td><td>1</td><td>2</td></tr><tr><td>77</td><td>1</td><td>2</td></tr><tr><td>78</td><td>1</td><td>2</td></tr><tr><td>80</td><td>1</td><td>2</td></tr><tr><td>83</td><td>5</td><td>2</td></tr><tr><td>85</td><td>1</td><td>2</td></tr><tr><td>87</td><td>2</td><td>2</td></tr><tr><td>88</td><td>1</td><td>2</td></tr><tr><td>89</td><td>4</td><td>2</td></tr><tr><td>90</td><td>1</td><td>2</td></tr><tr><td>92</td><td>4</td><td>2</td></tr><tr><td>93</td><td>5</td><td>2</td></tr><tr><td>0</td><td>1</td><td>3</td></tr><tr><td>1</td><td>1</td><td>3</td></tr><tr><td>2</td><td>1</td><td>3</td></tr><tr><td>7</td><td>3</td><td>3</td></tr><tr><td>8</td><td>3</td><td>3</td></tr><tr><td>9</td><td>1</td><td>3</td></tr><tr><td>14</td><td>1</td><td>3</td></tr><tr><td>15</td><td>1</td><td>3</td></tr><tr><td>16</td><td>1</td><td>3</td></tr><tr><td>18</td><td>4</td><td>3</td></tr><tr><td>19</td><td>1</td><td>3</td></tr><tr><td>24</td><td>3</td><td>3</td></tr><tr><td>26</td><td>1</td><td>3</td></tr><tr><td>29</td><td>3</td><td>3</td></tr><tr><td>33</td><td>1</td><td>3</td></tr><tr><td>34</td><td>3</td><td>3</td></tr><tr><td>35</td><td>1</td><td>3</td></tr><tr><td>36</td><td>3</td><td>3</td></tr><tr><td>37</td><td>1</td><td>3</td></tr><tr><td>38</td><td>2</td><td>3</td></tr><tr><td>43</td><td>1</td><td>3</td></tr><tr><td>44</td><td>1</td><td>3</td></tr><tr><td>46</td><td>1</td><td>3</td></tr><tr><td>47</td><td>1</td><td>3</td></tr><tr><td>51</td><td>5</td><td>3</td></tr><tr><td>52</td><td>3</td><td>3</td></tr><tr><td>56</td><td>1</td><td>3</td></tr><tr><td>58</td><td>1</td><td>3</td></tr><tr><td>60</td><td>3</td><td>3</td></tr><tr><td>62</td><td>1</td><td>3</td></tr><tr><td>65</td><td>2</td><td>3</td></tr><tr><td>66</td><td>1</td><td>3</td></tr><tr><td>67</td><td>1</td><td>3</td></tr><tr><td>68</td><td>2</td><td>3</td></tr><tr><td>70</td><td>1</td><td>3</td></tr><tr><td>72</td><td>2</td><td>3</td></tr><tr><td>76</td><td>3</td><td>3</td></tr><tr><td>79</td><td>3</td><td>3</td></tr><tr><td>80</td><td>4</td><td>3</td></tr><tr><td>81</td><td>1</td><td>3</td></tr><tr><td>83</td><td>1</td><td>3</td></tr><tr><td>84</td><td>1</td><td>3</td></tr><tr><td>86</td><td>1</td><td>3</td></tr><tr><td>87</td><td>2</td><td>3</td></tr><tr><td>88</td><td>4</td><td>3</td></tr><tr><td>89</td><td>1</td><td>3</td></tr><tr><td>91</td><td>1</td><td>3</td></tr><tr><td>94</td><td>3</td><td>3</td></tr><tr><td>1</td><td>1</td><td>4</td></tr><tr><td>6</td><td>1</td><td>4</td></tr><tr><td>8</td><td>1</td><td>4</td></tr><tr><td>9</td><td>1</td><td>4</td></tr><tr><td>10</td><td>1</td><td>4</td></tr><tr><td>11</td><td>1</td><td>4</td></tr><tr><td>12</td><td>1</td><td>4</td></tr><tr><td>13</td><td>1</td><td>4</td></tr><tr><td>14</td><td>2</td><td>4</td></tr><tr><td>15</td><td>1</td><td>4</td></tr><tr><td>17</td><td>1</td><td>4</td></tr><tr><td>20</td><td>1</td><td>4</td></tr><tr><td>22</td><td>1</td><td>4</td></tr><tr><td>23</td><td>1</td><td>4</td></tr><tr><td>24</td><td>1</td><td>4</td></tr><tr><td>29</td><td>4</td><td>4</td></tr><tr><td>30</td><td>1</td><td>4</td></tr><tr><td>31</td><td>1</td><td>4</td></tr><tr><td>34</td><td>1</td><td>4</td></tr><tr><td>35</td><td>1</td><td>4</td></tr><tr><td>36</td><td>1</td><td>4</td></tr><tr><td>39</td><td>2</td><td>4</td></tr><tr><td>40</td><td>3</td><td>4</td></tr><tr><td>41</td><td>4</td><td>4</td></tr><tr><td>43</td><td>2</td><td>4</td></tr><tr><td>44</td><td>1</td><td>4</td></tr><tr><td>45</td><td>1</td><td>4</td></tr><tr><td>46</td><td>1</td><td>4</td></tr><tr><td>47</td><td>1</td><td>4</td></tr><tr><td>49</td><td>2</td><td>4</td></tr><tr><td>50</td><td>1</td><td>4</td></tr><tr><td>51</td><td>1</td><td>4</td></tr><tr><td>52</td><td>4</td><td>4</td></tr><tr><td>54</td><td>1</td><td>4</td></tr><tr><td>55</td><td>1</td><td>4</td></tr><tr><td>60</td><td>3</td><td>4</td></tr><tr><td>61</td><td>1</td><td>4</td></tr><tr><td>62</td><td>4</td><td>4</td></tr><tr><td>63</td><td>3</td><td>4</td></tr><tr><td>65</td><td>1</td><td>4</td></tr><tr><td>67</td><td>2</td><td>4</td></tr><tr><td>69</td><td>1</td><td>4</td></tr><tr><td>70</td><td>4</td><td>4</td></tr><tr><td>71</td><td>1</td><td>4</td></tr><tr><td>73</td><td>1</td><td>4</td></tr><tr><td>78</td><td>1</td><td>4</td></tr><tr><td>84</td><td>1</td><td>4</td></tr><tr><td>85</td><td>1</td><td>4</td></tr><tr><td>87</td><td>3</td><td>4</td></tr><tr><td>88</td><td>3</td><td>4</td></tr><tr><td>89</td><td>2</td><td>4</td></tr><tr><td>96</td><td>1</td><td>4</td></tr><tr><td>97</td><td>1</td><td>4</td></tr><tr><td>98</td><td>1</td><td>4</td></tr><tr><td>99</td><td>1</td><td>4</td></tr><tr><td>0</td><td>1</td><td>5</td></tr><tr><td>1</td><td>1</td><td>5</td></tr><tr><td>4</td><td>1</td><td>5</td></tr><tr><td>5</td><td>1</td><td>5</td></tr><tr><td>8</td><td>1</td><td>5</td></tr><tr><td>9</td><td>3</td><td>5</td></tr><tr><td>10</td><td>2</td><td>5</td></tr><tr><td>13</td><td>3</td><td>5</td></tr><tr><td>15</td><td>1</td><td>5</td></tr><tr><td>19</td><td>1</td><td>5</td></tr><tr><td>20</td><td>3</td><td>5</td></tr><tr><td>21</td><td>2</td><td>5</td></tr><tr><td>23</td><td>3</td><td>5</td></tr><tr><td>27</td><td>1</td><td>5</td></tr><tr><td>28</td><td>1</td><td>5</td></tr><tr><td>29</td><td>1</td><td>5</td></tr><tr><td>31</td><td>1</td><td>5</td></tr><tr><td>36</td><td>3</td><td>5</td></tr><tr><td>38</td><td>2</td><td>5</td></tr><tr><td>39</td><td>1</td><td>5</td></tr><tr><td>42</td><td>1</td><td>5</td></tr><tr><td>48</td><td>3</td><td>5</td></tr><tr><td>49</td><td>4</td><td>5</td></tr><tr><td>50</td><td>3</td><td>5</td></tr><tr><td>51</td><td>1</td><td>5</td></tr><tr><td>52</td><td>1</td><td>5</td></tr><tr><td>54</td><td>1</td><td>5</td></tr><tr><td>55</td><td>5</td><td>5</td></tr><tr><td>56</td><td>3</td><td>5</td></tr><tr><td>58</td><td>1</td><td>5</td></tr><tr><td>60</td><td>1</td><td>5</td></tr><tr><td>61</td><td>1</td><td>5</td></tr><tr><td>64</td><td>3</td><td>5</td></tr><tr><td>65</td><td>2</td><td>5</td></tr><tr><td>68</td><td>4</td><td>5</td></tr><tr><td>70</td><td>1</td><td>5</td></tr><tr><td>71</td><td>1</td><td>5</td></tr><tr><td>72</td><td>1</td><td>5</td></tr><tr><td>74</td><td>1</td><td>5</td></tr><tr><td>79</td><td>1</td><td>5</td></tr><tr><td>81</td><td>2</td><td>5</td></tr><tr><td>84</td><td>1</td><td>5</td></tr><tr><td>85</td><td>1</td><td>5</td></tr><tr><td>86</td><td>1</td><td>5</td></tr><tr><td>88</td><td>1</td><td>5</td></tr><tr><td>90</td><td>4</td><td>5</td></tr><tr><td>91</td><td>2</td><td>5</td></tr><tr><td>95</td><td>2</td><td>5</td></tr><tr><td>99</td><td>1</td><td>5</td></tr><tr><td>0</td><td>1</td><td>6</td></tr><tr><td>1</td><td>1</td><td>6</td></tr><tr><td>2</td><td>3</td><td>6</td></tr><tr><td>5</td><td>1</td><td>6</td></tr><tr><td>6</td><td>1</td><td>6</td></tr><tr><td>9</td><td>1</td><td>6</td></tr><tr><td>10</td><td>1</td><td>6</td></tr><tr><td>15</td><td>2</td><td>6</td></tr><tr><td>16</td><td>2</td><td>6</td></tr><tr><td>17</td><td>1</td><td>6</td></tr><tr><td>18</td><td>1</td><td>6</td></tr><tr><td>20</td><td>1</td><td>6</td></tr><tr><td>21</td><td>1</td><td>6</td></tr><tr><td>22</td><td>1</td><td>6</td></tr><tr><td>24</td><td>1</td><td>6</td></tr><tr><td>25</td><td>5</td><td>6</td></tr><tr><td>26</td><td>1</td><td>6</td></tr><tr><td>28</td><td>1</td><td>6</td></tr><tr><td>30</td><td>1</td><td>6</td></tr><tr><td>33</td><td>1</td><td>6</td></tr><tr><td>38</td><td>1</td><td>6</td></tr><tr><td>39</td><td>1</td><td>6</td></tr><tr><td>43</td><td>4</td><td>6</td></tr><tr><td>44</td><td>1</td><td>6</td></tr><tr><td>45</td><td>1</td><td>6</td></tr><tr><td>48</td><td>1</td><td>6</td></tr><tr><td>49</td><td>1</td><td>6</td></tr><tr><td>50</td><td>1</td><td>6</td></tr><tr><td>53</td><td>1</td><td>6</td></tr><tr><td>54</td><td>1</td><td>6</td></tr><tr><td>55</td><td>1</td><td>6</td></tr><tr><td>56</td><td>1</td><td>6</td></tr><tr><td>58</td><td>4</td><td>6</td></tr><tr><td>59</td><td>1</td><td>6</td></tr><tr><td>60</td><td>1</td><td>6</td></tr><tr><td>61</td><td>3</td><td>6</td></tr><tr><td>63</td><td>3</td><td>6</td></tr><tr><td>66</td><td>1</td><td>6</td></tr><tr><td>67</td><td>3</td><td>6</td></tr><tr><td>68</td><td>1</td><td>6</td></tr><tr><td>69</td><td>1</td><td>6</td></tr><tr><td>71</td><td>2</td><td>6</td></tr><tr><td>73</td><td>1</td><td>6</td></tr><tr><td>75</td><td>1</td><td>6</td></tr><tr><td>77</td><td>1</td><td>6</td></tr><tr><td>79</td><td>1</td><td>6</td></tr><tr><td>81</td><td>1</td><td>6</td></tr><tr><td>84</td><td>1</td><td>6</td></tr><tr><td>85</td><td>3</td><td>6</td></tr><tr><td>86</td><td>1</td><td>6</td></tr><tr><td>87</td><td>1</td><td>6</td></tr><tr><td>88</td><td>1</td><td>6</td></tr><tr><td>89</td><td>1</td><td>6</td></tr><tr><td>91</td><td>2</td><td>6</td></tr><tr><td>94</td><td>1</td><td>6</td></tr><tr><td>95</td><td>2</td><td>6</td></tr><tr><td>96</td><td>1</td><td>6</td></tr><tr><td>1</td><td>1</td><td>7</td></tr><tr><td>2</td><td>2</td><td>7</td></tr><tr><td>3</td><td>1</td><td>7</td></tr><tr><td>4</td><td>1</td><td>7</td></tr><tr><td>7</td><td>1</td><td>7</td></tr><tr><td>10</td><td>1</td><td>7</td></tr><tr><td>11</td><td>2</td><td>7</td></tr><tr><td>14</td><td>2</td><td>7</td></tr><tr><td>15</td><td>1</td><td>7</td></tr><tr><td>16</td><td>1</td><td>7</td></tr><tr><td>18</td><td>1</td><td>7</td></tr><tr><td>21</td><td>1</td><td>7</td></tr><tr><td>22</td><td>1</td><td>7</td></tr><tr><td>23</td><td>1</td><td>7</td></tr><tr><td>25</td><td>5</td><td>7</td></tr><tr><td>26</td><td>1</td><td>7</td></tr><tr><td>29</td><td>4</td><td>7</td></tr><tr><td>30</td><td>1</td><td>7</td></tr><tr><td>31</td><td>3</td><td>7</td></tr><tr><td>32</td><td>1</td><td>7</td></tr><tr><td>33</td><td>1</td><td>7</td></tr><tr><td>35</td><td>1</td><td>7</td></tr><tr><td>37</td><td>2</td><td>7</td></tr><tr><td>39</td><td>3</td><td>7</td></tr><tr><td>40</td><td>2</td><td>7</td></tr><tr><td>42</td><td>2</td><td>7</td></tr><tr><td>44</td><td>1</td><td>7</td></tr><tr><td>45</td><td>2</td><td>7</td></tr><tr><td>47</td><td>4</td><td>7</td></tr><tr><td>48</td><td>1</td><td>7</td></tr><tr><td>49</td><td>1</td><td>7</td></tr><tr><td>53</td><td>1</td><td>7</td></tr><tr><td>54</td><td>1</td><td>7</td></tr><tr><td>55</td><td>1</td><td>7</td></tr><tr><td>56</td><td>1</td><td>7</td></tr><tr><td>59</td><td>1</td><td>7</td></tr><tr><td>61</td><td>2</td><td>7</td></tr><tr><td>62</td><td>3</td><td>7</td></tr><tr><td>63</td><td>2</td><td>7</td></tr><tr><td>66</td><td>1</td><td>7</td></tr><tr><td>67</td><td>3</td><td>7</td></tr><tr><td>74</td><td>1</td><td>7</td></tr><tr><td>75</td><td>1</td><td>7</td></tr><tr><td>76</td><td>3</td><td>7</td></tr><tr><td>77</td><td>1</td><td>7</td></tr><tr><td>81</td><td>1</td><td>7</td></tr><tr><td>82</td><td>1</td><td>7</td></tr><tr><td>84</td><td>2</td><td>7</td></tr><tr><td>85</td><td>4</td><td>7</td></tr><tr><td>86</td><td>1</td><td>7</td></tr><tr><td>92</td><td>2</td><td>7</td></tr><tr><td>96</td><td>1</td><td>7</td></tr><tr><td>97</td><td>1</td><td>7</td></tr><tr><td>98</td><td>1</td><td>7</td></tr><tr><td>0</td><td>1</td><td>8</td></tr><tr><td>2</td><td>4</td><td>8</td></tr><tr><td>3</td><td>2</td><td>8</td></tr><tr><td>4</td><td>2</td><td>8</td></tr><tr><td>5</td><td>1</td><td>8</td></tr><tr><td>7</td><td>1</td><td>8</td></tr><tr><td>9</td><td>1</td><td>8</td></tr><tr><td>11</td><td>1</td><td>8</td></tr><tr><td>15</td><td>1</td><td>8</td></tr><tr><td>18</td><td>1</td><td>8</td></tr><tr><td>19</td><td>1</td><td>8</td></tr><tr><td>21</td><td>1</td><td>8</td></tr><tr><td>29</td><td>5</td><td>8</td></tr><tr><td>31</td><td>3</td><td>8</td></tr><tr><td>33</td><td>1</td><td>8</td></tr><tr><td>35</td><td>1</td><td>8</td></tr><tr><td>36</td><td>1</td><td>8</td></tr><tr><td>40</td><td>2</td><td>8</td></tr><tr><td>44</td><td>1</td><td>8</td></tr><tr><td>45</td><td>1</td><td>8</td></tr><tr><td>50</td><td>1</td><td>8</td></tr><tr><td>51</td><td>1</td><td>8</td></tr><tr><td>52</td><td>5</td><td>8</td></tr><tr><td>53</td><td>5</td><td>8</td></tr><tr><td>54</td><td>1</td><td>8</td></tr><tr><td>55</td><td>1</td><td>8</td></tr><tr><td>56</td><td>1</td><td>8</td></tr><tr><td>58</td><td>4</td><td>8</td></tr><tr><td>60</td><td>3</td><td>8</td></tr><tr><td>62</td><td>4</td><td>8</td></tr><tr><td>64</td><td>1</td><td>8</td></tr><tr><td>67</td><td>3</td><td>8</td></tr><tr><td>69</td><td>1</td><td>8</td></tr><tr><td>71</td><td>1</td><td>8</td></tr><tr><td>72</td><td>3</td><td>8</td></tr><tr><td>77</td><td>3</td><td>8</td></tr><tr><td>78</td><td>1</td><td>8</td></tr><tr><td>79</td><td>1</td><td>8</td></tr><tr><td>83</td><td>1</td><td>8</td></tr><tr><td>85</td><td>5</td><td>8</td></tr><tr><td>86</td><td>1</td><td>8</td></tr><tr><td>88</td><td>1</td><td>8</td></tr><tr><td>90</td><td>1</td><td>8</td></tr><tr><td>92</td><td>2</td><td>8</td></tr><tr><td>95</td><td>4</td><td>8</td></tr><tr><td>96</td><td>3</td><td>8</td></tr><tr><td>97</td><td>1</td><td>8</td></tr><tr><td>98</td><td>1</td><td>8</td></tr><tr><td>99</td><td>1</td><td>8</td></tr><tr><td>2</td><td>3</td><td>9</td></tr><tr><td>3</td><td>1</td><td>9</td></tr><tr><td>4</td><td>1</td><td>9</td></tr><tr><td>5</td><td>1</td><td>9</td></tr><tr><td>6</td><td>1</td><td>9</td></tr><tr><td>7</td><td>5</td><td>9</td></tr><tr><td>9</td><td>1</td><td>9</td></tr><tr><td>12</td><td>1</td><td>9</td></tr><tr><td>14</td><td>3</td><td>9</td></tr><tr><td>15</td><td>1</td><td>9</td></tr><tr><td>19</td><td>1</td><td>9</td></tr><tr><td>21</td><td>1</td><td>9</td></tr><tr><td>22</td><td>1</td><td>9</td></tr><tr><td>24</td><td>1</td><td>9</td></tr><tr><td>25</td><td>1</td><td>9</td></tr><tr><td>26</td><td>1</td><td>9</td></tr><tr><td>30</td><td>3</td><td>9</td></tr><tr><td>32</td><td>4</td><td>9</td></tr><tr><td>35</td><td>2</td><td>9</td></tr><tr><td>36</td><td>2</td><td>9</td></tr><tr><td>37</td><td>2</td><td>9</td></tr><tr><td>38</td><td>1</td><td>9</td></tr><tr><td>39</td><td>1</td><td>9</td></tr><tr><td>43</td><td>3</td><td>9</td></tr><tr><td>49</td><td>5</td><td>9</td></tr><tr><td>50</td><td>3</td><td>9</td></tr><tr><td>53</td><td>1</td><td>9</td></tr><tr><td>54</td><td>1</td><td>9</td></tr><tr><td>58</td><td>1</td><td>9</td></tr><tr><td>59</td><td>1</td><td>9</td></tr><tr><td>60</td><td>1</td><td>9</td></tr><tr><td>61</td><td>1</td><td>9</td></tr><tr><td>63</td><td>3</td><td>9</td></tr><tr><td>64</td><td>3</td><td>9</td></tr><tr><td>68</td><td>1</td><td>9</td></tr><tr><td>69</td><td>1</td><td>9</td></tr><tr><td>70</td><td>3</td><td>9</td></tr><tr><td>71</td><td>1</td><td>9</td></tr><tr><td>73</td><td>2</td><td>9</td></tr><tr><td>75</td><td>1</td><td>9</td></tr><tr><td>77</td><td>2</td><td>9</td></tr><tr><td>81</td><td>2</td><td>9</td></tr><tr><td>82</td><td>1</td><td>9</td></tr><tr><td>83</td><td>1</td><td>9</td></tr><tr><td>84</td><td>1</td><td>9</td></tr><tr><td>86</td><td>1</td><td>9</td></tr><tr><td>87</td><td>4</td><td>9</td></tr><tr><td>88</td><td>1</td><td>9</td></tr><tr><td>90</td><td>3</td><td>9</td></tr><tr><td>94</td><td>2</td><td>9</td></tr><tr><td>95</td><td>3</td><td>9</td></tr><tr><td>97</td><td>2</td><td>9</td></tr><tr><td>98</td><td>1</td><td>9</td></tr><tr><td>0</td><td>3</td><td>10</td></tr><tr><td>2</td><td>4</td><td>10</td></tr><tr><td>4</td><td>3</td><td>10</td></tr><tr><td>7</td><td>1</td><td>10</td></tr><tr><td>8</td><td>1</td><td>10</td></tr><tr><td>10</td><td>1</td><td>10</td></tr><tr><td>13</td><td>2</td><td>10</td></tr><tr><td>14</td><td>1</td><td>10</td></tr><tr><td>16</td><td>2</td><td>10</td></tr><tr><td>17</td><td>1</td><td>10</td></tr><tr><td>18</td><td>1</td><td>10</td></tr><tr><td>21</td><td>1</td><td>10</td></tr><tr><td>22</td><td>1</td><td>10</td></tr><tr><td>24</td><td>1</td><td>10</td></tr><tr><td>25</td><td>3</td><td>10</td></tr><tr><td>28</td><td>1</td><td>10</td></tr><tr><td>35</td><td>1</td><td>10</td></tr><tr><td>36</td><td>1</td><td>10</td></tr><tr><td>37</td><td>1</td><td>10</td></tr><tr><td>38</td><td>1</td><td>10</td></tr><tr><td>39</td><td>1</td><td>10</td></tr><tr><td>40</td><td>4</td><td>10</td></tr><tr><td>41</td><td>2</td><td>10</td></tr><tr><td>42</td><td>3</td><td>10</td></tr><tr><td>43</td><td>1</td><td>10</td></tr><tr><td>49</td><td>3</td><td>10</td></tr><tr><td>50</td><td>1</td><td>10</td></tr><tr><td>51</td><td>1</td><td>10</td></tr><tr><td>52</td><td>1</td><td>10</td></tr><tr><td>55</td><td>2</td><td>10</td></tr><tr><td>56</td><td>1</td><td>10</td></tr><tr><td>58</td><td>1</td><td>10</td></tr><tr><td>63</td><td>1</td><td>10</td></tr><tr><td>66</td><td>1</td><td>10</td></tr><tr><td>67</td><td>2</td><td>10</td></tr><tr><td>68</td><td>1</td><td>10</td></tr><tr><td>75</td><td>1</td><td>10</td></tr><tr><td>77</td><td>1</td><td>10</td></tr><tr><td>79</td><td>1</td><td>10</td></tr><tr><td>86</td><td>1</td><td>10</td></tr><tr><td>89</td><td>3</td><td>10</td></tr><tr><td>90</td><td>1</td><td>10</td></tr><tr><td>97</td><td>1</td><td>10</td></tr><tr><td>98</td><td>1</td><td>10</td></tr><tr><td>0</td><td>1</td><td>11</td></tr><tr><td>6</td><td>2</td><td>11</td></tr><tr><td>9</td><td>1</td><td>11</td></tr><tr><td>10</td><td>1</td><td>11</td></tr><tr><td>11</td><td>1</td><td>11</td></tr><tr><td>12</td><td>1</td><td>11</td></tr><tr><td>13</td><td>4</td><td>11</td></tr><tr><td>16</td><td>1</td><td>11</td></tr><tr><td>18</td><td>5</td><td>11</td></tr><tr><td>19</td><td>4</td><td>11</td></tr><tr><td>20</td><td>1</td><td>11</td></tr><tr><td>21</td><td>1</td><td>11</td></tr><tr><td>22</td><td>1</td><td>11</td></tr><tr><td>23</td><td>5</td><td>11</td></tr><tr><td>25</td><td>1</td><td>11</td></tr><tr><td>27</td><td>5</td><td>11</td></tr><tr><td>30</td><td>5</td><td>11</td></tr><tr><td>32</td><td>5</td><td>11</td></tr><tr><td>35</td><td>3</td><td>11</td></tr><tr><td>36</td><td>2</td><td>11</td></tr><tr><td>37</td><td>2</td><td>11</td></tr><tr><td>38</td><td>4</td><td>11</td></tr><tr><td>39</td><td>1</td><td>11</td></tr><tr><td>40</td><td>1</td><td>11</td></tr><tr><td>41</td><td>1</td><td>11</td></tr><tr><td>43</td><td>2</td><td>11</td></tr><tr><td>45</td><td>1</td><td>11</td></tr><tr><td>47</td><td>1</td><td>11</td></tr><tr><td>48</td><td>5</td><td>11</td></tr><tr><td>50</td><td>4</td><td>11</td></tr><tr><td>51</td><td>3</td><td>11</td></tr><tr><td>59</td><td>1</td><td>11</td></tr><tr><td>61</td><td>1</td><td>11</td></tr><tr><td>62</td><td>1</td><td>11</td></tr><tr><td>64</td><td>1</td><td>11</td></tr><tr><td>66</td><td>4</td><td>11</td></tr><tr><td>67</td><td>1</td><td>11</td></tr><tr><td>69</td><td>5</td><td>11</td></tr><tr><td>70</td><td>1</td><td>11</td></tr><tr><td>71</td><td>3</td><td>11</td></tr><tr><td>72</td><td>3</td><td>11</td></tr><tr><td>75</td><td>3</td><td>11</td></tr><tr><td>76</td><td>1</td><td>11</td></tr><tr><td>77</td><td>1</td><td>11</td></tr><tr><td>78</td><td>1</td><td>11</td></tr><tr><td>79</td><td>5</td><td>11</td></tr><tr><td>80</td><td>3</td><td>11</td></tr><tr><td>81</td><td>4</td><td>11</td></tr><tr><td>82</td><td>1</td><td>11</td></tr><tr><td>86</td><td>1</td><td>11</td></tr><tr><td>88</td><td>1</td><td>11</td></tr><tr><td>89</td><td>1</td><td>11</td></tr><tr><td>90</td><td>4</td><td>11</td></tr><tr><td>94</td><td>2</td><td>11</td></tr><tr><td>97</td><td>3</td><td>11</td></tr><tr><td>99</td><td>1</td><td>11</td></tr><tr><td>2</td><td>1</td><td>12</td></tr><tr><td>4</td><td>1</td><td>12</td></tr><tr><td>6</td><td>1</td><td>12</td></tr><tr><td>7</td><td>3</td><td>12</td></tr><tr><td>8</td><td>1</td><td>12</td></tr><tr><td>14</td><td>1</td><td>12</td></tr><tr><td>15</td><td>2</td><td>12</td></tr><tr><td>16</td><td>4</td><td>12</td></tr><tr><td>17</td><td>5</td><td>12</td></tr><tr><td>18</td><td>2</td><td>12</td></tr><tr><td>21</td><td>1</td><td>12</td></tr><tr><td>22</td><td>2</td><td>12</td></tr><tr><td>23</td><td>3</td><td>12</td></tr><tr><td>24</td><td>1</td><td>12</td></tr><tr><td>25</td><td>1</td><td>12</td></tr><tr><td>27</td><td>5</td><td>12</td></tr><tr><td>30</td><td>2</td><td>12</td></tr><tr><td>31</td><td>4</td><td>12</td></tr><tr><td>35</td><td>5</td><td>12</td></tr><tr><td>38</td><td>1</td><td>12</td></tr><tr><td>41</td><td>1</td><td>12</td></tr><tr><td>44</td><td>2</td><td>12</td></tr><tr><td>45</td><td>1</td><td>12</td></tr><tr><td>50</td><td>4</td><td>12</td></tr><tr><td>51</td><td>1</td><td>12</td></tr><tr><td>52</td><td>1</td><td>12</td></tr><tr><td>53</td><td>1</td><td>12</td></tr><tr><td>54</td><td>1</td><td>12</td></tr><tr><td>56</td><td>2</td><td>12</td></tr><tr><td>57</td><td>1</td><td>12</td></tr><tr><td>60</td><td>1</td><td>12</td></tr><tr><td>63</td><td>1</td><td>12</td></tr><tr><td>64</td><td>5</td><td>12</td></tr><tr><td>66</td><td>3</td><td>12</td></tr><tr><td>67</td><td>1</td><td>12</td></tr><tr><td>70</td><td>1</td><td>12</td></tr><tr><td>72</td><td>1</td><td>12</td></tr><tr><td>74</td><td>1</td><td>12</td></tr><tr><td>75</td><td>1</td><td>12</td></tr><tr><td>77</td><td>1</td><td>12</td></tr><tr><td>78</td><td>1</td><td>12</td></tr><tr><td>79</td><td>3</td><td>12</td></tr><tr><td>82</td><td>2</td><td>12</td></tr><tr><td>83</td><td>1</td><td>12</td></tr><tr><td>84</td><td>1</td><td>12</td></tr><tr><td>85</td><td>1</td><td>12</td></tr><tr><td>86</td><td>1</td><td>12</td></tr><tr><td>87</td><td>1</td><td>12</td></tr><tr><td>88</td><td>1</td><td>12</td></tr><tr><td>91</td><td>3</td><td>12</td></tr><tr><td>92</td><td>1</td><td>12</td></tr><tr><td>94</td><td>4</td><td>12</td></tr><tr><td>95</td><td>2</td><td>12</td></tr><tr><td>96</td><td>1</td><td>12</td></tr><tr><td>98</td><td>2</td><td>12</td></tr><tr><td>0</td><td>1</td><td>13</td></tr><tr><td>3</td><td>1</td><td>13</td></tr><tr><td>4</td><td>2</td><td>13</td></tr><tr><td>5</td><td>1</td><td>13</td></tr><tr><td>6</td><td>1</td><td>13</td></tr><tr><td>12</td><td>1</td><td>13</td></tr><tr><td>14</td><td>2</td><td>13</td></tr><tr><td>15</td><td>1</td><td>13</td></tr><tr><td>17</td><td>1</td><td>13</td></tr><tr><td>18</td><td>3</td><td>13</td></tr><tr><td>20</td><td>1</td><td>13</td></tr><tr><td>21</td><td>1</td><td>13</td></tr><tr><td>22</td><td>1</td><td>13</td></tr><tr><td>26</td><td>1</td><td>13</td></tr><tr><td>27</td><td>1</td><td>13</td></tr><tr><td>29</td><td>3</td><td>13</td></tr><tr><td>31</td><td>1</td><td>13</td></tr><tr><td>33</td><td>1</td><td>13</td></tr><tr><td>40</td><td>2</td><td>13</td></tr><tr><td>43</td><td>2</td><td>13</td></tr><tr><td>44</td><td>1</td><td>13</td></tr><tr><td>45</td><td>1</td><td>13</td></tr><tr><td>49</td><td>1</td><td>13</td></tr><tr><td>51</td><td>1</td><td>13</td></tr><tr><td>52</td><td>2</td><td>13</td></tr><tr><td>53</td><td>3</td><td>13</td></tr><tr><td>54</td><td>1</td><td>13</td></tr><tr><td>62</td><td>1</td><td>13</td></tr><tr><td>63</td><td>2</td><td>13</td></tr><tr><td>64</td><td>1</td><td>13</td></tr><tr><td>68</td><td>1</td><td>13</td></tr><tr><td>71</td><td>1</td><td>13</td></tr><tr><td>72</td><td>3</td><td>13</td></tr><tr><td>73</td><td>1</td><td>13</td></tr><tr><td>74</td><td>3</td><td>13</td></tr><tr><td>77</td><td>2</td><td>13</td></tr><tr><td>78</td><td>1</td><td>13</td></tr><tr><td>79</td><td>2</td><td>13</td></tr><tr><td>83</td><td>3</td><td>13</td></tr><tr><td>85</td><td>1</td><td>13</td></tr><tr><td>86</td><td>1</td><td>13</td></tr><tr><td>87</td><td>2</td><td>13</td></tr><tr><td>88</td><td>2</td><td>13</td></tr><tr><td>90</td><td>1</td><td>13</td></tr><tr><td>93</td><td>4</td><td>13</td></tr><tr><td>94</td><td>1</td><td>13</td></tr><tr><td>98</td><td>1</td><td>13</td></tr><tr><td>99</td><td>1</td><td>13</td></tr><tr><td>1</td><td>1</td><td>14</td></tr><tr><td>3</td><td>3</td><td>14</td></tr><tr><td>4</td><td>1</td><td>14</td></tr><tr><td>5</td><td>1</td><td>14</td></tr><tr><td>6</td><td>1</td><td>14</td></tr><tr><td>7</td><td>1</td><td>14</td></tr><tr><td>9</td><td>1</td><td>14</td></tr><tr><td>10</td><td>1</td><td>14</td></tr><tr><td>11</td><td>1</td><td>14</td></tr><tr><td>12</td><td>1</td><td>14</td></tr><tr><td>13</td><td>1</td><td>14</td></tr><tr><td>14</td><td>3</td><td>14</td></tr><tr><td>15</td><td>1</td><td>14</td></tr><tr><td>16</td><td>1</td><td>14</td></tr><tr><td>17</td><td>1</td><td>14</td></tr><tr><td>20</td><td>1</td><td>14</td></tr><tr><td>21</td><td>1</td><td>14</td></tr><tr><td>24</td><td>1</td><td>14</td></tr><tr><td>25</td><td>2</td><td>14</td></tr><tr><td>27</td><td>1</td><td>14</td></tr><tr><td>28</td><td>1</td><td>14</td></tr><tr><td>29</td><td>5</td><td>14</td></tr><tr><td>31</td><td>3</td><td>14</td></tr><tr><td>34</td><td>1</td><td>14</td></tr><tr><td>36</td><td>1</td><td>14</td></tr><tr><td>37</td><td>2</td><td>14</td></tr><tr><td>39</td><td>2</td><td>14</td></tr><tr><td>40</td><td>1</td><td>14</td></tr><tr><td>44</td><td>1</td><td>14</td></tr><tr><td>45</td><td>1</td><td>14</td></tr><tr><td>47</td><td>3</td><td>14</td></tr><tr><td>48</td><td>1</td><td>14</td></tr><tr><td>49</td><td>1</td><td>14</td></tr><tr><td>51</td><td>1</td><td>14</td></tr><tr><td>52</td><td>5</td><td>14</td></tr><tr><td>53</td><td>3</td><td>14</td></tr><tr><td>54</td><td>1</td><td>14</td></tr><tr><td>55</td><td>1</td><td>14</td></tr><tr><td>56</td><td>1</td><td>14</td></tr><tr><td>62</td><td>4</td><td>14</td></tr><tr><td>63</td><td>5</td><td>14</td></tr><tr><td>67</td><td>3</td><td>14</td></tr><tr><td>68</td><td>1</td><td>14</td></tr><tr><td>69</td><td>3</td><td>14</td></tr><tr><td>71</td><td>1</td><td>14</td></tr><tr><td>72</td><td>4</td><td>14</td></tr><tr><td>73</td><td>1</td><td>14</td></tr><tr><td>76</td><td>5</td><td>14</td></tr><tr><td>79</td><td>1</td><td>14</td></tr><tr><td>82</td><td>1</td><td>14</td></tr><tr><td>83</td><td>1</td><td>14</td></tr><tr><td>88</td><td>1</td><td>14</td></tr><tr><td>93</td><td>3</td><td>14</td></tr><tr><td>94</td><td>1</td><td>14</td></tr><tr><td>95</td><td>2</td><td>14</td></tr><tr><td>96</td><td>4</td><td>14</td></tr><tr><td>98</td><td>1</td><td>14</td></tr><tr><td>0</td><td>1</td><td>15</td></tr><tr><td>1</td><td>4</td><td>15</td></tr><tr><td>2</td><td>1</td><td>15</td></tr><tr><td>5</td><td>2</td><td>15</td></tr><tr><td>6</td><td>1</td><td>15</td></tr><tr><td>7</td><td>1</td><td>15</td></tr><tr><td>13</td><td>1</td><td>15</td></tr><tr><td>14</td><td>1</td><td>15</td></tr><tr><td>15</td><td>1</td><td>15</td></tr><tr><td>17</td><td>2</td><td>15</td></tr><tr><td>19</td><td>2</td><td>15</td></tr><tr><td>22</td><td>2</td><td>15</td></tr><tr><td>23</td><td>2</td><td>15</td></tr><tr><td>25</td><td>1</td><td>15</td></tr><tr><td>26</td><td>3</td><td>15</td></tr><tr><td>27</td><td>1</td><td>15</td></tr><tr><td>28</td><td>2</td><td>15</td></tr><tr><td>29</td><td>1</td><td>15</td></tr><tr><td>32</td><td>1</td><td>15</td></tr><tr><td>33</td><td>2</td><td>15</td></tr><tr><td>34</td><td>1</td><td>15</td></tr><tr><td>35</td><td>2</td><td>15</td></tr><tr><td>36</td><td>1</td><td>15</td></tr><tr><td>37</td><td>1</td><td>15</td></tr><tr><td>39</td><td>1</td><td>15</td></tr><tr><td>42</td><td>1</td><td>15</td></tr><tr><td>46</td><td>5</td><td>15</td></tr><tr><td>48</td><td>2</td><td>15</td></tr><tr><td>50</td><td>2</td><td>15</td></tr><tr><td>51</td><td>1</td><td>15</td></tr><tr><td>52</td><td>1</td><td>15</td></tr><tr><td>58</td><td>1</td><td>15</td></tr><tr><td>62</td><td>1</td><td>15</td></tr><tr><td>64</td><td>3</td><td>15</td></tr><tr><td>65</td><td>2</td><td>15</td></tr><tr><td>72</td><td>1</td><td>15</td></tr><tr><td>73</td><td>1</td><td>15</td></tr><tr><td>74</td><td>1</td><td>15</td></tr><tr><td>79</td><td>1</td><td>15</td></tr><tr><td>80</td><td>1</td><td>15</td></tr><tr><td>81</td><td>1</td><td>15</td></tr><tr><td>82</td><td>2</td><td>15</td></tr><tr><td>85</td><td>1</td><td>15</td></tr><tr><td>87</td><td>1</td><td>15</td></tr><tr><td>91</td><td>2</td><td>15</td></tr><tr><td>96</td><td>1</td><td>15</td></tr><tr><td>97</td><td>1</td><td>15</td></tr><tr><td>98</td><td>3</td><td>15</td></tr><tr><td>2</td><td>1</td><td>16</td></tr><tr><td>5</td><td>3</td><td>16</td></tr><tr><td>6</td><td>2</td><td>16</td></tr><tr><td>7</td><td>1</td><td>16</td></tr><tr><td>9</td><td>1</td><td>16</td></tr><tr><td>12</td><td>1</td><td>16</td></tr><tr><td>14</td><td>1</td><td>16</td></tr><tr><td>15</td><td>1</td><td>16</td></tr><tr><td>19</td><td>1</td><td>16</td></tr><tr><td>21</td><td>2</td><td>16</td></tr><tr><td>29</td><td>4</td><td>16</td></tr><tr><td>30</td><td>2</td><td>16</td></tr><tr><td>32</td><td>1</td><td>16</td></tr><tr><td>34</td><td>1</td><td>16</td></tr><tr><td>36</td><td>1</td><td>16</td></tr><tr><td>38</td><td>1</td><td>16</td></tr><tr><td>46</td><td>1</td><td>16</td></tr><tr><td>47</td><td>3</td><td>16</td></tr><tr><td>48</td><td>1</td><td>16</td></tr><tr><td>49</td><td>1</td><td>16</td></tr><tr><td>50</td><td>1</td><td>16</td></tr><tr><td>51</td><td>5</td><td>16</td></tr><tr><td>54</td><td>5</td><td>16</td></tr><tr><td>55</td><td>1</td><td>16</td></tr><tr><td>56</td><td>2</td><td>16</td></tr><tr><td>57</td><td>1</td><td>16</td></tr><tr><td>60</td><td>1</td><td>16</td></tr><tr><td>63</td><td>2</td><td>16</td></tr><tr><td>65</td><td>1</td><td>16</td></tr><tr><td>67</td><td>1</td><td>16</td></tr><tr><td>72</td><td>1</td><td>16</td></tr><tr><td>74</td><td>1</td><td>16</td></tr><tr><td>80</td><td>1</td><td>16</td></tr><tr><td>81</td><td>1</td><td>16</td></tr><tr><td>82</td><td>1</td><td>16</td></tr><tr><td>85</td><td>5</td><td>16</td></tr><tr><td>86</td><td>1</td><td>16</td></tr><tr><td>90</td><td>5</td><td>16</td></tr><tr><td>91</td><td>1</td><td>16</td></tr><tr><td>93</td><td>1</td><td>16</td></tr><tr><td>94</td><td>3</td><td>16</td></tr><tr><td>95</td><td>2</td><td>16</td></tr><tr><td>96</td><td>3</td><td>16</td></tr><tr><td>98</td><td>3</td><td>16</td></tr><tr><td>99</td><td>1</td><td>16</td></tr><tr><td>2</td><td>1</td><td>17</td></tr><tr><td>3</td><td>1</td><td>17</td></tr><tr><td>6</td><td>1</td><td>17</td></tr><tr><td>10</td><td>4</td><td>17</td></tr><tr><td>11</td><td>1</td><td>17</td></tr><tr><td>13</td><td>2</td><td>17</td></tr><tr><td>17</td><td>5</td><td>17</td></tr><tr><td>19</td><td>1</td><td>17</td></tr><tr><td>20</td><td>5</td><td>17</td></tr><tr><td>22</td><td>4</td><td>17</td></tr><tr><td>28</td><td>1</td><td>17</td></tr><tr><td>29</td><td>1</td><td>17</td></tr><tr><td>33</td><td>1</td><td>17</td></tr><tr><td>34</td><td>1</td><td>17</td></tr><tr><td>35</td><td>2</td><td>17</td></tr><tr><td>37</td><td>1</td><td>17</td></tr><tr><td>38</td><td>1</td><td>17</td></tr><tr><td>45</td><td>1</td><td>17</td></tr><tr><td>46</td><td>5</td><td>17</td></tr><tr><td>47</td><td>1</td><td>17</td></tr><tr><td>49</td><td>3</td><td>17</td></tr><tr><td>51</td><td>1</td><td>17</td></tr><tr><td>55</td><td>5</td><td>17</td></tr><tr><td>56</td><td>3</td><td>17</td></tr><tr><td>57</td><td>1</td><td>17</td></tr><tr><td>58</td><td>1</td><td>17</td></tr><tr><td>59</td><td>1</td><td>17</td></tr><tr><td>60</td><td>1</td><td>17</td></tr><tr><td>63</td><td>1</td><td>17</td></tr><tr><td>66</td><td>1</td><td>17</td></tr><tr><td>68</td><td>4</td><td>17</td></tr><tr><td>69</td><td>1</td><td>17</td></tr><tr><td>70</td><td>1</td><td>17</td></tr><tr><td>72</td><td>1</td><td>17</td></tr><tr><td>73</td><td>3</td><td>17</td></tr><tr><td>78</td><td>1</td><td>17</td></tr><tr><td>79</td><td>1</td><td>17</td></tr><tr><td>82</td><td>2</td><td>17</td></tr><tr><td>84</td><td>1</td><td>17</td></tr><tr><td>90</td><td>5</td><td>17</td></tr><tr><td>91</td><td>3</td><td>17</td></tr><tr><td>92</td><td>1</td><td>17</td></tr><tr><td>93</td><td>1</td><td>17</td></tr><tr><td>94</td><td>4</td><td>17</td></tr><tr><td>95</td><td>2</td><td>17</td></tr><tr><td>97</td><td>1</td><td>17</td></tr><tr><td>1</td><td>1</td><td>18</td></tr><tr><td>4</td><td>3</td><td>18</td></tr><tr><td>5</td><td>2</td><td>18</td></tr><tr><td>6</td><td>1</td><td>18</td></tr><tr><td>7</td><td>1</td><td>18</td></tr><tr><td>10</td><td>1</td><td>18</td></tr><tr><td>11</td><td>4</td><td>18</td></tr><tr><td>12</td><td>2</td><td>18</td></tr><tr><td>13</td><td>1</td><td>18</td></tr><tr><td>15</td><td>1</td><td>18</td></tr><tr><td>18</td><td>1</td><td>18</td></tr><tr><td>20</td><td>1</td><td>18</td></tr><tr><td>21</td><td>2</td><td>18</td></tr><tr><td>22</td><td>1</td><td>18</td></tr><tr><td>23</td><td>2</td><td>18</td></tr><tr><td>25</td><td>1</td><td>18</td></tr><tr><td>26</td><td>1</td><td>18</td></tr><tr><td>27</td><td>1</td><td>18</td></tr><tr><td>28</td><td>5</td><td>18</td></tr><tr><td>29</td><td>1</td><td>18</td></tr><tr><td>31</td><td>1</td><td>18</td></tr><tr><td>32</td><td>1</td><td>18</td></tr><tr><td>36</td><td>1</td><td>18</td></tr><tr><td>38</td><td>5</td><td>18</td></tr><tr><td>39</td><td>5</td><td>18</td></tr><tr><td>40</td><td>1</td><td>18</td></tr><tr><td>42</td><td>1</td><td>18</td></tr><tr><td>43</td><td>1</td><td>18</td></tr><tr><td>44</td><td>4</td><td>18</td></tr><tr><td>46</td><td>1</td><td>18</td></tr><tr><td>47</td><td>1</td><td>18</td></tr><tr><td>48</td><td>1</td><td>18</td></tr><tr><td>51</td><td>2</td><td>18</td></tr><tr><td>55</td><td>1</td><td>18</td></tr><tr><td>56</td><td>1</td><td>18</td></tr><tr><td>57</td><td>1</td><td>18</td></tr><tr><td>62</td><td>1</td><td>18</td></tr><tr><td>63</td><td>1</td><td>18</td></tr><tr><td>66</td><td>3</td><td>18</td></tr><tr><td>67</td><td>1</td><td>18</td></tr><tr><td>70</td><td>1</td><td>18</td></tr><tr><td>75</td><td>1</td><td>18</td></tr><tr><td>76</td><td>3</td><td>18</td></tr><tr><td>77</td><td>1</td><td>18</td></tr><tr><td>80</td><td>3</td><td>18</td></tr><tr><td>81</td><td>3</td><td>18</td></tr><tr><td>82</td><td>1</td><td>18</td></tr><tr><td>83</td><td>5</td><td>18</td></tr><tr><td>84</td><td>1</td><td>18</td></tr><tr><td>97</td><td>1</td><td>18</td></tr><tr><td>98</td><td>1</td><td>18</td></tr><tr><td>99</td><td>2</td><td>18</td></tr><tr><td>0</td><td>1</td><td>19</td></tr><tr><td>1</td><td>1</td><td>19</td></tr><tr><td>2</td><td>1</td><td>19</td></tr><tr><td>4</td><td>1</td><td>19</td></tr><tr><td>6</td><td>2</td><td>19</td></tr><tr><td>11</td><td>1</td><td>19</td></tr><tr><td>12</td><td>1</td><td>19</td></tr><tr><td>14</td><td>1</td><td>19</td></tr><tr><td>23</td><td>1</td><td>19</td></tr><tr><td>26</td><td>1</td><td>19</td></tr><tr><td>31</td><td>1</td><td>19</td></tr><tr><td>32</td><td>4</td><td>19</td></tr><tr><td>33</td><td>1</td><td>19</td></tr><tr><td>34</td><td>1</td><td>19</td></tr><tr><td>37</td><td>1</td><td>19</td></tr><tr><td>38</td><td>1</td><td>19</td></tr><tr><td>41</td><td>1</td><td>19</td></tr><tr><td>43</td><td>1</td><td>19</td></tr><tr><td>45</td><td>1</td><td>19</td></tr><tr><td>48</td><td>1</td><td>19</td></tr><tr><td>49</td><td>1</td><td>19</td></tr><tr><td>50</td><td>2</td><td>19</td></tr><tr><td>53</td><td>2</td><td>19</td></tr><tr><td>54</td><td>3</td><td>19</td></tr><tr><td>55</td><td>1</td><td>19</td></tr><tr><td>56</td><td>2</td><td>19</td></tr><tr><td>58</td><td>1</td><td>19</td></tr><tr><td>61</td><td>1</td><td>19</td></tr><tr><td>62</td><td>1</td><td>19</td></tr><tr><td>63</td><td>1</td><td>19</td></tr><tr><td>64</td><td>1</td><td>19</td></tr><tr><td>65</td><td>1</td><td>19</td></tr><tr><td>69</td><td>2</td><td>19</td></tr><tr><td>72</td><td>1</td><td>19</td></tr><tr><td>74</td><td>3</td><td>19</td></tr><tr><td>76</td><td>1</td><td>19</td></tr><tr><td>78</td><td>1</td><td>19</td></tr><tr><td>79</td><td>1</td><td>19</td></tr><tr><td>81</td><td>1</td><td>19</td></tr><tr><td>82</td><td>1</td><td>19</td></tr></tbody></table>Showing the first 1000 rows.</div>"
      ]
     },
     "metadata": {
      "application/vnd.databricks.v1+output": {
       "addedWidgets": {},
       "aggData": [],
       "aggError": "",
       "aggOverflow": false,
       "aggSchema": [],
       "aggSeriesLimitReached": false,
       "aggType": "",
       "arguments": {},
       "columnCustomDisplayInfos": {},
       "data": [
        [
         2,
         3,
         0
        ],
        [
         3,
         1,
         0
        ],
        [
         5,
         2,
         0
        ],
        [
         9,
         4,
         0
        ],
        [
         11,
         1,
         0
        ],
        [
         12,
         2,
         0
        ],
        [
         15,
         1,
         0
        ],
        [
         17,
         1,
         0
        ],
        [
         19,
         1,
         0
        ],
        [
         21,
         1,
         0
        ],
        [
         23,
         1,
         0
        ],
        [
         26,
         3,
         0
        ],
        [
         27,
         1,
         0
        ],
        [
         28,
         1,
         0
        ],
        [
         29,
         1,
         0
        ],
        [
         30,
         1,
         0
        ],
        [
         31,
         1,
         0
        ],
        [
         34,
         1,
         0
        ],
        [
         37,
         1,
         0
        ],
        [
         41,
         2,
         0
        ],
        [
         44,
         1,
         0
        ],
        [
         45,
         2,
         0
        ],
        [
         46,
         1,
         0
        ],
        [
         47,
         1,
         0
        ],
        [
         48,
         1,
         0
        ],
        [
         50,
         1,
         0
        ],
        [
         51,
         1,
         0
        ],
        [
         54,
         1,
         0
        ],
        [
         55,
         1,
         0
        ],
        [
         59,
         2,
         0
        ],
        [
         61,
         2,
         0
        ],
        [
         64,
         1,
         0
        ],
        [
         67,
         1,
         0
        ],
        [
         68,
         1,
         0
        ],
        [
         69,
         1,
         0
        ],
        [
         71,
         1,
         0
        ],
        [
         72,
         1,
         0
        ],
        [
         77,
         2,
         0
        ],
        [
         79,
         1,
         0
        ],
        [
         83,
         1,
         0
        ],
        [
         87,
         1,
         0
        ],
        [
         89,
         2,
         0
        ],
        [
         91,
         3,
         0
        ],
        [
         92,
         4,
         0
        ],
        [
         94,
         1,
         0
        ],
        [
         95,
         2,
         0
        ],
        [
         96,
         1,
         0
        ],
        [
         98,
         1,
         0
        ],
        [
         99,
         1,
         0
        ],
        [
         2,
         2,
         1
        ],
        [
         3,
         1,
         1
        ],
        [
         4,
         2,
         1
        ],
        [
         6,
         1,
         1
        ],
        [
         9,
         3,
         1
        ],
        [
         12,
         1,
         1
        ],
        [
         13,
         1,
         1
        ],
        [
         14,
         1,
         1
        ],
        [
         16,
         1,
         1
        ],
        [
         19,
         1,
         1
        ],
        [
         21,
         3,
         1
        ],
        [
         27,
         1,
         1
        ],
        [
         28,
         3,
         1
        ],
        [
         33,
         1,
         1
        ],
        [
         36,
         2,
         1
        ],
        [
         37,
         1,
         1
        ],
        [
         40,
         1,
         1
        ],
        [
         41,
         2,
         1
        ],
        [
         43,
         1,
         1
        ],
        [
         44,
         1,
         1
        ],
        [
         47,
         1,
         1
        ],
        [
         50,
         1,
         1
        ],
        [
         54,
         1,
         1
        ],
        [
         56,
         2,
         1
        ],
        [
         57,
         1,
         1
        ],
        [
         58,
         1,
         1
        ],
        [
         60,
         1,
         1
        ],
        [
         62,
         4,
         1
        ],
        [
         63,
         1,
         1
        ],
        [
         67,
         1,
         1
        ],
        [
         68,
         4,
         1
        ],
        [
         70,
         2,
         1
        ],
        [
         72,
         1,
         1
        ],
        [
         73,
         1,
         1
        ],
        [
         74,
         2,
         1
        ],
        [
         76,
         1,
         1
        ],
        [
         77,
         3,
         1
        ],
        [
         78,
         1,
         1
        ],
        [
         81,
         1,
         1
        ],
        [
         82,
         1,
         1
        ],
        [
         85,
         3,
         1
        ],
        [
         86,
         2,
         1
        ],
        [
         88,
         2,
         1
        ],
        [
         91,
         1,
         1
        ],
        [
         92,
         2,
         1
        ],
        [
         93,
         1,
         1
        ],
        [
         94,
         2,
         1
        ],
        [
         96,
         1,
         1
        ],
        [
         97,
         1,
         1
        ],
        [
         4,
         3,
         2
        ],
        [
         6,
         1,
         2
        ],
        [
         8,
         5,
         2
        ],
        [
         9,
         1,
         2
        ],
        [
         10,
         1,
         2
        ],
        [
         12,
         3,
         2
        ],
        [
         13,
         1,
         2
        ],
        [
         15,
         2,
         2
        ],
        [
         18,
         2,
         2
        ],
        [
         19,
         4,
         2
        ],
        [
         22,
         1,
         2
        ],
        [
         26,
         1,
         2
        ],
        [
         28,
         1,
         2
        ],
        [
         34,
         4,
         2
        ],
        [
         35,
         1,
         2
        ],
        [
         37,
         5,
         2
        ],
        [
         38,
         1,
         2
        ],
        [
         39,
         5,
         2
        ],
        [
         40,
         4,
         2
        ],
        [
         47,
         1,
         2
        ],
        [
         50,
         1,
         2
        ],
        [
         52,
         2,
         2
        ],
        [
         54,
         1,
         2
        ],
        [
         55,
         1,
         2
        ],
        [
         57,
         2,
         2
        ],
        [
         58,
         2,
         2
        ],
        [
         59,
         1,
         2
        ],
        [
         61,
         1,
         2
        ],
        [
         62,
         1,
         2
        ],
        [
         64,
         1,
         2
        ],
        [
         65,
         1,
         2
        ],
        [
         66,
         3,
         2
        ],
        [
         68,
         1,
         2
        ],
        [
         71,
         3,
         2
        ],
        [
         76,
         1,
         2
        ],
        [
         77,
         1,
         2
        ],
        [
         78,
         1,
         2
        ],
        [
         80,
         1,
         2
        ],
        [
         83,
         5,
         2
        ],
        [
         85,
         1,
         2
        ],
        [
         87,
         2,
         2
        ],
        [
         88,
         1,
         2
        ],
        [
         89,
         4,
         2
        ],
        [
         90,
         1,
         2
        ],
        [
         92,
         4,
         2
        ],
        [
         93,
         5,
         2
        ],
        [
         0,
         1,
         3
        ],
        [
         1,
         1,
         3
        ],
        [
         2,
         1,
         3
        ],
        [
         7,
         3,
         3
        ],
        [
         8,
         3,
         3
        ],
        [
         9,
         1,
         3
        ],
        [
         14,
         1,
         3
        ],
        [
         15,
         1,
         3
        ],
        [
         16,
         1,
         3
        ],
        [
         18,
         4,
         3
        ],
        [
         19,
         1,
         3
        ],
        [
         24,
         3,
         3
        ],
        [
         26,
         1,
         3
        ],
        [
         29,
         3,
         3
        ],
        [
         33,
         1,
         3
        ],
        [
         34,
         3,
         3
        ],
        [
         35,
         1,
         3
        ],
        [
         36,
         3,
         3
        ],
        [
         37,
         1,
         3
        ],
        [
         38,
         2,
         3
        ],
        [
         43,
         1,
         3
        ],
        [
         44,
         1,
         3
        ],
        [
         46,
         1,
         3
        ],
        [
         47,
         1,
         3
        ],
        [
         51,
         5,
         3
        ],
        [
         52,
         3,
         3
        ],
        [
         56,
         1,
         3
        ],
        [
         58,
         1,
         3
        ],
        [
         60,
         3,
         3
        ],
        [
         62,
         1,
         3
        ],
        [
         65,
         2,
         3
        ],
        [
         66,
         1,
         3
        ],
        [
         67,
         1,
         3
        ],
        [
         68,
         2,
         3
        ],
        [
         70,
         1,
         3
        ],
        [
         72,
         2,
         3
        ],
        [
         76,
         3,
         3
        ],
        [
         79,
         3,
         3
        ],
        [
         80,
         4,
         3
        ],
        [
         81,
         1,
         3
        ],
        [
         83,
         1,
         3
        ],
        [
         84,
         1,
         3
        ],
        [
         86,
         1,
         3
        ],
        [
         87,
         2,
         3
        ],
        [
         88,
         4,
         3
        ],
        [
         89,
         1,
         3
        ],
        [
         91,
         1,
         3
        ],
        [
         94,
         3,
         3
        ],
        [
         1,
         1,
         4
        ],
        [
         6,
         1,
         4
        ],
        [
         8,
         1,
         4
        ],
        [
         9,
         1,
         4
        ],
        [
         10,
         1,
         4
        ],
        [
         11,
         1,
         4
        ],
        [
         12,
         1,
         4
        ],
        [
         13,
         1,
         4
        ],
        [
         14,
         2,
         4
        ],
        [
         15,
         1,
         4
        ],
        [
         17,
         1,
         4
        ],
        [
         20,
         1,
         4
        ],
        [
         22,
         1,
         4
        ],
        [
         23,
         1,
         4
        ],
        [
         24,
         1,
         4
        ],
        [
         29,
         4,
         4
        ],
        [
         30,
         1,
         4
        ],
        [
         31,
         1,
         4
        ],
        [
         34,
         1,
         4
        ],
        [
         35,
         1,
         4
        ],
        [
         36,
         1,
         4
        ],
        [
         39,
         2,
         4
        ],
        [
         40,
         3,
         4
        ],
        [
         41,
         4,
         4
        ],
        [
         43,
         2,
         4
        ],
        [
         44,
         1,
         4
        ],
        [
         45,
         1,
         4
        ],
        [
         46,
         1,
         4
        ],
        [
         47,
         1,
         4
        ],
        [
         49,
         2,
         4
        ],
        [
         50,
         1,
         4
        ],
        [
         51,
         1,
         4
        ],
        [
         52,
         4,
         4
        ],
        [
         54,
         1,
         4
        ],
        [
         55,
         1,
         4
        ],
        [
         60,
         3,
         4
        ],
        [
         61,
         1,
         4
        ],
        [
         62,
         4,
         4
        ],
        [
         63,
         3,
         4
        ],
        [
         65,
         1,
         4
        ],
        [
         67,
         2,
         4
        ],
        [
         69,
         1,
         4
        ],
        [
         70,
         4,
         4
        ],
        [
         71,
         1,
         4
        ],
        [
         73,
         1,
         4
        ],
        [
         78,
         1,
         4
        ],
        [
         84,
         1,
         4
        ],
        [
         85,
         1,
         4
        ],
        [
         87,
         3,
         4
        ],
        [
         88,
         3,
         4
        ],
        [
         89,
         2,
         4
        ],
        [
         96,
         1,
         4
        ],
        [
         97,
         1,
         4
        ],
        [
         98,
         1,
         4
        ],
        [
         99,
         1,
         4
        ],
        [
         0,
         1,
         5
        ],
        [
         1,
         1,
         5
        ],
        [
         4,
         1,
         5
        ],
        [
         5,
         1,
         5
        ],
        [
         8,
         1,
         5
        ],
        [
         9,
         3,
         5
        ],
        [
         10,
         2,
         5
        ],
        [
         13,
         3,
         5
        ],
        [
         15,
         1,
         5
        ],
        [
         19,
         1,
         5
        ],
        [
         20,
         3,
         5
        ],
        [
         21,
         2,
         5
        ],
        [
         23,
         3,
         5
        ],
        [
         27,
         1,
         5
        ],
        [
         28,
         1,
         5
        ],
        [
         29,
         1,
         5
        ],
        [
         31,
         1,
         5
        ],
        [
         36,
         3,
         5
        ],
        [
         38,
         2,
         5
        ],
        [
         39,
         1,
         5
        ],
        [
         42,
         1,
         5
        ],
        [
         48,
         3,
         5
        ],
        [
         49,
         4,
         5
        ],
        [
         50,
         3,
         5
        ],
        [
         51,
         1,
         5
        ],
        [
         52,
         1,
         5
        ],
        [
         54,
         1,
         5
        ],
        [
         55,
         5,
         5
        ],
        [
         56,
         3,
         5
        ],
        [
         58,
         1,
         5
        ],
        [
         60,
         1,
         5
        ],
        [
         61,
         1,
         5
        ],
        [
         64,
         3,
         5
        ],
        [
         65,
         2,
         5
        ],
        [
         68,
         4,
         5
        ],
        [
         70,
         1,
         5
        ],
        [
         71,
         1,
         5
        ],
        [
         72,
         1,
         5
        ],
        [
         74,
         1,
         5
        ],
        [
         79,
         1,
         5
        ],
        [
         81,
         2,
         5
        ],
        [
         84,
         1,
         5
        ],
        [
         85,
         1,
         5
        ],
        [
         86,
         1,
         5
        ],
        [
         88,
         1,
         5
        ],
        [
         90,
         4,
         5
        ],
        [
         91,
         2,
         5
        ],
        [
         95,
         2,
         5
        ],
        [
         99,
         1,
         5
        ],
        [
         0,
         1,
         6
        ],
        [
         1,
         1,
         6
        ],
        [
         2,
         3,
         6
        ],
        [
         5,
         1,
         6
        ],
        [
         6,
         1,
         6
        ],
        [
         9,
         1,
         6
        ],
        [
         10,
         1,
         6
        ],
        [
         15,
         2,
         6
        ],
        [
         16,
         2,
         6
        ],
        [
         17,
         1,
         6
        ],
        [
         18,
         1,
         6
        ],
        [
         20,
         1,
         6
        ],
        [
         21,
         1,
         6
        ],
        [
         22,
         1,
         6
        ],
        [
         24,
         1,
         6
        ],
        [
         25,
         5,
         6
        ],
        [
         26,
         1,
         6
        ],
        [
         28,
         1,
         6
        ],
        [
         30,
         1,
         6
        ],
        [
         33,
         1,
         6
        ],
        [
         38,
         1,
         6
        ],
        [
         39,
         1,
         6
        ],
        [
         43,
         4,
         6
        ],
        [
         44,
         1,
         6
        ],
        [
         45,
         1,
         6
        ],
        [
         48,
         1,
         6
        ],
        [
         49,
         1,
         6
        ],
        [
         50,
         1,
         6
        ],
        [
         53,
         1,
         6
        ],
        [
         54,
         1,
         6
        ],
        [
         55,
         1,
         6
        ],
        [
         56,
         1,
         6
        ],
        [
         58,
         4,
         6
        ],
        [
         59,
         1,
         6
        ],
        [
         60,
         1,
         6
        ],
        [
         61,
         3,
         6
        ],
        [
         63,
         3,
         6
        ],
        [
         66,
         1,
         6
        ],
        [
         67,
         3,
         6
        ],
        [
         68,
         1,
         6
        ],
        [
         69,
         1,
         6
        ],
        [
         71,
         2,
         6
        ],
        [
         73,
         1,
         6
        ],
        [
         75,
         1,
         6
        ],
        [
         77,
         1,
         6
        ],
        [
         79,
         1,
         6
        ],
        [
         81,
         1,
         6
        ],
        [
         84,
         1,
         6
        ],
        [
         85,
         3,
         6
        ],
        [
         86,
         1,
         6
        ],
        [
         87,
         1,
         6
        ],
        [
         88,
         1,
         6
        ],
        [
         89,
         1,
         6
        ],
        [
         91,
         2,
         6
        ],
        [
         94,
         1,
         6
        ],
        [
         95,
         2,
         6
        ],
        [
         96,
         1,
         6
        ],
        [
         1,
         1,
         7
        ],
        [
         2,
         2,
         7
        ],
        [
         3,
         1,
         7
        ],
        [
         4,
         1,
         7
        ],
        [
         7,
         1,
         7
        ],
        [
         10,
         1,
         7
        ],
        [
         11,
         2,
         7
        ],
        [
         14,
         2,
         7
        ],
        [
         15,
         1,
         7
        ],
        [
         16,
         1,
         7
        ],
        [
         18,
         1,
         7
        ],
        [
         21,
         1,
         7
        ],
        [
         22,
         1,
         7
        ],
        [
         23,
         1,
         7
        ],
        [
         25,
         5,
         7
        ],
        [
         26,
         1,
         7
        ],
        [
         29,
         4,
         7
        ],
        [
         30,
         1,
         7
        ],
        [
         31,
         3,
         7
        ],
        [
         32,
         1,
         7
        ],
        [
         33,
         1,
         7
        ],
        [
         35,
         1,
         7
        ],
        [
         37,
         2,
         7
        ],
        [
         39,
         3,
         7
        ],
        [
         40,
         2,
         7
        ],
        [
         42,
         2,
         7
        ],
        [
         44,
         1,
         7
        ],
        [
         45,
         2,
         7
        ],
        [
         47,
         4,
         7
        ],
        [
         48,
         1,
         7
        ],
        [
         49,
         1,
         7
        ],
        [
         53,
         1,
         7
        ],
        [
         54,
         1,
         7
        ],
        [
         55,
         1,
         7
        ],
        [
         56,
         1,
         7
        ],
        [
         59,
         1,
         7
        ],
        [
         61,
         2,
         7
        ],
        [
         62,
         3,
         7
        ],
        [
         63,
         2,
         7
        ],
        [
         66,
         1,
         7
        ],
        [
         67,
         3,
         7
        ],
        [
         74,
         1,
         7
        ],
        [
         75,
         1,
         7
        ],
        [
         76,
         3,
         7
        ],
        [
         77,
         1,
         7
        ],
        [
         81,
         1,
         7
        ],
        [
         82,
         1,
         7
        ],
        [
         84,
         2,
         7
        ],
        [
         85,
         4,
         7
        ],
        [
         86,
         1,
         7
        ],
        [
         92,
         2,
         7
        ],
        [
         96,
         1,
         7
        ],
        [
         97,
         1,
         7
        ],
        [
         98,
         1,
         7
        ],
        [
         0,
         1,
         8
        ],
        [
         2,
         4,
         8
        ],
        [
         3,
         2,
         8
        ],
        [
         4,
         2,
         8
        ],
        [
         5,
         1,
         8
        ],
        [
         7,
         1,
         8
        ],
        [
         9,
         1,
         8
        ],
        [
         11,
         1,
         8
        ],
        [
         15,
         1,
         8
        ],
        [
         18,
         1,
         8
        ],
        [
         19,
         1,
         8
        ],
        [
         21,
         1,
         8
        ],
        [
         29,
         5,
         8
        ],
        [
         31,
         3,
         8
        ],
        [
         33,
         1,
         8
        ],
        [
         35,
         1,
         8
        ],
        [
         36,
         1,
         8
        ],
        [
         40,
         2,
         8
        ],
        [
         44,
         1,
         8
        ],
        [
         45,
         1,
         8
        ],
        [
         50,
         1,
         8
        ],
        [
         51,
         1,
         8
        ],
        [
         52,
         5,
         8
        ],
        [
         53,
         5,
         8
        ],
        [
         54,
         1,
         8
        ],
        [
         55,
         1,
         8
        ],
        [
         56,
         1,
         8
        ],
        [
         58,
         4,
         8
        ],
        [
         60,
         3,
         8
        ],
        [
         62,
         4,
         8
        ],
        [
         64,
         1,
         8
        ],
        [
         67,
         3,
         8
        ],
        [
         69,
         1,
         8
        ],
        [
         71,
         1,
         8
        ],
        [
         72,
         3,
         8
        ],
        [
         77,
         3,
         8
        ],
        [
         78,
         1,
         8
        ],
        [
         79,
         1,
         8
        ],
        [
         83,
         1,
         8
        ],
        [
         85,
         5,
         8
        ],
        [
         86,
         1,
         8
        ],
        [
         88,
         1,
         8
        ],
        [
         90,
         1,
         8
        ],
        [
         92,
         2,
         8
        ],
        [
         95,
         4,
         8
        ],
        [
         96,
         3,
         8
        ],
        [
         97,
         1,
         8
        ],
        [
         98,
         1,
         8
        ],
        [
         99,
         1,
         8
        ],
        [
         2,
         3,
         9
        ],
        [
         3,
         1,
         9
        ],
        [
         4,
         1,
         9
        ],
        [
         5,
         1,
         9
        ],
        [
         6,
         1,
         9
        ],
        [
         7,
         5,
         9
        ],
        [
         9,
         1,
         9
        ],
        [
         12,
         1,
         9
        ],
        [
         14,
         3,
         9
        ],
        [
         15,
         1,
         9
        ],
        [
         19,
         1,
         9
        ],
        [
         21,
         1,
         9
        ],
        [
         22,
         1,
         9
        ],
        [
         24,
         1,
         9
        ],
        [
         25,
         1,
         9
        ],
        [
         26,
         1,
         9
        ],
        [
         30,
         3,
         9
        ],
        [
         32,
         4,
         9
        ],
        [
         35,
         2,
         9
        ],
        [
         36,
         2,
         9
        ],
        [
         37,
         2,
         9
        ],
        [
         38,
         1,
         9
        ],
        [
         39,
         1,
         9
        ],
        [
         43,
         3,
         9
        ],
        [
         49,
         5,
         9
        ],
        [
         50,
         3,
         9
        ],
        [
         53,
         1,
         9
        ],
        [
         54,
         1,
         9
        ],
        [
         58,
         1,
         9
        ],
        [
         59,
         1,
         9
        ],
        [
         60,
         1,
         9
        ],
        [
         61,
         1,
         9
        ],
        [
         63,
         3,
         9
        ],
        [
         64,
         3,
         9
        ],
        [
         68,
         1,
         9
        ],
        [
         69,
         1,
         9
        ],
        [
         70,
         3,
         9
        ],
        [
         71,
         1,
         9
        ],
        [
         73,
         2,
         9
        ],
        [
         75,
         1,
         9
        ],
        [
         77,
         2,
         9
        ],
        [
         81,
         2,
         9
        ],
        [
         82,
         1,
         9
        ],
        [
         83,
         1,
         9
        ],
        [
         84,
         1,
         9
        ],
        [
         86,
         1,
         9
        ],
        [
         87,
         4,
         9
        ],
        [
         88,
         1,
         9
        ],
        [
         90,
         3,
         9
        ],
        [
         94,
         2,
         9
        ],
        [
         95,
         3,
         9
        ],
        [
         97,
         2,
         9
        ],
        [
         98,
         1,
         9
        ],
        [
         0,
         3,
         10
        ],
        [
         2,
         4,
         10
        ],
        [
         4,
         3,
         10
        ],
        [
         7,
         1,
         10
        ],
        [
         8,
         1,
         10
        ],
        [
         10,
         1,
         10
        ],
        [
         13,
         2,
         10
        ],
        [
         14,
         1,
         10
        ],
        [
         16,
         2,
         10
        ],
        [
         17,
         1,
         10
        ],
        [
         18,
         1,
         10
        ],
        [
         21,
         1,
         10
        ],
        [
         22,
         1,
         10
        ],
        [
         24,
         1,
         10
        ],
        [
         25,
         3,
         10
        ],
        [
         28,
         1,
         10
        ],
        [
         35,
         1,
         10
        ],
        [
         36,
         1,
         10
        ],
        [
         37,
         1,
         10
        ],
        [
         38,
         1,
         10
        ],
        [
         39,
         1,
         10
        ],
        [
         40,
         4,
         10
        ],
        [
         41,
         2,
         10
        ],
        [
         42,
         3,
         10
        ],
        [
         43,
         1,
         10
        ],
        [
         49,
         3,
         10
        ],
        [
         50,
         1,
         10
        ],
        [
         51,
         1,
         10
        ],
        [
         52,
         1,
         10
        ],
        [
         55,
         2,
         10
        ],
        [
         56,
         1,
         10
        ],
        [
         58,
         1,
         10
        ],
        [
         63,
         1,
         10
        ],
        [
         66,
         1,
         10
        ],
        [
         67,
         2,
         10
        ],
        [
         68,
         1,
         10
        ],
        [
         75,
         1,
         10
        ],
        [
         77,
         1,
         10
        ],
        [
         79,
         1,
         10
        ],
        [
         86,
         1,
         10
        ],
        [
         89,
         3,
         10
        ],
        [
         90,
         1,
         10
        ],
        [
         97,
         1,
         10
        ],
        [
         98,
         1,
         10
        ],
        [
         0,
         1,
         11
        ],
        [
         6,
         2,
         11
        ],
        [
         9,
         1,
         11
        ],
        [
         10,
         1,
         11
        ],
        [
         11,
         1,
         11
        ],
        [
         12,
         1,
         11
        ],
        [
         13,
         4,
         11
        ],
        [
         16,
         1,
         11
        ],
        [
         18,
         5,
         11
        ],
        [
         19,
         4,
         11
        ],
        [
         20,
         1,
         11
        ],
        [
         21,
         1,
         11
        ],
        [
         22,
         1,
         11
        ],
        [
         23,
         5,
         11
        ],
        [
         25,
         1,
         11
        ],
        [
         27,
         5,
         11
        ],
        [
         30,
         5,
         11
        ],
        [
         32,
         5,
         11
        ],
        [
         35,
         3,
         11
        ],
        [
         36,
         2,
         11
        ],
        [
         37,
         2,
         11
        ],
        [
         38,
         4,
         11
        ],
        [
         39,
         1,
         11
        ],
        [
         40,
         1,
         11
        ],
        [
         41,
         1,
         11
        ],
        [
         43,
         2,
         11
        ],
        [
         45,
         1,
         11
        ],
        [
         47,
         1,
         11
        ],
        [
         48,
         5,
         11
        ],
        [
         50,
         4,
         11
        ],
        [
         51,
         3,
         11
        ],
        [
         59,
         1,
         11
        ],
        [
         61,
         1,
         11
        ],
        [
         62,
         1,
         11
        ],
        [
         64,
         1,
         11
        ],
        [
         66,
         4,
         11
        ],
        [
         67,
         1,
         11
        ],
        [
         69,
         5,
         11
        ],
        [
         70,
         1,
         11
        ],
        [
         71,
         3,
         11
        ],
        [
         72,
         3,
         11
        ],
        [
         75,
         3,
         11
        ],
        [
         76,
         1,
         11
        ],
        [
         77,
         1,
         11
        ],
        [
         78,
         1,
         11
        ],
        [
         79,
         5,
         11
        ],
        [
         80,
         3,
         11
        ],
        [
         81,
         4,
         11
        ],
        [
         82,
         1,
         11
        ],
        [
         86,
         1,
         11
        ],
        [
         88,
         1,
         11
        ],
        [
         89,
         1,
         11
        ],
        [
         90,
         4,
         11
        ],
        [
         94,
         2,
         11
        ],
        [
         97,
         3,
         11
        ],
        [
         99,
         1,
         11
        ],
        [
         2,
         1,
         12
        ],
        [
         4,
         1,
         12
        ],
        [
         6,
         1,
         12
        ],
        [
         7,
         3,
         12
        ],
        [
         8,
         1,
         12
        ],
        [
         14,
         1,
         12
        ],
        [
         15,
         2,
         12
        ],
        [
         16,
         4,
         12
        ],
        [
         17,
         5,
         12
        ],
        [
         18,
         2,
         12
        ],
        [
         21,
         1,
         12
        ],
        [
         22,
         2,
         12
        ],
        [
         23,
         3,
         12
        ],
        [
         24,
         1,
         12
        ],
        [
         25,
         1,
         12
        ],
        [
         27,
         5,
         12
        ],
        [
         30,
         2,
         12
        ],
        [
         31,
         4,
         12
        ],
        [
         35,
         5,
         12
        ],
        [
         38,
         1,
         12
        ],
        [
         41,
         1,
         12
        ],
        [
         44,
         2,
         12
        ],
        [
         45,
         1,
         12
        ],
        [
         50,
         4,
         12
        ],
        [
         51,
         1,
         12
        ],
        [
         52,
         1,
         12
        ],
        [
         53,
         1,
         12
        ],
        [
         54,
         1,
         12
        ],
        [
         56,
         2,
         12
        ],
        [
         57,
         1,
         12
        ],
        [
         60,
         1,
         12
        ],
        [
         63,
         1,
         12
        ],
        [
         64,
         5,
         12
        ],
        [
         66,
         3,
         12
        ],
        [
         67,
         1,
         12
        ],
        [
         70,
         1,
         12
        ],
        [
         72,
         1,
         12
        ],
        [
         74,
         1,
         12
        ],
        [
         75,
         1,
         12
        ],
        [
         77,
         1,
         12
        ],
        [
         78,
         1,
         12
        ],
        [
         79,
         3,
         12
        ],
        [
         82,
         2,
         12
        ],
        [
         83,
         1,
         12
        ],
        [
         84,
         1,
         12
        ],
        [
         85,
         1,
         12
        ],
        [
         86,
         1,
         12
        ],
        [
         87,
         1,
         12
        ],
        [
         88,
         1,
         12
        ],
        [
         91,
         3,
         12
        ],
        [
         92,
         1,
         12
        ],
        [
         94,
         4,
         12
        ],
        [
         95,
         2,
         12
        ],
        [
         96,
         1,
         12
        ],
        [
         98,
         2,
         12
        ],
        [
         0,
         1,
         13
        ],
        [
         3,
         1,
         13
        ],
        [
         4,
         2,
         13
        ],
        [
         5,
         1,
         13
        ],
        [
         6,
         1,
         13
        ],
        [
         12,
         1,
         13
        ],
        [
         14,
         2,
         13
        ],
        [
         15,
         1,
         13
        ],
        [
         17,
         1,
         13
        ],
        [
         18,
         3,
         13
        ],
        [
         20,
         1,
         13
        ],
        [
         21,
         1,
         13
        ],
        [
         22,
         1,
         13
        ],
        [
         26,
         1,
         13
        ],
        [
         27,
         1,
         13
        ],
        [
         29,
         3,
         13
        ],
        [
         31,
         1,
         13
        ],
        [
         33,
         1,
         13
        ],
        [
         40,
         2,
         13
        ],
        [
         43,
         2,
         13
        ],
        [
         44,
         1,
         13
        ],
        [
         45,
         1,
         13
        ],
        [
         49,
         1,
         13
        ],
        [
         51,
         1,
         13
        ],
        [
         52,
         2,
         13
        ],
        [
         53,
         3,
         13
        ],
        [
         54,
         1,
         13
        ],
        [
         62,
         1,
         13
        ],
        [
         63,
         2,
         13
        ],
        [
         64,
         1,
         13
        ],
        [
         68,
         1,
         13
        ],
        [
         71,
         1,
         13
        ],
        [
         72,
         3,
         13
        ],
        [
         73,
         1,
         13
        ],
        [
         74,
         3,
         13
        ],
        [
         77,
         2,
         13
        ],
        [
         78,
         1,
         13
        ],
        [
         79,
         2,
         13
        ],
        [
         83,
         3,
         13
        ],
        [
         85,
         1,
         13
        ],
        [
         86,
         1,
         13
        ],
        [
         87,
         2,
         13
        ],
        [
         88,
         2,
         13
        ],
        [
         90,
         1,
         13
        ],
        [
         93,
         4,
         13
        ],
        [
         94,
         1,
         13
        ],
        [
         98,
         1,
         13
        ],
        [
         99,
         1,
         13
        ],
        [
         1,
         1,
         14
        ],
        [
         3,
         3,
         14
        ],
        [
         4,
         1,
         14
        ],
        [
         5,
         1,
         14
        ],
        [
         6,
         1,
         14
        ],
        [
         7,
         1,
         14
        ],
        [
         9,
         1,
         14
        ],
        [
         10,
         1,
         14
        ],
        [
         11,
         1,
         14
        ],
        [
         12,
         1,
         14
        ],
        [
         13,
         1,
         14
        ],
        [
         14,
         3,
         14
        ],
        [
         15,
         1,
         14
        ],
        [
         16,
         1,
         14
        ],
        [
         17,
         1,
         14
        ],
        [
         20,
         1,
         14
        ],
        [
         21,
         1,
         14
        ],
        [
         24,
         1,
         14
        ],
        [
         25,
         2,
         14
        ],
        [
         27,
         1,
         14
        ],
        [
         28,
         1,
         14
        ],
        [
         29,
         5,
         14
        ],
        [
         31,
         3,
         14
        ],
        [
         34,
         1,
         14
        ],
        [
         36,
         1,
         14
        ],
        [
         37,
         2,
         14
        ],
        [
         39,
         2,
         14
        ],
        [
         40,
         1,
         14
        ],
        [
         44,
         1,
         14
        ],
        [
         45,
         1,
         14
        ],
        [
         47,
         3,
         14
        ],
        [
         48,
         1,
         14
        ],
        [
         49,
         1,
         14
        ],
        [
         51,
         1,
         14
        ],
        [
         52,
         5,
         14
        ],
        [
         53,
         3,
         14
        ],
        [
         54,
         1,
         14
        ],
        [
         55,
         1,
         14
        ],
        [
         56,
         1,
         14
        ],
        [
         62,
         4,
         14
        ],
        [
         63,
         5,
         14
        ],
        [
         67,
         3,
         14
        ],
        [
         68,
         1,
         14
        ],
        [
         69,
         3,
         14
        ],
        [
         71,
         1,
         14
        ],
        [
         72,
         4,
         14
        ],
        [
         73,
         1,
         14
        ],
        [
         76,
         5,
         14
        ],
        [
         79,
         1,
         14
        ],
        [
         82,
         1,
         14
        ],
        [
         83,
         1,
         14
        ],
        [
         88,
         1,
         14
        ],
        [
         93,
         3,
         14
        ],
        [
         94,
         1,
         14
        ],
        [
         95,
         2,
         14
        ],
        [
         96,
         4,
         14
        ],
        [
         98,
         1,
         14
        ],
        [
         0,
         1,
         15
        ],
        [
         1,
         4,
         15
        ],
        [
         2,
         1,
         15
        ],
        [
         5,
         2,
         15
        ],
        [
         6,
         1,
         15
        ],
        [
         7,
         1,
         15
        ],
        [
         13,
         1,
         15
        ],
        [
         14,
         1,
         15
        ],
        [
         15,
         1,
         15
        ],
        [
         17,
         2,
         15
        ],
        [
         19,
         2,
         15
        ],
        [
         22,
         2,
         15
        ],
        [
         23,
         2,
         15
        ],
        [
         25,
         1,
         15
        ],
        [
         26,
         3,
         15
        ],
        [
         27,
         1,
         15
        ],
        [
         28,
         2,
         15
        ],
        [
         29,
         1,
         15
        ],
        [
         32,
         1,
         15
        ],
        [
         33,
         2,
         15
        ],
        [
         34,
         1,
         15
        ],
        [
         35,
         2,
         15
        ],
        [
         36,
         1,
         15
        ],
        [
         37,
         1,
         15
        ],
        [
         39,
         1,
         15
        ],
        [
         42,
         1,
         15
        ],
        [
         46,
         5,
         15
        ],
        [
         48,
         2,
         15
        ],
        [
         50,
         2,
         15
        ],
        [
         51,
         1,
         15
        ],
        [
         52,
         1,
         15
        ],
        [
         58,
         1,
         15
        ],
        [
         62,
         1,
         15
        ],
        [
         64,
         3,
         15
        ],
        [
         65,
         2,
         15
        ],
        [
         72,
         1,
         15
        ],
        [
         73,
         1,
         15
        ],
        [
         74,
         1,
         15
        ],
        [
         79,
         1,
         15
        ],
        [
         80,
         1,
         15
        ],
        [
         81,
         1,
         15
        ],
        [
         82,
         2,
         15
        ],
        [
         85,
         1,
         15
        ],
        [
         87,
         1,
         15
        ],
        [
         91,
         2,
         15
        ],
        [
         96,
         1,
         15
        ],
        [
         97,
         1,
         15
        ],
        [
         98,
         3,
         15
        ],
        [
         2,
         1,
         16
        ],
        [
         5,
         3,
         16
        ],
        [
         6,
         2,
         16
        ],
        [
         7,
         1,
         16
        ],
        [
         9,
         1,
         16
        ],
        [
         12,
         1,
         16
        ],
        [
         14,
         1,
         16
        ],
        [
         15,
         1,
         16
        ],
        [
         19,
         1,
         16
        ],
        [
         21,
         2,
         16
        ],
        [
         29,
         4,
         16
        ],
        [
         30,
         2,
         16
        ],
        [
         32,
         1,
         16
        ],
        [
         34,
         1,
         16
        ],
        [
         36,
         1,
         16
        ],
        [
         38,
         1,
         16
        ],
        [
         46,
         1,
         16
        ],
        [
         47,
         3,
         16
        ],
        [
         48,
         1,
         16
        ],
        [
         49,
         1,
         16
        ],
        [
         50,
         1,
         16
        ],
        [
         51,
         5,
         16
        ],
        [
         54,
         5,
         16
        ],
        [
         55,
         1,
         16
        ],
        [
         56,
         2,
         16
        ],
        [
         57,
         1,
         16
        ],
        [
         60,
         1,
         16
        ],
        [
         63,
         2,
         16
        ],
        [
         65,
         1,
         16
        ],
        [
         67,
         1,
         16
        ],
        [
         72,
         1,
         16
        ],
        [
         74,
         1,
         16
        ],
        [
         80,
         1,
         16
        ],
        [
         81,
         1,
         16
        ],
        [
         82,
         1,
         16
        ],
        [
         85,
         5,
         16
        ],
        [
         86,
         1,
         16
        ],
        [
         90,
         5,
         16
        ],
        [
         91,
         1,
         16
        ],
        [
         93,
         1,
         16
        ],
        [
         94,
         3,
         16
        ],
        [
         95,
         2,
         16
        ],
        [
         96,
         3,
         16
        ],
        [
         98,
         3,
         16
        ],
        [
         99,
         1,
         16
        ],
        [
         2,
         1,
         17
        ],
        [
         3,
         1,
         17
        ],
        [
         6,
         1,
         17
        ],
        [
         10,
         4,
         17
        ],
        [
         11,
         1,
         17
        ],
        [
         13,
         2,
         17
        ],
        [
         17,
         5,
         17
        ],
        [
         19,
         1,
         17
        ],
        [
         20,
         5,
         17
        ],
        [
         22,
         4,
         17
        ],
        [
         28,
         1,
         17
        ],
        [
         29,
         1,
         17
        ],
        [
         33,
         1,
         17
        ],
        [
         34,
         1,
         17
        ],
        [
         35,
         2,
         17
        ],
        [
         37,
         1,
         17
        ],
        [
         38,
         1,
         17
        ],
        [
         45,
         1,
         17
        ],
        [
         46,
         5,
         17
        ],
        [
         47,
         1,
         17
        ],
        [
         49,
         3,
         17
        ],
        [
         51,
         1,
         17
        ],
        [
         55,
         5,
         17
        ],
        [
         56,
         3,
         17
        ],
        [
         57,
         1,
         17
        ],
        [
         58,
         1,
         17
        ],
        [
         59,
         1,
         17
        ],
        [
         60,
         1,
         17
        ],
        [
         63,
         1,
         17
        ],
        [
         66,
         1,
         17
        ],
        [
         68,
         4,
         17
        ],
        [
         69,
         1,
         17
        ],
        [
         70,
         1,
         17
        ],
        [
         72,
         1,
         17
        ],
        [
         73,
         3,
         17
        ],
        [
         78,
         1,
         17
        ],
        [
         79,
         1,
         17
        ],
        [
         82,
         2,
         17
        ],
        [
         84,
         1,
         17
        ],
        [
         90,
         5,
         17
        ],
        [
         91,
         3,
         17
        ],
        [
         92,
         1,
         17
        ],
        [
         93,
         1,
         17
        ],
        [
         94,
         4,
         17
        ],
        [
         95,
         2,
         17
        ],
        [
         97,
         1,
         17
        ],
        [
         1,
         1,
         18
        ],
        [
         4,
         3,
         18
        ],
        [
         5,
         2,
         18
        ],
        [
         6,
         1,
         18
        ],
        [
         7,
         1,
         18
        ],
        [
         10,
         1,
         18
        ],
        [
         11,
         4,
         18
        ],
        [
         12,
         2,
         18
        ],
        [
         13,
         1,
         18
        ],
        [
         15,
         1,
         18
        ],
        [
         18,
         1,
         18
        ],
        [
         20,
         1,
         18
        ],
        [
         21,
         2,
         18
        ],
        [
         22,
         1,
         18
        ],
        [
         23,
         2,
         18
        ],
        [
         25,
         1,
         18
        ],
        [
         26,
         1,
         18
        ],
        [
         27,
         1,
         18
        ],
        [
         28,
         5,
         18
        ],
        [
         29,
         1,
         18
        ],
        [
         31,
         1,
         18
        ],
        [
         32,
         1,
         18
        ],
        [
         36,
         1,
         18
        ],
        [
         38,
         5,
         18
        ],
        [
         39,
         5,
         18
        ],
        [
         40,
         1,
         18
        ],
        [
         42,
         1,
         18
        ],
        [
         43,
         1,
         18
        ],
        [
         44,
         4,
         18
        ],
        [
         46,
         1,
         18
        ],
        [
         47,
         1,
         18
        ],
        [
         48,
         1,
         18
        ],
        [
         51,
         2,
         18
        ],
        [
         55,
         1,
         18
        ],
        [
         56,
         1,
         18
        ],
        [
         57,
         1,
         18
        ],
        [
         62,
         1,
         18
        ],
        [
         63,
         1,
         18
        ],
        [
         66,
         3,
         18
        ],
        [
         67,
         1,
         18
        ],
        [
         70,
         1,
         18
        ],
        [
         75,
         1,
         18
        ],
        [
         76,
         3,
         18
        ],
        [
         77,
         1,
         18
        ],
        [
         80,
         3,
         18
        ],
        [
         81,
         3,
         18
        ],
        [
         82,
         1,
         18
        ],
        [
         83,
         5,
         18
        ],
        [
         84,
         1,
         18
        ],
        [
         97,
         1,
         18
        ],
        [
         98,
         1,
         18
        ],
        [
         99,
         2,
         18
        ],
        [
         0,
         1,
         19
        ],
        [
         1,
         1,
         19
        ],
        [
         2,
         1,
         19
        ],
        [
         4,
         1,
         19
        ],
        [
         6,
         2,
         19
        ],
        [
         11,
         1,
         19
        ],
        [
         12,
         1,
         19
        ],
        [
         14,
         1,
         19
        ],
        [
         23,
         1,
         19
        ],
        [
         26,
         1,
         19
        ],
        [
         31,
         1,
         19
        ],
        [
         32,
         4,
         19
        ],
        [
         33,
         1,
         19
        ],
        [
         34,
         1,
         19
        ],
        [
         37,
         1,
         19
        ],
        [
         38,
         1,
         19
        ],
        [
         41,
         1,
         19
        ],
        [
         43,
         1,
         19
        ],
        [
         45,
         1,
         19
        ],
        [
         48,
         1,
         19
        ],
        [
         49,
         1,
         19
        ],
        [
         50,
         2,
         19
        ],
        [
         53,
         2,
         19
        ],
        [
         54,
         3,
         19
        ],
        [
         55,
         1,
         19
        ],
        [
         56,
         2,
         19
        ],
        [
         58,
         1,
         19
        ],
        [
         61,
         1,
         19
        ],
        [
         62,
         1,
         19
        ],
        [
         63,
         1,
         19
        ],
        [
         64,
         1,
         19
        ],
        [
         65,
         1,
         19
        ],
        [
         69,
         2,
         19
        ],
        [
         72,
         1,
         19
        ],
        [
         74,
         3,
         19
        ],
        [
         76,
         1,
         19
        ],
        [
         78,
         1,
         19
        ],
        [
         79,
         1,
         19
        ],
        [
         81,
         1,
         19
        ],
        [
         82,
         1,
         19
        ]
       ],
       "datasetInfos": [
        {
         "name": "df",
         "schema": {
          "fields": [
           {
            "metadata": {},
            "name": "movieId",
            "nullable": true,
            "type": "integer"
           },
           {
            "metadata": {},
            "name": "rating",
            "nullable": true,
            "type": "integer"
           },
           {
            "metadata": {},
            "name": "userId",
            "nullable": true,
            "type": "integer"
           }
          ],
          "type": "struct"
         },
         "tableIdentifier": null,
         "typeStr": "pyspark.sql.dataframe.DataFrame"
        }
       ],
       "dbfsResultPath": null,
       "isJsonSchema": true,
       "metadata": {},
       "overflow": true,
       "plotOptions": {
        "customPlotOptions": {},
        "displayType": "table",
        "pivotAggregation": null,
        "pivotColumns": null,
        "xColumns": null,
        "yColumns": null
       },
       "removedWidgets": [],
       "schema": [
        {
         "metadata": "{}",
         "name": "movieId",
         "type": "\"integer\""
        },
        {
         "metadata": "{}",
         "name": "rating",
         "type": "\"integer\""
        },
        {
         "metadata": "{}",
         "name": "userId",
         "type": "\"integer\""
        }
       ],
       "type": "table"
      }
     },
     "output_type": "display_data"
    }
   ],
   "source": [
    "# File location and type\n",
    "file_location = \"/FileStore/tables/movies.csv\"\n",
    "file_type = \"csv\"\n",
    "\n",
    "# CSV options\n",
    "infer_schema = \"True\"\n",
    "first_row_is_header = \"True\"\n",
    "delimiter = \",\"\n",
    "\n",
    "# The applied options are for CSV files. For other file types, these will be ignored.\n",
    "df = spark.read.format(file_type) \\\n",
    "  .option(\"inferSchema\", infer_schema) \\\n",
    "  .option(\"header\", first_row_is_header) \\\n",
    "  .option(\"sep\", delimiter) \\\n",
    "  .load(file_location)\n",
    "\n",
    "display(df)\n"
   ]
  },
  {
   "cell_type": "code",
   "execution_count": 0,
   "metadata": {
    "application/vnd.databricks.v1+cell": {
     "inputWidgets": {},
     "nuid": "9d71b9e7-8883-4592-bacd-eae3d59af96e",
     "showTitle": false,
     "title": ""
    }
   },
   "outputs": [
    {
     "data": {
      "text/html": [
       "<style scoped>\n",
       "  .ansiout {\n",
       "    display: block;\n",
       "    unicode-bidi: embed;\n",
       "    white-space: pre-wrap;\n",
       "    word-wrap: break-word;\n",
       "    word-break: break-all;\n",
       "    font-family: \"Source Code Pro\", \"Menlo\", monospace;;\n",
       "    font-size: 13px;\n",
       "    color: #555;\n",
       "    margin-left: 4px;\n",
       "    line-height: 19px;\n",
       "  }\n",
       "</style>\n",
       "<div class=\"ansiout\">Out[4]: 1</div>"
      ]
     },
     "metadata": {
      "application/vnd.databricks.v1+output": {
       "addedWidgets": {},
       "arguments": {},
       "data": "<div class=\"ansiout\">Out[4]: 1</div>",
       "datasetInfos": [],
       "metadata": {},
       "removedWidgets": [],
       "type": "html"
      }
     },
     "output_type": "display_data"
    }
   ],
   "source": [
    "df.rdd.getNumPartitions()\n"
   ]
  },
  {
   "cell_type": "code",
   "execution_count": 0,
   "metadata": {
    "application/vnd.databricks.v1+cell": {
     "inputWidgets": {},
     "nuid": "adcfc670-e42f-4fc8-89a9-5d4476d4ac83",
     "showTitle": false,
     "title": ""
    }
   },
   "outputs": [
    {
     "data": {
      "text/html": [
       "<style scoped>\n",
       "  .ansiout {\n",
       "    display: block;\n",
       "    unicode-bidi: embed;\n",
       "    white-space: pre-wrap;\n",
       "    word-wrap: break-word;\n",
       "    word-break: break-all;\n",
       "    font-family: \"Source Code Pro\", \"Menlo\", monospace;;\n",
       "    font-size: 13px;\n",
       "    color: #555;\n",
       "    margin-left: 4px;\n",
       "    line-height: 19px;\n",
       "  }\n",
       "</style>\n",
       "<div class=\"ansiout\">root\n",
       "-- movieId: integer (nullable = true)\n",
       "-- rating: integer (nullable = true)\n",
       "-- userId: integer (nullable = true)\n",
       "\n",
       "</div>"
      ]
     },
     "metadata": {
      "application/vnd.databricks.v1+output": {
       "addedWidgets": {},
       "arguments": {},
       "data": "<div class=\"ansiout\">root\n |-- movieId: integer (nullable = true)\n |-- rating: integer (nullable = true)\n |-- userId: integer (nullable = true)\n\n</div>",
       "datasetInfos": [],
       "metadata": {},
       "removedWidgets": [],
       "type": "html"
      }
     },
     "output_type": "display_data"
    }
   ],
   "source": [
    "df.printSchema()\n"
   ]
  },
  {
   "cell_type": "code",
   "execution_count": 0,
   "metadata": {
    "application/vnd.databricks.v1+cell": {
     "inputWidgets": {},
     "nuid": "f3f9006d-0bea-429b-a66d-2289d2b8e180",
     "showTitle": false,
     "title": ""
    }
   },
   "outputs": [
    {
     "data": {
      "text/html": [
       "<style scoped>\n",
       "  .ansiout {\n",
       "    display: block;\n",
       "    unicode-bidi: embed;\n",
       "    white-space: pre-wrap;\n",
       "    word-wrap: break-word;\n",
       "    word-break: break-all;\n",
       "    font-family: \"Source Code Pro\", \"Menlo\", monospace;;\n",
       "    font-size: 13px;\n",
       "    color: #555;\n",
       "    margin-left: 4px;\n",
       "    line-height: 19px;\n",
       "  }\n",
       "</style>\n",
       "<div class=\"ansiout\">+-------+------+------+\n",
       "movieId|rating|userId|\n",
       "+-------+------+------+\n",
       "      0|     0|     0|\n",
       "+-------+------+------+\n",
       "\n",
       "</div>"
      ]
     },
     "metadata": {
      "application/vnd.databricks.v1+output": {
       "addedWidgets": {},
       "arguments": {},
       "data": "<div class=\"ansiout\">+-------+------+------+\n|movieId|rating|userId|\n+-------+------+------+\n|      0|     0|     0|\n+-------+------+------+\n\n</div>",
       "datasetInfos": [],
       "metadata": {},
       "removedWidgets": [],
       "type": "html"
      }
     },
     "output_type": "display_data"
    }
   ],
   "source": [
    "# check the count of null values for each column\n",
    "df.select([count(when(col(c).isNull(), c)).alias(c) for c in df.columns]).show()"
   ]
  },
  {
   "cell_type": "code",
   "execution_count": 0,
   "metadata": {
    "application/vnd.databricks.v1+cell": {
     "inputWidgets": {},
     "nuid": "74a8218b-00a8-4e7e-a68a-4f46325bfbf6",
     "showTitle": true,
     "title": "Shape of DataFrame"
    }
   },
   "outputs": [
    {
     "data": {
      "text/html": [
       "<style scoped>\n",
       "  .ansiout {\n",
       "    display: block;\n",
       "    unicode-bidi: embed;\n",
       "    white-space: pre-wrap;\n",
       "    word-wrap: break-word;\n",
       "    word-break: break-all;\n",
       "    font-family: \"Source Code Pro\", \"Menlo\", monospace;;\n",
       "    font-size: 13px;\n",
       "    color: #555;\n",
       "    margin-left: 4px;\n",
       "    line-height: 19px;\n",
       "  }\n",
       "</style>\n",
       "<div class=\"ansiout\">(1501, 3)\n",
       "</div>"
      ]
     },
     "metadata": {
      "application/vnd.databricks.v1+output": {
       "addedWidgets": {},
       "arguments": {},
       "data": "<div class=\"ansiout\">(1501, 3)\n</div>",
       "datasetInfos": [],
       "metadata": {},
       "removedWidgets": [],
       "type": "html"
      }
     },
     "output_type": "display_data"
    }
   ],
   "source": [
    "rows = df.count()\n",
    "columns = len(df.columns)\n",
    "shape = (rows,columns)\n",
    "print(shape)"
   ]
  },
  {
   "cell_type": "code",
   "execution_count": 0,
   "metadata": {
    "application/vnd.databricks.v1+cell": {
     "inputWidgets": {},
     "nuid": "9c9d287e-a420-4387-b37d-5a4705beff3c",
     "showTitle": true,
     "title": "Part B Question 1"
    }
   },
   "outputs": [
    {
     "data": {
      "text/html": [
       "<style scoped>\n",
       "  .ansiout {\n",
       "    display: block;\n",
       "    unicode-bidi: embed;\n",
       "    white-space: pre-wrap;\n",
       "    word-wrap: break-word;\n",
       "    word-break: break-all;\n",
       "    font-family: \"Source Code Pro\", \"Menlo\", monospace;;\n",
       "    font-size: 13px;\n",
       "    color: #555;\n",
       "    margin-left: 4px;\n",
       "    line-height: 19px;\n",
       "  }\n",
       "</style>\n",
       "<div class=\"ansiout\">+-------+-----+\n",
       "movieId|count|\n",
       "+-------+-----+\n",
       "     51|   20|\n",
       "      6|   20|\n",
       "     50|   20|\n",
       "     22|   20|\n",
       "     29|   20|\n",
       "     94|   19|\n",
       "     55|   19|\n",
       "     15|   19|\n",
       "     68|   19|\n",
       "      2|   19|\n",
       "+-------+-----+\n",
       "\n",
       "</div>"
      ]
     },
     "metadata": {
      "application/vnd.databricks.v1+output": {
       "addedWidgets": {},
       "arguments": {},
       "data": "<div class=\"ansiout\">+-------+-----+\n|movieId|count|\n+-------+-----+\n|     51|   20|\n|      6|   20|\n|     50|   20|\n|     22|   20|\n|     29|   20|\n|     94|   19|\n|     55|   19|\n|     15|   19|\n|     68|   19|\n|      2|   19|\n+-------+-----+\n\n</div>",
       "datasetInfos": [
        {
         "name": "q1a",
         "schema": {
          "fields": [
           {
            "metadata": {},
            "name": "movieId",
            "nullable": true,
            "type": "integer"
           },
           {
            "metadata": {},
            "name": "count",
            "nullable": false,
            "type": "long"
           }
          ],
          "type": "struct"
         },
         "tableIdentifier": null,
         "typeStr": "pyspark.sql.dataframe.DataFrame"
        }
       ],
       "metadata": {},
       "removedWidgets": [],
       "type": "html"
      }
     },
     "output_type": "display_data"
    }
   ],
   "source": [
    "# Looking at top 10 Movies which recieved the most ratings\n",
    "q1a = df.select('movieId','rating').groupby('movieId').agg(count('rating').alias('count')).orderBy(desc('count')).limit(10)\n",
    "q1a.show()\n"
   ]
  },
  {
   "cell_type": "code",
   "execution_count": 0,
   "metadata": {
    "application/vnd.databricks.v1+cell": {
     "inputWidgets": {},
     "nuid": "511206e1-6972-4ffa-9f20-4ee243e7c69f",
     "showTitle": false,
     "title": ""
    }
   },
   "outputs": [
    {
     "data": {
      "text/html": [
       "<style scoped>\n",
       "  .ansiout {\n",
       "    display: block;\n",
       "    unicode-bidi: embed;\n",
       "    white-space: pre-wrap;\n",
       "    word-wrap: break-word;\n",
       "    word-break: break-all;\n",
       "    font-family: \"Source Code Pro\", \"Menlo\", monospace;;\n",
       "    font-size: 13px;\n",
       "    color: #555;\n",
       "    margin-left: 4px;\n",
       "    line-height: 19px;\n",
       "  }\n",
       "</style>\n",
       "<div class=\"ansiout\">+-------+------+-----+\n",
       "movieId|rating|count|\n",
       "+-------+------+-----+\n",
       "     90|     5|    3|\n",
       "     51|     5|    3|\n",
       "     55|     5|    3|\n",
       "     46|     5|    3|\n",
       "     30|     5|    3|\n",
       "     52|     5|    3|\n",
       "     27|     5|    3|\n",
       "     22|     5|    3|\n",
       "     29|     5|    3|\n",
       "     23|     5|    2|\n",
       "+-------+------+-----+\n",
       "\n",
       "</div>"
      ]
     },
     "metadata": {
      "application/vnd.databricks.v1+output": {
       "addedWidgets": {},
       "arguments": {},
       "data": "<div class=\"ansiout\">+-------+------+-----+\n|movieId|rating|count|\n+-------+------+-----+\n|     90|     5|    3|\n|     51|     5|    3|\n|     55|     5|    3|\n|     46|     5|    3|\n|     30|     5|    3|\n|     52|     5|    3|\n|     27|     5|    3|\n|     22|     5|    3|\n|     29|     5|    3|\n|     23|     5|    2|\n+-------+------+-----+\n\n</div>",
       "datasetInfos": [
        {
         "name": "Extra1",
         "schema": {
          "fields": [
           {
            "metadata": {},
            "name": "movieId",
            "nullable": true,
            "type": "integer"
           },
           {
            "metadata": {},
            "name": "rating",
            "nullable": true,
            "type": "integer"
           },
           {
            "metadata": {},
            "name": "count",
            "nullable": false,
            "type": "long"
           }
          ],
          "type": "struct"
         },
         "tableIdentifier": null,
         "typeStr": "pyspark.sql.dataframe.DataFrame"
        }
       ],
       "metadata": {},
       "removedWidgets": [],
       "type": "html"
      }
     },
     "output_type": "display_data"
    }
   ],
   "source": [
    "# Looking at top 10 Movies based on highest count of highest rating they have recieved\n",
    "Extra1  = df.select('movieId','rating').groupby('movieId','rating').agg(count('*').alias('count')).orderBy(desc('rating'),desc('count')).limit(10)\n",
    "Extra1.show()\n"
   ]
  },
  {
   "cell_type": "code",
   "execution_count": 0,
   "metadata": {
    "application/vnd.databricks.v1+cell": {
     "inputWidgets": {},
     "nuid": "de7aa9e4-73ce-46c3-a071-891c8f617ba4",
     "showTitle": false,
     "title": ""
    }
   },
   "outputs": [
    {
     "data": {
      "text/html": [
       "<style scoped>\n",
       "  .ansiout {\n",
       "    display: block;\n",
       "    unicode-bidi: embed;\n",
       "    white-space: pre-wrap;\n",
       "    word-wrap: break-word;\n",
       "    word-break: break-all;\n",
       "    font-family: \"Source Code Pro\", \"Menlo\", monospace;;\n",
       "    font-size: 13px;\n",
       "    color: #555;\n",
       "    margin-left: 4px;\n",
       "    line-height: 19px;\n",
       "  }\n",
       "</style>\n",
       "<div class=\"ansiout\"></div>"
      ]
     },
     "metadata": {
      "application/vnd.databricks.v1+output": {
       "addedWidgets": {},
       "arguments": {},
       "data": "<div class=\"ansiout\"></div>",
       "datasetInfos": [],
       "metadata": {},
       "removedWidgets": [],
       "type": "html"
      }
     },
     "output_type": "display_data"
    }
   ],
   "source": [
    "# fltr = (df['movieID'] == 2)\n",
    "\n",
    "# df.where(fltr).show()"
   ]
  },
  {
   "cell_type": "code",
   "execution_count": 0,
   "metadata": {
    "application/vnd.databricks.v1+cell": {
     "inputWidgets": {},
     "nuid": "f65dfcd3-201f-4acd-b0bc-b92fb262ffae",
     "showTitle": false,
     "title": ""
    }
   },
   "outputs": [
    {
     "data": {
      "text/html": [
       "<style scoped>\n",
       "  .ansiout {\n",
       "    display: block;\n",
       "    unicode-bidi: embed;\n",
       "    white-space: pre-wrap;\n",
       "    word-wrap: break-word;\n",
       "    word-break: break-all;\n",
       "    font-family: \"Source Code Pro\", \"Menlo\", monospace;;\n",
       "    font-size: 13px;\n",
       "    color: #555;\n",
       "    margin-left: 4px;\n",
       "    line-height: 19px;\n",
       "  }\n",
       "</style>\n",
       "<div class=\"ansiout\">+------+-----+\n",
       "userId|count|\n",
       "+------+-----+\n",
       "     6|   57|\n",
       "    14|   57|\n",
       "    22|   56|\n",
       "    11|   56|\n",
       "    12|   55|\n",
       "     4|   55|\n",
       "     7|   54|\n",
       "     9|   53|\n",
       "    23|   52|\n",
       "    24|   52|\n",
       "+------+-----+\n",
       "\n",
       "</div>"
      ]
     },
     "metadata": {
      "application/vnd.databricks.v1+output": {
       "addedWidgets": {},
       "arguments": {},
       "data": "<div class=\"ansiout\">+------+-----+\n|userId|count|\n+------+-----+\n|     6|   57|\n|    14|   57|\n|    22|   56|\n|    11|   56|\n|    12|   55|\n|     4|   55|\n|     7|   54|\n|     9|   53|\n|    23|   52|\n|    24|   52|\n+------+-----+\n\n</div>",
       "datasetInfos": [
        {
         "name": "q1b",
         "schema": {
          "fields": [
           {
            "metadata": {},
            "name": "userId",
            "nullable": true,
            "type": "integer"
           },
           {
            "metadata": {},
            "name": "count",
            "nullable": false,
            "type": "long"
           }
          ],
          "type": "struct"
         },
         "tableIdentifier": null,
         "typeStr": "pyspark.sql.dataframe.DataFrame"
        }
       ],
       "metadata": {},
       "removedWidgets": [],
       "type": "html"
      }
     },
     "output_type": "display_data"
    }
   ],
   "source": [
    "# Looking at top 10 Users who have provided the most ratings\n",
    "q1b = df.select('userId','rating').groupby('userId').agg(count('rating').alias('count')).orderBy(desc('count')).limit(10)\n",
    "q1b.show()\n"
   ]
  },
  {
   "cell_type": "code",
   "execution_count": 0,
   "metadata": {
    "application/vnd.databricks.v1+cell": {
     "inputWidgets": {},
     "nuid": "8188a75f-0068-4001-ab3a-6ae9f852deb1",
     "showTitle": false,
     "title": ""
    }
   },
   "outputs": [
    {
     "data": {
      "text/html": [
       "<style scoped>\n",
       "  .ansiout {\n",
       "    display: block;\n",
       "    unicode-bidi: embed;\n",
       "    white-space: pre-wrap;\n",
       "    word-wrap: break-word;\n",
       "    word-break: break-all;\n",
       "    font-family: \"Source Code Pro\", \"Menlo\", monospace;;\n",
       "    font-size: 13px;\n",
       "    color: #555;\n",
       "    margin-left: 4px;\n",
       "    line-height: 19px;\n",
       "  }\n",
       "</style>\n",
       "<div class=\"ansiout\">+------+------+-----+\n",
       "userId|rating|count|\n",
       "+------+------+-----+\n",
       "    11|     5|    8|\n",
       "    26|     5|    6|\n",
       "    23|     5|    6|\n",
       "    22|     5|    6|\n",
       "     2|     5|    5|\n",
       "    24|     5|    5|\n",
       "    17|     5|    5|\n",
       "    12|     5|    4|\n",
       "     8|     5|    4|\n",
       "    18|     5|    4|\n",
       "+------+------+-----+\n",
       "\n",
       "</div>"
      ]
     },
     "metadata": {
      "application/vnd.databricks.v1+output": {
       "addedWidgets": {},
       "arguments": {},
       "data": "<div class=\"ansiout\">+------+------+-----+\n|userId|rating|count|\n+------+------+-----+\n|    11|     5|    8|\n|    26|     5|    6|\n|    23|     5|    6|\n|    22|     5|    6|\n|     2|     5|    5|\n|    24|     5|    5|\n|    17|     5|    5|\n|    12|     5|    4|\n|     8|     5|    4|\n|    18|     5|    4|\n+------+------+-----+\n\n</div>",
       "datasetInfos": [
        {
         "name": "Extra2",
         "schema": {
          "fields": [
           {
            "metadata": {},
            "name": "userId",
            "nullable": true,
            "type": "integer"
           },
           {
            "metadata": {},
            "name": "rating",
            "nullable": true,
            "type": "integer"
           },
           {
            "metadata": {},
            "name": "count",
            "nullable": false,
            "type": "long"
           }
          ],
          "type": "struct"
         },
         "tableIdentifier": null,
         "typeStr": "pyspark.sql.dataframe.DataFrame"
        }
       ],
       "metadata": {},
       "removedWidgets": [],
       "type": "html"
      }
     },
     "output_type": "display_data"
    }
   ],
   "source": [
    "# Looking at Users who have provided the highest rating max amount of time\n",
    "\n",
    "Extra2 = df.select('userId','rating').groupby('userId','rating').agg(count('*').alias('count')).orderBy(desc('rating'),desc('count')).limit(10)\n",
    "Extra2.show()\n"
   ]
  },
  {
   "cell_type": "code",
   "execution_count": 0,
   "metadata": {
    "application/vnd.databricks.v1+cell": {
     "inputWidgets": {},
     "nuid": "1a1b52a6-199f-461f-bd32-cf16b3a4e7c8",
     "showTitle": true,
     "title": "Part B Question 2"
    }
   },
   "outputs": [
    {
     "data": {
      "text/html": [
       "<style scoped>\n",
       "  .ansiout {\n",
       "    display: block;\n",
       "    unicode-bidi: embed;\n",
       "    white-space: pre-wrap;\n",
       "    word-wrap: break-word;\n",
       "    word-break: break-all;\n",
       "    font-family: \"Source Code Pro\", \"Menlo\", monospace;;\n",
       "    font-size: 13px;\n",
       "    color: #555;\n",
       "    margin-left: 4px;\n",
       "    line-height: 19px;\n",
       "  }\n",
       "</style>\n",
       "<div class=\"ansiout\"></div>"
      ]
     },
     "metadata": {
      "application/vnd.databricks.v1+output": {
       "addedWidgets": {},
       "arguments": {},
       "data": "<div class=\"ansiout\"></div>",
       "datasetInfos": [
        {
         "name": "training1",
         "schema": {
          "fields": [
           {
            "metadata": {},
            "name": "movieId",
            "nullable": true,
            "type": "integer"
           },
           {
            "metadata": {},
            "name": "rating",
            "nullable": true,
            "type": "integer"
           },
           {
            "metadata": {},
            "name": "userId",
            "nullable": true,
            "type": "integer"
           }
          ],
          "type": "struct"
         },
         "tableIdentifier": null,
         "typeStr": "pyspark.sql.dataframe.DataFrame"
        },
        {
         "name": "test1",
         "schema": {
          "fields": [
           {
            "metadata": {},
            "name": "movieId",
            "nullable": true,
            "type": "integer"
           },
           {
            "metadata": {},
            "name": "rating",
            "nullable": true,
            "type": "integer"
           },
           {
            "metadata": {},
            "name": "userId",
            "nullable": true,
            "type": "integer"
           }
          ],
          "type": "struct"
         },
         "tableIdentifier": null,
         "typeStr": "pyspark.sql.dataframe.DataFrame"
        },
        {
         "name": "training2",
         "schema": {
          "fields": [
           {
            "metadata": {},
            "name": "movieId",
            "nullable": true,
            "type": "integer"
           },
           {
            "metadata": {},
            "name": "rating",
            "nullable": true,
            "type": "integer"
           },
           {
            "metadata": {},
            "name": "userId",
            "nullable": true,
            "type": "integer"
           }
          ],
          "type": "struct"
         },
         "tableIdentifier": null,
         "typeStr": "pyspark.sql.dataframe.DataFrame"
        },
        {
         "name": "test2",
         "schema": {
          "fields": [
           {
            "metadata": {},
            "name": "movieId",
            "nullable": true,
            "type": "integer"
           },
           {
            "metadata": {},
            "name": "rating",
            "nullable": true,
            "type": "integer"
           },
           {
            "metadata": {},
            "name": "userId",
            "nullable": true,
            "type": "integer"
           }
          ],
          "type": "struct"
         },
         "tableIdentifier": null,
         "typeStr": "pyspark.sql.dataframe.DataFrame"
        }
       ],
       "metadata": {},
       "removedWidgets": [],
       "type": "html"
      }
     },
     "output_type": "display_data"
    }
   ],
   "source": [
    "(training1, test1) = df.randomSplit([0.7, 0.3])\n",
    "(training2, test2) = df.randomSplit([0.8, 0.2])"
   ]
  },
  {
   "cell_type": "code",
   "execution_count": 0,
   "metadata": {
    "application/vnd.databricks.v1+cell": {
     "inputWidgets": {},
     "nuid": "5d3e0538-8d82-4e44-9f7b-3cc9943f51c4",
     "showTitle": false,
     "title": ""
    }
   },
   "outputs": [
    {
     "data": {
      "text/html": [
       "<style scoped>\n",
       "  .ansiout {\n",
       "    display: block;\n",
       "    unicode-bidi: embed;\n",
       "    white-space: pre-wrap;\n",
       "    word-wrap: break-word;\n",
       "    word-break: break-all;\n",
       "    font-family: \"Source Code Pro\", \"Menlo\", monospace;;\n",
       "    font-size: 13px;\n",
       "    color: #555;\n",
       "    margin-left: 4px;\n",
       "    line-height: 19px;\n",
       "  }\n",
       "</style>\n",
       "<div class=\"ansiout\"></div>"
      ]
     },
     "metadata": {
      "application/vnd.databricks.v1+output": {
       "addedWidgets": {},
       "arguments": {},
       "data": "<div class=\"ansiout\"></div>",
       "datasetInfos": [],
       "metadata": {},
       "removedWidgets": [],
       "type": "html"
      }
     },
     "output_type": "display_data"
    }
   ],
   "source": [
    "MOVIEID = 'movieId'\n",
    "RATING = 'rating'\n",
    "USERID = 'userId'\n",
    "\n",
    "als = ALS(maxIter=15 , regParam=0.01, userCol=USERID, itemCol=MOVIEID, ratingCol=RATING)\n"
   ]
  },
  {
   "cell_type": "code",
   "execution_count": 0,
   "metadata": {
    "application/vnd.databricks.v1+cell": {
     "inputWidgets": {},
     "nuid": "eb8ce828-96d7-4a31-aa85-07cf6eb83de9",
     "showTitle": false,
     "title": ""
    }
   },
   "outputs": [
    {
     "data": {
      "text/html": [
       "<style scoped>\n",
       "  .table-result-container {\n",
       "    max-height: 300px;\n",
       "    overflow: auto;\n",
       "  }\n",
       "  table, th, td {\n",
       "    border: 1px solid black;\n",
       "    border-collapse: collapse;\n",
       "  }\n",
       "  th, td {\n",
       "    padding: 5px;\n",
       "  }\n",
       "  th {\n",
       "    text-align: left;\n",
       "  }\n",
       "</style><div class='table-result-container'><table class='table-result'><thead style='background-color: white'><tr><th>movieId</th><th>rating</th><th>userId</th><th>prediction</th></tr></thead><tbody><tr><td>31</td><td>1</td><td>4</td><td>5.1812396</td></tr><tr><td>31</td><td>3</td><td>14</td><td>3.7451963</td></tr><tr><td>31</td><td>1</td><td>29</td><td>0.3347944</td></tr><tr><td>85</td><td>3</td><td>1</td><td>0.06412296</td></tr><tr><td>85</td><td>1</td><td>4</td><td>1.9018631</td></tr><tr><td>85</td><td>1</td><td>5</td><td>1.3831215</td></tr><tr><td>85</td><td>3</td><td>6</td><td>3.5036194</td></tr><tr><td>85</td><td>5</td><td>8</td><td>3.0272744</td></tr><tr><td>85</td><td>3</td><td>21</td><td>1.1056397</td></tr><tr><td>85</td><td>1</td><td>26</td><td>2.3982472</td></tr><tr><td>85</td><td>1</td><td>28</td><td>0.7799537</td></tr><tr><td>85</td><td>1</td><td>29</td><td>0.84408426</td></tr><tr><td>65</td><td>2</td><td>15</td><td>0.4652623</td></tr><tr><td>65</td><td>1</td><td>16</td><td>2.3995366</td></tr><tr><td>65</td><td>1</td><td>22</td><td>2.529108</td></tr><tr><td>65</td><td>5</td><td>23</td><td>1.1731257</td></tr><tr><td>53</td><td>1</td><td>6</td><td>2.2991433</td></tr><tr><td>53</td><td>1</td><td>9</td><td>3.1619062</td></tr><tr><td>53</td><td>1</td><td>12</td><td>1.3129117</td></tr><tr><td>53</td><td>3</td><td>14</td><td>3.3228993</td></tr><tr><td>53</td><td>5</td><td>21</td><td>2.2306564</td></tr><tr><td>78</td><td>1</td><td>17</td><td>1.1533483</td></tr><tr><td>78</td><td>1</td><td>22</td><td>0.63363147</td></tr><tr><td>34</td><td>3</td><td>3</td><td>-0.557448</td></tr><tr><td>34</td><td>1</td><td>15</td><td>0.63822573</td></tr><tr><td>34</td><td>1</td><td>19</td><td>0.5166547</td></tr><tr><td>81</td><td>2</td><td>5</td><td>2.0759706</td></tr><tr><td>81</td><td>1</td><td>6</td><td>-0.7558234</td></tr><tr><td>81</td><td>1</td><td>15</td><td>3.649635</td></tr><tr><td>81</td><td>1</td><td>16</td><td>1.6647035</td></tr><tr><td>81</td><td>1</td><td>19</td><td>2.4930098</td></tr><tr><td>28</td><td>1</td><td>2</td><td>4.058427</td></tr><tr><td>28</td><td>1</td><td>14</td><td>2.071507</td></tr><tr><td>28</td><td>1</td><td>17</td><td>0.8012647</td></tr><tr><td>28</td><td>1</td><td>27</td><td>1.6177555</td></tr><tr><td>76</td><td>3</td><td>7</td><td>2.4037466</td></tr><tr><td>76</td><td>1</td><td>19</td><td>0.5018423</td></tr><tr><td>27</td><td>1</td><td>5</td><td>3.086042</td></tr><tr><td>27</td><td>5</td><td>11</td><td>3.0407107</td></tr><tr><td>27</td><td>5</td><td>12</td><td>1.8438581</td></tr><tr><td>27</td><td>1</td><td>15</td><td>0.3947298</td></tr><tr><td>26</td><td>1</td><td>18</td><td>-0.3722986</td></tr><tr><td>26</td><td>1</td><td>20</td><td>1.4492807</td></tr><tr><td>26</td><td>1</td><td>23</td><td>-0.14686936</td></tr><tr><td>27</td><td>1</td><td>26</td><td>1.291649</td></tr><tr><td>27</td><td>1</td><td>28</td><td>-2.3338025</td></tr><tr><td>44</td><td>1</td><td>13</td><td>0.818265</td></tr><tr><td>44</td><td>3</td><td>27</td><td>1.4844759</td></tr><tr><td>44</td><td>1</td><td>28</td><td>-0.13329917</td></tr><tr><td>12</td><td>3</td><td>2</td><td>1.4500374</td></tr><tr><td>12</td><td>1</td><td>9</td><td>1.7308042</td></tr><tr><td>12</td><td>1</td><td>16</td><td>-1.5612333</td></tr><tr><td>12</td><td>1</td><td>20</td><td>2.2312198</td></tr><tr><td>12</td><td>1</td><td>23</td><td>-1.0629741</td></tr><tr><td>91</td><td>1</td><td>3</td><td>0.47022134</td></tr><tr><td>91</td><td>1</td><td>16</td><td>1.3175294</td></tr><tr><td>91</td><td>3</td><td>17</td><td>1.8234088</td></tr><tr><td>91</td><td>1</td><td>26</td><td>1.1399798</td></tr><tr><td>22</td><td>1</td><td>2</td><td>-1.8056834</td></tr><tr><td>22</td><td>1</td><td>4</td><td>0.18125671</td></tr><tr><td>22</td><td>1</td><td>11</td><td>2.8532543</td></tr><tr><td>22</td><td>2</td><td>12</td><td>-0.5101943</td></tr><tr><td>22</td><td>4</td><td>17</td><td>1.2455963</td></tr><tr><td>22</td><td>1</td><td>21</td><td>1.2174922</td></tr><tr><td>22</td><td>5</td><td>22</td><td>3.9230914</td></tr><tr><td>22</td><td>2</td><td>27</td><td>1.6290054</td></tr><tr><td>22</td><td>3</td><td>29</td><td>2.650711</td></tr><tr><td>93</td><td>1</td><td>1</td><td>3.9504511</td></tr><tr><td>93</td><td>1</td><td>19</td><td>0.980143</td></tr><tr><td>93</td><td>1</td><td>27</td><td>0.82334274</td></tr><tr><td>47</td><td>1</td><td>1</td><td>-0.6347406</td></tr><tr><td>47</td><td>1</td><td>18</td><td>-2.8215575</td></tr><tr><td>47</td><td>1</td><td>24</td><td>0.78137755</td></tr><tr><td>47</td><td>1</td><td>26</td><td>-1.379572</td></tr><tr><td>1</td><td>1</td><td>3</td><td>0.5933194</td></tr><tr><td>1</td><td>1</td><td>7</td><td>-1.0454448</td></tr><tr><td>1</td><td>1</td><td>14</td><td>0.28957838</td></tr><tr><td>1</td><td>1</td><td>19</td><td>0.79232156</td></tr><tr><td>1</td><td>1</td><td>20</td><td>2.6555798</td></tr><tr><td>52</td><td>1</td><td>5</td><td>-0.37381607</td></tr><tr><td>52</td><td>1</td><td>12</td><td>0.017479002</td></tr><tr><td>52</td><td>1</td><td>15</td><td>0.7834157</td></tr><tr><td>13</td><td>1</td><td>1</td><td>-1.9798146</td></tr><tr><td>13</td><td>3</td><td>5</td><td>3.5343354</td></tr><tr><td>13</td><td>1</td><td>14</td><td>-1.767714</td></tr><tr><td>13</td><td>1</td><td>18</td><td>0.8947824</td></tr><tr><td>13</td><td>1</td><td>22</td><td>2.1018126</td></tr><tr><td>16</td><td>1</td><td>1</td><td>0.61677444</td></tr><tr><td>86</td><td>2</td><td>1</td><td>-0.06172772</td></tr><tr><td>16</td><td>1</td><td>3</td><td>1.2312477</td></tr><tr><td>86</td><td>1</td><td>6</td><td>0.60267735</td></tr><tr><td>86</td><td>1</td><td>7</td><td>0.17798814</td></tr><tr><td>6</td><td>2</td><td>11</td><td>-0.8138972</td></tr><tr><td>6</td><td>1</td><td>13</td><td>1.810442</td></tr><tr><td>6</td><td>1</td><td>18</td><td>0.8548824</td></tr><tr><td>16</td><td>1</td><td>26</td><td>1.0151817</td></tr><tr><td>6</td><td>1</td><td>28</td><td>0.45491618</td></tr><tr><td>3</td><td>2</td><td>8</td><td>1.3690543</td></tr><tr><td>3</td><td>1</td><td>9</td><td>0.67634547</td></tr><tr><td>3</td><td>1</td><td>13</td><td>0.756087</td></tr><tr><td>3</td><td>3</td><td>14</td><td>1.4173228</td></tr><tr><td>3</td><td>2</td><td>22</td><td>0.5716184</td></tr><tr><td>3</td><td>1</td><td>26</td><td>0.17984703</td></tr><tr><td>3</td><td>1</td><td>29</td><td>0.29128912</td></tr><tr><td>40</td><td>4</td><td>2</td><td>3.9705822</td></tr><tr><td>40</td><td>2</td><td>8</td><td>2.4802155</td></tr><tr><td>20</td><td>1</td><td>13</td><td>0.14971545</td></tr><tr><td>20</td><td>1</td><td>14</td><td>1.6284821</td></tr><tr><td>40</td><td>1</td><td>14</td><td>1.8141563</td></tr><tr><td>40</td><td>1</td><td>20</td><td>-0.6209054</td></tr><tr><td>40</td><td>1</td><td>24</td><td>-1.670952</td></tr><tr><td>40</td><td>1</td><td>25</td><td>2.86377</td></tr><tr><td>20</td><td>1</td><td>26</td><td>-0.48210067</td></tr><tr><td>40</td><td>1</td><td>27</td><td>1.6765988</td></tr><tr><td>94</td><td>1</td><td>0</td><td>0.4554023</td></tr><tr><td>94</td><td>2</td><td>1</td><td>-0.46154448</td></tr><tr><td>94</td><td>1</td><td>6</td><td>0.6065878</td></tr><tr><td>94</td><td>2</td><td>11</td><td>2.9281025</td></tr><tr><td>94</td><td>4</td><td>12</td><td>1.1910996</td></tr><tr><td>94</td><td>2</td><td>24</td><td>2.9923992</td></tr><tr><td>57</td><td>1</td><td>12</td><td>1.4943676</td></tr><tr><td>57</td><td>1</td><td>16</td><td>3.4106226</td></tr><tr><td>57</td><td>1</td><td>17</td><td>0.28071484</td></tr><tr><td>57</td><td>2</td><td>20</td><td>1.6563978</td></tr><tr><td>57</td><td>3</td><td>28</td><td>-0.7074373</td></tr><tr><td>54</td><td>1</td><td>1</td><td>-0.9921343</td></tr><tr><td>54</td><td>1</td><td>12</td><td>-0.13445707</td></tr><tr><td>54</td><td>1</td><td>14</td><td>-0.4692842</td></tr><tr><td>54</td><td>1</td><td>21</td><td>1.4517696</td></tr><tr><td>96</td><td>1</td><td>4</td><td>3.2419991</td></tr><tr><td>96</td><td>1</td><td>7</td><td>1.999315</td></tr><tr><td>96</td><td>4</td><td>14</td><td>3.3380747</td></tr><tr><td>96</td><td>3</td><td>16</td><td>0.63111985</td></tr><tr><td>96</td><td>1</td><td>19</td><td>1.5934241</td></tr><tr><td>48</td><td>3</td><td>5</td><td>2.1588721</td></tr><tr><td>48</td><td>1</td><td>6</td><td>0.61846876</td></tr><tr><td>48</td><td>1</td><td>14</td><td>1.194028</td></tr><tr><td>48</td><td>2</td><td>15</td><td>1.3249551</td></tr><tr><td>48</td><td>1</td><td>16</td><td>-0.15200943</td></tr><tr><td>48</td><td>5</td><td>23</td><td>2.1628814</td></tr><tr><td>48</td><td>1</td><td>26</td><td>1.1341357</td></tr><tr><td>5</td><td>2</td><td>0</td><td>0.89577544</td></tr><tr><td>5</td><td>1</td><td>6</td><td>1.462761</td></tr><tr><td>5</td><td>1</td><td>8</td><td>1.5457826</td></tr><tr><td>5</td><td>1</td><td>13</td><td>0.93315655</td></tr><tr><td>5</td><td>2</td><td>15</td><td>0.3664655</td></tr><tr><td>5</td><td>2</td><td>18</td><td>0.86840296</td></tr><tr><td>19</td><td>1</td><td>1</td><td>-0.13683116</td></tr><tr><td>19</td><td>1</td><td>3</td><td>-0.23232767</td></tr><tr><td>19</td><td>2</td><td>15</td><td>1.1318078</td></tr><tr><td>19</td><td>1</td><td>24</td><td>-3.1186721</td></tr><tr><td>19</td><td>3</td><td>29</td><td>0.20465128</td></tr><tr><td>92</td><td>4</td><td>0</td><td>1.3153939</td></tr><tr><td>92</td><td>2</td><td>7</td><td>2.3891535</td></tr><tr><td>92</td><td>2</td><td>8</td><td>3.7498167</td></tr><tr><td>92</td><td>1</td><td>17</td><td>-0.4090791</td></tr><tr><td>92</td><td>1</td><td>24</td><td>1.8390044</td></tr><tr><td>64</td><td>1</td><td>0</td><td>1.39248</td></tr><tr><td>64</td><td>1</td><td>2</td><td>-2.4338844</td></tr><tr><td>64</td><td>3</td><td>5</td><td>1.8554456</td></tr><tr><td>64</td><td>1</td><td>8</td><td>-0.56281936</td></tr><tr><td>64</td><td>3</td><td>9</td><td>2.7431045</td></tr><tr><td>64</td><td>5</td><td>12</td><td>2.8715816</td></tr><tr><td>64</td><td>1</td><td>21</td><td>1.7546558</td></tr><tr><td>41</td><td>2</td><td>0</td><td>1.2382064</td></tr><tr><td>41</td><td>4</td><td>4</td><td>0.43374938</td></tr><tr><td>41</td><td>1</td><td>19</td><td>0.2968083</td></tr><tr><td>15</td><td>1</td><td>0</td><td>1.476532</td></tr><tr><td>15</td><td>2</td><td>2</td><td>-0.9948424</td></tr><tr><td>43</td><td>1</td><td>3</td><td>1.2327788</td></tr><tr><td>15</td><td>1</td><td>4</td><td>1.1223264</td></tr><tr><td>43</td><td>2</td><td>4</td><td>-0.98352885</td></tr><tr><td>43</td><td>4</td><td>6</td><td>0.479663</td></tr><tr><td>43</td><td>3</td><td>9</td><td>1.9618331</td></tr><tr><td>15</td><td>1</td><td>16</td><td>0.5433147</td></tr><tr><td>15</td><td>1</td><td>18</td><td>-2.1334484</td></tr><tr><td>43</td><td>1</td><td>19</td><td>1.3764967</td></tr><tr><td>43</td><td>3</td><td>21</td><td>-0.055071756</td></tr><tr><td>15</td><td>1</td><td>28</td><td>0.17639983</td></tr><tr><td>37</td><td>1</td><td>3</td><td>0.043445554</td></tr><tr><td>37</td><td>2</td><td>7</td><td>2.503141</td></tr><tr><td>37</td><td>2</td><td>11</td><td>0.85547</td></tr><tr><td>37</td><td>1</td><td>15</td><td>-0.42325675</td></tr><tr><td>37</td><td>1</td><td>19</td><td>1.0185417</td></tr><tr><td>37</td><td>1</td><td>24</td><td>-0.84664893</td></tr><tr><td>61</td><td>1</td><td>2</td><td>0.45261893</td></tr><tr><td>61</td><td>1</td><td>26</td><td>0.48423028</td></tr><tr><td>88</td><td>2</td><td>1</td><td>-0.08538533</td></tr><tr><td>88</td><td>1</td><td>2</td><td>0.4808402</td></tr><tr><td>88</td><td>2</td><td>13</td><td>1.6411856</td></tr><tr><td>88</td><td>2</td><td>24</td><td>0.99148625</td></tr><tr><td>17</td><td>1</td><td>0</td><td>3.1057832</td></tr><tr><td>17</td><td>1</td><td>14</td><td>0.914699</td></tr><tr><td>17</td><td>2</td><td>15</td><td>1.1322061</td></tr><tr><td>17</td><td>1</td><td>21</td><td>0.5022905</td></tr><tr><td>9</td><td>1</td><td>25</td><td>1.037591</td></tr><tr><td>17</td><td>1</td><td>25</td><td>3.498805</td></tr><tr><td>9</td><td>1</td><td>27</td><td>-1.895808</td></tr><tr><td>72</td><td>1</td><td>5</td><td>0.42559063</td></tr><tr><td>72</td><td>3</td><td>11</td><td>-2.309516</td></tr><tr><td>72</td><td>1</td><td>19</td><td>0.54435706</td></tr><tr><td>35</td><td>1</td><td>4</td><td>3.627423</td></tr><tr><td>35</td><td>1</td><td>7</td><td>0.8792975</td></tr><tr><td>35</td><td>3</td><td>11</td><td>-0.20289096</td></tr><tr><td>35</td><td>2</td><td>17</td><td>1.1726139</td></tr><tr><td>59</td><td>2</td><td>0</td><td>-0.7261018</td></tr><tr><td>59</td><td>1</td><td>2</td><td>0.5211038</td></tr><tr><td>55</td><td>1</td><td>4</td><td>0.19351989</td></tr><tr><td>4</td><td>1</td><td>7</td><td>-0.058984663</td></tr><tr><td>4</td><td>1</td><td>9</td><td>3.341565</td></tr><tr><td>59</td><td>1</td><td>9</td><td>1.0540472</td></tr><tr><td>4</td><td>1</td><td>12</td><td>0.0801456</td></tr><tr><td>4</td><td>1</td><td>19</td><td>0.87491417</td></tr><tr><td>55</td><td>1</td><td>20</td><td>-0.43432224</td></tr><tr><td>4</td><td>1</td><td>24</td><td>0.98822755</td></tr><tr><td>59</td><td>4</td><td>24</td><td>-0.846004</td></tr><tr><td>4</td><td>4</td><td>26</td><td>0.7003209</td></tr><tr><td>59</td><td>1</td><td>27</td><td>2.430183</td></tr><tr><td>59</td><td>1</td><td>29</td><td>0.58650494</td></tr><tr><td>8</td><td>1</td><td>4</td><td>1.9209797</td></tr><tr><td>8</td><td>1</td><td>10</td><td>1.4396125</td></tr><tr><td>23</td><td>1</td><td>0</td><td>1.3948448</td></tr><tr><td>39</td><td>1</td><td>5</td><td>0.7158253</td></tr><tr><td>39</td><td>1</td><td>10</td><td>-0.8407857</td></tr><tr><td>23</td><td>1</td><td>19</td><td>2.888854</td></tr><tr><td>23</td><td>3</td><td>28</td><td>2.2116406</td></tr><tr><td>39</td><td>2</td><td>28</td><td>2.1316679</td></tr><tr><td>49</td><td>1</td><td>6</td><td>1.3771461</td></tr><tr><td>49</td><td>1</td><td>7</td><td>0.24900301</td></tr><tr><td>49</td><td>1</td><td>13</td><td>2.9190633</td></tr><tr><td>49</td><td>1</td><td>16</td><td>0.35699522</td></tr><tr><td>49</td><td>1</td><td>24</td><td>-0.70697755</td></tr><tr><td>49</td><td>4</td><td>28</td><td>-1.5959792</td></tr><tr><td>7</td><td>1</td><td>10</td><td>3.1002626</td></tr><tr><td>7</td><td>3</td><td>12</td><td>4.6261554</td></tr><tr><td>7</td><td>1</td><td>14</td><td>1.6161635</td></tr><tr><td>7</td><td>1</td><td>25</td><td>2.146635</td></tr><tr><td>7</td><td>1</td><td>28</td><td>-2.5110884</td></tr><tr><td>7</td><td>2</td><td>29</td><td>3.3267024</td></tr><tr><td>84</td><td>1</td><td>6</td><td>2.1352913</td></tr><tr><td>84</td><td>1</td><td>18</td><td>-1.1320555</td></tr><tr><td>84</td><td>1</td><td>21</td><td>0.8057871</td></tr><tr><td>84</td><td>1</td><td>22</td><td>1.5016403</td></tr><tr><td>87</td><td>3</td><td>4</td><td>2.2542744</td></tr><tr><td>87</td><td>2</td><td>13</td><td>2.4337404</td></tr><tr><td>87</td><td>1</td><td>15</td><td>3.6474009</td></tr><tr><td>87</td><td>2</td><td>19</td><td>3.1540015</td></tr><tr><td>87</td><td>3</td><td>22</td><td>1.3624448</td></tr><tr><td>87</td><td>1</td><td>24</td><td>-0.25964105</td></tr><tr><td>51</td><td>1</td><td>0</td><td>0.97114104</td></tr><tr><td>51</td><td>5</td><td>3</td><td>3.7056913</td></tr><tr><td>51</td><td>1</td><td>5</td><td>2.2298777</td></tr><tr><td>51</td><td>1</td><td>13</td><td>0.531092</td></tr><tr><td>51</td><td>1</td><td>14</td><td>0.91322637</td></tr><tr><td>51</td><td>3</td><td>27</td><td>1.260559</td></tr><tr><td>69</td><td>1</td><td>17</td><td>4.3227997</td></tr><tr><td>69</td><td>2</td><td>19</td><td>-0.28303915</td></tr><tr><td>69</td><td>4</td><td>22</td><td>3.230492</td></tr><tr><td>69</td><td>1</td><td>29</td><td>2.5487564</td></tr><tr><td>97</td><td>1</td><td>7</td><td>0.1359946</td></tr><tr><td>97</td><td>1</td><td>8</td><td>0.16178928</td></tr><tr><td>97</td><td>1</td><td>10</td><td>-0.45834282</td></tr><tr><td>97</td><td>1</td><td>15</td><td>0.7438589</td></tr><tr><td>97</td><td>1</td><td>17</td><td>1.4111739</td></tr><tr><td>97</td><td>1</td><td>18</td><td>1.7953869</td></tr><tr><td>97</td><td>1</td><td>20</td><td>0.021551302</td></tr><tr><td>97</td><td>1</td><td>23</td><td>0.8650398</td></tr><tr><td>97</td><td>2</td><td>25</td><td>2.6322842</td></tr><tr><td>63</td><td>1</td><td>10</td><td>1.8486633</td></tr><tr><td>63</td><td>2</td><td>13</td><td>2.6011539</td></tr><tr><td>63</td><td>1</td><td>17</td><td>2.2649314</td></tr><tr><td>63</td><td>1</td><td>19</td><td>2.0850601</td></tr><tr><td>10</td><td>1</td><td>2</td><td>0.2970047</td></tr><tr><td>77</td><td>1</td><td>7</td><td>0.52196676</td></tr><tr><td>77</td><td>4</td><td>24</td><td>4.6594133</td></tr><tr><td>10</td><td>3</td><td>29</td><td>3.1550455</td></tr><tr><td>50</td><td>1</td><td>0</td><td>2.1353655</td></tr><tr><td>50</td><td>1</td><td>4</td><td>1.0048249</td></tr><tr><td>50</td><td>3</td><td>5</td><td>3.3136294</td></tr><tr><td>50</td><td>1</td><td>6</td><td>0.23896043</td></tr><tr><td>50</td><td>1</td><td>10</td><td>0.33124918</td></tr><tr><td>50</td><td>1</td><td>25</td><td>2.4803796</td></tr><tr><td>50</td><td>2</td><td>26</td><td>2.9450505</td></tr><tr><td>45</td><td>1</td><td>4</td><td>0.47174883</td></tr><tr><td>45</td><td>2</td><td>7</td><td>1.3086331</td></tr><tr><td>45</td><td>1</td><td>8</td><td>1.7409263</td></tr><tr><td>45</td><td>1</td><td>13</td><td>0.9986818</td></tr><tr><td>45</td><td>1</td><td>14</td><td>0.8927187</td></tr><tr><td>45</td><td>1</td><td>17</td><td>-0.017502546</td></tr><tr><td>45</td><td>1</td><td>21</td><td>-0.26072043</td></tr><tr><td>45</td><td>1</td><td>27</td><td>-0.17861012</td></tr><tr><td>38</td><td>1</td><td>9</td><td>3.7780738</td></tr><tr><td>38</td><td>1</td><td>12</td><td>-0.42190647</td></tr><tr><td>38</td><td>1</td><td>23</td><td>2.1864667</td></tr><tr><td>38</td><td>2</td><td>28</td><td>-5.2342353</td></tr><tr><td>82</td><td>1</td><td>11</td><td>0.9870268</td></tr><tr><td>82</td><td>2</td><td>12</td><td>2.830562</td></tr><tr><td>82</td><td>1</td><td>19</td><td>1.6342838</td></tr><tr><td>82</td><td>2</td><td>23</td><td>1.3826101</td></tr><tr><td>82</td><td>1</td><td>27</td><td>0.05995296</td></tr><tr><td>80</td><td>1</td><td>2</td><td>1.3053306</td></tr><tr><td>80</td><td>4</td><td>3</td><td>1.0285888</td></tr><tr><td>80</td><td>3</td><td>22</td><td>1.5257238</td></tr><tr><td>80</td><td>1</td><td>24</td><td>-1.3318096</td></tr><tr><td>80</td><td>3</td><td>27</td><td>2.0261276</td></tr><tr><td>25</td><td>1</td><td>9</td><td>0.35241374</td></tr><tr><td>25</td><td>3</td><td>10</td><td>5.439894</td></tr><tr><td>25</td><td>1</td><td>11</td><td>-0.6081098</td></tr><tr><td>73</td><td>1</td><td>13</td><td>1.8021281</td></tr><tr><td>25</td><td>1</td><td>18</td><td>-4.4782004</td></tr><tr><td>25</td><td>1</td><td>23</td><td>-0.27415103</td></tr><tr><td>73</td><td>3</td><td>23</td><td>3.0563421</td></tr><tr><td>25</td><td>1</td><td>27</td><td>1.3814554</td></tr><tr><td>25</td><td>1</td><td>29</td><td>-0.5568261</td></tr><tr><td>24</td><td>5</td><td>26</td><td>3.5949743</td></tr><tr><td>24</td><td>2</td><td>27</td><td>0.5533473</td></tr><tr><td>24</td><td>3</td><td>28</td><td>-0.92725605</td></tr><tr><td>70</td><td>4</td><td>4</td><td>0.34691787</td></tr><tr><td>70</td><td>1</td><td>11</td><td>0.24200886</td></tr><tr><td>70</td><td>1</td><td>18</td><td>2.427191</td></tr><tr><td>70</td><td>2</td><td>20</td><td>1.33902</td></tr><tr><td>70</td><td>3</td><td>22</td><td>0.6990407</td></tr><tr><td>70</td><td>1</td><td>25</td><td>0.21474056</td></tr><tr><td>62</td><td>4</td><td>14</td><td>4.783495</td></tr><tr><td>95</td><td>2</td><td>5</td><td>0.8961134</td></tr><tr><td>95</td><td>2</td><td>6</td><td>1.7777637</td></tr><tr><td>95</td><td>3</td><td>9</td><td>2.637432</td></tr><tr><td>95</td><td>2</td><td>22</td><td>-0.24306041</td></tr><tr><td>95</td><td>1</td><td>26</td><td>-0.85261</td></tr><tr><td>95</td><td>1</td><td>27</td><td>1.5160632</td></tr><tr><td>29</td><td>4</td><td>4</td><td>4.7325673</td></tr><tr><td>29</td><td>5</td><td>8</td><td>4.826799</td></tr><tr><td>29</td><td>1</td><td>18</td><td>0.9123383</td></tr><tr><td>29</td><td>3</td><td>22</td><td>4.570286</td></tr><tr><td>29</td><td>1</td><td>23</td><td>2.123685</td></tr><tr><td>29</td><td>1</td><td>25</td><td>-0.6833464</td></tr><tr><td>21</td><td>1</td><td>9</td><td>1.625035</td></tr><tr><td>21</td><td>1</td><td>13</td><td>1.8733144</td></tr><tr><td>21</td><td>2</td><td>20</td><td>0.7351726</td></tr><tr><td>21</td><td>1</td><td>21</td><td>-0.4947272</td></tr><tr><td>98</td><td>1</td><td>10</td><td>1.0055251</td></tr><tr><td>98</td><td>2</td><td>12</td><td>0.6017496</td></tr><tr><td>98</td><td>1</td><td>14</td><td>0.49581695</td></tr><tr><td>98</td><td>4</td><td>19</td><td>1.823392</td></tr><tr><td>90</td><td>4</td><td>5</td><td>3.6912825</td></tr><tr><td>60</td><td>3</td><td>8</td><td>1.3304657</td></tr><tr><td>90</td><td>1</td><td>8</td><td>2.7635117</td></tr><tr><td>32</td><td>4</td><td>9</td><td>2.7947927</td></tr><tr><td>32</td><td>5</td><td>11</td><td>1.3580883</td></tr><tr><td>32</td><td>4</td><td>19</td><td>2.661968</td></tr><tr><td>32</td><td>4</td><td>22</td><td>1.3385693</td></tr><tr><td>60</td><td>1</td><td>23</td><td>1.3284696</td></tr><tr><td>90</td><td>1</td><td>28</td><td>-1.7093283</td></tr><tr><td>90</td><td>4</td><td>29</td><td>5.086671</td></tr><tr><td>75</td><td>1</td><td>6</td><td>1.6897851</td></tr><tr><td>75</td><td>1</td><td>9</td><td>1.2489148</td></tr><tr><td>75</td><td>3</td><td>11</td><td>1.8905001</td></tr><tr><td>75</td><td>1</td><td>12</td><td>0.02650112</td></tr><tr><td>75</td><td>1</td><td>18</td><td>1.5107276</td></tr><tr><td>56</td><td>1</td><td>3</td><td>0.63699734</td></tr><tr><td>56</td><td>2</td><td>16</td><td>0.83431435</td></tr><tr><td>56</td><td>1</td><td>18</td><td>1.8615844</td></tr><tr><td>56</td><td>2</td><td>19</td><td>0.8397639</td></tr><tr><td>56</td><td>2</td><td>22</td><td>0.9584671</td></tr><tr><td>56</td><td>1</td><td>28</td><td>-2.3640969</td></tr><tr><td>58</td><td>1</td><td>3</td><td>2.3750513</td></tr><tr><td>58</td><td>1</td><td>15</td><td>0.76635766</td></tr><tr><td>58</td><td>1</td><td>19</td><td>0.95705944</td></tr><tr><td>11</td><td>1</td><td>11</td><td>-0.030736983</td></tr><tr><td>33</td><td>1</td><td>17</td><td>2.92287</td></tr><tr><td>11</td><td>4</td><td>18</td><td>-0.30593646</td></tr><tr><td>33</td><td>1</td><td>24</td><td>0.35305</td></tr><tr><td>33</td><td>3</td><td>27</td><td>1.9735435</td></tr><tr><td>83</td><td>1</td><td>0</td><td>0.7738819</td></tr><tr><td>83</td><td>1</td><td>8</td><td>2.7373135</td></tr><tr><td>83</td><td>1</td><td>14</td><td>2.615353</td></tr><tr><td>83</td><td>3</td><td>27</td><td>-2.1579473</td></tr><tr><td>83</td><td>1</td><td>28</td><td>-0.92693096</td></tr><tr><td>68</td><td>1</td><td>2</td><td>0.9871751</td></tr><tr><td>71</td><td>3</td><td>2</td><td>-1.4134448</td></tr><tr><td>71</td><td>1</td><td>4</td><td>1.3465319</td></tr><tr><td>71</td><td>2</td><td>6</td><td>0.7952625</td></tr><tr><td>68</td><td>1</td><td>10</td><td>-2.3431232</td></tr><tr><td>68</td><td>1</td><td>14</td><td>2.4626176</td></tr><tr><td>68</td><td>3</td><td>23</td><td>3.071702</td></tr><tr><td>71</td><td>1</td><td>24</td><td>1.0057722</td></tr><tr><td>71</td><td>1</td><td>26</td><td>1.3975878</td></tr><tr><td>68</td><td>1</td><td>27</td><td>0.17585309</td></tr><tr><td>14</td><td>1</td><td>3</td><td>0.67079407</td></tr><tr><td>14</td><td>2</td><td>4</td><td>1.9508457</td></tr><tr><td>14</td><td>3</td><td>9</td><td>0.75268507</td></tr><tr><td>14</td><td>3</td><td>21</td><td>1.7248838</td></tr><tr><td>42</td><td>1</td><td>18</td><td>-1.2390635</td></tr><tr><td>42</td><td>1</td><td>24</td><td>0.11563784</td></tr><tr><td>79</td><td>1</td><td>5</td><td>3.1328263</td></tr><tr><td>79</td><td>1</td><td>6</td><td>0.6834347</td></tr><tr><td>79</td><td>1</td><td>10</td><td>-0.6197084</td></tr><tr><td>2</td><td>1</td><td>12</td><td>1.7221045</td></tr><tr><td>79</td><td>1</td><td>15</td><td>0.51709557</td></tr><tr><td>2</td><td>1</td><td>16</td><td>3.0674157</td></tr><tr><td>2</td><td>4</td><td>21</td><td>0.25122827</td></tr><tr><td>2</td><td>4</td><td>28</td><td>-1.2121646</td></tr><tr><td>30</td><td>1</td><td>0</td><td>0.218249</td></tr><tr><td>99</td><td>1</td><td>5</td><td>0.81683254</td></tr><tr><td>30</td><td>1</td><td>6</td><td>2.2633975</td></tr><tr><td>30</td><td>1</td><td>7</td><td>2.0708585</td></tr><tr><td>30</td><td>5</td><td>11</td><td>2.9135804</td></tr><tr><td>99</td><td>2</td><td>18</td><td>0.7196107</td></tr><tr><td>99</td><td>1</td><td>21</td><td>0.89410305</td></tr><tr><td>66</td><td>1</td><td>7</td><td>1.146622</td></tr><tr><td>66</td><td>1</td><td>10</td><td>1.6894377</td></tr><tr><td>66</td><td>3</td><td>12</td><td>1.778079</td></tr><tr><td>66</td><td>1</td><td>22</td><td>1.4057239</td></tr><tr><td>66</td><td>1</td><td>24</td><td>-2.7666767</td></tr><tr><td>67</td><td>1</td><td>0</td><td>1.3404151</td></tr><tr><td>67</td><td>1</td><td>3</td><td>-0.66284215</td></tr><tr><td>67</td><td>2</td><td>4</td><td>-0.04756394</td></tr><tr><td>67</td><td>3</td><td>6</td><td>1.8693482</td></tr><tr><td>67</td><td>3</td><td>7</td><td>0.94159406</td></tr><tr><td>67</td><td>3</td><td>14</td><td>1.7639513</td></tr><tr><td>46</td><td>1</td><td>21</td><td>3.0805</td></tr><tr><td>67</td><td>2</td><td>25</td><td>2.1946228</td></tr><tr><td>0</td><td>1</td><td>8</td><td>1.0182755</td></tr><tr><td>0</td><td>1</td><td>15</td><td>3.0446653</td></tr><tr><td>18</td><td>1</td><td>6</td><td>2.205581</td></tr><tr><td>18</td><td>5</td><td>11</td><td>1.039443</td></tr><tr><td>18</td><td>1</td><td>18</td><td>4.5690193</td></tr><tr><td>18</td><td>3</td><td>22</td><td>4.5502434</td></tr><tr><td>74</td><td>1</td><td>5</td><td>0.9963622</td></tr><tr><td>74</td><td>1</td><td>15</td><td>0.57221806</td></tr><tr><td>74</td><td>3</td><td>19</td><td>1.1738538</td></tr><tr><td>74</td><td>1</td><td>25</td><td>-0.9532492</td></tr><tr><td>36</td><td>1</td><td>8</td><td>-0.23087214</td></tr><tr><td>36</td><td>1</td><td>10</td><td>0.63403225</td></tr><tr><td>36</td><td>1</td><td>15</td><td>-0.30873448</td></tr><tr><td>36</td><td>1</td><td>16</td><td>0.62822527</td></tr><tr><td>36</td><td>3</td><td>23</td><td>2.1742408</td></tr><tr><td>36</td><td>1</td><td>28</td><td>-2.3469553</td></tr><tr><td>89</td><td>2</td><td>4</td><td>2.1660872</td></tr><tr><td>89</td><td>1</td><td>24</td><td>-3.8015783</td></tr></tbody></table></div>"
      ]
     },
     "metadata": {
      "application/vnd.databricks.v1+output": {
       "addedWidgets": {},
       "aggData": [],
       "aggError": "",
       "aggOverflow": false,
       "aggSchema": [],
       "aggSeriesLimitReached": false,
       "aggType": "",
       "arguments": {},
       "columnCustomDisplayInfos": {},
       "data": [
        [
         31,
         1,
         4,
         5.1812396
        ],
        [
         31,
         3,
         14,
         3.7451963
        ],
        [
         31,
         1,
         29,
         0.3347944
        ],
        [
         85,
         3,
         1,
         0.06412296
        ],
        [
         85,
         1,
         4,
         1.9018631
        ],
        [
         85,
         1,
         5,
         1.3831215
        ],
        [
         85,
         3,
         6,
         3.5036194
        ],
        [
         85,
         5,
         8,
         3.0272744
        ],
        [
         85,
         3,
         21,
         1.1056397
        ],
        [
         85,
         1,
         26,
         2.3982472
        ],
        [
         85,
         1,
         28,
         0.7799537
        ],
        [
         85,
         1,
         29,
         0.84408426
        ],
        [
         65,
         2,
         15,
         0.4652623
        ],
        [
         65,
         1,
         16,
         2.3995366
        ],
        [
         65,
         1,
         22,
         2.529108
        ],
        [
         65,
         5,
         23,
         1.1731257
        ],
        [
         53,
         1,
         6,
         2.2991433
        ],
        [
         53,
         1,
         9,
         3.1619062
        ],
        [
         53,
         1,
         12,
         1.3129117
        ],
        [
         53,
         3,
         14,
         3.3228993
        ],
        [
         53,
         5,
         21,
         2.2306564
        ],
        [
         78,
         1,
         17,
         1.1533483
        ],
        [
         78,
         1,
         22,
         0.63363147
        ],
        [
         34,
         3,
         3,
         -0.557448
        ],
        [
         34,
         1,
         15,
         0.63822573
        ],
        [
         34,
         1,
         19,
         0.5166547
        ],
        [
         81,
         2,
         5,
         2.0759706
        ],
        [
         81,
         1,
         6,
         -0.7558234
        ],
        [
         81,
         1,
         15,
         3.649635
        ],
        [
         81,
         1,
         16,
         1.6647035
        ],
        [
         81,
         1,
         19,
         2.4930098
        ],
        [
         28,
         1,
         2,
         4.058427
        ],
        [
         28,
         1,
         14,
         2.071507
        ],
        [
         28,
         1,
         17,
         0.8012647
        ],
        [
         28,
         1,
         27,
         1.6177555
        ],
        [
         76,
         3,
         7,
         2.4037466
        ],
        [
         76,
         1,
         19,
         0.5018423
        ],
        [
         27,
         1,
         5,
         3.086042
        ],
        [
         27,
         5,
         11,
         3.0407107
        ],
        [
         27,
         5,
         12,
         1.8438581
        ],
        [
         27,
         1,
         15,
         0.3947298
        ],
        [
         26,
         1,
         18,
         -0.3722986
        ],
        [
         26,
         1,
         20,
         1.4492807
        ],
        [
         26,
         1,
         23,
         -0.14686936
        ],
        [
         27,
         1,
         26,
         1.291649
        ],
        [
         27,
         1,
         28,
         -2.3338025
        ],
        [
         44,
         1,
         13,
         0.818265
        ],
        [
         44,
         3,
         27,
         1.4844759
        ],
        [
         44,
         1,
         28,
         -0.13329917
        ],
        [
         12,
         3,
         2,
         1.4500374
        ],
        [
         12,
         1,
         9,
         1.7308042
        ],
        [
         12,
         1,
         16,
         -1.5612333
        ],
        [
         12,
         1,
         20,
         2.2312198
        ],
        [
         12,
         1,
         23,
         -1.0629741
        ],
        [
         91,
         1,
         3,
         0.47022134
        ],
        [
         91,
         1,
         16,
         1.3175294
        ],
        [
         91,
         3,
         17,
         1.8234088
        ],
        [
         91,
         1,
         26,
         1.1399798
        ],
        [
         22,
         1,
         2,
         -1.8056834
        ],
        [
         22,
         1,
         4,
         0.18125671
        ],
        [
         22,
         1,
         11,
         2.8532543
        ],
        [
         22,
         2,
         12,
         -0.5101943
        ],
        [
         22,
         4,
         17,
         1.2455963
        ],
        [
         22,
         1,
         21,
         1.2174922
        ],
        [
         22,
         5,
         22,
         3.9230914
        ],
        [
         22,
         2,
         27,
         1.6290054
        ],
        [
         22,
         3,
         29,
         2.650711
        ],
        [
         93,
         1,
         1,
         3.9504511
        ],
        [
         93,
         1,
         19,
         0.980143
        ],
        [
         93,
         1,
         27,
         0.82334274
        ],
        [
         47,
         1,
         1,
         -0.6347406
        ],
        [
         47,
         1,
         18,
         -2.8215575
        ],
        [
         47,
         1,
         24,
         0.78137755
        ],
        [
         47,
         1,
         26,
         -1.379572
        ],
        [
         1,
         1,
         3,
         0.5933194
        ],
        [
         1,
         1,
         7,
         -1.0454448
        ],
        [
         1,
         1,
         14,
         0.28957838
        ],
        [
         1,
         1,
         19,
         0.79232156
        ],
        [
         1,
         1,
         20,
         2.6555798
        ],
        [
         52,
         1,
         5,
         -0.37381607
        ],
        [
         52,
         1,
         12,
         0.017479002
        ],
        [
         52,
         1,
         15,
         0.7834157
        ],
        [
         13,
         1,
         1,
         -1.9798146
        ],
        [
         13,
         3,
         5,
         3.5343354
        ],
        [
         13,
         1,
         14,
         -1.767714
        ],
        [
         13,
         1,
         18,
         0.8947824
        ],
        [
         13,
         1,
         22,
         2.1018126
        ],
        [
         16,
         1,
         1,
         0.61677444
        ],
        [
         86,
         2,
         1,
         -0.06172772
        ],
        [
         16,
         1,
         3,
         1.2312477
        ],
        [
         86,
         1,
         6,
         0.60267735
        ],
        [
         86,
         1,
         7,
         0.17798814
        ],
        [
         6,
         2,
         11,
         -0.8138972
        ],
        [
         6,
         1,
         13,
         1.810442
        ],
        [
         6,
         1,
         18,
         0.8548824
        ],
        [
         16,
         1,
         26,
         1.0151817
        ],
        [
         6,
         1,
         28,
         0.45491618
        ],
        [
         3,
         2,
         8,
         1.3690543
        ],
        [
         3,
         1,
         9,
         0.67634547
        ],
        [
         3,
         1,
         13,
         0.756087
        ],
        [
         3,
         3,
         14,
         1.4173228
        ],
        [
         3,
         2,
         22,
         0.5716184
        ],
        [
         3,
         1,
         26,
         0.17984703
        ],
        [
         3,
         1,
         29,
         0.29128912
        ],
        [
         40,
         4,
         2,
         3.9705822
        ],
        [
         40,
         2,
         8,
         2.4802155
        ],
        [
         20,
         1,
         13,
         0.14971545
        ],
        [
         20,
         1,
         14,
         1.6284821
        ],
        [
         40,
         1,
         14,
         1.8141563
        ],
        [
         40,
         1,
         20,
         -0.6209054
        ],
        [
         40,
         1,
         24,
         -1.670952
        ],
        [
         40,
         1,
         25,
         2.86377
        ],
        [
         20,
         1,
         26,
         -0.48210067
        ],
        [
         40,
         1,
         27,
         1.6765988
        ],
        [
         94,
         1,
         0,
         0.4554023
        ],
        [
         94,
         2,
         1,
         -0.46154448
        ],
        [
         94,
         1,
         6,
         0.6065878
        ],
        [
         94,
         2,
         11,
         2.9281025
        ],
        [
         94,
         4,
         12,
         1.1910996
        ],
        [
         94,
         2,
         24,
         2.9923992
        ],
        [
         57,
         1,
         12,
         1.4943676
        ],
        [
         57,
         1,
         16,
         3.4106226
        ],
        [
         57,
         1,
         17,
         0.28071484
        ],
        [
         57,
         2,
         20,
         1.6563978
        ],
        [
         57,
         3,
         28,
         -0.7074373
        ],
        [
         54,
         1,
         1,
         -0.9921343
        ],
        [
         54,
         1,
         12,
         -0.13445707
        ],
        [
         54,
         1,
         14,
         -0.4692842
        ],
        [
         54,
         1,
         21,
         1.4517696
        ],
        [
         96,
         1,
         4,
         3.2419991
        ],
        [
         96,
         1,
         7,
         1.999315
        ],
        [
         96,
         4,
         14,
         3.3380747
        ],
        [
         96,
         3,
         16,
         0.63111985
        ],
        [
         96,
         1,
         19,
         1.5934241
        ],
        [
         48,
         3,
         5,
         2.1588721
        ],
        [
         48,
         1,
         6,
         0.61846876
        ],
        [
         48,
         1,
         14,
         1.194028
        ],
        [
         48,
         2,
         15,
         1.3249551
        ],
        [
         48,
         1,
         16,
         -0.15200943
        ],
        [
         48,
         5,
         23,
         2.1628814
        ],
        [
         48,
         1,
         26,
         1.1341357
        ],
        [
         5,
         2,
         0,
         0.89577544
        ],
        [
         5,
         1,
         6,
         1.462761
        ],
        [
         5,
         1,
         8,
         1.5457826
        ],
        [
         5,
         1,
         13,
         0.93315655
        ],
        [
         5,
         2,
         15,
         0.3664655
        ],
        [
         5,
         2,
         18,
         0.86840296
        ],
        [
         19,
         1,
         1,
         -0.13683116
        ],
        [
         19,
         1,
         3,
         -0.23232767
        ],
        [
         19,
         2,
         15,
         1.1318078
        ],
        [
         19,
         1,
         24,
         -3.1186721
        ],
        [
         19,
         3,
         29,
         0.20465128
        ],
        [
         92,
         4,
         0,
         1.3153939
        ],
        [
         92,
         2,
         7,
         2.3891535
        ],
        [
         92,
         2,
         8,
         3.7498167
        ],
        [
         92,
         1,
         17,
         -0.4090791
        ],
        [
         92,
         1,
         24,
         1.8390044
        ],
        [
         64,
         1,
         0,
         1.39248
        ],
        [
         64,
         1,
         2,
         -2.4338844
        ],
        [
         64,
         3,
         5,
         1.8554456
        ],
        [
         64,
         1,
         8,
         -0.56281936
        ],
        [
         64,
         3,
         9,
         2.7431045
        ],
        [
         64,
         5,
         12,
         2.8715816
        ],
        [
         64,
         1,
         21,
         1.7546558
        ],
        [
         41,
         2,
         0,
         1.2382064
        ],
        [
         41,
         4,
         4,
         0.43374938
        ],
        [
         41,
         1,
         19,
         0.2968083
        ],
        [
         15,
         1,
         0,
         1.476532
        ],
        [
         15,
         2,
         2,
         -0.9948424
        ],
        [
         43,
         1,
         3,
         1.2327788
        ],
        [
         15,
         1,
         4,
         1.1223264
        ],
        [
         43,
         2,
         4,
         -0.98352885
        ],
        [
         43,
         4,
         6,
         0.479663
        ],
        [
         43,
         3,
         9,
         1.9618331
        ],
        [
         15,
         1,
         16,
         0.5433147
        ],
        [
         15,
         1,
         18,
         -2.1334484
        ],
        [
         43,
         1,
         19,
         1.3764967
        ],
        [
         43,
         3,
         21,
         -0.055071756
        ],
        [
         15,
         1,
         28,
         0.17639983
        ],
        [
         37,
         1,
         3,
         0.043445554
        ],
        [
         37,
         2,
         7,
         2.503141
        ],
        [
         37,
         2,
         11,
         0.85547
        ],
        [
         37,
         1,
         15,
         -0.42325675
        ],
        [
         37,
         1,
         19,
         1.0185417
        ],
        [
         37,
         1,
         24,
         -0.84664893
        ],
        [
         61,
         1,
         2,
         0.45261893
        ],
        [
         61,
         1,
         26,
         0.48423028
        ],
        [
         88,
         2,
         1,
         -0.08538533
        ],
        [
         88,
         1,
         2,
         0.4808402
        ],
        [
         88,
         2,
         13,
         1.6411856
        ],
        [
         88,
         2,
         24,
         0.99148625
        ],
        [
         17,
         1,
         0,
         3.1057832
        ],
        [
         17,
         1,
         14,
         0.914699
        ],
        [
         17,
         2,
         15,
         1.1322061
        ],
        [
         17,
         1,
         21,
         0.5022905
        ],
        [
         9,
         1,
         25,
         1.037591
        ],
        [
         17,
         1,
         25,
         3.498805
        ],
        [
         9,
         1,
         27,
         -1.895808
        ],
        [
         72,
         1,
         5,
         0.42559063
        ],
        [
         72,
         3,
         11,
         -2.309516
        ],
        [
         72,
         1,
         19,
         0.54435706
        ],
        [
         35,
         1,
         4,
         3.627423
        ],
        [
         35,
         1,
         7,
         0.8792975
        ],
        [
         35,
         3,
         11,
         -0.20289096
        ],
        [
         35,
         2,
         17,
         1.1726139
        ],
        [
         59,
         2,
         0,
         -0.7261018
        ],
        [
         59,
         1,
         2,
         0.5211038
        ],
        [
         55,
         1,
         4,
         0.19351989
        ],
        [
         4,
         1,
         7,
         -0.058984663
        ],
        [
         4,
         1,
         9,
         3.341565
        ],
        [
         59,
         1,
         9,
         1.0540472
        ],
        [
         4,
         1,
         12,
         0.0801456
        ],
        [
         4,
         1,
         19,
         0.87491417
        ],
        [
         55,
         1,
         20,
         -0.43432224
        ],
        [
         4,
         1,
         24,
         0.98822755
        ],
        [
         59,
         4,
         24,
         -0.846004
        ],
        [
         4,
         4,
         26,
         0.7003209
        ],
        [
         59,
         1,
         27,
         2.430183
        ],
        [
         59,
         1,
         29,
         0.58650494
        ],
        [
         8,
         1,
         4,
         1.9209797
        ],
        [
         8,
         1,
         10,
         1.4396125
        ],
        [
         23,
         1,
         0,
         1.3948448
        ],
        [
         39,
         1,
         5,
         0.7158253
        ],
        [
         39,
         1,
         10,
         -0.8407857
        ],
        [
         23,
         1,
         19,
         2.888854
        ],
        [
         23,
         3,
         28,
         2.2116406
        ],
        [
         39,
         2,
         28,
         2.1316679
        ],
        [
         49,
         1,
         6,
         1.3771461
        ],
        [
         49,
         1,
         7,
         0.24900301
        ],
        [
         49,
         1,
         13,
         2.9190633
        ],
        [
         49,
         1,
         16,
         0.35699522
        ],
        [
         49,
         1,
         24,
         -0.70697755
        ],
        [
         49,
         4,
         28,
         -1.5959792
        ],
        [
         7,
         1,
         10,
         3.1002626
        ],
        [
         7,
         3,
         12,
         4.6261554
        ],
        [
         7,
         1,
         14,
         1.6161635
        ],
        [
         7,
         1,
         25,
         2.146635
        ],
        [
         7,
         1,
         28,
         -2.5110884
        ],
        [
         7,
         2,
         29,
         3.3267024
        ],
        [
         84,
         1,
         6,
         2.1352913
        ],
        [
         84,
         1,
         18,
         -1.1320555
        ],
        [
         84,
         1,
         21,
         0.8057871
        ],
        [
         84,
         1,
         22,
         1.5016403
        ],
        [
         87,
         3,
         4,
         2.2542744
        ],
        [
         87,
         2,
         13,
         2.4337404
        ],
        [
         87,
         1,
         15,
         3.6474009
        ],
        [
         87,
         2,
         19,
         3.1540015
        ],
        [
         87,
         3,
         22,
         1.3624448
        ],
        [
         87,
         1,
         24,
         -0.25964105
        ],
        [
         51,
         1,
         0,
         0.97114104
        ],
        [
         51,
         5,
         3,
         3.7056913
        ],
        [
         51,
         1,
         5,
         2.2298777
        ],
        [
         51,
         1,
         13,
         0.531092
        ],
        [
         51,
         1,
         14,
         0.91322637
        ],
        [
         51,
         3,
         27,
         1.260559
        ],
        [
         69,
         1,
         17,
         4.3227997
        ],
        [
         69,
         2,
         19,
         -0.28303915
        ],
        [
         69,
         4,
         22,
         3.230492
        ],
        [
         69,
         1,
         29,
         2.5487564
        ],
        [
         97,
         1,
         7,
         0.1359946
        ],
        [
         97,
         1,
         8,
         0.16178928
        ],
        [
         97,
         1,
         10,
         -0.45834282
        ],
        [
         97,
         1,
         15,
         0.7438589
        ],
        [
         97,
         1,
         17,
         1.4111739
        ],
        [
         97,
         1,
         18,
         1.7953869
        ],
        [
         97,
         1,
         20,
         0.021551302
        ],
        [
         97,
         1,
         23,
         0.8650398
        ],
        [
         97,
         2,
         25,
         2.6322842
        ],
        [
         63,
         1,
         10,
         1.8486633
        ],
        [
         63,
         2,
         13,
         2.6011539
        ],
        [
         63,
         1,
         17,
         2.2649314
        ],
        [
         63,
         1,
         19,
         2.0850601
        ],
        [
         10,
         1,
         2,
         0.2970047
        ],
        [
         77,
         1,
         7,
         0.52196676
        ],
        [
         77,
         4,
         24,
         4.6594133
        ],
        [
         10,
         3,
         29,
         3.1550455
        ],
        [
         50,
         1,
         0,
         2.1353655
        ],
        [
         50,
         1,
         4,
         1.0048249
        ],
        [
         50,
         3,
         5,
         3.3136294
        ],
        [
         50,
         1,
         6,
         0.23896043
        ],
        [
         50,
         1,
         10,
         0.33124918
        ],
        [
         50,
         1,
         25,
         2.4803796
        ],
        [
         50,
         2,
         26,
         2.9450505
        ],
        [
         45,
         1,
         4,
         0.47174883
        ],
        [
         45,
         2,
         7,
         1.3086331
        ],
        [
         45,
         1,
         8,
         1.7409263
        ],
        [
         45,
         1,
         13,
         0.9986818
        ],
        [
         45,
         1,
         14,
         0.8927187
        ],
        [
         45,
         1,
         17,
         -0.017502546
        ],
        [
         45,
         1,
         21,
         -0.26072043
        ],
        [
         45,
         1,
         27,
         -0.17861012
        ],
        [
         38,
         1,
         9,
         3.7780738
        ],
        [
         38,
         1,
         12,
         -0.42190647
        ],
        [
         38,
         1,
         23,
         2.1864667
        ],
        [
         38,
         2,
         28,
         -5.2342353
        ],
        [
         82,
         1,
         11,
         0.9870268
        ],
        [
         82,
         2,
         12,
         2.830562
        ],
        [
         82,
         1,
         19,
         1.6342838
        ],
        [
         82,
         2,
         23,
         1.3826101
        ],
        [
         82,
         1,
         27,
         0.05995296
        ],
        [
         80,
         1,
         2,
         1.3053306
        ],
        [
         80,
         4,
         3,
         1.0285888
        ],
        [
         80,
         3,
         22,
         1.5257238
        ],
        [
         80,
         1,
         24,
         -1.3318096
        ],
        [
         80,
         3,
         27,
         2.0261276
        ],
        [
         25,
         1,
         9,
         0.35241374
        ],
        [
         25,
         3,
         10,
         5.439894
        ],
        [
         25,
         1,
         11,
         -0.6081098
        ],
        [
         73,
         1,
         13,
         1.8021281
        ],
        [
         25,
         1,
         18,
         -4.4782004
        ],
        [
         25,
         1,
         23,
         -0.27415103
        ],
        [
         73,
         3,
         23,
         3.0563421
        ],
        [
         25,
         1,
         27,
         1.3814554
        ],
        [
         25,
         1,
         29,
         -0.5568261
        ],
        [
         24,
         5,
         26,
         3.5949743
        ],
        [
         24,
         2,
         27,
         0.5533473
        ],
        [
         24,
         3,
         28,
         -0.92725605
        ],
        [
         70,
         4,
         4,
         0.34691787
        ],
        [
         70,
         1,
         11,
         0.24200886
        ],
        [
         70,
         1,
         18,
         2.427191
        ],
        [
         70,
         2,
         20,
         1.33902
        ],
        [
         70,
         3,
         22,
         0.6990407
        ],
        [
         70,
         1,
         25,
         0.21474056
        ],
        [
         62,
         4,
         14,
         4.783495
        ],
        [
         95,
         2,
         5,
         0.8961134
        ],
        [
         95,
         2,
         6,
         1.7777637
        ],
        [
         95,
         3,
         9,
         2.637432
        ],
        [
         95,
         2,
         22,
         -0.24306041
        ],
        [
         95,
         1,
         26,
         -0.85261
        ],
        [
         95,
         1,
         27,
         1.5160632
        ],
        [
         29,
         4,
         4,
         4.7325673
        ],
        [
         29,
         5,
         8,
         4.826799
        ],
        [
         29,
         1,
         18,
         0.9123383
        ],
        [
         29,
         3,
         22,
         4.570286
        ],
        [
         29,
         1,
         23,
         2.123685
        ],
        [
         29,
         1,
         25,
         -0.6833464
        ],
        [
         21,
         1,
         9,
         1.625035
        ],
        [
         21,
         1,
         13,
         1.8733144
        ],
        [
         21,
         2,
         20,
         0.7351726
        ],
        [
         21,
         1,
         21,
         -0.4947272
        ],
        [
         98,
         1,
         10,
         1.0055251
        ],
        [
         98,
         2,
         12,
         0.6017496
        ],
        [
         98,
         1,
         14,
         0.49581695
        ],
        [
         98,
         4,
         19,
         1.823392
        ],
        [
         90,
         4,
         5,
         3.6912825
        ],
        [
         60,
         3,
         8,
         1.3304657
        ],
        [
         90,
         1,
         8,
         2.7635117
        ],
        [
         32,
         4,
         9,
         2.7947927
        ],
        [
         32,
         5,
         11,
         1.3580883
        ],
        [
         32,
         4,
         19,
         2.661968
        ],
        [
         32,
         4,
         22,
         1.3385693
        ],
        [
         60,
         1,
         23,
         1.3284696
        ],
        [
         90,
         1,
         28,
         -1.7093283
        ],
        [
         90,
         4,
         29,
         5.086671
        ],
        [
         75,
         1,
         6,
         1.6897851
        ],
        [
         75,
         1,
         9,
         1.2489148
        ],
        [
         75,
         3,
         11,
         1.8905001
        ],
        [
         75,
         1,
         12,
         0.02650112
        ],
        [
         75,
         1,
         18,
         1.5107276
        ],
        [
         56,
         1,
         3,
         0.63699734
        ],
        [
         56,
         2,
         16,
         0.83431435
        ],
        [
         56,
         1,
         18,
         1.8615844
        ],
        [
         56,
         2,
         19,
         0.8397639
        ],
        [
         56,
         2,
         22,
         0.9584671
        ],
        [
         56,
         1,
         28,
         -2.3640969
        ],
        [
         58,
         1,
         3,
         2.3750513
        ],
        [
         58,
         1,
         15,
         0.76635766
        ],
        [
         58,
         1,
         19,
         0.95705944
        ],
        [
         11,
         1,
         11,
         -0.030736983
        ],
        [
         33,
         1,
         17,
         2.92287
        ],
        [
         11,
         4,
         18,
         -0.30593646
        ],
        [
         33,
         1,
         24,
         0.35305
        ],
        [
         33,
         3,
         27,
         1.9735435
        ],
        [
         83,
         1,
         0,
         0.7738819
        ],
        [
         83,
         1,
         8,
         2.7373135
        ],
        [
         83,
         1,
         14,
         2.615353
        ],
        [
         83,
         3,
         27,
         -2.1579473
        ],
        [
         83,
         1,
         28,
         -0.92693096
        ],
        [
         68,
         1,
         2,
         0.9871751
        ],
        [
         71,
         3,
         2,
         -1.4134448
        ],
        [
         71,
         1,
         4,
         1.3465319
        ],
        [
         71,
         2,
         6,
         0.7952625
        ],
        [
         68,
         1,
         10,
         -2.3431232
        ],
        [
         68,
         1,
         14,
         2.4626176
        ],
        [
         68,
         3,
         23,
         3.071702
        ],
        [
         71,
         1,
         24,
         1.0057722
        ],
        [
         71,
         1,
         26,
         1.3975878
        ],
        [
         68,
         1,
         27,
         0.17585309
        ],
        [
         14,
         1,
         3,
         0.67079407
        ],
        [
         14,
         2,
         4,
         1.9508457
        ],
        [
         14,
         3,
         9,
         0.75268507
        ],
        [
         14,
         3,
         21,
         1.7248838
        ],
        [
         42,
         1,
         18,
         -1.2390635
        ],
        [
         42,
         1,
         24,
         0.11563784
        ],
        [
         79,
         1,
         5,
         3.1328263
        ],
        [
         79,
         1,
         6,
         0.6834347
        ],
        [
         79,
         1,
         10,
         -0.6197084
        ],
        [
         2,
         1,
         12,
         1.7221045
        ],
        [
         79,
         1,
         15,
         0.51709557
        ],
        [
         2,
         1,
         16,
         3.0674157
        ],
        [
         2,
         4,
         21,
         0.25122827
        ],
        [
         2,
         4,
         28,
         -1.2121646
        ],
        [
         30,
         1,
         0,
         0.218249
        ],
        [
         99,
         1,
         5,
         0.81683254
        ],
        [
         30,
         1,
         6,
         2.2633975
        ],
        [
         30,
         1,
         7,
         2.0708585
        ],
        [
         30,
         5,
         11,
         2.9135804
        ],
        [
         99,
         2,
         18,
         0.7196107
        ],
        [
         99,
         1,
         21,
         0.89410305
        ],
        [
         66,
         1,
         7,
         1.146622
        ],
        [
         66,
         1,
         10,
         1.6894377
        ],
        [
         66,
         3,
         12,
         1.778079
        ],
        [
         66,
         1,
         22,
         1.4057239
        ],
        [
         66,
         1,
         24,
         -2.7666767
        ],
        [
         67,
         1,
         0,
         1.3404151
        ],
        [
         67,
         1,
         3,
         -0.66284215
        ],
        [
         67,
         2,
         4,
         -0.04756394
        ],
        [
         67,
         3,
         6,
         1.8693482
        ],
        [
         67,
         3,
         7,
         0.94159406
        ],
        [
         67,
         3,
         14,
         1.7639513
        ],
        [
         46,
         1,
         21,
         3.0805
        ],
        [
         67,
         2,
         25,
         2.1946228
        ],
        [
         0,
         1,
         8,
         1.0182755
        ],
        [
         0,
         1,
         15,
         3.0446653
        ],
        [
         18,
         1,
         6,
         2.205581
        ],
        [
         18,
         5,
         11,
         1.039443
        ],
        [
         18,
         1,
         18,
         4.5690193
        ],
        [
         18,
         3,
         22,
         4.5502434
        ],
        [
         74,
         1,
         5,
         0.9963622
        ],
        [
         74,
         1,
         15,
         0.57221806
        ],
        [
         74,
         3,
         19,
         1.1738538
        ],
        [
         74,
         1,
         25,
         -0.9532492
        ],
        [
         36,
         1,
         8,
         -0.23087214
        ],
        [
         36,
         1,
         10,
         0.63403225
        ],
        [
         36,
         1,
         15,
         -0.30873448
        ],
        [
         36,
         1,
         16,
         0.62822527
        ],
        [
         36,
         3,
         23,
         2.1742408
        ],
        [
         36,
         1,
         28,
         -2.3469553
        ],
        [
         89,
         2,
         4,
         2.1660872
        ],
        [
         89,
         1,
         24,
         -3.8015783
        ]
       ],
       "datasetInfos": [
        {
         "name": "predictions1",
         "schema": {
          "fields": [
           {
            "metadata": {},
            "name": "movieId",
            "nullable": true,
            "type": "integer"
           },
           {
            "metadata": {},
            "name": "rating",
            "nullable": true,
            "type": "integer"
           },
           {
            "metadata": {},
            "name": "userId",
            "nullable": true,
            "type": "integer"
           },
           {
            "metadata": {},
            "name": "prediction",
            "nullable": false,
            "type": "float"
           }
          ],
          "type": "struct"
         },
         "tableIdentifier": null,
         "typeStr": "pyspark.sql.dataframe.DataFrame"
        }
       ],
       "dbfsResultPath": null,
       "isJsonSchema": true,
       "metadata": {},
       "overflow": false,
       "plotOptions": {
        "customPlotOptions": {},
        "displayType": "table",
        "pivotAggregation": null,
        "pivotColumns": null,
        "xColumns": null,
        "yColumns": null
       },
       "removedWidgets": [],
       "schema": [
        {
         "metadata": "{}",
         "name": "movieId",
         "type": "\"integer\""
        },
        {
         "metadata": "{}",
         "name": "rating",
         "type": "\"integer\""
        },
        {
         "metadata": "{}",
         "name": "userId",
         "type": "\"integer\""
        },
        {
         "metadata": "{}",
         "name": "prediction",
         "type": "\"float\""
        }
       ],
       "type": "table"
      }
     },
     "output_type": "display_data"
    }
   ],
   "source": [
    "model1 = als.fit(training1)\n",
    "\n",
    "predictions1 = model1.transform(test1)\n",
    "display(predictions1)"
   ]
  },
  {
   "cell_type": "code",
   "execution_count": 0,
   "metadata": {
    "application/vnd.databricks.v1+cell": {
     "inputWidgets": {},
     "nuid": "888beece-00e0-4610-90a7-75141bd3967b",
     "showTitle": false,
     "title": ""
    }
   },
   "outputs": [
    {
     "data": {
      "text/html": [
       "<style scoped>\n",
       "  .table-result-container {\n",
       "    max-height: 300px;\n",
       "    overflow: auto;\n",
       "  }\n",
       "  table, th, td {\n",
       "    border: 1px solid black;\n",
       "    border-collapse: collapse;\n",
       "  }\n",
       "  th, td {\n",
       "    padding: 5px;\n",
       "  }\n",
       "  th {\n",
       "    text-align: left;\n",
       "  }\n",
       "</style><div class='table-result-container'><table class='table-result'><thead style='background-color: white'><tr><th>movieId</th><th>rating</th><th>userId</th><th>prediction</th></tr></thead><tbody><tr><td>31</td><td>1</td><td>0</td><td>3.2766697</td></tr><tr><td>31</td><td>1</td><td>13</td><td>1.0848343</td></tr><tr><td>31</td><td>1</td><td>19</td><td>2.4677005</td></tr><tr><td>31</td><td>1</td><td>27</td><td>0.6288843</td></tr><tr><td>31</td><td>1</td><td>29</td><td>1.5578259</td></tr><tr><td>85</td><td>1</td><td>2</td><td>-1.682748</td></tr><tr><td>85</td><td>1</td><td>15</td><td>0.21277595</td></tr><tr><td>85</td><td>2</td><td>20</td><td>-0.12727948</td></tr><tr><td>85</td><td>3</td><td>21</td><td>1.8258545</td></tr><tr><td>65</td><td>1</td><td>2</td><td>1.866737</td></tr><tr><td>65</td><td>1</td><td>22</td><td>1.9465703</td></tr><tr><td>65</td><td>5</td><td>23</td><td>1.6858528</td></tr><tr><td>53</td><td>3</td><td>14</td><td>3.4094052</td></tr><tr><td>78</td><td>1</td><td>12</td><td>0.4210653</td></tr><tr><td>78</td><td>1</td><td>19</td><td>0.0866086</td></tr><tr><td>78</td><td>1</td><td>22</td><td>1.6739594</td></tr><tr><td>34</td><td>1</td><td>14</td><td>0.1757969</td></tr><tr><td>34</td><td>1</td><td>16</td><td>3.7124658</td></tr><tr><td>81</td><td>1</td><td>19</td><td>0.037758358</td></tr><tr><td>81</td><td>2</td><td>29</td><td>1.377817</td></tr><tr><td>28</td><td>1</td><td>23</td><td>1.3587472</td></tr><tr><td>76</td><td>3</td><td>3</td><td>2.7424846</td></tr><tr><td>76</td><td>5</td><td>14</td><td>0.9736012</td></tr><tr><td>76</td><td>1</td><td>19</td><td>2.2966394</td></tr><tr><td>76</td><td>1</td><td>20</td><td>0.38838807</td></tr><tr><td>76</td><td>1</td><td>26</td><td>-0.5330545</td></tr><tr><td>27</td><td>5</td><td>12</td><td>3.2968078</td></tr><tr><td>26</td><td>1</td><td>20</td><td>-0.28614712</td></tr><tr><td>27</td><td>3</td><td>27</td><td>1.5246313</td></tr><tr><td>44</td><td>1</td><td>4</td><td>0.84629476</td></tr><tr><td>44</td><td>2</td><td>12</td><td>-0.36924553</td></tr><tr><td>44</td><td>1</td><td>28</td><td>1.100265</td></tr><tr><td>12</td><td>1</td><td>1</td><td>-0.63905555</td></tr><tr><td>12</td><td>3</td><td>2</td><td>0.20969987</td></tr><tr><td>12</td><td>1</td><td>14</td><td>1.3917572</td></tr><tr><td>12</td><td>2</td><td>18</td><td>-0.66520214</td></tr><tr><td>12</td><td>3</td><td>25</td><td>-0.7133274</td></tr><tr><td>91</td><td>2</td><td>15</td><td>1.0980377</td></tr><tr><td>22</td><td>1</td><td>6</td><td>0.5533191</td></tr><tr><td>22</td><td>1</td><td>13</td><td>0.62351656</td></tr><tr><td>22</td><td>1</td><td>25</td><td>-0.8378506</td></tr><tr><td>22</td><td>3</td><td>29</td><td>1.1949208</td></tr><tr><td>93</td><td>1</td><td>27</td><td>3.2721093</td></tr><tr><td>93</td><td>1</td><td>29</td><td>1.7817068</td></tr><tr><td>47</td><td>1</td><td>1</td><td>1.2536538</td></tr><tr><td>47</td><td>3</td><td>16</td><td>-0.012615658</td></tr><tr><td>47</td><td>1</td><td>18</td><td>-1.5132613</td></tr><tr><td>1</td><td>1</td><td>4</td><td>0.56360364</td></tr><tr><td>1</td><td>1</td><td>28</td><td>5.072397</td></tr><tr><td>52</td><td>3</td><td>3</td><td>1.8281053</td></tr><tr><td>52</td><td>2</td><td>13</td><td>2.9738085</td></tr><tr><td>13</td><td>2</td><td>10</td><td>2.1518555</td></tr><tr><td>16</td><td>1</td><td>1</td><td>-1.5000501</td></tr><tr><td>16</td><td>1</td><td>3</td><td>-0.26756337</td></tr><tr><td>86</td><td>1</td><td>7</td><td>0.31558537</td></tr><tr><td>86</td><td>1</td><td>10</td><td>1.2967134</td></tr><tr><td>6</td><td>2</td><td>11</td><td>1.1621307</td></tr><tr><td>86</td><td>1</td><td>11</td><td>2.9784315</td></tr><tr><td>6</td><td>1</td><td>13</td><td>0.7447704</td></tr><tr><td>86</td><td>1</td><td>13</td><td>0.9302525</td></tr><tr><td>6</td><td>1</td><td>15</td><td>1.4799619</td></tr><tr><td>6</td><td>1</td><td>17</td><td>-0.27319783</td></tr><tr><td>6</td><td>2</td><td>19</td><td>-0.05388858</td></tr><tr><td>6</td><td>2</td><td>23</td><td>-0.036082894</td></tr><tr><td>6</td><td>3</td><td>26</td><td>2.053568</td></tr><tr><td>3</td><td>1</td><td>1</td><td>0.18201637</td></tr><tr><td>3</td><td>2</td><td>8</td><td>0.8970289</td></tr><tr><td>3</td><td>3</td><td>14</td><td>0.96904004</td></tr><tr><td>3</td><td>1</td><td>21</td><td>1.160011</td></tr><tr><td>20</td><td>1</td><td>6</td><td>0.5812179</td></tr><tr><td>40</td><td>1</td><td>11</td><td>0.7282906</td></tr><tr><td>40</td><td>2</td><td>13</td><td>-0.40308088</td></tr><tr><td>40</td><td>1</td><td>18</td><td>4.0903053</td></tr><tr><td>20</td><td>1</td><td>21</td><td>1.2844764</td></tr><tr><td>40</td><td>2</td><td>21</td><td>0.96016914</td></tr><tr><td>20</td><td>1</td><td>26</td><td>0.3614642</td></tr><tr><td>40</td><td>1</td><td>26</td><td>0.41300684</td></tr><tr><td>94</td><td>1</td><td>13</td><td>1.9566925</td></tr><tr><td>94</td><td>1</td><td>25</td><td>-0.89606667</td></tr><tr><td>57</td><td>1</td><td>27</td><td>1.1914057</td></tr><tr><td>54</td><td>1</td><td>0</td><td>1.8309292</td></tr><tr><td>54</td><td>1</td><td>12</td><td>2.427253</td></tr><tr><td>96</td><td>1</td><td>12</td><td>1.4786334</td></tr><tr><td>96</td><td>1</td><td>15</td><td>3.110323</td></tr><tr><td>96</td><td>3</td><td>16</td><td>1.4427044</td></tr><tr><td>96</td><td>1</td><td>19</td><td>2.1193357</td></tr><tr><td>48</td><td>1</td><td>14</td><td>0.6705924</td></tr><tr><td>48</td><td>1</td><td>21</td><td>0.21892655</td></tr><tr><td>48</td><td>1</td><td>26</td><td>1.1681226</td></tr><tr><td>5</td><td>1</td><td>9</td><td>1.6188201</td></tr><tr><td>5</td><td>3</td><td>16</td><td>1.6688843</td></tr><tr><td>5</td><td>2</td><td>22</td><td>0.9968585</td></tr><tr><td>19</td><td>1</td><td>0</td><td>0.6850265</td></tr><tr><td>19</td><td>2</td><td>15</td><td>-1.0451065</td></tr><tr><td>19</td><td>1</td><td>22</td><td>1.2937108</td></tr><tr><td>19</td><td>1</td><td>24</td><td>2.2141368</td></tr><tr><td>19</td><td>3</td><td>28</td><td>0.37146983</td></tr><tr><td>19</td><td>3</td><td>29</td><td>0.9239086</td></tr><tr><td>92</td><td>4</td><td>0</td><td>1.4756497</td></tr><tr><td>92</td><td>4</td><td>2</td><td>-0.55651647</td></tr><tr><td>92</td><td>1</td><td>27</td><td>0.755457</td></tr><tr><td>92</td><td>5</td><td>28</td><td>1.5416486</td></tr><tr><td>64</td><td>1</td><td>8</td><td>1.0113463</td></tr><tr><td>64</td><td>1</td><td>19</td><td>1.6743081</td></tr><tr><td>64</td><td>1</td><td>27</td><td>1.0708594</td></tr><tr><td>41</td><td>1</td><td>12</td><td>1.076123</td></tr><tr><td>15</td><td>1</td><td>0</td><td>0.73448366</td></tr><tr><td>15</td><td>1</td><td>3</td><td>0.1128882</td></tr><tr><td>15</td><td>2</td><td>6</td><td>0.8279992</td></tr><tr><td>15</td><td>1</td><td>14</td><td>1.2727718</td></tr><tr><td>43</td><td>1</td><td>19</td><td>-1.6683259</td></tr><tr><td>43</td><td>1</td><td>23</td><td>2.084475</td></tr><tr><td>15</td><td>1</td><td>29</td><td>1.2324393</td></tr><tr><td>37</td><td>5</td><td>2</td><td>0.1314483</td></tr><tr><td>37</td><td>2</td><td>9</td><td>-0.4382494</td></tr><tr><td>37</td><td>1</td><td>15</td><td>-0.10847661</td></tr><tr><td>37</td><td>1</td><td>17</td><td>-0.346412</td></tr><tr><td>37</td><td>1</td><td>23</td><td>0.5754285</td></tr><tr><td>37</td><td>1</td><td>24</td><td>1.6752253</td></tr><tr><td>61</td><td>1</td><td>11</td><td>2.9651737</td></tr><tr><td>61</td><td>1</td><td>20</td><td>-0.5094373</td></tr><tr><td>61</td><td>1</td><td>27</td><td>0.6350441</td></tr><tr><td>9</td><td>4</td><td>0</td><td>0.23488986</td></tr><tr><td>9</td><td>1</td><td>2</td><td>0.34810272</td></tr><tr><td>17</td><td>1</td><td>4</td><td>1.1714895</td></tr><tr><td>9</td><td>1</td><td>9</td><td>1.1290866</td></tr><tr><td>17</td><td>1</td><td>28</td><td>1.1979079</td></tr><tr><td>72</td><td>1</td><td>12</td><td>0.7917185</td></tr><tr><td>72</td><td>1</td><td>17</td><td>0.5650957</td></tr><tr><td>72</td><td>1</td><td>27</td><td>2.514676</td></tr><tr><td>35</td><td>1</td><td>3</td><td>0.2880249</td></tr><tr><td>35</td><td>2</td><td>15</td><td>3.4041667</td></tr><tr><td>59</td><td>2</td><td>0</td><td>0.38463014</td></tr><tr><td>4</td><td>3</td><td>2</td><td>1.666028</td></tr><tr><td>55</td><td>1</td><td>2</td><td>1.8708377</td></tr><tr><td>55</td><td>1</td><td>6</td><td>1.1009817</td></tr><tr><td>59</td><td>1</td><td>7</td><td>0.17949939</td></tr><tr><td>59</td><td>1</td><td>9</td><td>1.0894836</td></tr><tr><td>4</td><td>3</td><td>10</td><td>0.55204505</td></tr><tr><td>55</td><td>2</td><td>10</td><td>0.6736309</td></tr><tr><td>55</td><td>1</td><td>14</td><td>0.1776501</td></tr><tr><td>55</td><td>1</td><td>20</td><td>1.4032841</td></tr><tr><td>4</td><td>1</td><td>23</td><td>0.26418167</td></tr><tr><td>4</td><td>1</td><td>24</td><td>2.0369148</td></tr><tr><td>59</td><td>1</td><td>29</td><td>0.8005581</td></tr><tr><td>23</td><td>1</td><td>4</td><td>-0.048666988</td></tr><tr><td>23</td><td>1</td><td>7</td><td>-1.4609804</td></tr><tr><td>23</td><td>3</td><td>12</td><td>3.8943825</td></tr><tr><td>23</td><td>2</td><td>15</td><td>2.6488504</td></tr><tr><td>39</td><td>1</td><td>23</td><td>-2.2766068</td></tr><tr><td>49</td><td>1</td><td>6</td><td>2.5536754</td></tr><tr><td>49</td><td>1</td><td>14</td><td>2.2229578</td></tr><tr><td>7</td><td>3</td><td>3</td><td>0.7655857</td></tr><tr><td>7</td><td>1</td><td>25</td><td>0.40429556</td></tr><tr><td>84</td><td>2</td><td>7</td><td>1.8470669</td></tr><tr><td>84</td><td>1</td><td>9</td><td>0.8577742</td></tr><tr><td>84</td><td>1</td><td>19</td><td>0.7635449</td></tr><tr><td>84</td><td>1</td><td>21</td><td>1.0427423</td></tr><tr><td>84</td><td>1</td><td>24</td><td>0.35249737</td></tr><tr><td>51</td><td>3</td><td>27</td><td>3.0574589</td></tr><tr><td>69</td><td>1</td><td>0</td><td>0.34728408</td></tr><tr><td>69</td><td>5</td><td>11</td><td>2.3714173</td></tr><tr><td>69</td><td>4</td><td>22</td><td>0.57005805</td></tr><tr><td>69</td><td>1</td><td>23</td><td>1.9153289</td></tr><tr><td>97</td><td>3</td><td>11</td><td>2.2268355</td></tr><tr><td>97</td><td>1</td><td>17</td><td>1.6762706</td></tr><tr><td>97</td><td>1</td><td>23</td><td>2.035481</td></tr><tr><td>63</td><td>1</td><td>10</td><td>0.70920897</td></tr><tr><td>63</td><td>1</td><td>22</td><td>0.9294798</td></tr><tr><td>77</td><td>2</td><td>0</td><td>1.3402388</td></tr><tr><td>77</td><td>1</td><td>2</td><td>-1.1853327</td></tr><tr><td>10</td><td>1</td><td>7</td><td>1.5335008</td></tr><tr><td>77</td><td>1</td><td>12</td><td>3.0444698</td></tr><tr><td>10</td><td>1</td><td>14</td><td>0.93512523</td></tr><tr><td>10</td><td>4</td><td>23</td><td>3.6957924</td></tr><tr><td>77</td><td>1</td><td>23</td><td>3.6331685</td></tr><tr><td>50</td><td>3</td><td>5</td><td>3.1683156</td></tr><tr><td>45</td><td>2</td><td>0</td><td>0.70891917</td></tr><tr><td>45</td><td>1</td><td>4</td><td>0.62694216</td></tr><tr><td>45</td><td>2</td><td>24</td><td>0.78910816</td></tr><tr><td>45</td><td>2</td><td>26</td><td>1.0208392</td></tr><tr><td>38</td><td>5</td><td>18</td><td>2.2142572</td></tr><tr><td>82</td><td>1</td><td>11</td><td>1.8847346</td></tr><tr><td>82</td><td>4</td><td>28</td><td>1.2058427</td></tr><tr><td>80</td><td>1</td><td>15</td><td>0.7471332</td></tr><tr><td>80</td><td>1</td><td>16</td><td>2.3338473</td></tr><tr><td>80</td><td>3</td><td>18</td><td>2.2912357</td></tr><tr><td>25</td><td>5</td><td>6</td><td>0.3860908</td></tr><tr><td>73</td><td>1</td><td>6</td><td>2.3155355</td></tr><tr><td>25</td><td>5</td><td>7</td><td>1.5799752</td></tr><tr><td>25</td><td>1</td><td>9</td><td>0.048963413</td></tr><tr><td>73</td><td>1</td><td>13</td><td>0.36424097</td></tr><tr><td>25</td><td>2</td><td>14</td><td>-0.304264</td></tr><tr><td>25</td><td>1</td><td>22</td><td>1.4793274</td></tr><tr><td>25</td><td>1</td><td>23</td><td>0.11155371</td></tr><tr><td>73</td><td>1</td><td>25</td><td>0.12028615</td></tr><tr><td>24</td><td>1</td><td>4</td><td>1.5624623</td></tr><tr><td>24</td><td>1</td><td>14</td><td>0.5830013</td></tr><tr><td>24</td><td>1</td><td>21</td><td>2.1627014</td></tr><tr><td>24</td><td>2</td><td>27</td><td>1.485313</td></tr><tr><td>70</td><td>1</td><td>5</td><td>2.2816088</td></tr><tr><td>70</td><td>1</td><td>11</td><td>-0.61118263</td></tr><tr><td>70</td><td>1</td><td>17</td><td>1.6535476</td></tr><tr><td>70</td><td>1</td><td>27</td><td>0.3651966</td></tr><tr><td>62</td><td>1</td><td>3</td><td>1.1385583</td></tr><tr><td>62</td><td>1</td><td>15</td><td>-1.7505382</td></tr><tr><td>62</td><td>3</td><td>28</td><td>-1.4017086</td></tr><tr><td>95</td><td>2</td><td>6</td><td>2.0961163</td></tr><tr><td>95</td><td>3</td><td>9</td><td>2.0264757</td></tr><tr><td>95</td><td>2</td><td>16</td><td>2.3319478</td></tr><tr><td>95</td><td>2</td><td>17</td><td>1.5573664</td></tr><tr><td>95</td><td>1</td><td>25</td><td>1.8866841</td></tr><tr><td>29</td><td>1</td><td>0</td><td>1.8046144</td></tr><tr><td>29</td><td>3</td><td>3</td><td>2.3313758</td></tr><tr><td>29</td><td>5</td><td>14</td><td>4.7810597</td></tr><tr><td>29</td><td>4</td><td>16</td><td>3.4098475</td></tr><tr><td>29</td><td>2</td><td>20</td><td>3.452857</td></tr><tr><td>29</td><td>5</td><td>21</td><td>4.4622555</td></tr><tr><td>21</td><td>1</td><td>9</td><td>1.92737</td></tr><tr><td>21</td><td>1</td><td>10</td><td>1.9131325</td></tr><tr><td>21</td><td>1</td><td>13</td><td>0.28555858</td></tr><tr><td>21</td><td>2</td><td>16</td><td>3.6150706</td></tr><tr><td>21</td><td>1</td><td>21</td><td>1.0794772</td></tr><tr><td>98</td><td>1</td><td>0</td><td>1.0355932</td></tr><tr><td>98</td><td>1</td><td>4</td><td>2.3786235</td></tr><tr><td>98</td><td>1</td><td>10</td><td>2.2783885</td></tr><tr><td>98</td><td>1</td><td>13</td><td>0.89490956</td></tr><tr><td>98</td><td>1</td><td>14</td><td>-0.47164965</td></tr><tr><td>98</td><td>3</td><td>16</td><td>4.3537464</td></tr><tr><td>98</td><td>1</td><td>24</td><td>0.19770065</td></tr><tr><td>60</td><td>3</td><td>3</td><td>1.816483</td></tr><tr><td>60</td><td>1</td><td>12</td><td>-0.94959766</td></tr><tr><td>32</td><td>1</td><td>16</td><td>5.0207973</td></tr><tr><td>32</td><td>1</td><td>18</td><td>3.7391005</td></tr><tr><td>60</td><td>1</td><td>20</td><td>2.266219</td></tr><tr><td>60</td><td>3</td><td>22</td><td>2.1273525</td></tr><tr><td>60</td><td>1</td><td>23</td><td>-0.2840921</td></tr><tr><td>60</td><td>1</td><td>28</td><td>0.43028647</td></tr><tr><td>90</td><td>1</td><td>28</td><td>-4.0556045</td></tr><tr><td>32</td><td>4</td><td>29</td><td>4.054176</td></tr><tr><td>75</td><td>1</td><td>28</td><td>0.5586112</td></tr><tr><td>56</td><td>1</td><td>7</td><td>0.31370598</td></tr><tr><td>56</td><td>2</td><td>12</td><td>2.6537433</td></tr><tr><td>56</td><td>2</td><td>16</td><td>1.0928042</td></tr><tr><td>56</td><td>1</td><td>21</td><td>1.5762334</td></tr><tr><td>56</td><td>2</td><td>22</td><td>2.0193107</td></tr><tr><td>56</td><td>1</td><td>25</td><td>0.35035712</td></tr><tr><td>58</td><td>1</td><td>9</td><td>1.7475488</td></tr><tr><td>33</td><td>1</td><td>6</td><td>1.0398123</td></tr><tr><td>11</td><td>1</td><td>11</td><td>2.3628125</td></tr><tr><td>33</td><td>2</td><td>15</td><td>0.121193714</td></tr><tr><td>11</td><td>1</td><td>21</td><td>0.08956936</td></tr><tr><td>33</td><td>2</td><td>23</td><td>1.293519</td></tr><tr><td>33</td><td>3</td><td>27</td><td>3.3233159</td></tr><tr><td>33</td><td>2</td><td>29</td><td>2.8572247</td></tr><tr><td>83</td><td>1</td><td>0</td><td>0.23842978</td></tr><tr><td>83</td><td>1</td><td>3</td><td>0.50491655</td></tr><tr><td>83</td><td>1</td><td>9</td><td>0.95590365</td></tr><tr><td>83</td><td>1</td><td>14</td><td>2.0271082</td></tr><tr><td>83</td><td>1</td><td>23</td><td>-1.2173164</td></tr><tr><td>68</td><td>1</td><td>2</td><td>0.20487848</td></tr><tr><td>71</td><td>1</td><td>5</td><td>0.6519408</td></tr><tr><td>68</td><td>1</td><td>9</td><td>2.9956255</td></tr><tr><td>68</td><td>1</td><td>13</td><td>0.6608992</td></tr><tr><td>71</td><td>1</td><td>14</td><td>1.5300736</td></tr><tr><td>68</td><td>1</td><td>21</td><td>1.6258576</td></tr><tr><td>68</td><td>1</td><td>25</td><td>-1.7230074</td></tr><tr><td>14</td><td>1</td><td>3</td><td>0.20195174</td></tr><tr><td>14</td><td>1</td><td>12</td><td>1.6088021</td></tr><tr><td>14</td><td>3</td><td>14</td><td>3.2235587</td></tr><tr><td>14</td><td>1</td><td>23</td><td>1.4655753</td></tr><tr><td>14</td><td>1</td><td>28</td><td>2.6076393</td></tr><tr><td>42</td><td>1</td><td>18</td><td>1.9114244</td></tr><tr><td>42</td><td>1</td><td>29</td><td>0.9496873</td></tr><tr><td>79</td><td>3</td><td>12</td><td>1.6030421</td></tr><tr><td>2</td><td>1</td><td>26</td><td>4.565636</td></tr><tr><td>79</td><td>2</td><td>29</td><td>2.2116914</td></tr><tr><td>30</td><td>1</td><td>4</td><td>1.5525519</td></tr><tr><td>30</td><td>1</td><td>7</td><td>-0.2755259</td></tr><tr><td>30</td><td>2</td><td>16</td><td>3.1874547</td></tr><tr><td>30</td><td>2</td><td>21</td><td>0.91800433</td></tr><tr><td>30</td><td>1</td><td>25</td><td>-3.3682837</td></tr><tr><td>99</td><td>1</td><td>28</td><td>1.0278418</td></tr><tr><td>99</td><td>1</td><td>29</td><td>0.53365624</td></tr><tr><td>66</td><td>1</td><td>3</td><td>1.1482501</td></tr><tr><td>66</td><td>3</td><td>18</td><td>2.2877235</td></tr><tr><td>66</td><td>1</td><td>22</td><td>1.1297884</td></tr><tr><td>66</td><td>3</td><td>27</td><td>2.6585832</td></tr><tr><td>67</td><td>1</td><td>12</td><td>0.063898146</td></tr><tr><td>67</td><td>1</td><td>16</td><td>2.8337586</td></tr><tr><td>0</td><td>1</td><td>5</td><td>-0.7372136</td></tr><tr><td>0</td><td>1</td><td>15</td><td>2.525375</td></tr><tr><td>0</td><td>1</td><td>23</td><td>-0.07559782</td></tr><tr><td>0</td><td>1</td><td>26</td><td>1.4280674</td></tr><tr><td>0</td><td>1</td><td>27</td><td>-0.09220776</td></tr><tr><td>18</td><td>2</td><td>2</td><td>-0.91167116</td></tr><tr><td>18</td><td>1</td><td>8</td><td>0.52625245</td></tr><tr><td>18</td><td>1</td><td>10</td><td>-2.6787517</td></tr><tr><td>74</td><td>1</td><td>16</td><td>-0.7854422</td></tr><tr><td>74</td><td>5</td><td>22</td><td>0.37049258</td></tr><tr><td>74</td><td>1</td><td>29</td><td>1.6290607</td></tr><tr><td>36</td><td>3</td><td>3</td><td>1.8942708</td></tr><tr><td>36</td><td>3</td><td>5</td><td>2.0489175</td></tr><tr><td>36</td><td>2</td><td>9</td><td>1.8364643</td></tr></tbody></table></div>"
      ]
     },
     "metadata": {
      "application/vnd.databricks.v1+output": {
       "addedWidgets": {},
       "aggData": [],
       "aggError": "",
       "aggOverflow": false,
       "aggSchema": [],
       "aggSeriesLimitReached": false,
       "aggType": "",
       "arguments": {},
       "columnCustomDisplayInfos": {},
       "data": [
        [
         31,
         1,
         0,
         3.2766697
        ],
        [
         31,
         1,
         13,
         1.0848343
        ],
        [
         31,
         1,
         19,
         2.4677005
        ],
        [
         31,
         1,
         27,
         0.6288843
        ],
        [
         31,
         1,
         29,
         1.5578259
        ],
        [
         85,
         1,
         2,
         -1.682748
        ],
        [
         85,
         1,
         15,
         0.21277595
        ],
        [
         85,
         2,
         20,
         -0.12727948
        ],
        [
         85,
         3,
         21,
         1.8258545
        ],
        [
         65,
         1,
         2,
         1.866737
        ],
        [
         65,
         1,
         22,
         1.9465703
        ],
        [
         65,
         5,
         23,
         1.6858528
        ],
        [
         53,
         3,
         14,
         3.4094052
        ],
        [
         78,
         1,
         12,
         0.4210653
        ],
        [
         78,
         1,
         19,
         0.0866086
        ],
        [
         78,
         1,
         22,
         1.6739594
        ],
        [
         34,
         1,
         14,
         0.1757969
        ],
        [
         34,
         1,
         16,
         3.7124658
        ],
        [
         81,
         1,
         19,
         0.037758358
        ],
        [
         81,
         2,
         29,
         1.377817
        ],
        [
         28,
         1,
         23,
         1.3587472
        ],
        [
         76,
         3,
         3,
         2.7424846
        ],
        [
         76,
         5,
         14,
         0.9736012
        ],
        [
         76,
         1,
         19,
         2.2966394
        ],
        [
         76,
         1,
         20,
         0.38838807
        ],
        [
         76,
         1,
         26,
         -0.5330545
        ],
        [
         27,
         5,
         12,
         3.2968078
        ],
        [
         26,
         1,
         20,
         -0.28614712
        ],
        [
         27,
         3,
         27,
         1.5246313
        ],
        [
         44,
         1,
         4,
         0.84629476
        ],
        [
         44,
         2,
         12,
         -0.36924553
        ],
        [
         44,
         1,
         28,
         1.100265
        ],
        [
         12,
         1,
         1,
         -0.63905555
        ],
        [
         12,
         3,
         2,
         0.20969987
        ],
        [
         12,
         1,
         14,
         1.3917572
        ],
        [
         12,
         2,
         18,
         -0.66520214
        ],
        [
         12,
         3,
         25,
         -0.7133274
        ],
        [
         91,
         2,
         15,
         1.0980377
        ],
        [
         22,
         1,
         6,
         0.5533191
        ],
        [
         22,
         1,
         13,
         0.62351656
        ],
        [
         22,
         1,
         25,
         -0.8378506
        ],
        [
         22,
         3,
         29,
         1.1949208
        ],
        [
         93,
         1,
         27,
         3.2721093
        ],
        [
         93,
         1,
         29,
         1.7817068
        ],
        [
         47,
         1,
         1,
         1.2536538
        ],
        [
         47,
         3,
         16,
         -0.012615658
        ],
        [
         47,
         1,
         18,
         -1.5132613
        ],
        [
         1,
         1,
         4,
         0.56360364
        ],
        [
         1,
         1,
         28,
         5.072397
        ],
        [
         52,
         3,
         3,
         1.8281053
        ],
        [
         52,
         2,
         13,
         2.9738085
        ],
        [
         13,
         2,
         10,
         2.1518555
        ],
        [
         16,
         1,
         1,
         -1.5000501
        ],
        [
         16,
         1,
         3,
         -0.26756337
        ],
        [
         86,
         1,
         7,
         0.31558537
        ],
        [
         86,
         1,
         10,
         1.2967134
        ],
        [
         6,
         2,
         11,
         1.1621307
        ],
        [
         86,
         1,
         11,
         2.9784315
        ],
        [
         6,
         1,
         13,
         0.7447704
        ],
        [
         86,
         1,
         13,
         0.9302525
        ],
        [
         6,
         1,
         15,
         1.4799619
        ],
        [
         6,
         1,
         17,
         -0.27319783
        ],
        [
         6,
         2,
         19,
         -0.05388858
        ],
        [
         6,
         2,
         23,
         -0.036082894
        ],
        [
         6,
         3,
         26,
         2.053568
        ],
        [
         3,
         1,
         1,
         0.18201637
        ],
        [
         3,
         2,
         8,
         0.8970289
        ],
        [
         3,
         3,
         14,
         0.96904004
        ],
        [
         3,
         1,
         21,
         1.160011
        ],
        [
         20,
         1,
         6,
         0.5812179
        ],
        [
         40,
         1,
         11,
         0.7282906
        ],
        [
         40,
         2,
         13,
         -0.40308088
        ],
        [
         40,
         1,
         18,
         4.0903053
        ],
        [
         20,
         1,
         21,
         1.2844764
        ],
        [
         40,
         2,
         21,
         0.96016914
        ],
        [
         20,
         1,
         26,
         0.3614642
        ],
        [
         40,
         1,
         26,
         0.41300684
        ],
        [
         94,
         1,
         13,
         1.9566925
        ],
        [
         94,
         1,
         25,
         -0.89606667
        ],
        [
         57,
         1,
         27,
         1.1914057
        ],
        [
         54,
         1,
         0,
         1.8309292
        ],
        [
         54,
         1,
         12,
         2.427253
        ],
        [
         96,
         1,
         12,
         1.4786334
        ],
        [
         96,
         1,
         15,
         3.110323
        ],
        [
         96,
         3,
         16,
         1.4427044
        ],
        [
         96,
         1,
         19,
         2.1193357
        ],
        [
         48,
         1,
         14,
         0.6705924
        ],
        [
         48,
         1,
         21,
         0.21892655
        ],
        [
         48,
         1,
         26,
         1.1681226
        ],
        [
         5,
         1,
         9,
         1.6188201
        ],
        [
         5,
         3,
         16,
         1.6688843
        ],
        [
         5,
         2,
         22,
         0.9968585
        ],
        [
         19,
         1,
         0,
         0.6850265
        ],
        [
         19,
         2,
         15,
         -1.0451065
        ],
        [
         19,
         1,
         22,
         1.2937108
        ],
        [
         19,
         1,
         24,
         2.2141368
        ],
        [
         19,
         3,
         28,
         0.37146983
        ],
        [
         19,
         3,
         29,
         0.9239086
        ],
        [
         92,
         4,
         0,
         1.4756497
        ],
        [
         92,
         4,
         2,
         -0.55651647
        ],
        [
         92,
         1,
         27,
         0.755457
        ],
        [
         92,
         5,
         28,
         1.5416486
        ],
        [
         64,
         1,
         8,
         1.0113463
        ],
        [
         64,
         1,
         19,
         1.6743081
        ],
        [
         64,
         1,
         27,
         1.0708594
        ],
        [
         41,
         1,
         12,
         1.076123
        ],
        [
         15,
         1,
         0,
         0.73448366
        ],
        [
         15,
         1,
         3,
         0.1128882
        ],
        [
         15,
         2,
         6,
         0.8279992
        ],
        [
         15,
         1,
         14,
         1.2727718
        ],
        [
         43,
         1,
         19,
         -1.6683259
        ],
        [
         43,
         1,
         23,
         2.084475
        ],
        [
         15,
         1,
         29,
         1.2324393
        ],
        [
         37,
         5,
         2,
         0.1314483
        ],
        [
         37,
         2,
         9,
         -0.4382494
        ],
        [
         37,
         1,
         15,
         -0.10847661
        ],
        [
         37,
         1,
         17,
         -0.346412
        ],
        [
         37,
         1,
         23,
         0.5754285
        ],
        [
         37,
         1,
         24,
         1.6752253
        ],
        [
         61,
         1,
         11,
         2.9651737
        ],
        [
         61,
         1,
         20,
         -0.5094373
        ],
        [
         61,
         1,
         27,
         0.6350441
        ],
        [
         9,
         4,
         0,
         0.23488986
        ],
        [
         9,
         1,
         2,
         0.34810272
        ],
        [
         17,
         1,
         4,
         1.1714895
        ],
        [
         9,
         1,
         9,
         1.1290866
        ],
        [
         17,
         1,
         28,
         1.1979079
        ],
        [
         72,
         1,
         12,
         0.7917185
        ],
        [
         72,
         1,
         17,
         0.5650957
        ],
        [
         72,
         1,
         27,
         2.514676
        ],
        [
         35,
         1,
         3,
         0.2880249
        ],
        [
         35,
         2,
         15,
         3.4041667
        ],
        [
         59,
         2,
         0,
         0.38463014
        ],
        [
         4,
         3,
         2,
         1.666028
        ],
        [
         55,
         1,
         2,
         1.8708377
        ],
        [
         55,
         1,
         6,
         1.1009817
        ],
        [
         59,
         1,
         7,
         0.17949939
        ],
        [
         59,
         1,
         9,
         1.0894836
        ],
        [
         4,
         3,
         10,
         0.55204505
        ],
        [
         55,
         2,
         10,
         0.6736309
        ],
        [
         55,
         1,
         14,
         0.1776501
        ],
        [
         55,
         1,
         20,
         1.4032841
        ],
        [
         4,
         1,
         23,
         0.26418167
        ],
        [
         4,
         1,
         24,
         2.0369148
        ],
        [
         59,
         1,
         29,
         0.8005581
        ],
        [
         23,
         1,
         4,
         -0.048666988
        ],
        [
         23,
         1,
         7,
         -1.4609804
        ],
        [
         23,
         3,
         12,
         3.8943825
        ],
        [
         23,
         2,
         15,
         2.6488504
        ],
        [
         39,
         1,
         23,
         -2.2766068
        ],
        [
         49,
         1,
         6,
         2.5536754
        ],
        [
         49,
         1,
         14,
         2.2229578
        ],
        [
         7,
         3,
         3,
         0.7655857
        ],
        [
         7,
         1,
         25,
         0.40429556
        ],
        [
         84,
         2,
         7,
         1.8470669
        ],
        [
         84,
         1,
         9,
         0.8577742
        ],
        [
         84,
         1,
         19,
         0.7635449
        ],
        [
         84,
         1,
         21,
         1.0427423
        ],
        [
         84,
         1,
         24,
         0.35249737
        ],
        [
         51,
         3,
         27,
         3.0574589
        ],
        [
         69,
         1,
         0,
         0.34728408
        ],
        [
         69,
         5,
         11,
         2.3714173
        ],
        [
         69,
         4,
         22,
         0.57005805
        ],
        [
         69,
         1,
         23,
         1.9153289
        ],
        [
         97,
         3,
         11,
         2.2268355
        ],
        [
         97,
         1,
         17,
         1.6762706
        ],
        [
         97,
         1,
         23,
         2.035481
        ],
        [
         63,
         1,
         10,
         0.70920897
        ],
        [
         63,
         1,
         22,
         0.9294798
        ],
        [
         77,
         2,
         0,
         1.3402388
        ],
        [
         77,
         1,
         2,
         -1.1853327
        ],
        [
         10,
         1,
         7,
         1.5335008
        ],
        [
         77,
         1,
         12,
         3.0444698
        ],
        [
         10,
         1,
         14,
         0.93512523
        ],
        [
         10,
         4,
         23,
         3.6957924
        ],
        [
         77,
         1,
         23,
         3.6331685
        ],
        [
         50,
         3,
         5,
         3.1683156
        ],
        [
         45,
         2,
         0,
         0.70891917
        ],
        [
         45,
         1,
         4,
         0.62694216
        ],
        [
         45,
         2,
         24,
         0.78910816
        ],
        [
         45,
         2,
         26,
         1.0208392
        ],
        [
         38,
         5,
         18,
         2.2142572
        ],
        [
         82,
         1,
         11,
         1.8847346
        ],
        [
         82,
         4,
         28,
         1.2058427
        ],
        [
         80,
         1,
         15,
         0.7471332
        ],
        [
         80,
         1,
         16,
         2.3338473
        ],
        [
         80,
         3,
         18,
         2.2912357
        ],
        [
         25,
         5,
         6,
         0.3860908
        ],
        [
         73,
         1,
         6,
         2.3155355
        ],
        [
         25,
         5,
         7,
         1.5799752
        ],
        [
         25,
         1,
         9,
         0.048963413
        ],
        [
         73,
         1,
         13,
         0.36424097
        ],
        [
         25,
         2,
         14,
         -0.304264
        ],
        [
         25,
         1,
         22,
         1.4793274
        ],
        [
         25,
         1,
         23,
         0.11155371
        ],
        [
         73,
         1,
         25,
         0.12028615
        ],
        [
         24,
         1,
         4,
         1.5624623
        ],
        [
         24,
         1,
         14,
         0.5830013
        ],
        [
         24,
         1,
         21,
         2.1627014
        ],
        [
         24,
         2,
         27,
         1.485313
        ],
        [
         70,
         1,
         5,
         2.2816088
        ],
        [
         70,
         1,
         11,
         -0.61118263
        ],
        [
         70,
         1,
         17,
         1.6535476
        ],
        [
         70,
         1,
         27,
         0.3651966
        ],
        [
         62,
         1,
         3,
         1.1385583
        ],
        [
         62,
         1,
         15,
         -1.7505382
        ],
        [
         62,
         3,
         28,
         -1.4017086
        ],
        [
         95,
         2,
         6,
         2.0961163
        ],
        [
         95,
         3,
         9,
         2.0264757
        ],
        [
         95,
         2,
         16,
         2.3319478
        ],
        [
         95,
         2,
         17,
         1.5573664
        ],
        [
         95,
         1,
         25,
         1.8866841
        ],
        [
         29,
         1,
         0,
         1.8046144
        ],
        [
         29,
         3,
         3,
         2.3313758
        ],
        [
         29,
         5,
         14,
         4.7810597
        ],
        [
         29,
         4,
         16,
         3.4098475
        ],
        [
         29,
         2,
         20,
         3.452857
        ],
        [
         29,
         5,
         21,
         4.4622555
        ],
        [
         21,
         1,
         9,
         1.92737
        ],
        [
         21,
         1,
         10,
         1.9131325
        ],
        [
         21,
         1,
         13,
         0.28555858
        ],
        [
         21,
         2,
         16,
         3.6150706
        ],
        [
         21,
         1,
         21,
         1.0794772
        ],
        [
         98,
         1,
         0,
         1.0355932
        ],
        [
         98,
         1,
         4,
         2.3786235
        ],
        [
         98,
         1,
         10,
         2.2783885
        ],
        [
         98,
         1,
         13,
         0.89490956
        ],
        [
         98,
         1,
         14,
         -0.47164965
        ],
        [
         98,
         3,
         16,
         4.3537464
        ],
        [
         98,
         1,
         24,
         0.19770065
        ],
        [
         60,
         3,
         3,
         1.816483
        ],
        [
         60,
         1,
         12,
         -0.94959766
        ],
        [
         32,
         1,
         16,
         5.0207973
        ],
        [
         32,
         1,
         18,
         3.7391005
        ],
        [
         60,
         1,
         20,
         2.266219
        ],
        [
         60,
         3,
         22,
         2.1273525
        ],
        [
         60,
         1,
         23,
         -0.2840921
        ],
        [
         60,
         1,
         28,
         0.43028647
        ],
        [
         90,
         1,
         28,
         -4.0556045
        ],
        [
         32,
         4,
         29,
         4.054176
        ],
        [
         75,
         1,
         28,
         0.5586112
        ],
        [
         56,
         1,
         7,
         0.31370598
        ],
        [
         56,
         2,
         12,
         2.6537433
        ],
        [
         56,
         2,
         16,
         1.0928042
        ],
        [
         56,
         1,
         21,
         1.5762334
        ],
        [
         56,
         2,
         22,
         2.0193107
        ],
        [
         56,
         1,
         25,
         0.35035712
        ],
        [
         58,
         1,
         9,
         1.7475488
        ],
        [
         33,
         1,
         6,
         1.0398123
        ],
        [
         11,
         1,
         11,
         2.3628125
        ],
        [
         33,
         2,
         15,
         0.121193714
        ],
        [
         11,
         1,
         21,
         0.08956936
        ],
        [
         33,
         2,
         23,
         1.293519
        ],
        [
         33,
         3,
         27,
         3.3233159
        ],
        [
         33,
         2,
         29,
         2.8572247
        ],
        [
         83,
         1,
         0,
         0.23842978
        ],
        [
         83,
         1,
         3,
         0.50491655
        ],
        [
         83,
         1,
         9,
         0.95590365
        ],
        [
         83,
         1,
         14,
         2.0271082
        ],
        [
         83,
         1,
         23,
         -1.2173164
        ],
        [
         68,
         1,
         2,
         0.20487848
        ],
        [
         71,
         1,
         5,
         0.6519408
        ],
        [
         68,
         1,
         9,
         2.9956255
        ],
        [
         68,
         1,
         13,
         0.6608992
        ],
        [
         71,
         1,
         14,
         1.5300736
        ],
        [
         68,
         1,
         21,
         1.6258576
        ],
        [
         68,
         1,
         25,
         -1.7230074
        ],
        [
         14,
         1,
         3,
         0.20195174
        ],
        [
         14,
         1,
         12,
         1.6088021
        ],
        [
         14,
         3,
         14,
         3.2235587
        ],
        [
         14,
         1,
         23,
         1.4655753
        ],
        [
         14,
         1,
         28,
         2.6076393
        ],
        [
         42,
         1,
         18,
         1.9114244
        ],
        [
         42,
         1,
         29,
         0.9496873
        ],
        [
         79,
         3,
         12,
         1.6030421
        ],
        [
         2,
         1,
         26,
         4.565636
        ],
        [
         79,
         2,
         29,
         2.2116914
        ],
        [
         30,
         1,
         4,
         1.5525519
        ],
        [
         30,
         1,
         7,
         -0.2755259
        ],
        [
         30,
         2,
         16,
         3.1874547
        ],
        [
         30,
         2,
         21,
         0.91800433
        ],
        [
         30,
         1,
         25,
         -3.3682837
        ],
        [
         99,
         1,
         28,
         1.0278418
        ],
        [
         99,
         1,
         29,
         0.53365624
        ],
        [
         66,
         1,
         3,
         1.1482501
        ],
        [
         66,
         3,
         18,
         2.2877235
        ],
        [
         66,
         1,
         22,
         1.1297884
        ],
        [
         66,
         3,
         27,
         2.6585832
        ],
        [
         67,
         1,
         12,
         0.063898146
        ],
        [
         67,
         1,
         16,
         2.8337586
        ],
        [
         0,
         1,
         5,
         -0.7372136
        ],
        [
         0,
         1,
         15,
         2.525375
        ],
        [
         0,
         1,
         23,
         -0.07559782
        ],
        [
         0,
         1,
         26,
         1.4280674
        ],
        [
         0,
         1,
         27,
         -0.09220776
        ],
        [
         18,
         2,
         2,
         -0.91167116
        ],
        [
         18,
         1,
         8,
         0.52625245
        ],
        [
         18,
         1,
         10,
         -2.6787517
        ],
        [
         74,
         1,
         16,
         -0.7854422
        ],
        [
         74,
         5,
         22,
         0.37049258
        ],
        [
         74,
         1,
         29,
         1.6290607
        ],
        [
         36,
         3,
         3,
         1.8942708
        ],
        [
         36,
         3,
         5,
         2.0489175
        ],
        [
         36,
         2,
         9,
         1.8364643
        ]
       ],
       "datasetInfos": [
        {
         "name": "predictions2",
         "schema": {
          "fields": [
           {
            "metadata": {},
            "name": "movieId",
            "nullable": true,
            "type": "integer"
           },
           {
            "metadata": {},
            "name": "rating",
            "nullable": true,
            "type": "integer"
           },
           {
            "metadata": {},
            "name": "userId",
            "nullable": true,
            "type": "integer"
           },
           {
            "metadata": {},
            "name": "prediction",
            "nullable": false,
            "type": "float"
           }
          ],
          "type": "struct"
         },
         "tableIdentifier": null,
         "typeStr": "pyspark.sql.dataframe.DataFrame"
        }
       ],
       "dbfsResultPath": null,
       "isJsonSchema": true,
       "metadata": {},
       "overflow": false,
       "plotOptions": {
        "customPlotOptions": {},
        "displayType": "table",
        "pivotAggregation": null,
        "pivotColumns": null,
        "xColumns": null,
        "yColumns": null
       },
       "removedWidgets": [],
       "schema": [
        {
         "metadata": "{}",
         "name": "movieId",
         "type": "\"integer\""
        },
        {
         "metadata": "{}",
         "name": "rating",
         "type": "\"integer\""
        },
        {
         "metadata": "{}",
         "name": "userId",
         "type": "\"integer\""
        },
        {
         "metadata": "{}",
         "name": "prediction",
         "type": "\"float\""
        }
       ],
       "type": "table"
      }
     },
     "output_type": "display_data"
    }
   ],
   "source": [
    "model2 = als.fit(training2)\n",
    "\n",
    "predictions2 = model2.transform(test2)\n",
    "display(predictions2)"
   ]
  },
  {
   "cell_type": "code",
   "execution_count": 0,
   "metadata": {
    "application/vnd.databricks.v1+cell": {
     "inputWidgets": {},
     "nuid": "48537332-e0a4-47d0-b175-ad0d265757d7",
     "showTitle": false,
     "title": ""
    }
   },
   "outputs": [],
   "source": []
  },
  {
   "cell_type": "code",
   "execution_count": 0,
   "metadata": {
    "application/vnd.databricks.v1+cell": {
     "inputWidgets": {},
     "nuid": "f525b38c-ec71-424d-8225-51ccfb185fff",
     "showTitle": false,
     "title": ""
    }
   },
   "outputs": [],
   "source": []
  },
  {
   "cell_type": "code",
   "execution_count": 0,
   "metadata": {
    "application/vnd.databricks.v1+cell": {
     "inputWidgets": {},
     "nuid": "05f64fa9-8f68-4dbb-8eca-2ee695dcace5",
     "showTitle": true,
     "title": "Part B Question 3: Using RMSE"
    }
   },
   "outputs": [
    {
     "data": {
      "text/html": [
       "<style scoped>\n",
       "  .ansiout {\n",
       "    display: block;\n",
       "    unicode-bidi: embed;\n",
       "    white-space: pre-wrap;\n",
       "    word-wrap: break-word;\n",
       "    word-break: break-all;\n",
       "    font-family: \"Source Code Pro\", \"Menlo\", monospace;;\n",
       "    font-size: 13px;\n",
       "    color: #555;\n",
       "    margin-left: 4px;\n",
       "    line-height: 19px;\n",
       "  }\n",
       "</style>\n",
       "<div class=\"ansiout\"></div>"
      ]
     },
     "metadata": {
      "application/vnd.databricks.v1+output": {
       "addedWidgets": {},
       "arguments": {},
       "data": "<div class=\"ansiout\"></div>",
       "datasetInfos": [],
       "metadata": {},
       "removedWidgets": [],
       "type": "html"
      }
     },
     "output_type": "display_data"
    }
   ],
   "source": [
    "from pyspark.ml.evaluation import RegressionEvaluator\n",
    "evaluator_rmse = RegressionEvaluator(\n",
    "           metricName=\"rmse\", \n",
    "           labelCol=RATING, \n",
    "           predictionCol=\"prediction\") \n",
    "evaluator_mse = RegressionEvaluator(\n",
    "           metricName=\"mse\", \n",
    "           labelCol=RATING, \n",
    "           predictionCol=\"prediction\") \n",
    "evaluator_mae = RegressionEvaluator(\n",
    "           metricName=\"mae\", \n",
    "           labelCol=RATING, \n",
    "           predictionCol=\"prediction\") \n"
   ]
  },
  {
   "cell_type": "code",
   "execution_count": 0,
   "metadata": {
    "application/vnd.databricks.v1+cell": {
     "inputWidgets": {},
     "nuid": "d292b0c9-4718-4e1c-a2da-6226ec77f182",
     "showTitle": true,
     "title": "Evaluating Model 1 (70:30 split)"
    }
   },
   "outputs": [
    {
     "data": {
      "text/html": [
       "<style scoped>\n",
       "  .ansiout {\n",
       "    display: block;\n",
       "    unicode-bidi: embed;\n",
       "    white-space: pre-wrap;\n",
       "    word-wrap: break-word;\n",
       "    word-break: break-all;\n",
       "    font-family: \"Source Code Pro\", \"Menlo\", monospace;;\n",
       "    font-size: 13px;\n",
       "    color: #555;\n",
       "    margin-left: 4px;\n",
       "    line-height: 19px;\n",
       "  }\n",
       "</style>\n",
       "<div class=\"ansiout\">RMSE for Model 1:  1.7261676062688378\n",
       "MSE for Model 1:  2.9796546049318895\n",
       "MAE for Model 1:  1.2993274276356466\n",
       "</div>"
      ]
     },
     "metadata": {
      "application/vnd.databricks.v1+output": {
       "addedWidgets": {},
       "arguments": {},
       "data": "<div class=\"ansiout\">RMSE for Model 1:  1.7261676062688378\nMSE for Model 1:  2.9796546049318895\nMAE for Model 1:  1.2993274276356466\n</div>",
       "datasetInfos": [],
       "metadata": {},
       "removedWidgets": [],
       "type": "html"
      }
     },
     "output_type": "display_data"
    }
   ],
   "source": [
    "RMSE1 = evaluator_rmse.evaluate(predictions1)\n",
    "print(\"RMSE for Model 1: \", RMSE1)\n",
    "MSE1 = evaluator_mse.evaluate(predictions1)\n",
    "print(\"MSE for Model 1: \", MSE1)\n",
    "MAE1 = evaluator_mae.evaluate(predictions1)\n",
    "print(\"MAE for Model 1: \", MAE1)"
   ]
  },
  {
   "cell_type": "code",
   "execution_count": 0,
   "metadata": {
    "application/vnd.databricks.v1+cell": {
     "inputWidgets": {},
     "nuid": "735177ac-73ab-47b9-97e6-4d1bf543ca48",
     "showTitle": true,
     "title": "Evaluating Model 2 (80:20 split)"
    }
   },
   "outputs": [
    {
     "data": {
      "text/html": [
       "<style scoped>\n",
       "  .ansiout {\n",
       "    display: block;\n",
       "    unicode-bidi: embed;\n",
       "    white-space: pre-wrap;\n",
       "    word-wrap: break-word;\n",
       "    word-break: break-all;\n",
       "    font-family: \"Source Code Pro\", \"Menlo\", monospace;;\n",
       "    font-size: 13px;\n",
       "    color: #555;\n",
       "    margin-left: 4px;\n",
       "    line-height: 19px;\n",
       "  }\n",
       "</style>\n",
       "<div class=\"ansiout\">RMSE for Model 2:  1.5757532774534835\n",
       "MSE for Model 2:  2.482998391405395\n",
       "MAE for Model 2:  1.1791483546778756\n",
       "</div>"
      ]
     },
     "metadata": {
      "application/vnd.databricks.v1+output": {
       "addedWidgets": {},
       "arguments": {},
       "data": "<div class=\"ansiout\">RMSE for Model 2:  1.5757532774534835\nMSE for Model 2:  2.482998391405395\nMAE for Model 2:  1.1791483546778756\n</div>",
       "datasetInfos": [],
       "metadata": {},
       "removedWidgets": [],
       "type": "html"
      }
     },
     "output_type": "display_data"
    }
   ],
   "source": [
    "RMSE2 = evaluator_rmse.evaluate(predictions2)\n",
    "print(\"RMSE for Model 2: \", RMSE2)\n",
    "MSE2 = evaluator_mse.evaluate(predictions2)\n",
    "print(\"MSE for Model 2: \", MSE2)\n",
    "MAE2 = evaluator_mae.evaluate(predictions2)\n",
    "print(\"MAE for Model 2: \", MAE2)"
   ]
  },
  {
   "cell_type": "markdown",
   "metadata": {
    "application/vnd.databricks.v1+cell": {
     "inputWidgets": {},
     "nuid": "3f86ff44-12ef-4364-80f1-1be46a5030d5",
     "showTitle": false,
     "title": ""
    }
   },
   "source": [
    "Looking at the results above we can see that model 2 performed better with lower RMSE and MSE which could be as due to the higer training set data. in model 1 (70-30) split of the dataset was not enough and the model could be slightly underfitting causing higher bias which results in higher error. \n",
    "\n",
    "However, mean absolute  error (MAE) for both model is similar."
   ]
  },
  {
   "cell_type": "markdown",
   "metadata": {
    "application/vnd.databricks.v1+cell": {
     "inputWidgets": {},
     "nuid": "d72c9d8b-09b1-4d16-a614-cd34fa6ed9f7",
     "showTitle": true,
     "title": "Part B Question 4 : Tuning Parameters"
    }
   },
   "source": [
    "We will be using cross validation and along with gridsearch for finding the best parameters"
   ]
  },
  {
   "cell_type": "code",
   "execution_count": 0,
   "metadata": {
    "application/vnd.databricks.v1+cell": {
     "inputWidgets": {},
     "nuid": "03a43fe4-30ce-4fdb-937d-b2d2fa934e6d",
     "showTitle": false,
     "title": ""
    }
   },
   "outputs": [
    {
     "data": {
      "text/html": [
       "<style scoped>\n",
       "  .ansiout {\n",
       "    display: block;\n",
       "    unicode-bidi: embed;\n",
       "    white-space: pre-wrap;\n",
       "    word-wrap: break-word;\n",
       "    word-break: break-all;\n",
       "    font-family: \"Source Code Pro\", \"Menlo\", monospace;;\n",
       "    font-size: 13px;\n",
       "    color: #555;\n",
       "    margin-left: 4px;\n",
       "    line-height: 19px;\n",
       "  }\n",
       "</style>\n",
       "<div class=\"ansiout\"></div>"
      ]
     },
     "metadata": {
      "application/vnd.databricks.v1+output": {
       "addedWidgets": {},
       "arguments": {},
       "data": "<div class=\"ansiout\"></div>",
       "datasetInfos": [],
       "metadata": {},
       "removedWidgets": [],
       "type": "html"
      }
     },
     "output_type": "display_data"
    }
   ],
   "source": [
    "als = ALS(userCol=USERID, itemCol=MOVIEID, ratingCol=RATING)"
   ]
  },
  {
   "cell_type": "code",
   "execution_count": 0,
   "metadata": {
    "application/vnd.databricks.v1+cell": {
     "inputWidgets": {},
     "nuid": "e98dfd1b-31de-4375-9653-43b706a854c2",
     "showTitle": false,
     "title": ""
    }
   },
   "outputs": [
    {
     "data": {
      "text/html": [
       "<style scoped>\n",
       "  .ansiout {\n",
       "    display: block;\n",
       "    unicode-bidi: embed;\n",
       "    white-space: pre-wrap;\n",
       "    word-wrap: break-word;\n",
       "    word-break: break-all;\n",
       "    font-family: \"Source Code Pro\", \"Menlo\", monospace;;\n",
       "    font-size: 13px;\n",
       "    color: #555;\n",
       "    margin-left: 4px;\n",
       "    line-height: 19px;\n",
       "  }\n",
       "</style>\n",
       "<div class=\"ansiout\"></div>"
      ]
     },
     "metadata": {
      "application/vnd.databricks.v1+output": {
       "addedWidgets": {},
       "arguments": {},
       "data": "<div class=\"ansiout\"></div>",
       "datasetInfos": [],
       "metadata": {},
       "removedWidgets": [],
       "type": "html"
      }
     },
     "output_type": "display_data"
    }
   ],
   "source": [
    "param_grid = ParamGridBuilder() \\\n",
    "            .addGrid(als.rank, [50, 100]) \\\n",
    "            .addGrid(als.maxIter, [15, 25])\\\n",
    "            .addGrid(als.regParam, [.01, .1]) \\\n",
    "            .build()"
   ]
  },
  {
   "cell_type": "markdown",
   "metadata": {
    "application/vnd.databricks.v1+cell": {
     "inputWidgets": {},
     "nuid": "98984a28-b1b3-436b-a23c-33d512f18bcb",
     "showTitle": false,
     "title": ""
    }
   },
   "source": [
    "#### Using Cross Validation"
   ]
  },
  {
   "cell_type": "code",
   "execution_count": 0,
   "metadata": {
    "application/vnd.databricks.v1+cell": {
     "inputWidgets": {},
     "nuid": "093c6c5f-2736-4c7b-95bf-261a6d5cbc4d",
     "showTitle": false,
     "title": ""
    }
   },
   "outputs": [
    {
     "data": {
      "text/html": [
       "<style scoped>\n",
       "  .ansiout {\n",
       "    display: block;\n",
       "    unicode-bidi: embed;\n",
       "    white-space: pre-wrap;\n",
       "    word-wrap: break-word;\n",
       "    word-break: break-all;\n",
       "    font-family: \"Source Code Pro\", \"Menlo\", monospace;;\n",
       "    font-size: 13px;\n",
       "    color: #555;\n",
       "    margin-left: 4px;\n",
       "    line-height: 19px;\n",
       "  }\n",
       "</style>\n",
       "<div class=\"ansiout\"></div>"
      ]
     },
     "metadata": {
      "application/vnd.databricks.v1+output": {
       "addedWidgets": {},
       "arguments": {},
       "data": "<div class=\"ansiout\"></div>",
       "datasetInfos": [],
       "metadata": {},
       "removedWidgets": [],
       "type": "html"
      }
     },
     "output_type": "display_data"
    }
   ],
   "source": [
    "# Using Corss Validation\n",
    "cv = CrossValidator(estimator=als, estimatorParamMaps=param_grid, evaluator=evaluator_rmse, numFolds=2)"
   ]
  },
  {
   "cell_type": "code",
   "execution_count": 0,
   "metadata": {
    "application/vnd.databricks.v1+cell": {
     "inputWidgets": {},
     "nuid": "317d1192-1730-4988-b7d2-6c5b3aca571e",
     "showTitle": false,
     "title": ""
    }
   },
   "outputs": [
    {
     "data": {
      "text/html": [
       "<style scoped>\n",
       "  .ansiout {\n",
       "    display: block;\n",
       "    unicode-bidi: embed;\n",
       "    white-space: pre-wrap;\n",
       "    word-wrap: break-word;\n",
       "    word-break: break-all;\n",
       "    font-family: \"Source Code Pro\", \"Menlo\", monospace;;\n",
       "    font-size: 13px;\n",
       "    color: #555;\n",
       "    margin-left: 4px;\n",
       "    line-height: 19px;\n",
       "  }\n",
       "</style>\n",
       "<div class=\"ansiout\">/databricks/spark/python/pyspark/ml/util.py:800: UserWarning: Cannot find mlflow module. To enable MLflow logging, install mlflow from PyPI.\n",
       "  warnings.warn(_MLflowInstrumentation._NO_MLFLOW_WARNING)\n",
       "</div>"
      ]
     },
     "metadata": {
      "application/vnd.databricks.v1+output": {
       "addedWidgets": {},
       "arguments": {},
       "data": "<div class=\"ansiout\">/databricks/spark/python/pyspark/ml/util.py:800: UserWarning: Cannot find mlflow module. To enable MLflow logging, install mlflow from PyPI.\n  warnings.warn(_MLflowInstrumentation._NO_MLFLOW_WARNING)\n</div>",
       "datasetInfos": [],
       "metadata": {},
       "removedWidgets": [],
       "type": "html"
      }
     },
     "output_type": "display_data"
    }
   ],
   "source": [
    "# (training2, test2) = df.randomSplit([0.8, 0.2])\n",
    "cv_model = cv.fit(training2)"
   ]
  },
  {
   "cell_type": "code",
   "execution_count": 0,
   "metadata": {
    "application/vnd.databricks.v1+cell": {
     "inputWidgets": {},
     "nuid": "6c29f614-eced-4bb5-961a-66927bf3688b",
     "showTitle": false,
     "title": ""
    }
   },
   "outputs": [
    {
     "data": {
      "text/html": [
       "<style scoped>\n",
       "  .ansiout {\n",
       "    display: block;\n",
       "    unicode-bidi: embed;\n",
       "    white-space: pre-wrap;\n",
       "    word-wrap: break-word;\n",
       "    word-break: break-all;\n",
       "    font-family: \"Source Code Pro\", \"Menlo\", monospace;;\n",
       "    font-size: 13px;\n",
       "    color: #555;\n",
       "    margin-left: 4px;\n",
       "    line-height: 19px;\n",
       "  }\n",
       "</style>\n",
       "<div class=\"ansiout\"></div>"
      ]
     },
     "metadata": {
      "application/vnd.databricks.v1+output": {
       "addedWidgets": {},
       "arguments": {},
       "data": "<div class=\"ansiout\"></div>",
       "datasetInfos": [],
       "metadata": {},
       "removedWidgets": [],
       "type": "html"
      }
     },
     "output_type": "display_data"
    }
   ],
   "source": [
    "#Extract best model from the cv model above\n",
    "best_model = cv_model.bestModel\n"
   ]
  },
  {
   "cell_type": "code",
   "execution_count": 0,
   "metadata": {
    "application/vnd.databricks.v1+cell": {
     "inputWidgets": {},
     "nuid": "772bec31-2c64-4e9d-b13f-d9b26677c0cc",
     "showTitle": true,
     "title": "Looking at the best parameters"
    }
   },
   "outputs": [
    {
     "data": {
      "text/html": [
       "<style scoped>\n",
       "  .ansiout {\n",
       "    display: block;\n",
       "    unicode-bidi: embed;\n",
       "    white-space: pre-wrap;\n",
       "    word-wrap: break-word;\n",
       "    word-break: break-all;\n",
       "    font-family: \"Source Code Pro\", \"Menlo\", monospace;;\n",
       "    font-size: 13px;\n",
       "    color: #555;\n",
       "    margin-left: 4px;\n",
       "    line-height: 19px;\n",
       "  }\n",
       "</style>\n",
       "<div class=\"ansiout\">  Rank: 100\n",
       "  MaxIter: 25\n",
       "  RegParam: 0.1\n",
       "</div>"
      ]
     },
     "metadata": {
      "application/vnd.databricks.v1+output": {
       "addedWidgets": {},
       "arguments": {},
       "data": "<div class=\"ansiout\">  Rank: 100\n  MaxIter: 25\n  RegParam: 0.1\n</div>",
       "datasetInfos": [],
       "metadata": {},
       "removedWidgets": [],
       "type": "html"
      }
     },
     "output_type": "display_data"
    }
   ],
   "source": [
    "# Print \"Rank\"\n",
    "print(\"  Rank:\", best_model._java_obj.parent().getRank())\n",
    "# Print \"MaxIter\"\n",
    "print(\"  MaxIter:\", best_model._java_obj.parent().getMaxIter())\n",
    "# Print \"RegParam\"\n",
    "print(\"  RegParam:\", best_model._java_obj.parent().getRegParam())"
   ]
  },
  {
   "cell_type": "code",
   "execution_count": 0,
   "metadata": {
    "application/vnd.databricks.v1+cell": {
     "inputWidgets": {},
     "nuid": "36a69ec0-7e0c-444a-af64-55559c920077",
     "showTitle": false,
     "title": ""
    }
   },
   "outputs": [
    {
     "data": {
      "text/html": [
       "<style scoped>\n",
       "  .ansiout {\n",
       "    display: block;\n",
       "    unicode-bidi: embed;\n",
       "    white-space: pre-wrap;\n",
       "    word-wrap: break-word;\n",
       "    word-break: break-all;\n",
       "    font-family: \"Source Code Pro\", \"Menlo\", monospace;;\n",
       "    font-size: 13px;\n",
       "    color: #555;\n",
       "    margin-left: 4px;\n",
       "    line-height: 19px;\n",
       "  }\n",
       "</style>\n",
       "<div class=\"ansiout\">RMSE Value is:  1.0011431268537268\n",
       "</div>"
      ]
     },
     "metadata": {
      "application/vnd.databricks.v1+output": {
       "addedWidgets": {},
       "arguments": {},
       "data": "<div class=\"ansiout\">RMSE Value is:  1.0011431268537268\n</div>",
       "datasetInfos": [
        {
         "name": "test2_predictions_tv",
         "schema": {
          "fields": [
           {
            "metadata": {},
            "name": "movieId",
            "nullable": true,
            "type": "integer"
           },
           {
            "metadata": {},
            "name": "rating",
            "nullable": true,
            "type": "integer"
           },
           {
            "metadata": {},
            "name": "userId",
            "nullable": true,
            "type": "integer"
           },
           {
            "metadata": {},
            "name": "prediction",
            "nullable": false,
            "type": "float"
           }
          ],
          "type": "struct"
         },
         "tableIdentifier": null,
         "typeStr": "pyspark.sql.dataframe.DataFrame"
        }
       ],
       "metadata": {},
       "removedWidgets": [],
       "type": "html"
      }
     },
     "output_type": "display_data"
    }
   ],
   "source": [
    "# View the predictions\n",
    "test2_predictions_tv = best_model.transform(test2)\n",
    "RMSE_cv = evaluator_rmse.evaluate(test2_predictions_tv)\n",
    "print(\"RMSE Value is: \", RMSE_cv)"
   ]
  },
  {
   "cell_type": "code",
   "execution_count": 0,
   "metadata": {
    "application/vnd.databricks.v1+cell": {
     "inputWidgets": {},
     "nuid": "7dd95399-5527-44f1-84f2-12af6a23af44",
     "showTitle": false,
     "title": ""
    }
   },
   "outputs": [
    {
     "data": {
      "text/html": [
       "<style scoped>\n",
       "  .table-result-container {\n",
       "    max-height: 300px;\n",
       "    overflow: auto;\n",
       "  }\n",
       "  table, th, td {\n",
       "    border: 1px solid black;\n",
       "    border-collapse: collapse;\n",
       "  }\n",
       "  th, td {\n",
       "    padding: 5px;\n",
       "  }\n",
       "  th {\n",
       "    text-align: left;\n",
       "  }\n",
       "</style><div class='table-result-container'><table class='table-result'><thead style='background-color: white'><tr><th>movieId</th><th>rating</th><th>userId</th><th>prediction</th></tr></thead><tbody><tr><td>31</td><td>1</td><td>0</td><td>1.1813673</td></tr><tr><td>31</td><td>1</td><td>13</td><td>1.4173347</td></tr><tr><td>31</td><td>1</td><td>19</td><td>1.2622163</td></tr><tr><td>31</td><td>1</td><td>27</td><td>1.0882876</td></tr><tr><td>31</td><td>1</td><td>29</td><td>1.68816</td></tr><tr><td>85</td><td>1</td><td>2</td><td>1.1283349</td></tr><tr><td>85</td><td>1</td><td>15</td><td>0.98939586</td></tr><tr><td>85</td><td>2</td><td>20</td><td>2.3875895</td></tr><tr><td>85</td><td>3</td><td>21</td><td>2.6229606</td></tr><tr><td>65</td><td>1</td><td>2</td><td>1.0328238</td></tr><tr><td>65</td><td>1</td><td>22</td><td>1.7555231</td></tr><tr><td>65</td><td>5</td><td>23</td><td>1.9339072</td></tr><tr><td>53</td><td>3</td><td>14</td><td>3.092984</td></tr><tr><td>78</td><td>1</td><td>12</td><td>0.7766976</td></tr><tr><td>78</td><td>1</td><td>19</td><td>0.72278076</td></tr><tr><td>78</td><td>1</td><td>22</td><td>1.16471</td></tr><tr><td>34</td><td>1</td><td>14</td><td>1.500626</td></tr><tr><td>34</td><td>1</td><td>16</td><td>1.4648228</td></tr><tr><td>81</td><td>1</td><td>19</td><td>0.7962596</td></tr><tr><td>81</td><td>2</td><td>29</td><td>2.203781</td></tr><tr><td>28</td><td>1</td><td>23</td><td>0.8208971</td></tr><tr><td>76</td><td>3</td><td>3</td><td>0.59804887</td></tr><tr><td>76</td><td>5</td><td>14</td><td>1.5524925</td></tr><tr><td>76</td><td>1</td><td>19</td><td>0.4447223</td></tr><tr><td>76</td><td>1</td><td>20</td><td>0.4107644</td></tr><tr><td>76</td><td>1</td><td>26</td><td>1.0285966</td></tr><tr><td>27</td><td>5</td><td>12</td><td>2.3771477</td></tr><tr><td>26</td><td>1</td><td>20</td><td>1.199477</td></tr><tr><td>27</td><td>3</td><td>27</td><td>2.274826</td></tr><tr><td>44</td><td>1</td><td>4</td><td>0.74398875</td></tr><tr><td>44</td><td>2</td><td>12</td><td>0.98131776</td></tr><tr><td>44</td><td>1</td><td>28</td><td>1.4784435</td></tr><tr><td>12</td><td>1</td><td>1</td><td>1.0610495</td></tr><tr><td>12</td><td>3</td><td>2</td><td>1.9798928</td></tr><tr><td>12</td><td>1</td><td>14</td><td>0.2126529</td></tr><tr><td>12</td><td>2</td><td>18</td><td>1.7211663</td></tr><tr><td>12</td><td>3</td><td>25</td><td>0.5926994</td></tr><tr><td>91</td><td>2</td><td>15</td><td>2.5558271</td></tr><tr><td>22</td><td>1</td><td>6</td><td>0.6842042</td></tr><tr><td>22</td><td>1</td><td>13</td><td>1.2228724</td></tr><tr><td>22</td><td>1</td><td>25</td><td>1.212774</td></tr><tr><td>22</td><td>3</td><td>29</td><td>2.494401</td></tr><tr><td>93</td><td>1</td><td>27</td><td>2.601899</td></tr><tr><td>93</td><td>1</td><td>29</td><td>1.2398431</td></tr><tr><td>47</td><td>1</td><td>1</td><td>1.4966911</td></tr><tr><td>47</td><td>3</td><td>16</td><td>1.6810218</td></tr><tr><td>47</td><td>1</td><td>18</td><td>1.9098891</td></tr><tr><td>1</td><td>1</td><td>4</td><td>0.72295356</td></tr><tr><td>1</td><td>1</td><td>28</td><td>0.6796347</td></tr><tr><td>52</td><td>3</td><td>3</td><td>1.524859</td></tr><tr><td>52</td><td>2</td><td>13</td><td>2.644568</td></tr><tr><td>13</td><td>2</td><td>10</td><td>1.110342</td></tr><tr><td>16</td><td>1</td><td>1</td><td>0.86875546</td></tr><tr><td>16</td><td>1</td><td>3</td><td>0.75665724</td></tr><tr><td>86</td><td>1</td><td>7</td><td>0.8896314</td></tr><tr><td>86</td><td>1</td><td>10</td><td>0.7447072</td></tr><tr><td>6</td><td>2</td><td>11</td><td>1.6831032</td></tr><tr><td>86</td><td>1</td><td>11</td><td>0.82020766</td></tr><tr><td>6</td><td>1</td><td>13</td><td>0.99992234</td></tr><tr><td>86</td><td>1</td><td>13</td><td>0.8274593</td></tr><tr><td>6</td><td>1</td><td>15</td><td>0.7044581</td></tr><tr><td>6</td><td>1</td><td>17</td><td>1.1909778</td></tr><tr><td>6</td><td>2</td><td>19</td><td>1.4272529</td></tr><tr><td>6</td><td>2</td><td>23</td><td>1.3553338</td></tr><tr><td>6</td><td>3</td><td>26</td><td>1.6235454</td></tr><tr><td>3</td><td>1</td><td>1</td><td>1.0594983</td></tr><tr><td>3</td><td>2</td><td>8</td><td>1.3754337</td></tr><tr><td>3</td><td>3</td><td>14</td><td>1.1441283</td></tr><tr><td>3</td><td>1</td><td>21</td><td>1.337378</td></tr><tr><td>20</td><td>1</td><td>6</td><td>0.8282303</td></tr><tr><td>40</td><td>1</td><td>11</td><td>1.3738302</td></tr><tr><td>40</td><td>2</td><td>13</td><td>1.8445141</td></tr><tr><td>40</td><td>1</td><td>18</td><td>2.028571</td></tr><tr><td>20</td><td>1</td><td>21</td><td>1.0993999</td></tr><tr><td>40</td><td>2</td><td>21</td><td>2.1017067</td></tr><tr><td>20</td><td>1</td><td>26</td><td>2.324135</td></tr><tr><td>40</td><td>1</td><td>26</td><td>1.5202258</td></tr><tr><td>94</td><td>1</td><td>13</td><td>1.5447174</td></tr><tr><td>94</td><td>1</td><td>25</td><td>1.6071478</td></tr><tr><td>57</td><td>1</td><td>27</td><td>1.219895</td></tr><tr><td>54</td><td>1</td><td>0</td><td>0.72165066</td></tr><tr><td>54</td><td>1</td><td>12</td><td>1.3185945</td></tr><tr><td>96</td><td>1</td><td>12</td><td>0.74119145</td></tr><tr><td>96</td><td>1</td><td>15</td><td>0.6155216</td></tr><tr><td>96</td><td>3</td><td>16</td><td>2.4119477</td></tr><tr><td>96</td><td>1</td><td>19</td><td>1.8091439</td></tr><tr><td>48</td><td>1</td><td>14</td><td>0.87620425</td></tr><tr><td>48</td><td>1</td><td>21</td><td>0.96191525</td></tr><tr><td>48</td><td>1</td><td>26</td><td>1.934104</td></tr><tr><td>5</td><td>1</td><td>9</td><td>0.9373596</td></tr><tr><td>5</td><td>3</td><td>16</td><td>1.0544333</td></tr><tr><td>5</td><td>2</td><td>22</td><td>1.4683573</td></tr><tr><td>19</td><td>1</td><td>0</td><td>0.9371593</td></tr><tr><td>19</td><td>2</td><td>15</td><td>0.78054744</td></tr><tr><td>19</td><td>1</td><td>22</td><td>0.81200314</td></tr><tr><td>19</td><td>1</td><td>24</td><td>1.3657666</td></tr><tr><td>19</td><td>3</td><td>28</td><td>1.8048316</td></tr><tr><td>19</td><td>3</td><td>29</td><td>1.3897191</td></tr><tr><td>92</td><td>4</td><td>0</td><td>0.9404823</td></tr><tr><td>92</td><td>4</td><td>2</td><td>1.1196576</td></tr><tr><td>92</td><td>1</td><td>27</td><td>1.1942234</td></tr><tr><td>92</td><td>5</td><td>28</td><td>1.0437186</td></tr><tr><td>64</td><td>1</td><td>8</td><td>0.9676683</td></tr><tr><td>64</td><td>1</td><td>19</td><td>1.570311</td></tr><tr><td>64</td><td>1</td><td>27</td><td>1.1236213</td></tr><tr><td>41</td><td>1</td><td>12</td><td>0.9257588</td></tr><tr><td>15</td><td>1</td><td>0</td><td>0.8323572</td></tr><tr><td>15</td><td>1</td><td>3</td><td>0.8998304</td></tr><tr><td>15</td><td>2</td><td>6</td><td>0.9251426</td></tr><tr><td>15</td><td>1</td><td>14</td><td>1.022438</td></tr><tr><td>43</td><td>1</td><td>19</td><td>1.2830371</td></tr><tr><td>43</td><td>1</td><td>23</td><td>1.8628498</td></tr><tr><td>15</td><td>1</td><td>29</td><td>1.14219</td></tr><tr><td>37</td><td>5</td><td>2</td><td>1.4110876</td></tr><tr><td>37</td><td>2</td><td>9</td><td>1.4351116</td></tr><tr><td>37</td><td>1</td><td>15</td><td>0.91401416</td></tr><tr><td>37</td><td>1</td><td>17</td><td>0.98504376</td></tr><tr><td>37</td><td>1</td><td>23</td><td>1.4212157</td></tr><tr><td>37</td><td>1</td><td>24</td><td>1.519908</td></tr><tr><td>61</td><td>1</td><td>11</td><td>1.0705647</td></tr><tr><td>61</td><td>1</td><td>20</td><td>1.0842104</td></tr><tr><td>61</td><td>1</td><td>27</td><td>0.58615595</td></tr><tr><td>9</td><td>4</td><td>0</td><td>0.8108733</td></tr><tr><td>9</td><td>1</td><td>2</td><td>0.7061881</td></tr><tr><td>17</td><td>1</td><td>4</td><td>0.8032772</td></tr><tr><td>9</td><td>1</td><td>9</td><td>1.6460528</td></tr><tr><td>17</td><td>1</td><td>28</td><td>0.86525536</td></tr><tr><td>72</td><td>1</td><td>12</td><td>1.0502044</td></tr><tr><td>72</td><td>1</td><td>17</td><td>0.8122579</td></tr><tr><td>72</td><td>1</td><td>27</td><td>1.6769481</td></tr><tr><td>35</td><td>1</td><td>3</td><td>1.120654</td></tr><tr><td>35</td><td>2</td><td>15</td><td>2.1119573</td></tr><tr><td>59</td><td>2</td><td>0</td><td>1.0340987</td></tr><tr><td>4</td><td>3</td><td>2</td><td>2.1789849</td></tr><tr><td>55</td><td>1</td><td>2</td><td>1.7637336</td></tr><tr><td>55</td><td>1</td><td>6</td><td>1.03506</td></tr><tr><td>59</td><td>1</td><td>7</td><td>0.88869697</td></tr><tr><td>59</td><td>1</td><td>9</td><td>1.3682778</td></tr><tr><td>4</td><td>3</td><td>10</td><td>1.1694404</td></tr><tr><td>55</td><td>2</td><td>10</td><td>1.3155661</td></tr><tr><td>55</td><td>1</td><td>14</td><td>1.1102892</td></tr><tr><td>55</td><td>1</td><td>20</td><td>1.5525486</td></tr><tr><td>4</td><td>1</td><td>23</td><td>1.0962338</td></tr><tr><td>4</td><td>1</td><td>24</td><td>1.2949315</td></tr><tr><td>59</td><td>1</td><td>29</td><td>0.7138322</td></tr><tr><td>23</td><td>1</td><td>4</td><td>1.3466009</td></tr><tr><td>23</td><td>1</td><td>7</td><td>0.98747975</td></tr><tr><td>23</td><td>3</td><td>12</td><td>2.8464708</td></tr><tr><td>23</td><td>2</td><td>15</td><td>1.7189673</td></tr><tr><td>39</td><td>1</td><td>23</td><td>0.8136395</td></tr><tr><td>49</td><td>1</td><td>6</td><td>1.720592</td></tr><tr><td>49</td><td>1</td><td>14</td><td>0.97587687</td></tr><tr><td>7</td><td>3</td><td>3</td><td>1.9450743</td></tr><tr><td>7</td><td>1</td><td>25</td><td>0.7247097</td></tr><tr><td>84</td><td>2</td><td>7</td><td>0.98697495</td></tr><tr><td>84</td><td>1</td><td>9</td><td>0.7634554</td></tr><tr><td>84</td><td>1</td><td>19</td><td>0.83914554</td></tr><tr><td>84</td><td>1</td><td>21</td><td>1.0484356</td></tr><tr><td>84</td><td>1</td><td>24</td><td>0.802263</td></tr><tr><td>51</td><td>3</td><td>27</td><td>2.1234007</td></tr><tr><td>69</td><td>1</td><td>0</td><td>0.57744896</td></tr><tr><td>69</td><td>5</td><td>11</td><td>2.0648508</td></tr><tr><td>69</td><td>4</td><td>22</td><td>2.0193434</td></tr><tr><td>69</td><td>1</td><td>23</td><td>1.1910306</td></tr><tr><td>97</td><td>3</td><td>11</td><td>1.2685956</td></tr><tr><td>97</td><td>1</td><td>17</td><td>1.1923987</td></tr><tr><td>97</td><td>1</td><td>23</td><td>1.5902244</td></tr><tr><td>63</td><td>1</td><td>10</td><td>1.0243708</td></tr><tr><td>63</td><td>1</td><td>22</td><td>1.9412736</td></tr><tr><td>77</td><td>2</td><td>0</td><td>1.2892497</td></tr><tr><td>77</td><td>1</td><td>2</td><td>1.1781789</td></tr><tr><td>10</td><td>1</td><td>7</td><td>0.9010218</td></tr><tr><td>77</td><td>1</td><td>12</td><td>1.2516321</td></tr><tr><td>10</td><td>1</td><td>14</td><td>1.1851659</td></tr><tr><td>10</td><td>4</td><td>23</td><td>2.1698163</td></tr><tr><td>77</td><td>1</td><td>23</td><td>1.8048046</td></tr><tr><td>50</td><td>3</td><td>5</td><td>2.2484272</td></tr><tr><td>45</td><td>2</td><td>0</td><td>0.7132328</td></tr><tr><td>45</td><td>1</td><td>4</td><td>1.1048121</td></tr><tr><td>45</td><td>2</td><td>24</td><td>0.9540456</td></tr><tr><td>45</td><td>2</td><td>26</td><td>1.8740722</td></tr><tr><td>38</td><td>5</td><td>18</td><td>0.86078817</td></tr><tr><td>82</td><td>1</td><td>11</td><td>1.410686</td></tr><tr><td>82</td><td>4</td><td>28</td><td>0.7106677</td></tr><tr><td>80</td><td>1</td><td>15</td><td>0.6295865</td></tr><tr><td>80</td><td>1</td><td>16</td><td>1.7437987</td></tr><tr><td>80</td><td>3</td><td>18</td><td>0.8712364</td></tr><tr><td>25</td><td>5</td><td>6</td><td>1.0969096</td></tr><tr><td>73</td><td>1</td><td>6</td><td>0.84734154</td></tr><tr><td>25</td><td>5</td><td>7</td><td>0.9897263</td></tr><tr><td>25</td><td>1</td><td>9</td><td>1.3501347</td></tr><tr><td>73</td><td>1</td><td>13</td><td>1.2939488</td></tr><tr><td>25</td><td>2</td><td>14</td><td>0.5983915</td></tr><tr><td>25</td><td>1</td><td>22</td><td>1.0615658</td></tr><tr><td>25</td><td>1</td><td>23</td><td>1.1079761</td></tr><tr><td>73</td><td>1</td><td>25</td><td>0.67065495</td></tr><tr><td>24</td><td>1</td><td>4</td><td>1.1852927</td></tr><tr><td>24</td><td>1</td><td>14</td><td>0.38094682</td></tr><tr><td>24</td><td>1</td><td>21</td><td>0.89875436</td></tr><tr><td>24</td><td>2</td><td>27</td><td>1.5620735</td></tr><tr><td>70</td><td>1</td><td>5</td><td>1.6175292</td></tr><tr><td>70</td><td>1</td><td>11</td><td>0.9862902</td></tr><tr><td>70</td><td>1</td><td>17</td><td>1.3666401</td></tr><tr><td>70</td><td>1</td><td>27</td><td>1.0151732</td></tr><tr><td>62</td><td>1</td><td>3</td><td>1.7581397</td></tr><tr><td>62</td><td>1</td><td>15</td><td>1.4204334</td></tr><tr><td>62</td><td>3</td><td>28</td><td>1.3168498</td></tr><tr><td>95</td><td>2</td><td>6</td><td>1.9350989</td></tr><tr><td>95</td><td>3</td><td>9</td><td>2.1444156</td></tr><tr><td>95</td><td>2</td><td>16</td><td>1.5689548</td></tr><tr><td>95</td><td>2</td><td>17</td><td>1.893071</td></tr><tr><td>95</td><td>1</td><td>25</td><td>1.2904569</td></tr><tr><td>29</td><td>1</td><td>0</td><td>1.5272546</td></tr><tr><td>29</td><td>3</td><td>3</td><td>1.6223505</td></tr><tr><td>29</td><td>5</td><td>14</td><td>3.801718</td></tr><tr><td>29</td><td>4</td><td>16</td><td>1.9585589</td></tr><tr><td>29</td><td>2</td><td>20</td><td>2.0175796</td></tr><tr><td>29</td><td>5</td><td>21</td><td>3.838481</td></tr><tr><td>21</td><td>1</td><td>9</td><td>1.4805999</td></tr><tr><td>21</td><td>1</td><td>10</td><td>1.0355184</td></tr><tr><td>21</td><td>1</td><td>13</td><td>0.83806294</td></tr><tr><td>21</td><td>2</td><td>16</td><td>1.6186408</td></tr><tr><td>21</td><td>1</td><td>21</td><td>1.2373614</td></tr><tr><td>98</td><td>1</td><td>0</td><td>1.2332699</td></tr><tr><td>98</td><td>1</td><td>4</td><td>1.2553949</td></tr><tr><td>98</td><td>1</td><td>10</td><td>0.8802977</td></tr><tr><td>98</td><td>1</td><td>13</td><td>1.136094</td></tr><tr><td>98</td><td>1</td><td>14</td><td>1.0474046</td></tr><tr><td>98</td><td>3</td><td>16</td><td>3.156299</td></tr><tr><td>98</td><td>1</td><td>24</td><td>2.3884153</td></tr><tr><td>60</td><td>3</td><td>3</td><td>1.1474677</td></tr><tr><td>60</td><td>1</td><td>12</td><td>0.75019455</td></tr><tr><td>32</td><td>1</td><td>16</td><td>3.234248</td></tr><tr><td>32</td><td>1</td><td>18</td><td>1.1819085</td></tr><tr><td>60</td><td>1</td><td>20</td><td>1.4792111</td></tr><tr><td>60</td><td>3</td><td>22</td><td>1.9802873</td></tr><tr><td>60</td><td>1</td><td>23</td><td>0.66902274</td></tr><tr><td>60</td><td>1</td><td>28</td><td>1.2192886</td></tr><tr><td>90</td><td>1</td><td>28</td><td>1.8209097</td></tr><tr><td>32</td><td>4</td><td>29</td><td>2.8398812</td></tr><tr><td>75</td><td>1</td><td>28</td><td>1.3430883</td></tr><tr><td>56</td><td>1</td><td>7</td><td>0.9454976</td></tr><tr><td>56</td><td>2</td><td>12</td><td>2.1955447</td></tr><tr><td>56</td><td>2</td><td>16</td><td>1.6368071</td></tr><tr><td>56</td><td>1</td><td>21</td><td>1.1642599</td></tr><tr><td>56</td><td>2</td><td>22</td><td>1.6557035</td></tr><tr><td>56</td><td>1</td><td>25</td><td>1.013879</td></tr><tr><td>58</td><td>1</td><td>9</td><td>2.0368097</td></tr><tr><td>33</td><td>1</td><td>6</td><td>1.3839675</td></tr><tr><td>11</td><td>1</td><td>11</td><td>1.2310452</td></tr><tr><td>33</td><td>2</td><td>15</td><td>1.9856156</td></tr><tr><td>11</td><td>1</td><td>21</td><td>0.84499276</td></tr><tr><td>33</td><td>2</td><td>23</td><td>1.027475</td></tr><tr><td>33</td><td>3</td><td>27</td><td>1.166933</td></tr><tr><td>33</td><td>2</td><td>29</td><td>1.1358865</td></tr><tr><td>83</td><td>1</td><td>0</td><td>0.7556419</td></tr><tr><td>83</td><td>1</td><td>3</td><td>1.9988238</td></tr><tr><td>83</td><td>1</td><td>9</td><td>0.6700797</td></tr><tr><td>83</td><td>1</td><td>14</td><td>1.4634964</td></tr><tr><td>83</td><td>1</td><td>23</td><td>1.3070787</td></tr><tr><td>68</td><td>1</td><td>2</td><td>0.41139394</td></tr><tr><td>71</td><td>1</td><td>5</td><td>1.1875674</td></tr><tr><td>68</td><td>1</td><td>9</td><td>2.3994496</td></tr><tr><td>68</td><td>1</td><td>13</td><td>0.9142208</td></tr><tr><td>71</td><td>1</td><td>14</td><td>1.629119</td></tr><tr><td>68</td><td>1</td><td>21</td><td>1.7336913</td></tr><tr><td>68</td><td>1</td><td>25</td><td>0.85155934</td></tr><tr><td>14</td><td>1</td><td>3</td><td>0.71784425</td></tr><tr><td>14</td><td>1</td><td>12</td><td>1.6115289</td></tr><tr><td>14</td><td>3</td><td>14</td><td>2.4147747</td></tr><tr><td>14</td><td>1</td><td>23</td><td>1.870747</td></tr><tr><td>14</td><td>1</td><td>28</td><td>1.040016</td></tr><tr><td>42</td><td>1</td><td>18</td><td>1.4849758</td></tr><tr><td>42</td><td>1</td><td>29</td><td>0.9868031</td></tr><tr><td>79</td><td>3</td><td>12</td><td>1.7427772</td></tr><tr><td>2</td><td>1</td><td>26</td><td>1.9685379</td></tr><tr><td>79</td><td>2</td><td>29</td><td>1.8830084</td></tr><tr><td>30</td><td>1</td><td>4</td><td>2.3861635</td></tr><tr><td>30</td><td>1</td><td>7</td><td>1.1667249</td></tr><tr><td>30</td><td>2</td><td>16</td><td>3.369133</td></tr><tr><td>30</td><td>2</td><td>21</td><td>2.77891</td></tr><tr><td>30</td><td>1</td><td>25</td><td>0.8133199</td></tr><tr><td>99</td><td>1</td><td>28</td><td>1.2354314</td></tr><tr><td>99</td><td>1</td><td>29</td><td>0.8632857</td></tr><tr><td>66</td><td>1</td><td>3</td><td>1.748319</td></tr><tr><td>66</td><td>3</td><td>18</td><td>1.3293552</td></tr><tr><td>66</td><td>1</td><td>22</td><td>1.029957</td></tr><tr><td>66</td><td>3</td><td>27</td><td>2.1955025</td></tr><tr><td>67</td><td>1</td><td>12</td><td>1.6681631</td></tr><tr><td>67</td><td>1</td><td>16</td><td>1.2564383</td></tr><tr><td>0</td><td>1</td><td>5</td><td>1.1704016</td></tr><tr><td>0</td><td>1</td><td>15</td><td>0.9857975</td></tr><tr><td>0</td><td>1</td><td>23</td><td>1.0577465</td></tr><tr><td>0</td><td>1</td><td>26</td><td>1.6285828</td></tr><tr><td>0</td><td>1</td><td>27</td><td>0.7706514</td></tr><tr><td>18</td><td>2</td><td>2</td><td>2.8718674</td></tr><tr><td>18</td><td>1</td><td>8</td><td>1.6468875</td></tr><tr><td>18</td><td>1</td><td>10</td><td>1.0659404</td></tr><tr><td>74</td><td>1</td><td>16</td><td>2.2248073</td></tr><tr><td>74</td><td>5</td><td>22</td><td>3.369535</td></tr><tr><td>74</td><td>1</td><td>29</td><td>1.2262231</td></tr><tr><td>36</td><td>3</td><td>3</td><td>2.1422482</td></tr><tr><td>36</td><td>3</td><td>5</td><td>1.9490606</td></tr><tr><td>36</td><td>2</td><td>9</td><td>2.1161878</td></tr></tbody></table></div>"
      ]
     },
     "metadata": {
      "application/vnd.databricks.v1+output": {
       "addedWidgets": {},
       "aggData": [],
       "aggError": "",
       "aggOverflow": false,
       "aggSchema": [],
       "aggSeriesLimitReached": false,
       "aggType": "",
       "arguments": {},
       "columnCustomDisplayInfos": {},
       "data": [
        [
         31,
         1,
         0,
         1.1813673
        ],
        [
         31,
         1,
         13,
         1.4173347
        ],
        [
         31,
         1,
         19,
         1.2622163
        ],
        [
         31,
         1,
         27,
         1.0882876
        ],
        [
         31,
         1,
         29,
         1.68816
        ],
        [
         85,
         1,
         2,
         1.1283349
        ],
        [
         85,
         1,
         15,
         0.98939586
        ],
        [
         85,
         2,
         20,
         2.3875895
        ],
        [
         85,
         3,
         21,
         2.6229606
        ],
        [
         65,
         1,
         2,
         1.0328238
        ],
        [
         65,
         1,
         22,
         1.7555231
        ],
        [
         65,
         5,
         23,
         1.9339072
        ],
        [
         53,
         3,
         14,
         3.092984
        ],
        [
         78,
         1,
         12,
         0.7766976
        ],
        [
         78,
         1,
         19,
         0.72278076
        ],
        [
         78,
         1,
         22,
         1.16471
        ],
        [
         34,
         1,
         14,
         1.500626
        ],
        [
         34,
         1,
         16,
         1.4648228
        ],
        [
         81,
         1,
         19,
         0.7962596
        ],
        [
         81,
         2,
         29,
         2.203781
        ],
        [
         28,
         1,
         23,
         0.8208971
        ],
        [
         76,
         3,
         3,
         0.59804887
        ],
        [
         76,
         5,
         14,
         1.5524925
        ],
        [
         76,
         1,
         19,
         0.4447223
        ],
        [
         76,
         1,
         20,
         0.4107644
        ],
        [
         76,
         1,
         26,
         1.0285966
        ],
        [
         27,
         5,
         12,
         2.3771477
        ],
        [
         26,
         1,
         20,
         1.199477
        ],
        [
         27,
         3,
         27,
         2.274826
        ],
        [
         44,
         1,
         4,
         0.74398875
        ],
        [
         44,
         2,
         12,
         0.98131776
        ],
        [
         44,
         1,
         28,
         1.4784435
        ],
        [
         12,
         1,
         1,
         1.0610495
        ],
        [
         12,
         3,
         2,
         1.9798928
        ],
        [
         12,
         1,
         14,
         0.2126529
        ],
        [
         12,
         2,
         18,
         1.7211663
        ],
        [
         12,
         3,
         25,
         0.5926994
        ],
        [
         91,
         2,
         15,
         2.5558271
        ],
        [
         22,
         1,
         6,
         0.6842042
        ],
        [
         22,
         1,
         13,
         1.2228724
        ],
        [
         22,
         1,
         25,
         1.212774
        ],
        [
         22,
         3,
         29,
         2.494401
        ],
        [
         93,
         1,
         27,
         2.601899
        ],
        [
         93,
         1,
         29,
         1.2398431
        ],
        [
         47,
         1,
         1,
         1.4966911
        ],
        [
         47,
         3,
         16,
         1.6810218
        ],
        [
         47,
         1,
         18,
         1.9098891
        ],
        [
         1,
         1,
         4,
         0.72295356
        ],
        [
         1,
         1,
         28,
         0.6796347
        ],
        [
         52,
         3,
         3,
         1.524859
        ],
        [
         52,
         2,
         13,
         2.644568
        ],
        [
         13,
         2,
         10,
         1.110342
        ],
        [
         16,
         1,
         1,
         0.86875546
        ],
        [
         16,
         1,
         3,
         0.75665724
        ],
        [
         86,
         1,
         7,
         0.8896314
        ],
        [
         86,
         1,
         10,
         0.7447072
        ],
        [
         6,
         2,
         11,
         1.6831032
        ],
        [
         86,
         1,
         11,
         0.82020766
        ],
        [
         6,
         1,
         13,
         0.99992234
        ],
        [
         86,
         1,
         13,
         0.8274593
        ],
        [
         6,
         1,
         15,
         0.7044581
        ],
        [
         6,
         1,
         17,
         1.1909778
        ],
        [
         6,
         2,
         19,
         1.4272529
        ],
        [
         6,
         2,
         23,
         1.3553338
        ],
        [
         6,
         3,
         26,
         1.6235454
        ],
        [
         3,
         1,
         1,
         1.0594983
        ],
        [
         3,
         2,
         8,
         1.3754337
        ],
        [
         3,
         3,
         14,
         1.1441283
        ],
        [
         3,
         1,
         21,
         1.337378
        ],
        [
         20,
         1,
         6,
         0.8282303
        ],
        [
         40,
         1,
         11,
         1.3738302
        ],
        [
         40,
         2,
         13,
         1.8445141
        ],
        [
         40,
         1,
         18,
         2.028571
        ],
        [
         20,
         1,
         21,
         1.0993999
        ],
        [
         40,
         2,
         21,
         2.1017067
        ],
        [
         20,
         1,
         26,
         2.324135
        ],
        [
         40,
         1,
         26,
         1.5202258
        ],
        [
         94,
         1,
         13,
         1.5447174
        ],
        [
         94,
         1,
         25,
         1.6071478
        ],
        [
         57,
         1,
         27,
         1.219895
        ],
        [
         54,
         1,
         0,
         0.72165066
        ],
        [
         54,
         1,
         12,
         1.3185945
        ],
        [
         96,
         1,
         12,
         0.74119145
        ],
        [
         96,
         1,
         15,
         0.6155216
        ],
        [
         96,
         3,
         16,
         2.4119477
        ],
        [
         96,
         1,
         19,
         1.8091439
        ],
        [
         48,
         1,
         14,
         0.87620425
        ],
        [
         48,
         1,
         21,
         0.96191525
        ],
        [
         48,
         1,
         26,
         1.934104
        ],
        [
         5,
         1,
         9,
         0.9373596
        ],
        [
         5,
         3,
         16,
         1.0544333
        ],
        [
         5,
         2,
         22,
         1.4683573
        ],
        [
         19,
         1,
         0,
         0.9371593
        ],
        [
         19,
         2,
         15,
         0.78054744
        ],
        [
         19,
         1,
         22,
         0.81200314
        ],
        [
         19,
         1,
         24,
         1.3657666
        ],
        [
         19,
         3,
         28,
         1.8048316
        ],
        [
         19,
         3,
         29,
         1.3897191
        ],
        [
         92,
         4,
         0,
         0.9404823
        ],
        [
         92,
         4,
         2,
         1.1196576
        ],
        [
         92,
         1,
         27,
         1.1942234
        ],
        [
         92,
         5,
         28,
         1.0437186
        ],
        [
         64,
         1,
         8,
         0.9676683
        ],
        [
         64,
         1,
         19,
         1.570311
        ],
        [
         64,
         1,
         27,
         1.1236213
        ],
        [
         41,
         1,
         12,
         0.9257588
        ],
        [
         15,
         1,
         0,
         0.8323572
        ],
        [
         15,
         1,
         3,
         0.8998304
        ],
        [
         15,
         2,
         6,
         0.9251426
        ],
        [
         15,
         1,
         14,
         1.022438
        ],
        [
         43,
         1,
         19,
         1.2830371
        ],
        [
         43,
         1,
         23,
         1.8628498
        ],
        [
         15,
         1,
         29,
         1.14219
        ],
        [
         37,
         5,
         2,
         1.4110876
        ],
        [
         37,
         2,
         9,
         1.4351116
        ],
        [
         37,
         1,
         15,
         0.91401416
        ],
        [
         37,
         1,
         17,
         0.98504376
        ],
        [
         37,
         1,
         23,
         1.4212157
        ],
        [
         37,
         1,
         24,
         1.519908
        ],
        [
         61,
         1,
         11,
         1.0705647
        ],
        [
         61,
         1,
         20,
         1.0842104
        ],
        [
         61,
         1,
         27,
         0.58615595
        ],
        [
         9,
         4,
         0,
         0.8108733
        ],
        [
         9,
         1,
         2,
         0.7061881
        ],
        [
         17,
         1,
         4,
         0.8032772
        ],
        [
         9,
         1,
         9,
         1.6460528
        ],
        [
         17,
         1,
         28,
         0.86525536
        ],
        [
         72,
         1,
         12,
         1.0502044
        ],
        [
         72,
         1,
         17,
         0.8122579
        ],
        [
         72,
         1,
         27,
         1.6769481
        ],
        [
         35,
         1,
         3,
         1.120654
        ],
        [
         35,
         2,
         15,
         2.1119573
        ],
        [
         59,
         2,
         0,
         1.0340987
        ],
        [
         4,
         3,
         2,
         2.1789849
        ],
        [
         55,
         1,
         2,
         1.7637336
        ],
        [
         55,
         1,
         6,
         1.03506
        ],
        [
         59,
         1,
         7,
         0.88869697
        ],
        [
         59,
         1,
         9,
         1.3682778
        ],
        [
         4,
         3,
         10,
         1.1694404
        ],
        [
         55,
         2,
         10,
         1.3155661
        ],
        [
         55,
         1,
         14,
         1.1102892
        ],
        [
         55,
         1,
         20,
         1.5525486
        ],
        [
         4,
         1,
         23,
         1.0962338
        ],
        [
         4,
         1,
         24,
         1.2949315
        ],
        [
         59,
         1,
         29,
         0.7138322
        ],
        [
         23,
         1,
         4,
         1.3466009
        ],
        [
         23,
         1,
         7,
         0.98747975
        ],
        [
         23,
         3,
         12,
         2.8464708
        ],
        [
         23,
         2,
         15,
         1.7189673
        ],
        [
         39,
         1,
         23,
         0.8136395
        ],
        [
         49,
         1,
         6,
         1.720592
        ],
        [
         49,
         1,
         14,
         0.97587687
        ],
        [
         7,
         3,
         3,
         1.9450743
        ],
        [
         7,
         1,
         25,
         0.7247097
        ],
        [
         84,
         2,
         7,
         0.98697495
        ],
        [
         84,
         1,
         9,
         0.7634554
        ],
        [
         84,
         1,
         19,
         0.83914554
        ],
        [
         84,
         1,
         21,
         1.0484356
        ],
        [
         84,
         1,
         24,
         0.802263
        ],
        [
         51,
         3,
         27,
         2.1234007
        ],
        [
         69,
         1,
         0,
         0.57744896
        ],
        [
         69,
         5,
         11,
         2.0648508
        ],
        [
         69,
         4,
         22,
         2.0193434
        ],
        [
         69,
         1,
         23,
         1.1910306
        ],
        [
         97,
         3,
         11,
         1.2685956
        ],
        [
         97,
         1,
         17,
         1.1923987
        ],
        [
         97,
         1,
         23,
         1.5902244
        ],
        [
         63,
         1,
         10,
         1.0243708
        ],
        [
         63,
         1,
         22,
         1.9412736
        ],
        [
         77,
         2,
         0,
         1.2892497
        ],
        [
         77,
         1,
         2,
         1.1781789
        ],
        [
         10,
         1,
         7,
         0.9010218
        ],
        [
         77,
         1,
         12,
         1.2516321
        ],
        [
         10,
         1,
         14,
         1.1851659
        ],
        [
         10,
         4,
         23,
         2.1698163
        ],
        [
         77,
         1,
         23,
         1.8048046
        ],
        [
         50,
         3,
         5,
         2.2484272
        ],
        [
         45,
         2,
         0,
         0.7132328
        ],
        [
         45,
         1,
         4,
         1.1048121
        ],
        [
         45,
         2,
         24,
         0.9540456
        ],
        [
         45,
         2,
         26,
         1.8740722
        ],
        [
         38,
         5,
         18,
         0.86078817
        ],
        [
         82,
         1,
         11,
         1.410686
        ],
        [
         82,
         4,
         28,
         0.7106677
        ],
        [
         80,
         1,
         15,
         0.6295865
        ],
        [
         80,
         1,
         16,
         1.7437987
        ],
        [
         80,
         3,
         18,
         0.8712364
        ],
        [
         25,
         5,
         6,
         1.0969096
        ],
        [
         73,
         1,
         6,
         0.84734154
        ],
        [
         25,
         5,
         7,
         0.9897263
        ],
        [
         25,
         1,
         9,
         1.3501347
        ],
        [
         73,
         1,
         13,
         1.2939488
        ],
        [
         25,
         2,
         14,
         0.5983915
        ],
        [
         25,
         1,
         22,
         1.0615658
        ],
        [
         25,
         1,
         23,
         1.1079761
        ],
        [
         73,
         1,
         25,
         0.67065495
        ],
        [
         24,
         1,
         4,
         1.1852927
        ],
        [
         24,
         1,
         14,
         0.38094682
        ],
        [
         24,
         1,
         21,
         0.89875436
        ],
        [
         24,
         2,
         27,
         1.5620735
        ],
        [
         70,
         1,
         5,
         1.6175292
        ],
        [
         70,
         1,
         11,
         0.9862902
        ],
        [
         70,
         1,
         17,
         1.3666401
        ],
        [
         70,
         1,
         27,
         1.0151732
        ],
        [
         62,
         1,
         3,
         1.7581397
        ],
        [
         62,
         1,
         15,
         1.4204334
        ],
        [
         62,
         3,
         28,
         1.3168498
        ],
        [
         95,
         2,
         6,
         1.9350989
        ],
        [
         95,
         3,
         9,
         2.1444156
        ],
        [
         95,
         2,
         16,
         1.5689548
        ],
        [
         95,
         2,
         17,
         1.893071
        ],
        [
         95,
         1,
         25,
         1.2904569
        ],
        [
         29,
         1,
         0,
         1.5272546
        ],
        [
         29,
         3,
         3,
         1.6223505
        ],
        [
         29,
         5,
         14,
         3.801718
        ],
        [
         29,
         4,
         16,
         1.9585589
        ],
        [
         29,
         2,
         20,
         2.0175796
        ],
        [
         29,
         5,
         21,
         3.838481
        ],
        [
         21,
         1,
         9,
         1.4805999
        ],
        [
         21,
         1,
         10,
         1.0355184
        ],
        [
         21,
         1,
         13,
         0.83806294
        ],
        [
         21,
         2,
         16,
         1.6186408
        ],
        [
         21,
         1,
         21,
         1.2373614
        ],
        [
         98,
         1,
         0,
         1.2332699
        ],
        [
         98,
         1,
         4,
         1.2553949
        ],
        [
         98,
         1,
         10,
         0.8802977
        ],
        [
         98,
         1,
         13,
         1.136094
        ],
        [
         98,
         1,
         14,
         1.0474046
        ],
        [
         98,
         3,
         16,
         3.156299
        ],
        [
         98,
         1,
         24,
         2.3884153
        ],
        [
         60,
         3,
         3,
         1.1474677
        ],
        [
         60,
         1,
         12,
         0.75019455
        ],
        [
         32,
         1,
         16,
         3.234248
        ],
        [
         32,
         1,
         18,
         1.1819085
        ],
        [
         60,
         1,
         20,
         1.4792111
        ],
        [
         60,
         3,
         22,
         1.9802873
        ],
        [
         60,
         1,
         23,
         0.66902274
        ],
        [
         60,
         1,
         28,
         1.2192886
        ],
        [
         90,
         1,
         28,
         1.8209097
        ],
        [
         32,
         4,
         29,
         2.8398812
        ],
        [
         75,
         1,
         28,
         1.3430883
        ],
        [
         56,
         1,
         7,
         0.9454976
        ],
        [
         56,
         2,
         12,
         2.1955447
        ],
        [
         56,
         2,
         16,
         1.6368071
        ],
        [
         56,
         1,
         21,
         1.1642599
        ],
        [
         56,
         2,
         22,
         1.6557035
        ],
        [
         56,
         1,
         25,
         1.013879
        ],
        [
         58,
         1,
         9,
         2.0368097
        ],
        [
         33,
         1,
         6,
         1.3839675
        ],
        [
         11,
         1,
         11,
         1.2310452
        ],
        [
         33,
         2,
         15,
         1.9856156
        ],
        [
         11,
         1,
         21,
         0.84499276
        ],
        [
         33,
         2,
         23,
         1.027475
        ],
        [
         33,
         3,
         27,
         1.166933
        ],
        [
         33,
         2,
         29,
         1.1358865
        ],
        [
         83,
         1,
         0,
         0.7556419
        ],
        [
         83,
         1,
         3,
         1.9988238
        ],
        [
         83,
         1,
         9,
         0.6700797
        ],
        [
         83,
         1,
         14,
         1.4634964
        ],
        [
         83,
         1,
         23,
         1.3070787
        ],
        [
         68,
         1,
         2,
         0.41139394
        ],
        [
         71,
         1,
         5,
         1.1875674
        ],
        [
         68,
         1,
         9,
         2.3994496
        ],
        [
         68,
         1,
         13,
         0.9142208
        ],
        [
         71,
         1,
         14,
         1.629119
        ],
        [
         68,
         1,
         21,
         1.7336913
        ],
        [
         68,
         1,
         25,
         0.85155934
        ],
        [
         14,
         1,
         3,
         0.71784425
        ],
        [
         14,
         1,
         12,
         1.6115289
        ],
        [
         14,
         3,
         14,
         2.4147747
        ],
        [
         14,
         1,
         23,
         1.870747
        ],
        [
         14,
         1,
         28,
         1.040016
        ],
        [
         42,
         1,
         18,
         1.4849758
        ],
        [
         42,
         1,
         29,
         0.9868031
        ],
        [
         79,
         3,
         12,
         1.7427772
        ],
        [
         2,
         1,
         26,
         1.9685379
        ],
        [
         79,
         2,
         29,
         1.8830084
        ],
        [
         30,
         1,
         4,
         2.3861635
        ],
        [
         30,
         1,
         7,
         1.1667249
        ],
        [
         30,
         2,
         16,
         3.369133
        ],
        [
         30,
         2,
         21,
         2.77891
        ],
        [
         30,
         1,
         25,
         0.8133199
        ],
        [
         99,
         1,
         28,
         1.2354314
        ],
        [
         99,
         1,
         29,
         0.8632857
        ],
        [
         66,
         1,
         3,
         1.748319
        ],
        [
         66,
         3,
         18,
         1.3293552
        ],
        [
         66,
         1,
         22,
         1.029957
        ],
        [
         66,
         3,
         27,
         2.1955025
        ],
        [
         67,
         1,
         12,
         1.6681631
        ],
        [
         67,
         1,
         16,
         1.2564383
        ],
        [
         0,
         1,
         5,
         1.1704016
        ],
        [
         0,
         1,
         15,
         0.9857975
        ],
        [
         0,
         1,
         23,
         1.0577465
        ],
        [
         0,
         1,
         26,
         1.6285828
        ],
        [
         0,
         1,
         27,
         0.7706514
        ],
        [
         18,
         2,
         2,
         2.8718674
        ],
        [
         18,
         1,
         8,
         1.6468875
        ],
        [
         18,
         1,
         10,
         1.0659404
        ],
        [
         74,
         1,
         16,
         2.2248073
        ],
        [
         74,
         5,
         22,
         3.369535
        ],
        [
         74,
         1,
         29,
         1.2262231
        ],
        [
         36,
         3,
         3,
         2.1422482
        ],
        [
         36,
         3,
         5,
         1.9490606
        ],
        [
         36,
         2,
         9,
         2.1161878
        ]
       ],
       "datasetInfos": [],
       "dbfsResultPath": null,
       "isJsonSchema": true,
       "metadata": {},
       "overflow": false,
       "plotOptions": {
        "customPlotOptions": {},
        "displayType": "table",
        "pivotAggregation": null,
        "pivotColumns": null,
        "xColumns": null,
        "yColumns": null
       },
       "removedWidgets": [],
       "schema": [
        {
         "metadata": "{}",
         "name": "movieId",
         "type": "\"integer\""
        },
        {
         "metadata": "{}",
         "name": "rating",
         "type": "\"integer\""
        },
        {
         "metadata": "{}",
         "name": "userId",
         "type": "\"integer\""
        },
        {
         "metadata": "{}",
         "name": "prediction",
         "type": "\"float\""
        }
       ],
       "type": "table"
      }
     },
     "output_type": "display_data"
    }
   ],
   "source": [
    "display(test2_predictions_tv)"
   ]
  },
  {
   "cell_type": "code",
   "execution_count": 0,
   "metadata": {
    "application/vnd.databricks.v1+cell": {
     "inputWidgets": {},
     "nuid": "01a7d42c-378a-488e-a55b-c9d32bf60d56",
     "showTitle": true,
     "title": "Using Train Validation Split"
    }
   },
   "outputs": [
    {
     "data": {
      "text/html": [
       "<style scoped>\n",
       "  .ansiout {\n",
       "    display: block;\n",
       "    unicode-bidi: embed;\n",
       "    white-space: pre-wrap;\n",
       "    word-wrap: break-word;\n",
       "    word-break: break-all;\n",
       "    font-family: \"Source Code Pro\", \"Menlo\", monospace;;\n",
       "    font-size: 13px;\n",
       "    color: #555;\n",
       "    margin-left: 4px;\n",
       "    line-height: 19px;\n",
       "  }\n",
       "</style>\n",
       "<div class=\"ansiout\"></div>"
      ]
     },
     "metadata": {
      "application/vnd.databricks.v1+output": {
       "addedWidgets": {},
       "arguments": {},
       "data": "<div class=\"ansiout\"></div>",
       "datasetInfos": [],
       "metadata": {},
       "removedWidgets": [],
       "type": "html"
      }
     },
     "output_type": "display_data"
    }
   ],
   "source": [
    "trainvs = TrainValidationSplit(estimator=als, estimatorParamMaps=param_grid, evaluator=evaluator_rmse)"
   ]
  },
  {
   "cell_type": "code",
   "execution_count": 0,
   "metadata": {
    "application/vnd.databricks.v1+cell": {
     "inputWidgets": {},
     "nuid": "1f99bd81-903b-4692-8717-fa8665c0329a",
     "showTitle": false,
     "title": ""
    }
   },
   "outputs": [
    {
     "data": {
      "text/html": [
       "<style scoped>\n",
       "  .ansiout {\n",
       "    display: block;\n",
       "    unicode-bidi: embed;\n",
       "    white-space: pre-wrap;\n",
       "    word-wrap: break-word;\n",
       "    word-break: break-all;\n",
       "    font-family: \"Source Code Pro\", \"Menlo\", monospace;;\n",
       "    font-size: 13px;\n",
       "    color: #555;\n",
       "    margin-left: 4px;\n",
       "    line-height: 19px;\n",
       "  }\n",
       "</style>\n",
       "<div class=\"ansiout\"></div>"
      ]
     },
     "metadata": {
      "application/vnd.databricks.v1+output": {
       "addedWidgets": {},
       "arguments": {},
       "data": "<div class=\"ansiout\"></div>",
       "datasetInfos": [],
       "metadata": {},
       "removedWidgets": [],
       "type": "html"
      }
     },
     "output_type": "display_data"
    }
   ],
   "source": [
    "tv_model = trainvs.fit(training2)"
   ]
  },
  {
   "cell_type": "code",
   "execution_count": 0,
   "metadata": {
    "application/vnd.databricks.v1+cell": {
     "inputWidgets": {},
     "nuid": "a79496bc-ca02-4b60-87b7-35429b361c65",
     "showTitle": false,
     "title": ""
    }
   },
   "outputs": [
    {
     "data": {
      "text/html": [
       "<style scoped>\n",
       "  .ansiout {\n",
       "    display: block;\n",
       "    unicode-bidi: embed;\n",
       "    white-space: pre-wrap;\n",
       "    word-wrap: break-word;\n",
       "    word-break: break-all;\n",
       "    font-family: \"Source Code Pro\", \"Menlo\", monospace;;\n",
       "    font-size: 13px;\n",
       "    color: #555;\n",
       "    margin-left: 4px;\n",
       "    line-height: 19px;\n",
       "  }\n",
       "</style>\n",
       "<div class=\"ansiout\"></div>"
      ]
     },
     "metadata": {
      "application/vnd.databricks.v1+output": {
       "addedWidgets": {},
       "arguments": {},
       "data": "<div class=\"ansiout\"></div>",
       "datasetInfos": [],
       "metadata": {},
       "removedWidgets": [],
       "type": "html"
      }
     },
     "output_type": "display_data"
    }
   ],
   "source": [
    "#Extract best model from the cv model above\n",
    "best_model_tV = tv_model.bestModel\n"
   ]
  },
  {
   "cell_type": "code",
   "execution_count": 0,
   "metadata": {
    "application/vnd.databricks.v1+cell": {
     "inputWidgets": {},
     "nuid": "8c69b0c4-5dae-4cd6-95ec-cea46ffd6aab",
     "showTitle": false,
     "title": ""
    }
   },
   "outputs": [
    {
     "data": {
      "text/html": [
       "<style scoped>\n",
       "  .ansiout {\n",
       "    display: block;\n",
       "    unicode-bidi: embed;\n",
       "    white-space: pre-wrap;\n",
       "    word-wrap: break-word;\n",
       "    word-break: break-all;\n",
       "    font-family: \"Source Code Pro\", \"Menlo\", monospace;;\n",
       "    font-size: 13px;\n",
       "    color: #555;\n",
       "    margin-left: 4px;\n",
       "    line-height: 19px;\n",
       "  }\n",
       "</style>\n",
       "<div class=\"ansiout\">  Rank: 50\n",
       "  MaxIter: 25\n",
       "  RegParam: 0.1\n",
       "</div>"
      ]
     },
     "metadata": {
      "application/vnd.databricks.v1+output": {
       "addedWidgets": {},
       "arguments": {},
       "data": "<div class=\"ansiout\">  Rank: 50\n  MaxIter: 25\n  RegParam: 0.1\n</div>",
       "datasetInfos": [],
       "metadata": {},
       "removedWidgets": [],
       "type": "html"
      }
     },
     "output_type": "display_data"
    }
   ],
   "source": [
    "# Print \"Rank\"\n",
    "print(\"  Rank:\", best_model_tV._java_obj.parent().getRank())\n",
    "# Print \"MaxIter\"\n",
    "print(\"  MaxIter:\", best_model_tV._java_obj.parent().getMaxIter())\n",
    "# Print \"RegParam\"\n",
    "print(\"  RegParam:\", best_model_tV._java_obj.parent().getRegParam())"
   ]
  },
  {
   "cell_type": "code",
   "execution_count": 0,
   "metadata": {
    "application/vnd.databricks.v1+cell": {
     "inputWidgets": {},
     "nuid": "160befc8-ef17-4495-82c0-43ec42ed61da",
     "showTitle": false,
     "title": ""
    }
   },
   "outputs": [
    {
     "data": {
      "text/html": [
       "<style scoped>\n",
       "  .ansiout {\n",
       "    display: block;\n",
       "    unicode-bidi: embed;\n",
       "    white-space: pre-wrap;\n",
       "    word-wrap: break-word;\n",
       "    word-break: break-all;\n",
       "    font-family: \"Source Code Pro\", \"Menlo\", monospace;;\n",
       "    font-size: 13px;\n",
       "    color: #555;\n",
       "    margin-left: 4px;\n",
       "    line-height: 19px;\n",
       "  }\n",
       "</style>\n",
       "<div class=\"ansiout\">RMSE Value is:  1.001091579255891\n",
       "</div>"
      ]
     },
     "metadata": {
      "application/vnd.databricks.v1+output": {
       "addedWidgets": {},
       "arguments": {},
       "data": "<div class=\"ansiout\">RMSE Value is:  1.001091579255891\n</div>",
       "datasetInfos": [
        {
         "name": "test2_predictions_tv",
         "schema": {
          "fields": [
           {
            "metadata": {},
            "name": "movieId",
            "nullable": true,
            "type": "integer"
           },
           {
            "metadata": {},
            "name": "rating",
            "nullable": true,
            "type": "integer"
           },
           {
            "metadata": {},
            "name": "userId",
            "nullable": true,
            "type": "integer"
           },
           {
            "metadata": {},
            "name": "prediction",
            "nullable": false,
            "type": "float"
           }
          ],
          "type": "struct"
         },
         "tableIdentifier": null,
         "typeStr": "pyspark.sql.dataframe.DataFrame"
        }
       ],
       "metadata": {},
       "removedWidgets": [],
       "type": "html"
      }
     },
     "output_type": "display_data"
    }
   ],
   "source": [
    "# View the predictions\n",
    "test2_predictions_tv = best_model_tV.transform(test2)\n",
    "RMSE_tv = evaluator_rmse.evaluate(test2_predictions_tv)\n",
    "print(\"RMSE Value is: \", RMSE_tv)"
   ]
  },
  {
   "cell_type": "code",
   "execution_count": 0,
   "metadata": {
    "application/vnd.databricks.v1+cell": {
     "inputWidgets": {},
     "nuid": "d6832de2-18ca-4ae8-95ea-d0b7c1d7a108",
     "showTitle": false,
     "title": ""
    }
   },
   "outputs": [
    {
     "data": {
      "text/html": [
       "<style scoped>\n",
       "  .table-result-container {\n",
       "    max-height: 300px;\n",
       "    overflow: auto;\n",
       "  }\n",
       "  table, th, td {\n",
       "    border: 1px solid black;\n",
       "    border-collapse: collapse;\n",
       "  }\n",
       "  th, td {\n",
       "    padding: 5px;\n",
       "  }\n",
       "  th {\n",
       "    text-align: left;\n",
       "  }\n",
       "</style><div class='table-result-container'><table class='table-result'><thead style='background-color: white'><tr><th>movieId</th><th>rating</th><th>userId</th><th>prediction</th></tr></thead><tbody><tr><td>31</td><td>1</td><td>0</td><td>1.1813673</td></tr><tr><td>31</td><td>1</td><td>13</td><td>1.4173347</td></tr><tr><td>31</td><td>1</td><td>19</td><td>1.2622163</td></tr><tr><td>31</td><td>1</td><td>27</td><td>1.0882876</td></tr><tr><td>31</td><td>1</td><td>29</td><td>1.68816</td></tr><tr><td>85</td><td>1</td><td>2</td><td>1.1283349</td></tr><tr><td>85</td><td>1</td><td>15</td><td>0.98939586</td></tr><tr><td>85</td><td>2</td><td>20</td><td>2.3875895</td></tr><tr><td>85</td><td>3</td><td>21</td><td>2.6229606</td></tr><tr><td>65</td><td>1</td><td>2</td><td>1.0328238</td></tr><tr><td>65</td><td>1</td><td>22</td><td>1.7555231</td></tr><tr><td>65</td><td>5</td><td>23</td><td>1.9339072</td></tr><tr><td>53</td><td>3</td><td>14</td><td>3.092984</td></tr><tr><td>78</td><td>1</td><td>12</td><td>0.7766976</td></tr><tr><td>78</td><td>1</td><td>19</td><td>0.72278076</td></tr><tr><td>78</td><td>1</td><td>22</td><td>1.16471</td></tr><tr><td>34</td><td>1</td><td>14</td><td>1.500626</td></tr><tr><td>34</td><td>1</td><td>16</td><td>1.4648228</td></tr><tr><td>81</td><td>1</td><td>19</td><td>0.7962596</td></tr><tr><td>81</td><td>2</td><td>29</td><td>2.203781</td></tr><tr><td>28</td><td>1</td><td>23</td><td>0.8208971</td></tr><tr><td>76</td><td>3</td><td>3</td><td>0.59804887</td></tr><tr><td>76</td><td>5</td><td>14</td><td>1.5524925</td></tr><tr><td>76</td><td>1</td><td>19</td><td>0.4447223</td></tr><tr><td>76</td><td>1</td><td>20</td><td>0.4107644</td></tr><tr><td>76</td><td>1</td><td>26</td><td>1.0285966</td></tr><tr><td>27</td><td>5</td><td>12</td><td>2.3771477</td></tr><tr><td>26</td><td>1</td><td>20</td><td>1.199477</td></tr><tr><td>27</td><td>3</td><td>27</td><td>2.274826</td></tr><tr><td>44</td><td>1</td><td>4</td><td>0.74398875</td></tr><tr><td>44</td><td>2</td><td>12</td><td>0.98131776</td></tr><tr><td>44</td><td>1</td><td>28</td><td>1.4784435</td></tr><tr><td>12</td><td>1</td><td>1</td><td>1.0610495</td></tr><tr><td>12</td><td>3</td><td>2</td><td>1.9798928</td></tr><tr><td>12</td><td>1</td><td>14</td><td>0.2126529</td></tr><tr><td>12</td><td>2</td><td>18</td><td>1.7211663</td></tr><tr><td>12</td><td>3</td><td>25</td><td>0.5926994</td></tr><tr><td>91</td><td>2</td><td>15</td><td>2.5558271</td></tr><tr><td>22</td><td>1</td><td>6</td><td>0.6842042</td></tr><tr><td>22</td><td>1</td><td>13</td><td>1.2228724</td></tr><tr><td>22</td><td>1</td><td>25</td><td>1.212774</td></tr><tr><td>22</td><td>3</td><td>29</td><td>2.494401</td></tr><tr><td>93</td><td>1</td><td>27</td><td>2.601899</td></tr><tr><td>93</td><td>1</td><td>29</td><td>1.2398431</td></tr><tr><td>47</td><td>1</td><td>1</td><td>1.4966911</td></tr><tr><td>47</td><td>3</td><td>16</td><td>1.6810218</td></tr><tr><td>47</td><td>1</td><td>18</td><td>1.9098891</td></tr><tr><td>1</td><td>1</td><td>4</td><td>0.72295356</td></tr><tr><td>1</td><td>1</td><td>28</td><td>0.6796347</td></tr><tr><td>52</td><td>3</td><td>3</td><td>1.524859</td></tr><tr><td>52</td><td>2</td><td>13</td><td>2.644568</td></tr><tr><td>13</td><td>2</td><td>10</td><td>1.110342</td></tr><tr><td>16</td><td>1</td><td>1</td><td>0.86875546</td></tr><tr><td>16</td><td>1</td><td>3</td><td>0.75665724</td></tr><tr><td>86</td><td>1</td><td>7</td><td>0.8896314</td></tr><tr><td>86</td><td>1</td><td>10</td><td>0.7447072</td></tr><tr><td>6</td><td>2</td><td>11</td><td>1.6831032</td></tr><tr><td>86</td><td>1</td><td>11</td><td>0.82020766</td></tr><tr><td>6</td><td>1</td><td>13</td><td>0.99992234</td></tr><tr><td>86</td><td>1</td><td>13</td><td>0.8274593</td></tr><tr><td>6</td><td>1</td><td>15</td><td>0.7044581</td></tr><tr><td>6</td><td>1</td><td>17</td><td>1.1909778</td></tr><tr><td>6</td><td>2</td><td>19</td><td>1.4272529</td></tr><tr><td>6</td><td>2</td><td>23</td><td>1.3553338</td></tr><tr><td>6</td><td>3</td><td>26</td><td>1.6235454</td></tr><tr><td>3</td><td>1</td><td>1</td><td>1.0594983</td></tr><tr><td>3</td><td>2</td><td>8</td><td>1.3754337</td></tr><tr><td>3</td><td>3</td><td>14</td><td>1.1441283</td></tr><tr><td>3</td><td>1</td><td>21</td><td>1.337378</td></tr><tr><td>20</td><td>1</td><td>6</td><td>0.8282303</td></tr><tr><td>40</td><td>1</td><td>11</td><td>1.3738302</td></tr><tr><td>40</td><td>2</td><td>13</td><td>1.8445141</td></tr><tr><td>40</td><td>1</td><td>18</td><td>2.028571</td></tr><tr><td>20</td><td>1</td><td>21</td><td>1.0993999</td></tr><tr><td>40</td><td>2</td><td>21</td><td>2.1017067</td></tr><tr><td>20</td><td>1</td><td>26</td><td>2.324135</td></tr><tr><td>40</td><td>1</td><td>26</td><td>1.5202258</td></tr><tr><td>94</td><td>1</td><td>13</td><td>1.5447174</td></tr><tr><td>94</td><td>1</td><td>25</td><td>1.6071478</td></tr><tr><td>57</td><td>1</td><td>27</td><td>1.219895</td></tr><tr><td>54</td><td>1</td><td>0</td><td>0.72165066</td></tr><tr><td>54</td><td>1</td><td>12</td><td>1.3185945</td></tr><tr><td>96</td><td>1</td><td>12</td><td>0.74119145</td></tr><tr><td>96</td><td>1</td><td>15</td><td>0.6155216</td></tr><tr><td>96</td><td>3</td><td>16</td><td>2.4119477</td></tr><tr><td>96</td><td>1</td><td>19</td><td>1.8091439</td></tr><tr><td>48</td><td>1</td><td>14</td><td>0.87620425</td></tr><tr><td>48</td><td>1</td><td>21</td><td>0.96191525</td></tr><tr><td>48</td><td>1</td><td>26</td><td>1.934104</td></tr><tr><td>5</td><td>1</td><td>9</td><td>0.9373596</td></tr><tr><td>5</td><td>3</td><td>16</td><td>1.0544333</td></tr><tr><td>5</td><td>2</td><td>22</td><td>1.4683573</td></tr><tr><td>19</td><td>1</td><td>0</td><td>0.9371593</td></tr><tr><td>19</td><td>2</td><td>15</td><td>0.78054744</td></tr><tr><td>19</td><td>1</td><td>22</td><td>0.81200314</td></tr><tr><td>19</td><td>1</td><td>24</td><td>1.3657666</td></tr><tr><td>19</td><td>3</td><td>28</td><td>1.8048316</td></tr><tr><td>19</td><td>3</td><td>29</td><td>1.3897191</td></tr><tr><td>92</td><td>4</td><td>0</td><td>0.9404823</td></tr><tr><td>92</td><td>4</td><td>2</td><td>1.1196576</td></tr><tr><td>92</td><td>1</td><td>27</td><td>1.1942234</td></tr><tr><td>92</td><td>5</td><td>28</td><td>1.0437186</td></tr><tr><td>64</td><td>1</td><td>8</td><td>0.9676683</td></tr><tr><td>64</td><td>1</td><td>19</td><td>1.570311</td></tr><tr><td>64</td><td>1</td><td>27</td><td>1.1236213</td></tr><tr><td>41</td><td>1</td><td>12</td><td>0.9257588</td></tr><tr><td>15</td><td>1</td><td>0</td><td>0.8323572</td></tr><tr><td>15</td><td>1</td><td>3</td><td>0.8998304</td></tr><tr><td>15</td><td>2</td><td>6</td><td>0.9251426</td></tr><tr><td>15</td><td>1</td><td>14</td><td>1.022438</td></tr><tr><td>43</td><td>1</td><td>19</td><td>1.2830371</td></tr><tr><td>43</td><td>1</td><td>23</td><td>1.8628498</td></tr><tr><td>15</td><td>1</td><td>29</td><td>1.14219</td></tr><tr><td>37</td><td>5</td><td>2</td><td>1.4110876</td></tr><tr><td>37</td><td>2</td><td>9</td><td>1.4351116</td></tr><tr><td>37</td><td>1</td><td>15</td><td>0.91401416</td></tr><tr><td>37</td><td>1</td><td>17</td><td>0.98504376</td></tr><tr><td>37</td><td>1</td><td>23</td><td>1.4212157</td></tr><tr><td>37</td><td>1</td><td>24</td><td>1.519908</td></tr><tr><td>61</td><td>1</td><td>11</td><td>1.0705647</td></tr><tr><td>61</td><td>1</td><td>20</td><td>1.0842104</td></tr><tr><td>61</td><td>1</td><td>27</td><td>0.58615595</td></tr><tr><td>9</td><td>4</td><td>0</td><td>0.8108733</td></tr><tr><td>9</td><td>1</td><td>2</td><td>0.7061881</td></tr><tr><td>17</td><td>1</td><td>4</td><td>0.8032772</td></tr><tr><td>9</td><td>1</td><td>9</td><td>1.6460528</td></tr><tr><td>17</td><td>1</td><td>28</td><td>0.86525536</td></tr><tr><td>72</td><td>1</td><td>12</td><td>1.0502044</td></tr><tr><td>72</td><td>1</td><td>17</td><td>0.8122579</td></tr><tr><td>72</td><td>1</td><td>27</td><td>1.6769481</td></tr><tr><td>35</td><td>1</td><td>3</td><td>1.120654</td></tr><tr><td>35</td><td>2</td><td>15</td><td>2.1119573</td></tr><tr><td>59</td><td>2</td><td>0</td><td>1.0340987</td></tr><tr><td>4</td><td>3</td><td>2</td><td>2.1789849</td></tr><tr><td>55</td><td>1</td><td>2</td><td>1.7637336</td></tr><tr><td>55</td><td>1</td><td>6</td><td>1.03506</td></tr><tr><td>59</td><td>1</td><td>7</td><td>0.88869697</td></tr><tr><td>59</td><td>1</td><td>9</td><td>1.3682778</td></tr><tr><td>4</td><td>3</td><td>10</td><td>1.1694404</td></tr><tr><td>55</td><td>2</td><td>10</td><td>1.3155661</td></tr><tr><td>55</td><td>1</td><td>14</td><td>1.1102892</td></tr><tr><td>55</td><td>1</td><td>20</td><td>1.5525486</td></tr><tr><td>4</td><td>1</td><td>23</td><td>1.0962338</td></tr><tr><td>4</td><td>1</td><td>24</td><td>1.2949315</td></tr><tr><td>59</td><td>1</td><td>29</td><td>0.7138322</td></tr><tr><td>23</td><td>1</td><td>4</td><td>1.3466009</td></tr><tr><td>23</td><td>1</td><td>7</td><td>0.98747975</td></tr><tr><td>23</td><td>3</td><td>12</td><td>2.8464708</td></tr><tr><td>23</td><td>2</td><td>15</td><td>1.7189673</td></tr><tr><td>39</td><td>1</td><td>23</td><td>0.8136395</td></tr><tr><td>49</td><td>1</td><td>6</td><td>1.720592</td></tr><tr><td>49</td><td>1</td><td>14</td><td>0.97587687</td></tr><tr><td>7</td><td>3</td><td>3</td><td>1.9450743</td></tr><tr><td>7</td><td>1</td><td>25</td><td>0.7247097</td></tr><tr><td>84</td><td>2</td><td>7</td><td>0.98697495</td></tr><tr><td>84</td><td>1</td><td>9</td><td>0.7634554</td></tr><tr><td>84</td><td>1</td><td>19</td><td>0.83914554</td></tr><tr><td>84</td><td>1</td><td>21</td><td>1.0484356</td></tr><tr><td>84</td><td>1</td><td>24</td><td>0.802263</td></tr><tr><td>51</td><td>3</td><td>27</td><td>2.1234007</td></tr><tr><td>69</td><td>1</td><td>0</td><td>0.57744896</td></tr><tr><td>69</td><td>5</td><td>11</td><td>2.0648508</td></tr><tr><td>69</td><td>4</td><td>22</td><td>2.0193434</td></tr><tr><td>69</td><td>1</td><td>23</td><td>1.1910306</td></tr><tr><td>97</td><td>3</td><td>11</td><td>1.2685956</td></tr><tr><td>97</td><td>1</td><td>17</td><td>1.1923987</td></tr><tr><td>97</td><td>1</td><td>23</td><td>1.5902244</td></tr><tr><td>63</td><td>1</td><td>10</td><td>1.0243708</td></tr><tr><td>63</td><td>1</td><td>22</td><td>1.9412736</td></tr><tr><td>77</td><td>2</td><td>0</td><td>1.2892497</td></tr><tr><td>77</td><td>1</td><td>2</td><td>1.1781789</td></tr><tr><td>10</td><td>1</td><td>7</td><td>0.9010218</td></tr><tr><td>77</td><td>1</td><td>12</td><td>1.2516321</td></tr><tr><td>10</td><td>1</td><td>14</td><td>1.1851659</td></tr><tr><td>10</td><td>4</td><td>23</td><td>2.1698163</td></tr><tr><td>77</td><td>1</td><td>23</td><td>1.8048046</td></tr><tr><td>50</td><td>3</td><td>5</td><td>2.2484272</td></tr><tr><td>45</td><td>2</td><td>0</td><td>0.7132328</td></tr><tr><td>45</td><td>1</td><td>4</td><td>1.1048121</td></tr><tr><td>45</td><td>2</td><td>24</td><td>0.9540456</td></tr><tr><td>45</td><td>2</td><td>26</td><td>1.8740722</td></tr><tr><td>38</td><td>5</td><td>18</td><td>0.86078817</td></tr><tr><td>82</td><td>1</td><td>11</td><td>1.410686</td></tr><tr><td>82</td><td>4</td><td>28</td><td>0.7106677</td></tr><tr><td>80</td><td>1</td><td>15</td><td>0.6295865</td></tr><tr><td>80</td><td>1</td><td>16</td><td>1.7437987</td></tr><tr><td>80</td><td>3</td><td>18</td><td>0.8712364</td></tr><tr><td>25</td><td>5</td><td>6</td><td>1.0969096</td></tr><tr><td>73</td><td>1</td><td>6</td><td>0.84734154</td></tr><tr><td>25</td><td>5</td><td>7</td><td>0.9897263</td></tr><tr><td>25</td><td>1</td><td>9</td><td>1.3501347</td></tr><tr><td>73</td><td>1</td><td>13</td><td>1.2939488</td></tr><tr><td>25</td><td>2</td><td>14</td><td>0.5983915</td></tr><tr><td>25</td><td>1</td><td>22</td><td>1.0615658</td></tr><tr><td>25</td><td>1</td><td>23</td><td>1.1079761</td></tr><tr><td>73</td><td>1</td><td>25</td><td>0.67065495</td></tr><tr><td>24</td><td>1</td><td>4</td><td>1.1852927</td></tr><tr><td>24</td><td>1</td><td>14</td><td>0.38094682</td></tr><tr><td>24</td><td>1</td><td>21</td><td>0.89875436</td></tr><tr><td>24</td><td>2</td><td>27</td><td>1.5620735</td></tr><tr><td>70</td><td>1</td><td>5</td><td>1.6175292</td></tr><tr><td>70</td><td>1</td><td>11</td><td>0.9862902</td></tr><tr><td>70</td><td>1</td><td>17</td><td>1.3666401</td></tr><tr><td>70</td><td>1</td><td>27</td><td>1.0151732</td></tr><tr><td>62</td><td>1</td><td>3</td><td>1.7581397</td></tr><tr><td>62</td><td>1</td><td>15</td><td>1.4204334</td></tr><tr><td>62</td><td>3</td><td>28</td><td>1.3168498</td></tr><tr><td>95</td><td>2</td><td>6</td><td>1.9350989</td></tr><tr><td>95</td><td>3</td><td>9</td><td>2.1444156</td></tr><tr><td>95</td><td>2</td><td>16</td><td>1.5689548</td></tr><tr><td>95</td><td>2</td><td>17</td><td>1.893071</td></tr><tr><td>95</td><td>1</td><td>25</td><td>1.2904569</td></tr><tr><td>29</td><td>1</td><td>0</td><td>1.5272546</td></tr><tr><td>29</td><td>3</td><td>3</td><td>1.6223505</td></tr><tr><td>29</td><td>5</td><td>14</td><td>3.801718</td></tr><tr><td>29</td><td>4</td><td>16</td><td>1.9585589</td></tr><tr><td>29</td><td>2</td><td>20</td><td>2.0175796</td></tr><tr><td>29</td><td>5</td><td>21</td><td>3.838481</td></tr><tr><td>21</td><td>1</td><td>9</td><td>1.4805999</td></tr><tr><td>21</td><td>1</td><td>10</td><td>1.0355184</td></tr><tr><td>21</td><td>1</td><td>13</td><td>0.83806294</td></tr><tr><td>21</td><td>2</td><td>16</td><td>1.6186408</td></tr><tr><td>21</td><td>1</td><td>21</td><td>1.2373614</td></tr><tr><td>98</td><td>1</td><td>0</td><td>1.2332699</td></tr><tr><td>98</td><td>1</td><td>4</td><td>1.2553949</td></tr><tr><td>98</td><td>1</td><td>10</td><td>0.8802977</td></tr><tr><td>98</td><td>1</td><td>13</td><td>1.136094</td></tr><tr><td>98</td><td>1</td><td>14</td><td>1.0474046</td></tr><tr><td>98</td><td>3</td><td>16</td><td>3.156299</td></tr><tr><td>98</td><td>1</td><td>24</td><td>2.3884153</td></tr><tr><td>60</td><td>3</td><td>3</td><td>1.1474677</td></tr><tr><td>60</td><td>1</td><td>12</td><td>0.75019455</td></tr><tr><td>32</td><td>1</td><td>16</td><td>3.234248</td></tr><tr><td>32</td><td>1</td><td>18</td><td>1.1819085</td></tr><tr><td>60</td><td>1</td><td>20</td><td>1.4792111</td></tr><tr><td>60</td><td>3</td><td>22</td><td>1.9802873</td></tr><tr><td>60</td><td>1</td><td>23</td><td>0.66902274</td></tr><tr><td>60</td><td>1</td><td>28</td><td>1.2192886</td></tr><tr><td>90</td><td>1</td><td>28</td><td>1.8209097</td></tr><tr><td>32</td><td>4</td><td>29</td><td>2.8398812</td></tr><tr><td>75</td><td>1</td><td>28</td><td>1.3430883</td></tr><tr><td>56</td><td>1</td><td>7</td><td>0.9454976</td></tr><tr><td>56</td><td>2</td><td>12</td><td>2.1955447</td></tr><tr><td>56</td><td>2</td><td>16</td><td>1.6368071</td></tr><tr><td>56</td><td>1</td><td>21</td><td>1.1642599</td></tr><tr><td>56</td><td>2</td><td>22</td><td>1.6557035</td></tr><tr><td>56</td><td>1</td><td>25</td><td>1.013879</td></tr><tr><td>58</td><td>1</td><td>9</td><td>2.0368097</td></tr><tr><td>33</td><td>1</td><td>6</td><td>1.3839675</td></tr><tr><td>11</td><td>1</td><td>11</td><td>1.2310452</td></tr><tr><td>33</td><td>2</td><td>15</td><td>1.9856156</td></tr><tr><td>11</td><td>1</td><td>21</td><td>0.84499276</td></tr><tr><td>33</td><td>2</td><td>23</td><td>1.027475</td></tr><tr><td>33</td><td>3</td><td>27</td><td>1.166933</td></tr><tr><td>33</td><td>2</td><td>29</td><td>1.1358865</td></tr><tr><td>83</td><td>1</td><td>0</td><td>0.7556419</td></tr><tr><td>83</td><td>1</td><td>3</td><td>1.9988238</td></tr><tr><td>83</td><td>1</td><td>9</td><td>0.6700797</td></tr><tr><td>83</td><td>1</td><td>14</td><td>1.4634964</td></tr><tr><td>83</td><td>1</td><td>23</td><td>1.3070787</td></tr><tr><td>68</td><td>1</td><td>2</td><td>0.41139394</td></tr><tr><td>71</td><td>1</td><td>5</td><td>1.1875674</td></tr><tr><td>68</td><td>1</td><td>9</td><td>2.3994496</td></tr><tr><td>68</td><td>1</td><td>13</td><td>0.9142208</td></tr><tr><td>71</td><td>1</td><td>14</td><td>1.629119</td></tr><tr><td>68</td><td>1</td><td>21</td><td>1.7336913</td></tr><tr><td>68</td><td>1</td><td>25</td><td>0.85155934</td></tr><tr><td>14</td><td>1</td><td>3</td><td>0.71784425</td></tr><tr><td>14</td><td>1</td><td>12</td><td>1.6115289</td></tr><tr><td>14</td><td>3</td><td>14</td><td>2.4147747</td></tr><tr><td>14</td><td>1</td><td>23</td><td>1.870747</td></tr><tr><td>14</td><td>1</td><td>28</td><td>1.040016</td></tr><tr><td>42</td><td>1</td><td>18</td><td>1.4849758</td></tr><tr><td>42</td><td>1</td><td>29</td><td>0.9868031</td></tr><tr><td>79</td><td>3</td><td>12</td><td>1.7427772</td></tr><tr><td>2</td><td>1</td><td>26</td><td>1.9685379</td></tr><tr><td>79</td><td>2</td><td>29</td><td>1.8830084</td></tr><tr><td>30</td><td>1</td><td>4</td><td>2.3861635</td></tr><tr><td>30</td><td>1</td><td>7</td><td>1.1667249</td></tr><tr><td>30</td><td>2</td><td>16</td><td>3.369133</td></tr><tr><td>30</td><td>2</td><td>21</td><td>2.77891</td></tr><tr><td>30</td><td>1</td><td>25</td><td>0.8133199</td></tr><tr><td>99</td><td>1</td><td>28</td><td>1.2354314</td></tr><tr><td>99</td><td>1</td><td>29</td><td>0.8632857</td></tr><tr><td>66</td><td>1</td><td>3</td><td>1.748319</td></tr><tr><td>66</td><td>3</td><td>18</td><td>1.3293552</td></tr><tr><td>66</td><td>1</td><td>22</td><td>1.029957</td></tr><tr><td>66</td><td>3</td><td>27</td><td>2.1955025</td></tr><tr><td>67</td><td>1</td><td>12</td><td>1.6681631</td></tr><tr><td>67</td><td>1</td><td>16</td><td>1.2564383</td></tr><tr><td>0</td><td>1</td><td>5</td><td>1.1704016</td></tr><tr><td>0</td><td>1</td><td>15</td><td>0.9857975</td></tr><tr><td>0</td><td>1</td><td>23</td><td>1.0577465</td></tr><tr><td>0</td><td>1</td><td>26</td><td>1.6285828</td></tr><tr><td>0</td><td>1</td><td>27</td><td>0.7706514</td></tr><tr><td>18</td><td>2</td><td>2</td><td>2.8718674</td></tr><tr><td>18</td><td>1</td><td>8</td><td>1.6468875</td></tr><tr><td>18</td><td>1</td><td>10</td><td>1.0659404</td></tr><tr><td>74</td><td>1</td><td>16</td><td>2.2248073</td></tr><tr><td>74</td><td>5</td><td>22</td><td>3.369535</td></tr><tr><td>74</td><td>1</td><td>29</td><td>1.2262231</td></tr><tr><td>36</td><td>3</td><td>3</td><td>2.1422482</td></tr><tr><td>36</td><td>3</td><td>5</td><td>1.9490606</td></tr><tr><td>36</td><td>2</td><td>9</td><td>2.1161878</td></tr></tbody></table></div>"
      ]
     },
     "metadata": {
      "application/vnd.databricks.v1+output": {
       "addedWidgets": {},
       "aggData": [],
       "aggError": "",
       "aggOverflow": false,
       "aggSchema": [],
       "aggSeriesLimitReached": false,
       "aggType": "",
       "arguments": {},
       "columnCustomDisplayInfos": {},
       "data": [
        [
         31,
         1,
         0,
         1.1813673
        ],
        [
         31,
         1,
         13,
         1.4173347
        ],
        [
         31,
         1,
         19,
         1.2622163
        ],
        [
         31,
         1,
         27,
         1.0882876
        ],
        [
         31,
         1,
         29,
         1.68816
        ],
        [
         85,
         1,
         2,
         1.1283349
        ],
        [
         85,
         1,
         15,
         0.98939586
        ],
        [
         85,
         2,
         20,
         2.3875895
        ],
        [
         85,
         3,
         21,
         2.6229606
        ],
        [
         65,
         1,
         2,
         1.0328238
        ],
        [
         65,
         1,
         22,
         1.7555231
        ],
        [
         65,
         5,
         23,
         1.9339072
        ],
        [
         53,
         3,
         14,
         3.092984
        ],
        [
         78,
         1,
         12,
         0.7766976
        ],
        [
         78,
         1,
         19,
         0.72278076
        ],
        [
         78,
         1,
         22,
         1.16471
        ],
        [
         34,
         1,
         14,
         1.500626
        ],
        [
         34,
         1,
         16,
         1.4648228
        ],
        [
         81,
         1,
         19,
         0.7962596
        ],
        [
         81,
         2,
         29,
         2.203781
        ],
        [
         28,
         1,
         23,
         0.8208971
        ],
        [
         76,
         3,
         3,
         0.59804887
        ],
        [
         76,
         5,
         14,
         1.5524925
        ],
        [
         76,
         1,
         19,
         0.4447223
        ],
        [
         76,
         1,
         20,
         0.4107644
        ],
        [
         76,
         1,
         26,
         1.0285966
        ],
        [
         27,
         5,
         12,
         2.3771477
        ],
        [
         26,
         1,
         20,
         1.199477
        ],
        [
         27,
         3,
         27,
         2.274826
        ],
        [
         44,
         1,
         4,
         0.74398875
        ],
        [
         44,
         2,
         12,
         0.98131776
        ],
        [
         44,
         1,
         28,
         1.4784435
        ],
        [
         12,
         1,
         1,
         1.0610495
        ],
        [
         12,
         3,
         2,
         1.9798928
        ],
        [
         12,
         1,
         14,
         0.2126529
        ],
        [
         12,
         2,
         18,
         1.7211663
        ],
        [
         12,
         3,
         25,
         0.5926994
        ],
        [
         91,
         2,
         15,
         2.5558271
        ],
        [
         22,
         1,
         6,
         0.6842042
        ],
        [
         22,
         1,
         13,
         1.2228724
        ],
        [
         22,
         1,
         25,
         1.212774
        ],
        [
         22,
         3,
         29,
         2.494401
        ],
        [
         93,
         1,
         27,
         2.601899
        ],
        [
         93,
         1,
         29,
         1.2398431
        ],
        [
         47,
         1,
         1,
         1.4966911
        ],
        [
         47,
         3,
         16,
         1.6810218
        ],
        [
         47,
         1,
         18,
         1.9098891
        ],
        [
         1,
         1,
         4,
         0.72295356
        ],
        [
         1,
         1,
         28,
         0.6796347
        ],
        [
         52,
         3,
         3,
         1.524859
        ],
        [
         52,
         2,
         13,
         2.644568
        ],
        [
         13,
         2,
         10,
         1.110342
        ],
        [
         16,
         1,
         1,
         0.86875546
        ],
        [
         16,
         1,
         3,
         0.75665724
        ],
        [
         86,
         1,
         7,
         0.8896314
        ],
        [
         86,
         1,
         10,
         0.7447072
        ],
        [
         6,
         2,
         11,
         1.6831032
        ],
        [
         86,
         1,
         11,
         0.82020766
        ],
        [
         6,
         1,
         13,
         0.99992234
        ],
        [
         86,
         1,
         13,
         0.8274593
        ],
        [
         6,
         1,
         15,
         0.7044581
        ],
        [
         6,
         1,
         17,
         1.1909778
        ],
        [
         6,
         2,
         19,
         1.4272529
        ],
        [
         6,
         2,
         23,
         1.3553338
        ],
        [
         6,
         3,
         26,
         1.6235454
        ],
        [
         3,
         1,
         1,
         1.0594983
        ],
        [
         3,
         2,
         8,
         1.3754337
        ],
        [
         3,
         3,
         14,
         1.1441283
        ],
        [
         3,
         1,
         21,
         1.337378
        ],
        [
         20,
         1,
         6,
         0.8282303
        ],
        [
         40,
         1,
         11,
         1.3738302
        ],
        [
         40,
         2,
         13,
         1.8445141
        ],
        [
         40,
         1,
         18,
         2.028571
        ],
        [
         20,
         1,
         21,
         1.0993999
        ],
        [
         40,
         2,
         21,
         2.1017067
        ],
        [
         20,
         1,
         26,
         2.324135
        ],
        [
         40,
         1,
         26,
         1.5202258
        ],
        [
         94,
         1,
         13,
         1.5447174
        ],
        [
         94,
         1,
         25,
         1.6071478
        ],
        [
         57,
         1,
         27,
         1.219895
        ],
        [
         54,
         1,
         0,
         0.72165066
        ],
        [
         54,
         1,
         12,
         1.3185945
        ],
        [
         96,
         1,
         12,
         0.74119145
        ],
        [
         96,
         1,
         15,
         0.6155216
        ],
        [
         96,
         3,
         16,
         2.4119477
        ],
        [
         96,
         1,
         19,
         1.8091439
        ],
        [
         48,
         1,
         14,
         0.87620425
        ],
        [
         48,
         1,
         21,
         0.96191525
        ],
        [
         48,
         1,
         26,
         1.934104
        ],
        [
         5,
         1,
         9,
         0.9373596
        ],
        [
         5,
         3,
         16,
         1.0544333
        ],
        [
         5,
         2,
         22,
         1.4683573
        ],
        [
         19,
         1,
         0,
         0.9371593
        ],
        [
         19,
         2,
         15,
         0.78054744
        ],
        [
         19,
         1,
         22,
         0.81200314
        ],
        [
         19,
         1,
         24,
         1.3657666
        ],
        [
         19,
         3,
         28,
         1.8048316
        ],
        [
         19,
         3,
         29,
         1.3897191
        ],
        [
         92,
         4,
         0,
         0.9404823
        ],
        [
         92,
         4,
         2,
         1.1196576
        ],
        [
         92,
         1,
         27,
         1.1942234
        ],
        [
         92,
         5,
         28,
         1.0437186
        ],
        [
         64,
         1,
         8,
         0.9676683
        ],
        [
         64,
         1,
         19,
         1.570311
        ],
        [
         64,
         1,
         27,
         1.1236213
        ],
        [
         41,
         1,
         12,
         0.9257588
        ],
        [
         15,
         1,
         0,
         0.8323572
        ],
        [
         15,
         1,
         3,
         0.8998304
        ],
        [
         15,
         2,
         6,
         0.9251426
        ],
        [
         15,
         1,
         14,
         1.022438
        ],
        [
         43,
         1,
         19,
         1.2830371
        ],
        [
         43,
         1,
         23,
         1.8628498
        ],
        [
         15,
         1,
         29,
         1.14219
        ],
        [
         37,
         5,
         2,
         1.4110876
        ],
        [
         37,
         2,
         9,
         1.4351116
        ],
        [
         37,
         1,
         15,
         0.91401416
        ],
        [
         37,
         1,
         17,
         0.98504376
        ],
        [
         37,
         1,
         23,
         1.4212157
        ],
        [
         37,
         1,
         24,
         1.519908
        ],
        [
         61,
         1,
         11,
         1.0705647
        ],
        [
         61,
         1,
         20,
         1.0842104
        ],
        [
         61,
         1,
         27,
         0.58615595
        ],
        [
         9,
         4,
         0,
         0.8108733
        ],
        [
         9,
         1,
         2,
         0.7061881
        ],
        [
         17,
         1,
         4,
         0.8032772
        ],
        [
         9,
         1,
         9,
         1.6460528
        ],
        [
         17,
         1,
         28,
         0.86525536
        ],
        [
         72,
         1,
         12,
         1.0502044
        ],
        [
         72,
         1,
         17,
         0.8122579
        ],
        [
         72,
         1,
         27,
         1.6769481
        ],
        [
         35,
         1,
         3,
         1.120654
        ],
        [
         35,
         2,
         15,
         2.1119573
        ],
        [
         59,
         2,
         0,
         1.0340987
        ],
        [
         4,
         3,
         2,
         2.1789849
        ],
        [
         55,
         1,
         2,
         1.7637336
        ],
        [
         55,
         1,
         6,
         1.03506
        ],
        [
         59,
         1,
         7,
         0.88869697
        ],
        [
         59,
         1,
         9,
         1.3682778
        ],
        [
         4,
         3,
         10,
         1.1694404
        ],
        [
         55,
         2,
         10,
         1.3155661
        ],
        [
         55,
         1,
         14,
         1.1102892
        ],
        [
         55,
         1,
         20,
         1.5525486
        ],
        [
         4,
         1,
         23,
         1.0962338
        ],
        [
         4,
         1,
         24,
         1.2949315
        ],
        [
         59,
         1,
         29,
         0.7138322
        ],
        [
         23,
         1,
         4,
         1.3466009
        ],
        [
         23,
         1,
         7,
         0.98747975
        ],
        [
         23,
         3,
         12,
         2.8464708
        ],
        [
         23,
         2,
         15,
         1.7189673
        ],
        [
         39,
         1,
         23,
         0.8136395
        ],
        [
         49,
         1,
         6,
         1.720592
        ],
        [
         49,
         1,
         14,
         0.97587687
        ],
        [
         7,
         3,
         3,
         1.9450743
        ],
        [
         7,
         1,
         25,
         0.7247097
        ],
        [
         84,
         2,
         7,
         0.98697495
        ],
        [
         84,
         1,
         9,
         0.7634554
        ],
        [
         84,
         1,
         19,
         0.83914554
        ],
        [
         84,
         1,
         21,
         1.0484356
        ],
        [
         84,
         1,
         24,
         0.802263
        ],
        [
         51,
         3,
         27,
         2.1234007
        ],
        [
         69,
         1,
         0,
         0.57744896
        ],
        [
         69,
         5,
         11,
         2.0648508
        ],
        [
         69,
         4,
         22,
         2.0193434
        ],
        [
         69,
         1,
         23,
         1.1910306
        ],
        [
         97,
         3,
         11,
         1.2685956
        ],
        [
         97,
         1,
         17,
         1.1923987
        ],
        [
         97,
         1,
         23,
         1.5902244
        ],
        [
         63,
         1,
         10,
         1.0243708
        ],
        [
         63,
         1,
         22,
         1.9412736
        ],
        [
         77,
         2,
         0,
         1.2892497
        ],
        [
         77,
         1,
         2,
         1.1781789
        ],
        [
         10,
         1,
         7,
         0.9010218
        ],
        [
         77,
         1,
         12,
         1.2516321
        ],
        [
         10,
         1,
         14,
         1.1851659
        ],
        [
         10,
         4,
         23,
         2.1698163
        ],
        [
         77,
         1,
         23,
         1.8048046
        ],
        [
         50,
         3,
         5,
         2.2484272
        ],
        [
         45,
         2,
         0,
         0.7132328
        ],
        [
         45,
         1,
         4,
         1.1048121
        ],
        [
         45,
         2,
         24,
         0.9540456
        ],
        [
         45,
         2,
         26,
         1.8740722
        ],
        [
         38,
         5,
         18,
         0.86078817
        ],
        [
         82,
         1,
         11,
         1.410686
        ],
        [
         82,
         4,
         28,
         0.7106677
        ],
        [
         80,
         1,
         15,
         0.6295865
        ],
        [
         80,
         1,
         16,
         1.7437987
        ],
        [
         80,
         3,
         18,
         0.8712364
        ],
        [
         25,
         5,
         6,
         1.0969096
        ],
        [
         73,
         1,
         6,
         0.84734154
        ],
        [
         25,
         5,
         7,
         0.9897263
        ],
        [
         25,
         1,
         9,
         1.3501347
        ],
        [
         73,
         1,
         13,
         1.2939488
        ],
        [
         25,
         2,
         14,
         0.5983915
        ],
        [
         25,
         1,
         22,
         1.0615658
        ],
        [
         25,
         1,
         23,
         1.1079761
        ],
        [
         73,
         1,
         25,
         0.67065495
        ],
        [
         24,
         1,
         4,
         1.1852927
        ],
        [
         24,
         1,
         14,
         0.38094682
        ],
        [
         24,
         1,
         21,
         0.89875436
        ],
        [
         24,
         2,
         27,
         1.5620735
        ],
        [
         70,
         1,
         5,
         1.6175292
        ],
        [
         70,
         1,
         11,
         0.9862902
        ],
        [
         70,
         1,
         17,
         1.3666401
        ],
        [
         70,
         1,
         27,
         1.0151732
        ],
        [
         62,
         1,
         3,
         1.7581397
        ],
        [
         62,
         1,
         15,
         1.4204334
        ],
        [
         62,
         3,
         28,
         1.3168498
        ],
        [
         95,
         2,
         6,
         1.9350989
        ],
        [
         95,
         3,
         9,
         2.1444156
        ],
        [
         95,
         2,
         16,
         1.5689548
        ],
        [
         95,
         2,
         17,
         1.893071
        ],
        [
         95,
         1,
         25,
         1.2904569
        ],
        [
         29,
         1,
         0,
         1.5272546
        ],
        [
         29,
         3,
         3,
         1.6223505
        ],
        [
         29,
         5,
         14,
         3.801718
        ],
        [
         29,
         4,
         16,
         1.9585589
        ],
        [
         29,
         2,
         20,
         2.0175796
        ],
        [
         29,
         5,
         21,
         3.838481
        ],
        [
         21,
         1,
         9,
         1.4805999
        ],
        [
         21,
         1,
         10,
         1.0355184
        ],
        [
         21,
         1,
         13,
         0.83806294
        ],
        [
         21,
         2,
         16,
         1.6186408
        ],
        [
         21,
         1,
         21,
         1.2373614
        ],
        [
         98,
         1,
         0,
         1.2332699
        ],
        [
         98,
         1,
         4,
         1.2553949
        ],
        [
         98,
         1,
         10,
         0.8802977
        ],
        [
         98,
         1,
         13,
         1.136094
        ],
        [
         98,
         1,
         14,
         1.0474046
        ],
        [
         98,
         3,
         16,
         3.156299
        ],
        [
         98,
         1,
         24,
         2.3884153
        ],
        [
         60,
         3,
         3,
         1.1474677
        ],
        [
         60,
         1,
         12,
         0.75019455
        ],
        [
         32,
         1,
         16,
         3.234248
        ],
        [
         32,
         1,
         18,
         1.1819085
        ],
        [
         60,
         1,
         20,
         1.4792111
        ],
        [
         60,
         3,
         22,
         1.9802873
        ],
        [
         60,
         1,
         23,
         0.66902274
        ],
        [
         60,
         1,
         28,
         1.2192886
        ],
        [
         90,
         1,
         28,
         1.8209097
        ],
        [
         32,
         4,
         29,
         2.8398812
        ],
        [
         75,
         1,
         28,
         1.3430883
        ],
        [
         56,
         1,
         7,
         0.9454976
        ],
        [
         56,
         2,
         12,
         2.1955447
        ],
        [
         56,
         2,
         16,
         1.6368071
        ],
        [
         56,
         1,
         21,
         1.1642599
        ],
        [
         56,
         2,
         22,
         1.6557035
        ],
        [
         56,
         1,
         25,
         1.013879
        ],
        [
         58,
         1,
         9,
         2.0368097
        ],
        [
         33,
         1,
         6,
         1.3839675
        ],
        [
         11,
         1,
         11,
         1.2310452
        ],
        [
         33,
         2,
         15,
         1.9856156
        ],
        [
         11,
         1,
         21,
         0.84499276
        ],
        [
         33,
         2,
         23,
         1.027475
        ],
        [
         33,
         3,
         27,
         1.166933
        ],
        [
         33,
         2,
         29,
         1.1358865
        ],
        [
         83,
         1,
         0,
         0.7556419
        ],
        [
         83,
         1,
         3,
         1.9988238
        ],
        [
         83,
         1,
         9,
         0.6700797
        ],
        [
         83,
         1,
         14,
         1.4634964
        ],
        [
         83,
         1,
         23,
         1.3070787
        ],
        [
         68,
         1,
         2,
         0.41139394
        ],
        [
         71,
         1,
         5,
         1.1875674
        ],
        [
         68,
         1,
         9,
         2.3994496
        ],
        [
         68,
         1,
         13,
         0.9142208
        ],
        [
         71,
         1,
         14,
         1.629119
        ],
        [
         68,
         1,
         21,
         1.7336913
        ],
        [
         68,
         1,
         25,
         0.85155934
        ],
        [
         14,
         1,
         3,
         0.71784425
        ],
        [
         14,
         1,
         12,
         1.6115289
        ],
        [
         14,
         3,
         14,
         2.4147747
        ],
        [
         14,
         1,
         23,
         1.870747
        ],
        [
         14,
         1,
         28,
         1.040016
        ],
        [
         42,
         1,
         18,
         1.4849758
        ],
        [
         42,
         1,
         29,
         0.9868031
        ],
        [
         79,
         3,
         12,
         1.7427772
        ],
        [
         2,
         1,
         26,
         1.9685379
        ],
        [
         79,
         2,
         29,
         1.8830084
        ],
        [
         30,
         1,
         4,
         2.3861635
        ],
        [
         30,
         1,
         7,
         1.1667249
        ],
        [
         30,
         2,
         16,
         3.369133
        ],
        [
         30,
         2,
         21,
         2.77891
        ],
        [
         30,
         1,
         25,
         0.8133199
        ],
        [
         99,
         1,
         28,
         1.2354314
        ],
        [
         99,
         1,
         29,
         0.8632857
        ],
        [
         66,
         1,
         3,
         1.748319
        ],
        [
         66,
         3,
         18,
         1.3293552
        ],
        [
         66,
         1,
         22,
         1.029957
        ],
        [
         66,
         3,
         27,
         2.1955025
        ],
        [
         67,
         1,
         12,
         1.6681631
        ],
        [
         67,
         1,
         16,
         1.2564383
        ],
        [
         0,
         1,
         5,
         1.1704016
        ],
        [
         0,
         1,
         15,
         0.9857975
        ],
        [
         0,
         1,
         23,
         1.0577465
        ],
        [
         0,
         1,
         26,
         1.6285828
        ],
        [
         0,
         1,
         27,
         0.7706514
        ],
        [
         18,
         2,
         2,
         2.8718674
        ],
        [
         18,
         1,
         8,
         1.6468875
        ],
        [
         18,
         1,
         10,
         1.0659404
        ],
        [
         74,
         1,
         16,
         2.2248073
        ],
        [
         74,
         5,
         22,
         3.369535
        ],
        [
         74,
         1,
         29,
         1.2262231
        ],
        [
         36,
         3,
         3,
         2.1422482
        ],
        [
         36,
         3,
         5,
         1.9490606
        ],
        [
         36,
         2,
         9,
         2.1161878
        ]
       ],
       "datasetInfos": [],
       "dbfsResultPath": null,
       "isJsonSchema": true,
       "metadata": {},
       "overflow": false,
       "plotOptions": {
        "customPlotOptions": {},
        "displayType": "table",
        "pivotAggregation": null,
        "pivotColumns": null,
        "xColumns": null,
        "yColumns": null
       },
       "removedWidgets": [],
       "schema": [
        {
         "metadata": "{}",
         "name": "movieId",
         "type": "\"integer\""
        },
        {
         "metadata": "{}",
         "name": "rating",
         "type": "\"integer\""
        },
        {
         "metadata": "{}",
         "name": "userId",
         "type": "\"integer\""
        },
        {
         "metadata": "{}",
         "name": "prediction",
         "type": "\"float\""
        }
       ],
       "type": "table"
      }
     },
     "output_type": "display_data"
    }
   ],
   "source": [
    "display(test2_predictions_tv)"
   ]
  },
  {
   "cell_type": "markdown",
   "metadata": {
    "application/vnd.databricks.v1+cell": {
     "inputWidgets": {},
     "nuid": "b24e3cf1-594a-4261-8cd5-94b5e8ead6fe",
     "showTitle": false,
     "title": ""
    }
   },
   "source": [
    "# QUESTION 5: Recommendation Using Cross Validation"
   ]
  },
  {
   "cell_type": "code",
   "execution_count": 0,
   "metadata": {
    "application/vnd.databricks.v1+cell": {
     "inputWidgets": {},
     "nuid": "a64b965a-b443-42ac-af7e-beb031846587",
     "showTitle": true,
     "title": ""
    }
   },
   "outputs": [
    {
     "data": {
      "text/html": [
       "<style scoped>\n",
       "  .ansiout {\n",
       "    display: block;\n",
       "    unicode-bidi: embed;\n",
       "    white-space: pre-wrap;\n",
       "    word-wrap: break-word;\n",
       "    word-break: break-all;\n",
       "    font-family: \"Source Code Pro\", \"Menlo\", monospace;;\n",
       "    font-size: 13px;\n",
       "    color: #555;\n",
       "    margin-left: 4px;\n",
       "    line-height: 19px;\n",
       "  }\n",
       "</style>\n",
       "<div class=\"ansiout\">+------+--------------------+\n",
       "userId|     recommendations|\n",
       "+------+--------------------+\n",
       "    20|[[22, 4.022359], ...|\n",
       "    10|[[2, 3.2582815], ...|\n",
       "     0|[[2, 2.522292], [...|\n",
       "     1|[[68, 3.2300415],...|\n",
       "    21|[[52, 4.220557], ...|\n",
       "    11|[[18, 4.7560287],...|\n",
       "    12|[[46, 4.6036544],...|\n",
       "    22|[[75, 4.488112], ...|\n",
       "     2|[[93, 4.632242], ...|\n",
       "    13|[[93, 3.3210738],...|\n",
       "     3|[[51, 4.066766], ...|\n",
       "    23|[[32, 4.79486], [...|\n",
       "     4|[[29, 3.4332924],...|\n",
       "    24|[[30, 4.5147476],...|\n",
       "    14|[[52, 4.638243], ...|\n",
       "     5|[[55, 3.9734645],...|\n",
       "    15|[[46, 4.171382], ...|\n",
       "    25|[[47, 3.2089407],...|\n",
       "    26|[[22, 4.6670384],...|\n",
       "     6|[[58, 2.8545136],...|\n",
       "+------+--------------------+\n",
       "only showing top 20 rows\n",
       "\n",
       "</div>"
      ]
     },
     "metadata": {
      "application/vnd.databricks.v1+output": {
       "addedWidgets": {},
       "arguments": {},
       "data": "<div class=\"ansiout\">+------+--------------------+\n|userId|     recommendations|\n+------+--------------------+\n|    20|[[22, 4.022359], ...|\n|    10|[[2, 3.2582815], ...|\n|     0|[[2, 2.522292], [...|\n|     1|[[68, 3.2300415],...|\n|    21|[[52, 4.220557], ...|\n|    11|[[18, 4.7560287],...|\n|    12|[[46, 4.6036544],...|\n|    22|[[75, 4.488112], ...|\n|     2|[[93, 4.632242], ...|\n|    13|[[93, 3.3210738],...|\n|     3|[[51, 4.066766], ...|\n|    23|[[32, 4.79486], [...|\n|     4|[[29, 3.4332924],...|\n|    24|[[30, 4.5147476],...|\n|    14|[[52, 4.638243], ...|\n|     5|[[55, 3.9734645],...|\n|    15|[[46, 4.171382], ...|\n|    25|[[47, 3.2089407],...|\n|    26|[[22, 4.6670384],...|\n|     6|[[58, 2.8545136],...|\n+------+--------------------+\nonly showing top 20 rows\n\n</div>",
       "datasetInfos": [
        {
         "name": "movie_recommendations",
         "schema": {
          "fields": [
           {
            "metadata": {},
            "name": "userId",
            "nullable": false,
            "type": "integer"
           },
           {
            "metadata": {},
            "name": "recommendations",
            "nullable": true,
            "type": {
             "containsNull": true,
             "elementType": {
              "fields": [
               {
                "metadata": {},
                "name": "movieId",
                "nullable": true,
                "type": "integer"
               },
               {
                "metadata": {},
                "name": "rating",
                "nullable": true,
                "type": "float"
               }
              ],
              "type": "struct"
             },
             "type": "array"
            }
           }
          ],
          "type": "struct"
         },
         "tableIdentifier": null,
         "typeStr": "pyspark.sql.dataframe.DataFrame"
        }
       ],
       "metadata": {},
       "removedWidgets": [],
       "type": "html"
      }
     },
     "output_type": "display_data"
    }
   ],
   "source": [
    "\n",
    "movie_recommendations = best_model.recommendForAllUsers(60)\n",
    "movie_recommendations.show()"
   ]
  },
  {
   "cell_type": "code",
   "execution_count": 0,
   "metadata": {
    "application/vnd.databricks.v1+cell": {
     "inputWidgets": {},
     "nuid": "bfd9b4fb-f8ec-485d-a927-012b765cf934",
     "showTitle": false,
     "title": ""
    }
   },
   "outputs": [
    {
     "data": {
      "text/html": [
       "<style scoped>\n",
       "  .ansiout {\n",
       "    display: block;\n",
       "    unicode-bidi: embed;\n",
       "    white-space: pre-wrap;\n",
       "    word-wrap: break-word;\n",
       "    word-break: break-all;\n",
       "    font-family: \"Source Code Pro\", \"Menlo\", monospace;;\n",
       "    font-size: 13px;\n",
       "    color: #555;\n",
       "    margin-left: 4px;\n",
       "    line-height: 19px;\n",
       "  }\n",
       "</style>"
      ]
     },
     "metadata": {
      "application/vnd.databricks.v1+output": {
       "arguments": {},
       "data": "",
       "errorSummary": "Cancelled",
       "errorTraceType": "html",
       "metadata": {},
       "type": "ipynbError"
      }
     },
     "output_type": "display_data"
    }
   ],
   "source": [
    "# display(movie_recommendations)"
   ]
  },
  {
   "cell_type": "code",
   "execution_count": 0,
   "metadata": {
    "application/vnd.databricks.v1+cell": {
     "inputWidgets": {},
     "nuid": "54275b96-54ff-4469-b519-789075a6c9a9",
     "showTitle": false,
     "title": ""
    }
   },
   "outputs": [
    {
     "data": {
      "text/html": [
       "<style scoped>\n",
       "  .ansiout {\n",
       "    display: block;\n",
       "    unicode-bidi: embed;\n",
       "    white-space: pre-wrap;\n",
       "    word-wrap: break-word;\n",
       "    word-break: break-all;\n",
       "    font-family: \"Source Code Pro\", \"Menlo\", monospace;;\n",
       "    font-size: 13px;\n",
       "    color: #555;\n",
       "    margin-left: 4px;\n",
       "    line-height: 19px;\n",
       "  }\n",
       "</style>\n",
       "<div class=\"ansiout\"></div>"
      ]
     },
     "metadata": {
      "application/vnd.databricks.v1+output": {
       "addedWidgets": {},
       "arguments": {},
       "data": "<div class=\"ansiout\"></div>",
       "datasetInfos": [
        {
         "name": "cv_recommendations",
         "schema": {
          "fields": [
           {
            "metadata": {},
            "name": "userId",
            "nullable": false,
            "type": "integer"
           },
           {
            "metadata": {},
            "name": "movieId",
            "nullable": true,
            "type": "integer"
           },
           {
            "metadata": {},
            "name": "rating",
            "nullable": true,
            "type": "float"
           }
          ],
          "type": "struct"
         },
         "tableIdentifier": null,
         "typeStr": "pyspark.sql.dataframe.DataFrame"
        }
       ],
       "metadata": {},
       "removedWidgets": [],
       "type": "html"
      }
     },
     "output_type": "display_data"
    }
   ],
   "source": [
    "cv_recommendations = movie_recommendations\\\n",
    "    .withColumn(\"rec_exp\", explode(\"recommendations\"))\\\n",
    "    .select('userId', col(\"rec_exp.movieId\"), col(\"rec_exp.rating\"))"
   ]
  },
  {
   "cell_type": "code",
   "execution_count": 0,
   "metadata": {
    "application/vnd.databricks.v1+cell": {
     "inputWidgets": {},
     "nuid": "4244bb97-bae0-4af8-8701-b5e32966926a",
     "showTitle": false,
     "title": ""
    }
   },
   "outputs": [
    {
     "data": {
      "text/html": [
       "<style scoped>\n",
       "  .ansiout {\n",
       "    display: block;\n",
       "    unicode-bidi: embed;\n",
       "    white-space: pre-wrap;\n",
       "    word-wrap: break-word;\n",
       "    word-break: break-all;\n",
       "    font-family: \"Source Code Pro\", \"Menlo\", monospace;;\n",
       "    font-size: 13px;\n",
       "    color: #555;\n",
       "    margin-left: 4px;\n",
       "    line-height: 19px;\n",
       "  }\n",
       "</style>\n",
       "<div class=\"ansiout\">+------+-------+---------+\n",
       "userId|movieId|   rating|\n",
       "+------+-------+---------+\n",
       "    20|     22| 4.022359|\n",
       "    20|     94|3.3820114|\n",
       "    20|     77|3.3124428|\n",
       "    20|     75| 3.290255|\n",
       "    20|     68|3.2445157|\n",
       "    20|     88|3.0268147|\n",
       "    20|     98| 2.971247|\n",
       "    20|     51|2.9312098|\n",
       "    20|     53|2.7102458|\n",
       "    20|     90|2.6760623|\n",
       "    20|     62|2.6663806|\n",
       "    20|     74| 2.475801|\n",
       "    20|     54|2.4504795|\n",
       "    20|     30|2.4443252|\n",
       "    20|     85| 2.387853|\n",
       "    20|     32|2.2987494|\n",
       "    20|     20| 2.137775|\n",
       "    20|     24|2.1294396|\n",
       "    20|     46|2.0688202|\n",
       "    20|     36|2.0685816|\n",
       "+------+-------+---------+\n",
       "only showing top 20 rows\n",
       "\n",
       "</div>"
      ]
     },
     "metadata": {
      "application/vnd.databricks.v1+output": {
       "addedWidgets": {},
       "arguments": {},
       "data": "<div class=\"ansiout\">+------+-------+---------+\n|userId|movieId|   rating|\n+------+-------+---------+\n|    20|     22| 4.022359|\n|    20|     94|3.3820114|\n|    20|     77|3.3124428|\n|    20|     75| 3.290255|\n|    20|     68|3.2445157|\n|    20|     88|3.0268147|\n|    20|     98| 2.971247|\n|    20|     51|2.9312098|\n|    20|     53|2.7102458|\n|    20|     90|2.6760623|\n|    20|     62|2.6663806|\n|    20|     74| 2.475801|\n|    20|     54|2.4504795|\n|    20|     30|2.4443252|\n|    20|     85| 2.387853|\n|    20|     32|2.2987494|\n|    20|     20| 2.137775|\n|    20|     24|2.1294396|\n|    20|     46|2.0688202|\n|    20|     36|2.0685816|\n+------+-------+---------+\nonly showing top 20 rows\n\n</div>",
       "datasetInfos": [],
       "metadata": {},
       "removedWidgets": [],
       "type": "html"
      }
     },
     "output_type": "display_data"
    }
   ],
   "source": [
    "cv_recommendations.show()"
   ]
  },
  {
   "cell_type": "code",
   "execution_count": 0,
   "metadata": {
    "application/vnd.databricks.v1+cell": {
     "inputWidgets": {},
     "nuid": "bec868f9-93ac-4b10-a87a-0ca6ab6c302c",
     "showTitle": true,
     "title": " For User 11"
    }
   },
   "outputs": [
    {
     "data": {
      "text/html": [
       "<style scoped>\n",
       "  .ansiout {\n",
       "    display: block;\n",
       "    unicode-bidi: embed;\n",
       "    white-space: pre-wrap;\n",
       "    word-wrap: break-word;\n",
       "    word-break: break-all;\n",
       "    font-family: \"Source Code Pro\", \"Menlo\", monospace;;\n",
       "    font-size: 13px;\n",
       "    color: #555;\n",
       "    margin-left: 4px;\n",
       "    line-height: 19px;\n",
       "  }\n",
       "</style>\n",
       "<div class=\"ansiout\">+------+-------+---------+\n",
       "userId|movieId|   rating|\n",
       "+------+-------+---------+\n",
       "    11|     18|4.7560287|\n",
       "    11|     30| 4.728299|\n",
       "    11|     32|4.6885595|\n",
       "    11|     23|4.5803294|\n",
       "    11|     27| 4.505392|\n",
       "    11|     48| 4.404255|\n",
       "    11|     79| 4.151344|\n",
       "    11|     13|3.6438527|\n",
       "    11|     90|3.6310692|\n",
       "    11|     49|3.5694964|\n",
       "    11|     19|3.4558816|\n",
       "    11|     81|3.4252162|\n",
       "    11|     66|3.3622818|\n",
       "    11|     50|3.3575008|\n",
       "    11|     55|3.3267386|\n",
       "    11|      8| 3.193362|\n",
       "    11|     38| 3.114695|\n",
       "    11|     80|2.9385731|\n",
       "    11|     51|2.8964515|\n",
       "    11|     93|2.8043761|\n",
       "+------+-------+---------+\n",
       "only showing top 20 rows\n",
       "\n",
       "</div>"
      ]
     },
     "metadata": {
      "application/vnd.databricks.v1+output": {
       "addedWidgets": {},
       "arguments": {},
       "data": "<div class=\"ansiout\">+------+-------+---------+\n|userId|movieId|   rating|\n+------+-------+---------+\n|    11|     18|4.7560287|\n|    11|     30| 4.728299|\n|    11|     32|4.6885595|\n|    11|     23|4.5803294|\n|    11|     27| 4.505392|\n|    11|     48| 4.404255|\n|    11|     79| 4.151344|\n|    11|     13|3.6438527|\n|    11|     90|3.6310692|\n|    11|     49|3.5694964|\n|    11|     19|3.4558816|\n|    11|     81|3.4252162|\n|    11|     66|3.3622818|\n|    11|     50|3.3575008|\n|    11|     55|3.3267386|\n|    11|      8| 3.193362|\n|    11|     38| 3.114695|\n|    11|     80|2.9385731|\n|    11|     51|2.8964515|\n|    11|     93|2.8043761|\n+------+-------+---------+\nonly showing top 20 rows\n\n</div>",
       "datasetInfos": [
        {
         "name": "cv_recommendations_11",
         "schema": {
          "fields": [
           {
            "metadata": {},
            "name": "userId",
            "nullable": false,
            "type": "integer"
           },
           {
            "metadata": {},
            "name": "movieId",
            "nullable": true,
            "type": "integer"
           },
           {
            "metadata": {},
            "name": "rating",
            "nullable": true,
            "type": "float"
           }
          ],
          "type": "struct"
         },
         "tableIdentifier": null,
         "typeStr": "pyspark.sql.dataframe.DataFrame"
        }
       ],
       "metadata": {},
       "removedWidgets": [],
       "type": "html"
      }
     },
     "output_type": "display_data"
    }
   ],
   "source": [
    "cv_filter = cv_recommendations['userId'] == 11\n",
    "\n",
    "cv_recommendations_11 = cv_recommendations.where(cv_filter)\n",
    "cv_recommendations_11.show()"
   ]
  },
  {
   "cell_type": "code",
   "execution_count": 0,
   "metadata": {
    "application/vnd.databricks.v1+cell": {
     "inputWidgets": {},
     "nuid": "48a96ef9-c848-4e76-b299-3e7db15f3155",
     "showTitle": false,
     "title": ""
    }
   },
   "outputs": [
    {
     "data": {
      "text/html": [
       "<style scoped>\n",
       "  .ansiout {\n",
       "    display: block;\n",
       "    unicode-bidi: embed;\n",
       "    white-space: pre-wrap;\n",
       "    word-wrap: break-word;\n",
       "    word-break: break-all;\n",
       "    font-family: \"Source Code Pro\", \"Menlo\", monospace;;\n",
       "    font-size: 13px;\n",
       "    color: #555;\n",
       "    margin-left: 4px;\n",
       "    line-height: 19px;\n",
       "  }\n",
       "</style>\n",
       "<div class=\"ansiout\">+------+-------+------+\n",
       "userId|movieId|rating|\n",
       "+------+-------+------+\n",
       "    11|     18|     5|\n",
       "    11|     48|     5|\n",
       "    11|     27|     5|\n",
       "    11|     69|     5|\n",
       "    11|     79|     5|\n",
       "    11|     23|     5|\n",
       "    11|     30|     5|\n",
       "    11|     32|     5|\n",
       "    11|     50|     4|\n",
       "    11|     66|     4|\n",
       "    11|     81|     4|\n",
       "    11|     19|     4|\n",
       "    11|     90|     4|\n",
       "    11|     13|     4|\n",
       "    11|     38|     4|\n",
       "    11|     35|     3|\n",
       "    11|     51|     3|\n",
       "    11|     71|     3|\n",
       "    11|     75|     3|\n",
       "    11|     72|     3|\n",
       "+------+-------+------+\n",
       "only showing top 20 rows\n",
       "\n",
       "</div>"
      ]
     },
     "metadata": {
      "application/vnd.databricks.v1+output": {
       "addedWidgets": {},
       "arguments": {},
       "data": "<div class=\"ansiout\">+------+-------+------+\n|userId|movieId|rating|\n+------+-------+------+\n|    11|     18|     5|\n|    11|     48|     5|\n|    11|     27|     5|\n|    11|     69|     5|\n|    11|     79|     5|\n|    11|     23|     5|\n|    11|     30|     5|\n|    11|     32|     5|\n|    11|     50|     4|\n|    11|     66|     4|\n|    11|     81|     4|\n|    11|     19|     4|\n|    11|     90|     4|\n|    11|     13|     4|\n|    11|     38|     4|\n|    11|     35|     3|\n|    11|     51|     3|\n|    11|     71|     3|\n|    11|     75|     3|\n|    11|     72|     3|\n+------+-------+------+\nonly showing top 20 rows\n\n</div>",
       "datasetInfos": [
        {
         "name": "watched_user11",
         "schema": {
          "fields": [
           {
            "metadata": {},
            "name": "userId",
            "nullable": true,
            "type": "integer"
           },
           {
            "metadata": {},
            "name": "movieId",
            "nullable": true,
            "type": "integer"
           },
           {
            "metadata": {},
            "name": "rating",
            "nullable": true,
            "type": "integer"
           }
          ],
          "type": "struct"
         },
         "tableIdentifier": null,
         "typeStr": "pyspark.sql.dataframe.DataFrame"
        }
       ],
       "metadata": {},
       "removedWidgets": [],
       "type": "html"
      }
     },
     "output_type": "display_data"
    }
   ],
   "source": [
    "# Movies already watched by User 11\n",
    "watched_user11 = df.select(['userId','movieId',  'rating']).filter(df.userId == 11).orderBy('rating', ascending = False)\n",
    "watched_user11.show()"
   ]
  },
  {
   "cell_type": "code",
   "execution_count": 0,
   "metadata": {
    "application/vnd.databricks.v1+cell": {
     "inputWidgets": {},
     "nuid": "3f556992-e9af-4f2d-a901-8a467f065d9e",
     "showTitle": false,
     "title": ""
    }
   },
   "outputs": [
    {
     "data": {
      "text/html": [
       "<style scoped>\n",
       "  .ansiout {\n",
       "    display: block;\n",
       "    unicode-bidi: embed;\n",
       "    white-space: pre-wrap;\n",
       "    word-wrap: break-word;\n",
       "    word-break: break-all;\n",
       "    font-family: \"Source Code Pro\", \"Menlo\", monospace;;\n",
       "    font-size: 13px;\n",
       "    color: #555;\n",
       "    margin-left: 4px;\n",
       "    line-height: 19px;\n",
       "  }\n",
       "</style>\n",
       "<div class=\"ansiout\"></div>"
      ]
     },
     "metadata": {
      "application/vnd.databricks.v1+output": {
       "addedWidgets": {},
       "arguments": {},
       "data": "<div class=\"ansiout\"></div>",
       "datasetInfos": [],
       "metadata": {},
       "removedWidgets": [],
       "type": "html"
      }
     },
     "output_type": "display_data"
    }
   ],
   "source": [
    "# Extracting movie id for watched movies\n",
    "movie_list = []\n",
    "for movie in watched_user11.collect():\n",
    "  movie_list.append(movie.movieId)"
   ]
  },
  {
   "cell_type": "code",
   "execution_count": 0,
   "metadata": {
    "application/vnd.databricks.v1+cell": {
     "inputWidgets": {},
     "nuid": "73058ef0-6508-4701-8ccc-f7f02e70ef97",
     "showTitle": false,
     "title": ""
    }
   },
   "outputs": [
    {
     "data": {
      "text/html": [
       "<style scoped>\n",
       "  .ansiout {\n",
       "    display: block;\n",
       "    unicode-bidi: embed;\n",
       "    white-space: pre-wrap;\n",
       "    word-wrap: break-word;\n",
       "    word-break: break-all;\n",
       "    font-family: \"Source Code Pro\", \"Menlo\", monospace;;\n",
       "    font-size: 13px;\n",
       "    color: #555;\n",
       "    margin-left: 4px;\n",
       "    line-height: 19px;\n",
       "  }\n",
       "</style>\n",
       "<div class=\"ansiout\">56\n",
       "</div>"
      ]
     },
     "metadata": {
      "application/vnd.databricks.v1+output": {
       "addedWidgets": {},
       "arguments": {},
       "data": "<div class=\"ansiout\">56\n</div>",
       "datasetInfos": [],
       "metadata": {},
       "removedWidgets": [],
       "type": "html"
      }
     },
     "output_type": "display_data"
    }
   ],
   "source": [
    "print(len(movie_list))"
   ]
  },
  {
   "cell_type": "code",
   "execution_count": 0,
   "metadata": {
    "application/vnd.databricks.v1+cell": {
     "inputWidgets": {},
     "nuid": "81ff60ef-cadb-428c-a5d1-367159fd89a2",
     "showTitle": false,
     "title": ""
    }
   },
   "outputs": [
    {
     "data": {
      "text/html": [
       "<style scoped>\n",
       "  .ansiout {\n",
       "    display: block;\n",
       "    unicode-bidi: embed;\n",
       "    white-space: pre-wrap;\n",
       "    word-wrap: break-word;\n",
       "    word-break: break-all;\n",
       "    font-family: \"Source Code Pro\", \"Menlo\", monospace;;\n",
       "    font-size: 13px;\n",
       "    color: #555;\n",
       "    margin-left: 4px;\n",
       "    line-height: 19px;\n",
       "  }\n",
       "</style>\n",
       "<div class=\"ansiout\">+------+-------+---------+\n",
       "userId|movieId|   rating|\n",
       "+------+-------+---------+\n",
       "    11|     49|3.5694964|\n",
       "    11|     55|3.3267386|\n",
       "    11|      8| 3.193362|\n",
       "    11|     93|2.8043761|\n",
       "    11|     34|2.5651197|\n",
       "    11|     46|2.4032905|\n",
       "    11|      7|2.3851585|\n",
       "    11|     83|2.3656769|\n",
       "    11|     73| 2.345943|\n",
       "    11|     17|2.1344254|\n",
       "    11|     87|2.1150675|\n",
       "    11|     44|2.1079774|\n",
       "    11|     63| 2.052105|\n",
       "    11|     96|1.9910831|\n",
       "    11|     54| 1.935037|\n",
       "    11|     24|1.9124683|\n",
       "    11|     65|1.8602684|\n",
       "    11|     74|1.7630874|\n",
       "    11|     68|1.7236478|\n",
       "    11|     31|1.7071593|\n",
       "+------+-------+---------+\n",
       "only showing top 20 rows\n",
       "\n",
       "</div>"
      ]
     },
     "metadata": {
      "application/vnd.databricks.v1+output": {
       "addedWidgets": {},
       "arguments": {},
       "data": "<div class=\"ansiout\">+------+-------+---------+\n|userId|movieId|   rating|\n+------+-------+---------+\n|    11|     49|3.5694964|\n|    11|     55|3.3267386|\n|    11|      8| 3.193362|\n|    11|     93|2.8043761|\n|    11|     34|2.5651197|\n|    11|     46|2.4032905|\n|    11|      7|2.3851585|\n|    11|     83|2.3656769|\n|    11|     73| 2.345943|\n|    11|     17|2.1344254|\n|    11|     87|2.1150675|\n|    11|     44|2.1079774|\n|    11|     63| 2.052105|\n|    11|     96|1.9910831|\n|    11|     54| 1.935037|\n|    11|     24|1.9124683|\n|    11|     65|1.8602684|\n|    11|     74|1.7630874|\n|    11|     68|1.7236478|\n|    11|     31|1.7071593|\n+------+-------+---------+\nonly showing top 20 rows\n\n</div>",
       "datasetInfos": [
        {
         "name": "Unwatched_recommended_user11",
         "schema": {
          "fields": [
           {
            "metadata": {},
            "name": "userId",
            "nullable": false,
            "type": "integer"
           },
           {
            "metadata": {},
            "name": "movieId",
            "nullable": true,
            "type": "integer"
           },
           {
            "metadata": {},
            "name": "rating",
            "nullable": true,
            "type": "float"
           }
          ],
          "type": "struct"
         },
         "tableIdentifier": null,
         "typeStr": "pyspark.sql.dataframe.DataFrame"
        }
       ],
       "metadata": {},
       "removedWidgets": [],
       "type": "html"
      }
     },
     "output_type": "display_data"
    }
   ],
   "source": [
    "Unwatched_recommended_user11 = (cv_recommendations_11.filter(cv_recommendations_11.movieId.isin(movie_list) == False))\n",
    "Unwatched_recommended_user11.show()"
   ]
  },
  {
   "cell_type": "code",
   "execution_count": 0,
   "metadata": {
    "application/vnd.databricks.v1+cell": {
     "inputWidgets": {},
     "nuid": "083c04f3-eac7-4dfc-98ef-9446a36e3884",
     "showTitle": false,
     "title": ""
    }
   },
   "outputs": [
    {
     "data": {
      "text/html": [
       "<style scoped>\n",
       "  .ansiout {\n",
       "    display: block;\n",
       "    unicode-bidi: embed;\n",
       "    white-space: pre-wrap;\n",
       "    word-wrap: break-word;\n",
       "    word-break: break-all;\n",
       "    font-family: \"Source Code Pro\", \"Menlo\", monospace;;\n",
       "    font-size: 13px;\n",
       "    color: #555;\n",
       "    margin-left: 4px;\n",
       "    line-height: 19px;\n",
       "  }\n",
       "</style>\n",
       "<div class=\"ansiout\">29\n",
       "</div>"
      ]
     },
     "metadata": {
      "application/vnd.databricks.v1+output": {
       "addedWidgets": {},
       "arguments": {},
       "data": "<div class=\"ansiout\">29\n</div>",
       "datasetInfos": [],
       "metadata": {},
       "removedWidgets": [],
       "type": "html"
      }
     },
     "output_type": "display_data"
    }
   ],
   "source": [
    "print(Unwatched_recommended_user11.count())"
   ]
  },
  {
   "cell_type": "code",
   "execution_count": 0,
   "metadata": {
    "application/vnd.databricks.v1+cell": {
     "inputWidgets": {},
     "nuid": "11cf83f1-ea7f-4f19-8169-538539a388c0",
     "showTitle": false,
     "title": ""
    }
   },
   "outputs": [
    {
     "data": {
      "text/html": [
       "<style scoped>\n",
       "  .ansiout {\n",
       "    display: block;\n",
       "    unicode-bidi: embed;\n",
       "    white-space: pre-wrap;\n",
       "    word-wrap: break-word;\n",
       "    word-break: break-all;\n",
       "    font-family: \"Source Code Pro\", \"Menlo\", monospace;;\n",
       "    font-size: 13px;\n",
       "    color: #555;\n",
       "    margin-left: 4px;\n",
       "    line-height: 19px;\n",
       "  }\n",
       "</style>\n",
       "<div class=\"ansiout\">+------+-------+---------+\n",
       "userId|movieId|   rating|\n",
       "+------+-------+---------+\n",
       "    11|     49|3.5694964|\n",
       "    11|     55|3.3267386|\n",
       "    11|      8| 3.193362|\n",
       "    11|     93|2.8043761|\n",
       "    11|     34|2.5651197|\n",
       "    11|     46|2.4032905|\n",
       "    11|      7|2.3851585|\n",
       "    11|     83|2.3656769|\n",
       "    11|     73| 2.345943|\n",
       "    11|     17|2.1344254|\n",
       "    11|     87|2.1150675|\n",
       "    11|     44|2.1079774|\n",
       "    11|     63| 2.052105|\n",
       "    11|     96|1.9910831|\n",
       "    11|     54| 1.935037|\n",
       "+------+-------+---------+\n",
       "\n",
       "</div>"
      ]
     },
     "metadata": {
      "application/vnd.databricks.v1+output": {
       "addedWidgets": {},
       "arguments": {},
       "data": "<div class=\"ansiout\">+------+-------+---------+\n|userId|movieId|   rating|\n+------+-------+---------+\n|    11|     49|3.5694964|\n|    11|     55|3.3267386|\n|    11|      8| 3.193362|\n|    11|     93|2.8043761|\n|    11|     34|2.5651197|\n|    11|     46|2.4032905|\n|    11|      7|2.3851585|\n|    11|     83|2.3656769|\n|    11|     73| 2.345943|\n|    11|     17|2.1344254|\n|    11|     87|2.1150675|\n|    11|     44|2.1079774|\n|    11|     63| 2.052105|\n|    11|     96|1.9910831|\n|    11|     54| 1.935037|\n+------+-------+---------+\n\n</div>",
       "datasetInfos": [],
       "metadata": {},
       "removedWidgets": [],
       "type": "html"
      }
     },
     "output_type": "display_data"
    }
   ],
   "source": [
    "Unwatched_recommended_user11.orderBy(desc('rating')).limit(15).show()"
   ]
  },
  {
   "cell_type": "code",
   "execution_count": 0,
   "metadata": {
    "application/vnd.databricks.v1+cell": {
     "inputWidgets": {},
     "nuid": "1a712fef-65e6-47dd-bee2-9138cfc7c06a",
     "showTitle": true,
     "title": "User ID 23"
    }
   },
   "outputs": [
    {
     "data": {
      "text/html": [
       "<style scoped>\n",
       "  .ansiout {\n",
       "    display: block;\n",
       "    unicode-bidi: embed;\n",
       "    white-space: pre-wrap;\n",
       "    word-wrap: break-word;\n",
       "    word-break: break-all;\n",
       "    font-family: \"Source Code Pro\", \"Menlo\", monospace;;\n",
       "    font-size: 13px;\n",
       "    color: #555;\n",
       "    margin-left: 4px;\n",
       "    line-height: 19px;\n",
       "  }\n",
       "</style>\n",
       "<div class=\"ansiout\">+------+-------+---------+\n",
       "userId|movieId|   rating|\n",
       "+------+-------+---------+\n",
       "    23|     32|  4.79486|\n",
       "    23|     55| 4.673742|\n",
       "    23|     49|4.5430574|\n",
       "    23|     48|4.3785806|\n",
       "    23|     90| 4.198768|\n",
       "    23|     27|3.9622667|\n",
       "    23|     23|3.8798094|\n",
       "    23|     30|3.8768952|\n",
       "    23|     17|3.8110025|\n",
       "    23|     50|3.7684746|\n",
       "    23|      7|3.6960728|\n",
       "    23|     18|3.6585617|\n",
       "    23|     46|3.6053803|\n",
       "    23|     13| 3.552243|\n",
       "    23|     64|3.5466485|\n",
       "    23|     94|3.1548033|\n",
       "    23|     35|3.0985942|\n",
       "    23|     68|3.0275335|\n",
       "    23|     20|2.7890196|\n",
       "    23|     87|2.7621088|\n",
       "+------+-------+---------+\n",
       "only showing top 20 rows\n",
       "\n",
       "</div>"
      ]
     },
     "metadata": {
      "application/vnd.databricks.v1+output": {
       "addedWidgets": {},
       "arguments": {},
       "data": "<div class=\"ansiout\">+------+-------+---------+\n|userId|movieId|   rating|\n+------+-------+---------+\n|    23|     32|  4.79486|\n|    23|     55| 4.673742|\n|    23|     49|4.5430574|\n|    23|     48|4.3785806|\n|    23|     90| 4.198768|\n|    23|     27|3.9622667|\n|    23|     23|3.8798094|\n|    23|     30|3.8768952|\n|    23|     17|3.8110025|\n|    23|     50|3.7684746|\n|    23|      7|3.6960728|\n|    23|     18|3.6585617|\n|    23|     46|3.6053803|\n|    23|     13| 3.552243|\n|    23|     64|3.5466485|\n|    23|     94|3.1548033|\n|    23|     35|3.0985942|\n|    23|     68|3.0275335|\n|    23|     20|2.7890196|\n|    23|     87|2.7621088|\n+------+-------+---------+\nonly showing top 20 rows\n\n</div>",
       "datasetInfos": [
        {
         "name": "cv_recommendations_23",
         "schema": {
          "fields": [
           {
            "metadata": {},
            "name": "userId",
            "nullable": false,
            "type": "integer"
           },
           {
            "metadata": {},
            "name": "movieId",
            "nullable": true,
            "type": "integer"
           },
           {
            "metadata": {},
            "name": "rating",
            "nullable": true,
            "type": "float"
           }
          ],
          "type": "struct"
         },
         "tableIdentifier": null,
         "typeStr": "pyspark.sql.dataframe.DataFrame"
        }
       ],
       "metadata": {},
       "removedWidgets": [],
       "type": "html"
      }
     },
     "output_type": "display_data"
    }
   ],
   "source": [
    "cv_filter2 = cv_recommendations['userId'] == 23\n",
    "\n",
    "cv_recommendations_23 = cv_recommendations.where(cv_filter2)\n",
    "cv_recommendations_23.show()"
   ]
  },
  {
   "cell_type": "code",
   "execution_count": 0,
   "metadata": {
    "application/vnd.databricks.v1+cell": {
     "inputWidgets": {},
     "nuid": "fa13da54-f606-41e7-974a-1d9a8dadc547",
     "showTitle": false,
     "title": ""
    }
   },
   "outputs": [
    {
     "data": {
      "text/html": [
       "<style scoped>\n",
       "  .ansiout {\n",
       "    display: block;\n",
       "    unicode-bidi: embed;\n",
       "    white-space: pre-wrap;\n",
       "    word-wrap: break-word;\n",
       "    word-break: break-all;\n",
       "    font-family: \"Source Code Pro\", \"Menlo\", monospace;;\n",
       "    font-size: 13px;\n",
       "    color: #555;\n",
       "    margin-left: 4px;\n",
       "    line-height: 19px;\n",
       "  }\n",
       "</style>\n",
       "<div class=\"ansiout\">52\n",
       "</div>"
      ]
     },
     "metadata": {
      "application/vnd.databricks.v1+output": {
       "addedWidgets": {},
       "arguments": {},
       "data": "<div class=\"ansiout\">52\n</div>",
       "datasetInfos": [
        {
         "name": "watched_user23",
         "schema": {
          "fields": [
           {
            "metadata": {},
            "name": "userId",
            "nullable": true,
            "type": "integer"
           },
           {
            "metadata": {},
            "name": "movieId",
            "nullable": true,
            "type": "integer"
           },
           {
            "metadata": {},
            "name": "rating",
            "nullable": true,
            "type": "integer"
           }
          ],
          "type": "struct"
         },
         "tableIdentifier": null,
         "typeStr": "pyspark.sql.dataframe.DataFrame"
        }
       ],
       "metadata": {},
       "removedWidgets": [],
       "type": "html"
      }
     },
     "output_type": "display_data"
    }
   ],
   "source": [
    "# Movies already watched by User 23\n",
    "watched_user23 = df.select(['userId','movieId',  'rating']).filter(df.userId == 23).orderBy('rating', ascending = False)\n",
    "# Extracting movie id for watched movies\n",
    "movie_list23 = []\n",
    "for movie in watched_user23.collect():\n",
    "  movie_list23.append(movie.movieId)\n",
    "print(len(movie_list23))"
   ]
  },
  {
   "cell_type": "code",
   "execution_count": 0,
   "metadata": {
    "application/vnd.databricks.v1+cell": {
     "inputWidgets": {},
     "nuid": "8f055dfa-6b04-4278-98fd-6e5020c32cfc",
     "showTitle": false,
     "title": ""
    }
   },
   "outputs": [
    {
     "data": {
      "text/html": [
       "<style scoped>\n",
       "  .ansiout {\n",
       "    display: block;\n",
       "    unicode-bidi: embed;\n",
       "    white-space: pre-wrap;\n",
       "    word-wrap: break-word;\n",
       "    word-break: break-all;\n",
       "    font-family: \"Source Code Pro\", \"Menlo\", monospace;;\n",
       "    font-size: 13px;\n",
       "    color: #555;\n",
       "    margin-left: 4px;\n",
       "    line-height: 19px;\n",
       "  }\n",
       "</style>\n",
       "<div class=\"ansiout\">+------+-------+---------+\n",
       "userId|movieId|   rating|\n",
       "+------+-------+---------+\n",
       "    23|     90| 4.198768|\n",
       "    23|     17|3.8110025|\n",
       "    23|      7|3.6960728|\n",
       "    23|     46|3.6053803|\n",
       "    23|     94|3.1548033|\n",
       "    23|     35|3.0985942|\n",
       "    23|     20|2.7890196|\n",
       "    23|     79|2.6687233|\n",
       "    23|     56|2.5495627|\n",
       "    23|     81|2.4428444|\n",
       "    23|     19|2.2522676|\n",
       "    23|     16|2.1279554|\n",
       "    23|     91|2.0733461|\n",
       "    23|     80|2.0283413|\n",
       "    23|     75|1.9893386|\n",
       "+------+-------+---------+\n",
       "\n",
       "</div>"
      ]
     },
     "metadata": {
      "application/vnd.databricks.v1+output": {
       "addedWidgets": {},
       "arguments": {},
       "data": "<div class=\"ansiout\">+------+-------+---------+\n|userId|movieId|   rating|\n+------+-------+---------+\n|    23|     90| 4.198768|\n|    23|     17|3.8110025|\n|    23|      7|3.6960728|\n|    23|     46|3.6053803|\n|    23|     94|3.1548033|\n|    23|     35|3.0985942|\n|    23|     20|2.7890196|\n|    23|     79|2.6687233|\n|    23|     56|2.5495627|\n|    23|     81|2.4428444|\n|    23|     19|2.2522676|\n|    23|     16|2.1279554|\n|    23|     91|2.0733461|\n|    23|     80|2.0283413|\n|    23|     75|1.9893386|\n+------+-------+---------+\n\n</div>",
       "datasetInfos": [
        {
         "name": "Unwatched_recommended_user23",
         "schema": {
          "fields": [
           {
            "metadata": {},
            "name": "userId",
            "nullable": false,
            "type": "integer"
           },
           {
            "metadata": {},
            "name": "movieId",
            "nullable": true,
            "type": "integer"
           },
           {
            "metadata": {},
            "name": "rating",
            "nullable": true,
            "type": "float"
           }
          ],
          "type": "struct"
         },
         "tableIdentifier": null,
         "typeStr": "pyspark.sql.dataframe.DataFrame"
        }
       ],
       "metadata": {},
       "removedWidgets": [],
       "type": "html"
      }
     },
     "output_type": "display_data"
    }
   ],
   "source": [
    "Unwatched_recommended_user23 = (cv_recommendations_23.filter(cv_recommendations_23.movieId.isin(movie_list23) == False))\n",
    "Unwatched_recommended_user23.orderBy(desc('rating')).limit(15).show()"
   ]
  },
  {
   "cell_type": "code",
   "execution_count": 0,
   "metadata": {
    "application/vnd.databricks.v1+cell": {
     "inputWidgets": {},
     "nuid": "3281fb34-c7e6-4e4e-b047-163a60bac653",
     "showTitle": false,
     "title": ""
    }
   },
   "outputs": [
    {
     "data": {
      "text/html": [
       "<style scoped>\n",
       "  .ansiout {\n",
       "    display: block;\n",
       "    unicode-bidi: embed;\n",
       "    white-space: pre-wrap;\n",
       "    word-wrap: break-word;\n",
       "    word-break: break-all;\n",
       "    font-family: \"Source Code Pro\", \"Menlo\", monospace;;\n",
       "    font-size: 13px;\n",
       "    color: #555;\n",
       "    margin-left: 4px;\n",
       "    line-height: 19px;\n",
       "  }\n",
       "</style>"
      ]
     },
     "metadata": {
      "application/vnd.databricks.v1+output": {
       "arguments": {},
       "data": "",
       "errorSummary": "",
       "errorTraceType": null,
       "metadata": {},
       "type": "ipynbError"
      }
     },
     "output_type": "display_data"
    }
   ],
   "source": []
  },
  {
   "cell_type": "code",
   "execution_count": 0,
   "metadata": {
    "application/vnd.databricks.v1+cell": {
     "inputWidgets": {},
     "nuid": "c1f62a1d-4e2d-4d94-9dc5-2101925dc911",
     "showTitle": false,
     "title": ""
    }
   },
   "outputs": [
    {
     "data": {
      "text/html": [
       "<style scoped>\n",
       "  .ansiout {\n",
       "    display: block;\n",
       "    unicode-bidi: embed;\n",
       "    white-space: pre-wrap;\n",
       "    word-wrap: break-word;\n",
       "    word-break: break-all;\n",
       "    font-family: \"Source Code Pro\", \"Menlo\", monospace;;\n",
       "    font-size: 13px;\n",
       "    color: #555;\n",
       "    margin-left: 4px;\n",
       "    line-height: 19px;\n",
       "  }\n",
       "</style>"
      ]
     },
     "metadata": {
      "application/vnd.databricks.v1+output": {
       "arguments": {},
       "data": "",
       "errorSummary": "",
       "errorTraceType": null,
       "metadata": {},
       "type": "ipynbError"
      }
     },
     "output_type": "display_data"
    }
   ],
   "source": []
  },
  {
   "cell_type": "code",
   "execution_count": 0,
   "metadata": {
    "application/vnd.databricks.v1+cell": {
     "inputWidgets": {},
     "nuid": "b61e110c-a059-4dba-ab4a-6cd0c2b5a74d",
     "showTitle": true,
     "title": "Extra:         Looking at the movies the user has already seen"
    }
   },
   "outputs": [
    {
     "data": {
      "text/html": [
       "<style scoped>\n",
       "  .ansiout {\n",
       "    display: block;\n",
       "    unicode-bidi: embed;\n",
       "    white-space: pre-wrap;\n",
       "    word-wrap: break-word;\n",
       "    word-break: break-all;\n",
       "    font-family: \"Source Code Pro\", \"Menlo\", monospace;;\n",
       "    font-size: 13px;\n",
       "    color: #555;\n",
       "    margin-left: 4px;\n",
       "    line-height: 19px;\n",
       "  }\n",
       "</style>\n",
       "<div class=\"ansiout\"></div>"
      ]
     },
     "metadata": {
      "application/vnd.databricks.v1+output": {
       "addedWidgets": {},
       "arguments": {},
       "data": "<div class=\"ansiout\"></div>",
       "datasetInfos": [
        {
         "name": "watched_user11",
         "schema": {
          "fields": [
           {
            "metadata": {},
            "name": "userId",
            "nullable": true,
            "type": "integer"
           },
           {
            "metadata": {},
            "name": "movieId",
            "nullable": true,
            "type": "integer"
           },
           {
            "metadata": {},
            "name": "rating",
            "nullable": true,
            "type": "integer"
           }
          ],
          "type": "struct"
         },
         "tableIdentifier": null,
         "typeStr": "pyspark.sql.dataframe.DataFrame"
        }
       ],
       "metadata": {},
       "removedWidgets": [],
       "type": "html"
      }
     },
     "output_type": "display_data"
    }
   ],
   "source": [
    "watched_user11 = df.select(['userId','movieId',  'rating']).filter(df.userId == 11).orderBy('rating', ascending = False)"
   ]
  },
  {
   "cell_type": "code",
   "execution_count": 0,
   "metadata": {
    "application/vnd.databricks.v1+cell": {
     "inputWidgets": {},
     "nuid": "bb3f2066-700d-407f-86fc-be988fe00f50",
     "showTitle": false,
     "title": ""
    }
   },
   "outputs": [
    {
     "data": {
      "text/html": [
       "<style scoped>\n",
       "  .ansiout {\n",
       "    display: block;\n",
       "    unicode-bidi: embed;\n",
       "    white-space: pre-wrap;\n",
       "    word-wrap: break-word;\n",
       "    word-break: break-all;\n",
       "    font-family: \"Source Code Pro\", \"Menlo\", monospace;;\n",
       "    font-size: 13px;\n",
       "    color: #555;\n",
       "    margin-left: 4px;\n",
       "    line-height: 19px;\n",
       "  }\n",
       "</style>\n",
       "<div class=\"ansiout\">+------+-------+------+\n",
       "userId|movieId|rating|\n",
       "+------+-------+------+\n",
       "    11|     18|     5|\n",
       "    11|     48|     5|\n",
       "    11|     27|     5|\n",
       "    11|     69|     5|\n",
       "    11|     79|     5|\n",
       "    11|     23|     5|\n",
       "    11|     30|     5|\n",
       "    11|     32|     5|\n",
       "    11|     50|     4|\n",
       "    11|     66|     4|\n",
       "    11|     81|     4|\n",
       "    11|     19|     4|\n",
       "    11|     90|     4|\n",
       "    11|     13|     4|\n",
       "    11|     38|     4|\n",
       "    11|     35|     3|\n",
       "    11|     51|     3|\n",
       "    11|     71|     3|\n",
       "    11|     75|     3|\n",
       "    11|     72|     3|\n",
       "+------+-------+------+\n",
       "only showing top 20 rows\n",
       "\n",
       "</div>"
      ]
     },
     "metadata": {
      "application/vnd.databricks.v1+output": {
       "addedWidgets": {},
       "arguments": {},
       "data": "<div class=\"ansiout\">+------+-------+------+\n|userId|movieId|rating|\n+------+-------+------+\n|    11|     18|     5|\n|    11|     48|     5|\n|    11|     27|     5|\n|    11|     69|     5|\n|    11|     79|     5|\n|    11|     23|     5|\n|    11|     30|     5|\n|    11|     32|     5|\n|    11|     50|     4|\n|    11|     66|     4|\n|    11|     81|     4|\n|    11|     19|     4|\n|    11|     90|     4|\n|    11|     13|     4|\n|    11|     38|     4|\n|    11|     35|     3|\n|    11|     51|     3|\n|    11|     71|     3|\n|    11|     75|     3|\n|    11|     72|     3|\n+------+-------+------+\nonly showing top 20 rows\n\n</div>",
       "datasetInfos": [],
       "metadata": {},
       "removedWidgets": [],
       "type": "html"
      }
     },
     "output_type": "display_data"
    }
   ],
   "source": [
    "# MOVIES ALREADY WATCHED BY THE USER\n",
    "watched_user11.show()"
   ]
  },
  {
   "cell_type": "code",
   "execution_count": 0,
   "metadata": {
    "application/vnd.databricks.v1+cell": {
     "inputWidgets": {},
     "nuid": "ddaecedf-38dc-47ca-9e83-359cc5d28dd1",
     "showTitle": false,
     "title": ""
    }
   },
   "outputs": [
    {
     "data": {
      "text/html": [
       "<style scoped>\n",
       "  .ansiout {\n",
       "    display: block;\n",
       "    unicode-bidi: embed;\n",
       "    white-space: pre-wrap;\n",
       "    word-wrap: break-word;\n",
       "    word-break: break-all;\n",
       "    font-family: \"Source Code Pro\", \"Menlo\", monospace;;\n",
       "    font-size: 13px;\n",
       "    color: #555;\n",
       "    margin-left: 4px;\n",
       "    line-height: 19px;\n",
       "  }\n",
       "</style>\n",
       "<div class=\"ansiout\"></div>"
      ]
     },
     "metadata": {
      "application/vnd.databricks.v1+output": {
       "addedWidgets": {},
       "arguments": {},
       "data": "<div class=\"ansiout\"></div>",
       "datasetInfos": [],
       "metadata": {},
       "removedWidgets": [],
       "type": "html"
      }
     },
     "output_type": "display_data"
    }
   ],
   "source": [
    "# Extracting movie id for watched movies\n",
    "movie_list = []\n",
    "for movie in watched_user11.collect():\n",
    "  movie_list.append(movie.movieId)"
   ]
  },
  {
   "cell_type": "code",
   "execution_count": 0,
   "metadata": {
    "application/vnd.databricks.v1+cell": {
     "inputWidgets": {},
     "nuid": "84c511d7-67d3-4551-90ed-6e12600bb6a0",
     "showTitle": true,
     "title": "Finding Unwatched movies for prediction from recommender system"
    }
   },
   "outputs": [
    {
     "data": {
      "text/html": [
       "<style scoped>\n",
       "  .ansiout {\n",
       "    display: block;\n",
       "    unicode-bidi: embed;\n",
       "    white-space: pre-wrap;\n",
       "    word-wrap: break-word;\n",
       "    word-break: break-all;\n",
       "    font-family: \"Source Code Pro\", \"Menlo\", monospace;;\n",
       "    font-size: 13px;\n",
       "    color: #555;\n",
       "    margin-left: 4px;\n",
       "    line-height: 19px;\n",
       "  }\n",
       "</style>\n",
       "<div class=\"ansiout\"></div>"
      ]
     },
     "metadata": {
      "application/vnd.databricks.v1+output": {
       "addedWidgets": {},
       "arguments": {},
       "data": "<div class=\"ansiout\"></div>",
       "datasetInfos": [
        {
         "name": "Unwatched_user11",
         "schema": {
          "fields": [
           {
            "metadata": {},
            "name": "movieId",
            "nullable": true,
            "type": "integer"
           },
           {
            "metadata": {},
            "name": "rating",
            "nullable": true,
            "type": "integer"
           },
           {
            "metadata": {},
            "name": "userId",
            "nullable": true,
            "type": "integer"
           }
          ],
          "type": "struct"
         },
         "tableIdentifier": null,
         "typeStr": "pyspark.sql.dataframe.DataFrame"
        }
       ],
       "metadata": {},
       "removedWidgets": [],
       "type": "html"
      }
     },
     "output_type": "display_data"
    }
   ],
   "source": [
    "Unwatched_user11 = (df.filter(df.movieId.isin(movie_list) == False))"
   ]
  },
  {
   "cell_type": "code",
   "execution_count": 0,
   "metadata": {
    "application/vnd.databricks.v1+cell": {
     "inputWidgets": {},
     "nuid": "efcc8a2f-dd26-4d9d-91bd-16ec98448b4d",
     "showTitle": false,
     "title": ""
    }
   },
   "outputs": [
    {
     "data": {
      "text/html": [
       "<style scoped>\n",
       "  .ansiout {\n",
       "    display: block;\n",
       "    unicode-bidi: embed;\n",
       "    white-space: pre-wrap;\n",
       "    word-wrap: break-word;\n",
       "    word-break: break-all;\n",
       "    font-family: \"Source Code Pro\", \"Menlo\", monospace;;\n",
       "    font-size: 13px;\n",
       "    color: #555;\n",
       "    margin-left: 4px;\n",
       "    line-height: 19px;\n",
       "  }\n",
       "</style>\n",
       "<div class=\"ansiout\">+-------+------+\n",
       "movieId|rating|\n",
       "+-------+------+\n",
       "      2|     3|\n",
       "      3|     1|\n",
       "      5|     2|\n",
       "     15|     1|\n",
       "     17|     1|\n",
       "     26|     3|\n",
       "     28|     1|\n",
       "     29|     1|\n",
       "     31|     1|\n",
       "     34|     1|\n",
       "     44|     1|\n",
       "     46|     1|\n",
       "     54|     1|\n",
       "     55|     1|\n",
       "     68|     1|\n",
       "     83|     1|\n",
       "     87|     1|\n",
       "     91|     3|\n",
       "     92|     4|\n",
       "     95|     2|\n",
       "+-------+------+\n",
       "only showing top 20 rows\n",
       "\n",
       "</div>"
      ]
     },
     "metadata": {
      "application/vnd.databricks.v1+output": {
       "addedWidgets": {},
       "arguments": {},
       "data": "<div class=\"ansiout\">+-------+------+\n|movieId|rating|\n+-------+------+\n|      2|     3|\n|      3|     1|\n|      5|     2|\n|     15|     1|\n|     17|     1|\n|     26|     3|\n|     28|     1|\n|     29|     1|\n|     31|     1|\n|     34|     1|\n|     44|     1|\n|     46|     1|\n|     54|     1|\n|     55|     1|\n|     68|     1|\n|     83|     1|\n|     87|     1|\n|     91|     3|\n|     92|     4|\n|     95|     2|\n+-------+------+\nonly showing top 20 rows\n\n</div>",
       "datasetInfos": [],
       "metadata": {},
       "removedWidgets": [],
       "type": "html"
      }
     },
     "output_type": "display_data"
    }
   ],
   "source": [
    "Unwatched_user11.select('movieId','rating').show()"
   ]
  },
  {
   "cell_type": "code",
   "execution_count": 0,
   "metadata": {
    "application/vnd.databricks.v1+cell": {
     "inputWidgets": {},
     "nuid": "e4715c50-6486-4c65-94ab-ac678779b2e0",
     "showTitle": false,
     "title": ""
    }
   },
   "outputs": [
    {
     "data": {
      "text/html": [
       "<style scoped>\n",
       "  .table-result-container {\n",
       "    max-height: 300px;\n",
       "    overflow: auto;\n",
       "  }\n",
       "  table, th, td {\n",
       "    border: 1px solid black;\n",
       "    border-collapse: collapse;\n",
       "  }\n",
       "  th, td {\n",
       "    padding: 5px;\n",
       "  }\n",
       "  th {\n",
       "    text-align: left;\n",
       "  }\n",
       "</style><div class='table-result-container'><table class='table-result'><thead style='background-color: white'><tr><th>movieId</th><th>prediction</th></tr></thead><tbody><tr><td>31</td><td>1.1811305</td></tr><tr><td>31</td><td>1.2988654</td></tr><tr><td>31</td><td>1.2270397</td></tr><tr><td>31</td><td>2.6040952</td></tr><tr><td>31</td><td>2.7394843</td></tr><tr><td>31</td><td>3.3450334</td></tr><tr><td>31</td><td>1.417555</td></tr><tr><td>31</td><td>2.5627148</td></tr><tr><td>31</td><td>1.0549653</td></tr><tr><td>31</td><td>1.2622926</td></tr><tr><td>31</td><td>1.1970472</td></tr><tr><td>31</td><td>2.0866492</td></tr><tr><td>31</td><td>0.9510506</td></tr><tr><td>31</td><td>1.0879949</td></tr><tr><td>31</td><td>1.6883993</td></tr><tr><td>85</td><td>2.4554548</td></tr><tr><td>85</td><td>1.1292094</td></tr><tr><td>85</td><td>1.6155765</td></tr><tr><td>85</td><td>1.1321574</td></tr><tr><td>85</td><td>2.7801683</td></tr><tr><td>85</td><td>3.4234285</td></tr><tr><td>85</td><td>4.0642357</td></tr><tr><td>85</td><td>1.0834881</td></tr><tr><td>85</td><td>1.1682265</td></tr><tr><td>85</td><td>0.989592</td></tr><tr><td>85</td><td>4.1843853</td></tr><tr><td>85</td><td>2.387853</td></tr><tr><td>85</td><td>2.6232564</td></tr><tr><td>85</td><td>1.0123494</td></tr><tr><td>85</td><td>1.184825</td></tr><tr><td>85</td><td>1.2224227</td></tr><tr><td>85</td><td>0.96506417</td></tr><tr><td>85</td><td>0.96680343</td></tr><tr><td>65</td><td>1.0329286</td></tr><tr><td>65</td><td>1.6752452</td></tr><tr><td>65</td><td>0.99206126</td></tr><tr><td>65</td><td>1.7306752</td></tr><tr><td>65</td><td>1.7322918</td></tr><tr><td>65</td><td>1.0396793</td></tr><tr><td>65</td><td>1.1230989</td></tr><tr><td>65</td><td>1.7555646</td></tr><tr><td>65</td><td>1.933638</td></tr><tr><td>65</td><td>1.0009445</td></tr><tr><td>65</td><td>1.0373589</td></tr><tr><td>53</td><td>1.3890452</td></tr><tr><td>53</td><td>1.4195434</td></tr><tr><td>53</td><td>4.205834</td></tr><tr><td>53</td><td>1.4271152</td></tr><tr><td>53</td><td>0.9071081</td></tr><tr><td>53</td><td>2.8224208</td></tr><tr><td>53</td><td>3.0930545</td></tr><tr><td>53</td><td>1.9907256</td></tr><tr><td>53</td><td>2.7102458</td></tr><tr><td>53</td><td>4.177071</td></tr><tr><td>53</td><td>0.9306968</td></tr><tr><td>53</td><td>0.9196376</td></tr><tr><td>34</td><td>1.007747</td></tr><tr><td>34</td><td>3.5348792</td></tr><tr><td>34</td><td>2.5767126</td></tr><tr><td>34</td><td>1.1115184</td></tr><tr><td>34</td><td>1.50014</td></tr><tr><td>34</td><td>1.1415335</td></tr><tr><td>34</td><td>1.4647816</td></tr><tr><td>34</td><td>0.9605367</td></tr><tr><td>34</td><td>1.06601</td></tr><tr><td>34</td><td>2.5768132</td></tr><tr><td>34</td><td>1.1377416</td></tr><tr><td>28</td><td>1.0945399</td></tr><tr><td>28</td><td>2.4807038</td></tr><tr><td>28</td><td>1.4196221</td></tr><tr><td>28</td><td>1.1491839</td></tr><tr><td>28</td><td>1.0084707</td></tr><tr><td>28</td><td>0.87465703</td></tr><tr><td>28</td><td>0.99665874</td></tr><tr><td>28</td><td>1.7528784</td></tr><tr><td>28</td><td>1.0902393</td></tr><tr><td>28</td><td>3.882443</td></tr><tr><td>28</td><td>0.8217815</td></tr><tr><td>28</td><td>1.0906646</td></tr><tr><td>26</td><td>1.8886279</td></tr><tr><td>26</td><td>1.1114234</td></tr><tr><td>26</td><td>0.8693135</td></tr><tr><td>26</td><td>1.2033538</td></tr><tr><td>26</td><td>0.9917871</td></tr><tr><td>26</td><td>0.9304109</td></tr><tr><td>26</td><td>0.9160754</td></tr><tr><td>26</td><td>2.3901222</td></tr><tr><td>26</td><td>1.0461321</td></tr><tr><td>26</td><td>1.0673786</td></tr><tr><td>26</td><td>1.1996295</td></tr><tr><td>26</td><td>1.1153271</td></tr><tr><td>26</td><td>1.1185278</td></tr><tr><td>26</td><td>1.9191172</td></tr><tr><td>44</td><td>0.95600396</td></tr><tr><td>44</td><td>1.194009</td></tr><tr><td>44</td><td>1.2019393</td></tr><tr><td>44</td><td>0.74419177</td></tr><tr><td>44</td><td>0.79467046</td></tr><tr><td>44</td><td>1.2857417</td></tr><tr><td>44</td><td>0.94626004</td></tr><tr><td>44</td><td>0.9801264</td></tr><tr><td>44</td><td>1.3615667</td></tr><tr><td>44</td><td>0.9628277</td></tr><tr><td>44</td><td>3.089578</td></tr><tr><td>44</td><td>0.8825442</td></tr><tr><td>44</td><td>0.87062514</td></tr><tr><td>44</td><td>1.1797253</td></tr><tr><td>44</td><td>2.1322846</td></tr><tr><td>44</td><td>1.478105</td></tr><tr><td>91</td><td>2.0304956</td></tr><tr><td>91</td><td>1.1389565</td></tr><tr><td>91</td><td>0.85170037</td></tr><tr><td>91</td><td>1.9323846</td></tr><tr><td>91</td><td>1.85581</td></tr><tr><td>91</td><td>2.9538863</td></tr><tr><td>91</td><td>2.5557864</td></tr><tr><td>91</td><td>1.0152037</td></tr><tr><td>91</td><td>2.4737866</td></tr><tr><td>91</td><td>1.2428472</td></tr><tr><td>91</td><td>1.0921972</td></tr><tr><td>91</td><td>2.5594184</td></tr><tr><td>91</td><td>1.1022152</td></tr><tr><td>91</td><td>1.1181104</td></tr><tr><td>93</td><td>0.9440316</td></tr><tr><td>93</td><td>4.632242</td></tr><tr><td>93</td><td>3.3210738</td></tr><tr><td>93</td><td>2.8595922</td></tr><tr><td>93</td><td>0.9979666</td></tr><tr><td>93</td><td>1.000312</td></tr><tr><td>93</td><td>1.0222877</td></tr><tr><td>93</td><td>1.1613668</td></tr><tr><td>93</td><td>2.6014674</td></tr><tr><td>93</td><td>1.240368</td></tr><tr><td>1</td><td>0.9484389</td></tr><tr><td>1</td><td>0.7232284</td></tr><tr><td>1</td><td>1.2096167</td></tr><tr><td>1</td><td>1.011935</td></tr><tr><td>1</td><td>1.0609348</td></tr><tr><td>1</td><td>0.9670188</td></tr><tr><td>1</td><td>2.966712</td></tr><tr><td>1</td><td>1.0708996</td></tr><tr><td>1</td><td>1.0765666</td></tr><tr><td>1</td><td>1.0819577</td></tr><tr><td>1</td><td>2.6851609</td></tr><tr><td>1</td><td>0.9584676</td></tr><tr><td>1</td><td>0.67958474</td></tr><tr><td>52</td><td>2.002011</td></tr><tr><td>52</td><td>1.5251869</td></tr><tr><td>52</td><td>3.3842125</td></tr><tr><td>52</td><td>1.0867503</td></tr><tr><td>52</td><td>4.5407763</td></tr><tr><td>52</td><td>1.1732053</td></tr><tr><td>52</td><td>0.99463844</td></tr><tr><td>52</td><td>2.6447933</td></tr><tr><td>52</td><td>4.638243</td></tr><tr><td>52</td><td>0.99606496</td></tr><tr><td>52</td><td>4.452403</td></tr><tr><td>52</td><td>1.1359972</td></tr><tr><td>52</td><td>1.0783393</td></tr><tr><td>52</td><td>1.0114924</td></tr><tr><td>3</td><td>0.8902817</td></tr><tr><td>3</td><td>1.0595198</td></tr><tr><td>3</td><td>0.9406596</td></tr><tr><td>3</td><td>1.3753576</td></tr><tr><td>3</td><td>0.96701294</td></tr><tr><td>3</td><td>0.94203365</td></tr><tr><td>3</td><td>1.1440791</td></tr><tr><td>3</td><td>0.9773678</td></tr><tr><td>3</td><td>1.3374125</td></tr><tr><td>3</td><td>1.6523223</td></tr><tr><td>3</td><td>1.1947588</td></tr><tr><td>3</td><td>0.9324151</td></tr><tr><td>3</td><td>0.8968185</td></tr><tr><td>57</td><td>1.0880562</td></tr><tr><td>57</td><td>1.822063</td></tr><tr><td>57</td><td>0.93637973</td></tr><tr><td>57</td><td>1.0729692</td></tr><tr><td>57</td><td>1.1035272</td></tr><tr><td>57</td><td>1.1469289</td></tr><tr><td>57</td><td>1.6659284</td></tr><tr><td>57</td><td>1.0707766</td></tr><tr><td>57</td><td>0.9897288</td></tr><tr><td>57</td><td>2.7421093</td></tr><tr><td>57</td><td>1.2199373</td></tr><tr><td>57</td><td>2.5481644</td></tr><tr><td>54</td><td>0.7219641</td></tr><tr><td>54</td><td>1.406585</td></tr><tr><td>54</td><td>0.9352198</td></tr><tr><td>54</td><td>0.77421206</td></tr><tr><td>54</td><td>1.0576704</td></tr><tr><td>54</td><td>0.9929657</td></tr><tr><td>54</td><td>1.1279739</td></tr><tr><td>54</td><td>1.010187</td></tr><tr><td>54</td><td>1.0366188</td></tr><tr><td>54</td><td>1.3182795</td></tr><tr><td>54</td><td>1.0773216</td></tr><tr><td>54</td><td>1.0659958</td></tr><tr><td>54</td><td>3.8326967</td></tr><tr><td>54</td><td>2.7831562</td></tr><tr><td>54</td><td>1.0445967</td></tr><tr><td>54</td><td>3.4934156</td></tr><tr><td>54</td><td>1.107069</td></tr><tr><td>96</td><td>0.9095414</td></tr><tr><td>96</td><td>1.140945</td></tr><tr><td>96</td><td>1.5230883</td></tr><tr><td>96</td><td>1.4130912</td></tr><tr><td>96</td><td>1.0967517</td></tr><tr><td>96</td><td>2.7432437</td></tr><tr><td>96</td><td>0.7410444</td></tr><tr><td>96</td><td>3.345747</td></tr><tr><td>96</td><td>0.6151662</td></tr><tr><td>96</td><td>2.4119246</td></tr><tr><td>96</td><td>1.8090761</td></tr><tr><td>96</td><td>2.749802</td></tr><tr><td>96</td><td>1.9948156</td></tr><tr><td>96</td><td>4.349066</td></tr><tr><td>96</td><td>0.9326522</td></tr><tr><td>5</td><td>1.4578513</td></tr><tr><td>5</td><td>1.0277138</td></tr><tr><td>5</td><td>1.0382259</td></tr><tr><td>5</td><td>1.0938387</td></tr><tr><td>5</td><td>0.9375309</td></tr><tr><td>5</td><td>1.0259217</td></tr><tr><td>5</td><td>0.9213888</td></tr><tr><td>5</td><td>1.6663195</td></tr><tr><td>5</td><td>1.0544884</td></tr><tr><td>5</td><td>1.8199831</td></tr><tr><td>5</td><td>1.4682575</td></tr><tr><td>5</td><td>1.8045856</td></tr><tr><td>5</td><td>1.2142316</td></tr><tr><td>92</td><td>0.9403796</td></tr><tr><td>92</td><td>1.8167678</td></tr><tr><td>92</td><td>1.1196282</td></tr><tr><td>92</td><td>1.6934403</td></tr><tr><td>92</td><td>2.0235841</td></tr><tr><td>92</td><td>0.9845928</td></tr><tr><td>92</td><td>1.0427191</td></tr><tr><td>92</td><td>1.9506305</td></tr><tr><td>92</td><td>1.8294208</td></tr><tr><td>92</td><td>2.6208808</td></tr><tr><td>92</td><td>1.1740024</td></tr><tr><td>92</td><td>1.017988</td></tr><tr><td>92</td><td>1.1940564</td></tr><tr><td>92</td><td>1.0434148</td></tr><tr><td>15</td><td>0.83228886</td></tr><tr><td>15</td><td>1.637408</td></tr><tr><td>15</td><td>0.8999217</td></tr><tr><td>15</td><td>0.8993606</td></tr><tr><td>15</td><td>0.94153905</td></tr><tr><td>15</td><td>0.9251126</td></tr><tr><td>15</td><td>0.98521906</td></tr><tr><td>15</td><td>1.0311862</td></tr><tr><td>15</td><td>0.969904</td></tr><tr><td>15</td><td>1.5691828</td></tr><tr><td>15</td><td>1.0613786</td></tr><tr><td>15</td><td>1.0224767</td></tr><tr><td>15</td><td>0.99160177</td></tr><tr><td>15</td><td>0.8928739</td></tr><tr><td>15</td><td>1.0333261</td></tr><tr><td>15</td><td>1.2045039</td></tr><tr><td>15</td><td>0.9304312</td></tr><tr><td>15</td><td>0.9822358</td></tr><tr><td>15</td><td>1.1423965</td></tr><tr><td>17</td><td>0.9541203</td></tr><tr><td>17</td><td>0.80303234</td></tr><tr><td>17</td><td>1.0763983</td></tr><tr><td>17</td><td>1.0062271</td></tr><tr><td>17</td><td>4.266823</td></tr><tr><td>17</td><td>1.0075186</td></tr><tr><td>17</td><td>0.9602076</td></tr><tr><td>17</td><td>2.2448297</td></tr><tr><td>17</td><td>4.292567</td></tr><tr><td>17</td><td>0.9983586</td></tr><tr><td>17</td><td>1.1731315</td></tr><tr><td>17</td><td>0.864853</td></tr><tr><td>17</td><td>3.0595617</td></tr><tr><td>55</td><td>1.0694088</td></tr><tr><td>4</td><td>1.8170134</td></tr><tr><td>4</td><td>2.1785712</td></tr><tr><td>55</td><td>1.763833</td></tr><tr><td>55</td><td>0.9776908</td></tr><tr><td>4</td><td>1.0742512</td></tr><tr><td>55</td><td>3.9734645</td></tr><tr><td>55</td><td>1.0351892</td></tr><tr><td>4</td><td>1.2848041</td></tr><tr><td>55</td><td>0.95247775</td></tr><tr><td>4</td><td>1.5303109</td></tr><tr><td>55</td><td>1.007493</td></tr><tr><td>4</td><td>1.1697634</td></tr><tr><td>4</td><td>1.1692058</td></tr><tr><td>55</td><td>1.3156879</td></tr><tr><td>4</td><td>0.877625</td></tr><tr><td>4</td><td>1.7781984</td></tr><tr><td>4</td><td>1.1310871</td></tr><tr><td>55</td><td>1.109972</td></tr><tr><td>55</td><td>0.998574</td></tr><tr><td>55</td><td>4.357387</td></tr><tr><td>4</td><td>2.5404341</td></tr><tr><td>55</td><td>1.054851</td></tr><tr><td>4</td><td>1.2500277</td></tr><tr><td>55</td><td>1.2650212</td></tr><tr><td>4</td><td>1.9906948</td></tr><tr><td>55</td><td>1.5530156</td></tr><tr><td>55</td><td>1.0950258</td></tr><tr><td>55</td><td>1.0083039</td></tr><tr><td>4</td><td>1.0966487</td></tr><tr><td>55</td><td>4.673742</td></tr><tr><td>4</td><td>1.2945886</td></tr><tr><td>4</td><td>3.3359826</td></tr><tr><td>55</td><td>1.5005686</td></tr><tr><td>55</td><td>2.3625262</td></tr><tr><td>4</td><td>1.172103</td></tr><tr><td>8</td><td>4.3835964</td></tr><tr><td>8</td><td>2.631425</td></tr><tr><td>8</td><td>1.1479595</td></tr><tr><td>8</td><td>0.8739415</td></tr><tr><td>8</td><td>1.1215487</td></tr><tr><td>8</td><td>1.0778157</td></tr><tr><td>8</td><td>1.1353527</td></tr><tr><td>49</td><td>2.0085487</td></tr><tr><td>49</td><td>3.612143</td></tr><tr><td>49</td><td>1.7207359</td></tr><tr><td>49</td><td>1.1515557</td></tr><tr><td>49</td><td>4.195497</td></tr><tr><td>49</td><td>2.7928019</td></tr><tr><td>49</td><td>1.2015533</td></tr><tr><td>49</td><td>0.9759008</td></tr><tr><td>49</td><td>0.91213894</td></tr><tr><td>49</td><td>3.0567951</td></tr><tr><td>49</td><td>1.3325022</td></tr><tr><td>49</td><td>4.5430574</td></tr><tr><td>49</td><td>1.1353124</td></tr><tr><td>49</td><td>3.0057914</td></tr><tr><td>49</td><td>3.4843895</td></tr><tr><td>49</td><td>2.8909445</td></tr><tr><td>7</td><td>1.9438704</td></tr><tr><td>7</td><td>0.98832846</td></tr><tr><td>7</td><td>1.0591837</td></tr><tr><td>7</td><td>3.8364756</td></tr><tr><td>7</td><td>1.0790819</td></tr><tr><td>7</td><td>2.7890365</td></tr><tr><td>7</td><td>1.1163107</td></tr><tr><td>7</td><td>1.0774277</td></tr><tr><td>7</td><td>1.1342386</td></tr><tr><td>7</td><td>0.9990744</td></tr><tr><td>7</td><td>1.9157492</td></tr><tr><td>7</td><td>1.110979</td></tr><tr><td>7</td><td>0.72445315</td></tr><tr><td>7</td><td>4.1710305</td></tr><tr><td>7</td><td>1.3394804</td></tr><tr><td>7</td><td>2.2188983</td></tr><tr><td>84</td><td>1.0431516</td></tr><tr><td>84</td><td>0.88730586</td></tr><tr><td>84</td><td>1.0031182</td></tr><tr><td>84</td><td>0.99237055</td></tr><tr><td>84</td><td>0.9870423</td></tr><tr><td>84</td><td>0.7633894</td></tr><tr><td>84</td><td>1.1129038</td></tr><tr><td>84</td><td>1.1240207</td></tr><tr><td>84</td><td>0.9709209</td></tr><tr><td>84</td><td>0.8389015</td></tr><tr><td>84</td><td>1.3299214</td></tr><tr><td>84</td><td>1.048452</td></tr><tr><td>84</td><td>1.2735645</td></tr><tr><td>84</td><td>0.8470396</td></tr><tr><td>84</td><td>0.8021534</td></tr><tr><td>84</td><td>1.5837724</td></tr><tr><td>87</td><td>1.1919663</td></tr><tr><td>87</td><td>1.8803024</td></tr><tr><td>87</td><td>1.8866364</td></tr><tr><td>87</td><td>2.7745688</td></tr><tr><td>87</td><td>1.2566608</td></tr><tr><td>87</td><td>3.2502296</td></tr><tr><td>87</td><td>1.4295969</td></tr><tr><td>87</td><td>2.0777998</td></tr><tr><td>87</td><td>0.8830426</td></tr><tr><td>87</td><td>1.6804601</td></tr><tr><td>87</td><td>3.1363077</td></tr><tr><td>87</td><td>2.83484</td></tr><tr><td>87</td><td>2.7621088</td></tr><tr><td>87</td><td>1.5272514</td></tr><tr><td>87</td><td>1.869338</td></tr><tr><td>63</td><td>1.3389629</td></tr><tr><td>63</td><td>2.6678548</td></tr><tr><td>63</td><td>2.6099274</td></tr><tr><td>63</td><td>2.2460392</td></tr><tr><td>63</td><td>2.591786</td></tr><tr><td>63</td><td>1.0244653</td></tr><tr><td>63</td><td>1.1783093</td></tr><tr><td>63</td><td>2.1152155</td></tr><tr><td>63</td><td>4.0190916</td></tr><tr><td>63</td><td>1.8441492</td></tr><tr><td>63</td><td>0.981681</td></tr><tr><td>63</td><td>0.9325063</td></tr><tr><td>63</td><td>1.2024785</td></tr><tr><td>63</td><td>1.9414345</td></tr><tr><td>63</td><td>3.6944356</td></tr><tr><td>63</td><td>1.0649531</td></tr><tr><td>73</td><td>1.3029833</td></tr><tr><td>73</td><td>0.9963639</td></tr><tr><td>73</td><td>0.84745353</td></tr><tr><td>73</td><td>2.0822122</td></tr><tr><td>73</td><td>1.2938251</td></tr><tr><td>73</td><td>0.82252103</td></tr><tr><td>73</td><td>1.1712584</td></tr><tr><td>73</td><td>2.6490326</td></tr><tr><td>73</td><td>1.9597015</td></tr><tr><td>73</td><td>1.0567132</td></tr><tr><td>73</td><td>2.7501988</td></tr><tr><td>73</td><td>0.6705917</td></tr><tr><td>73</td><td>3.506574</td></tr><tr><td>24</td><td>2.7210026</td></tr><tr><td>24</td><td>1.1853285</td></tr><tr><td>24</td><td>0.8584556</td></tr><tr><td>24</td><td>1.1013339</td></tr><tr><td>24</td><td>1.3050616</td></tr><tr><td>24</td><td>0.9462131</td></tr><tr><td>24</td><td>0.38091257</td></tr><tr><td>24</td><td>2.1294396</td></tr><tr><td>24</td><td>0.89893466</td></tr><tr><td>24</td><td>1.1672186</td></tr><tr><td>24</td><td>1.1018445</td></tr><tr><td>24</td><td>4.387907</td></tr><tr><td>24</td><td>1.5622181</td></tr><tr><td>24</td><td>2.529023</td></tr><tr><td>95</td><td>1.8135716</td></tr><tr><td>95</td><td>1.7158514</td></tr><tr><td>95</td><td>1.9350913</td></tr><tr><td>95</td><td>3.175832</td></tr><tr><td>95</td><td>2.1444855</td></tr><tr><td>95</td><td>2.0016642</td></tr><tr><td>95</td><td>2.0513432</td></tr><tr><td>95</td><td>1.5691985</td></tr><tr><td>95</td><td>1.8929342</td></tr><tr><td>95</td><td>1.5498686</td></tr><tr><td>95</td><td>1.8821497</td></tr><tr><td>95</td><td>1.8715183</td></tr><tr><td>95</td><td>1.3788762</td></tr><tr><td>95</td><td>1.2903666</td></tr><tr><td>95</td><td>1.2464134</td></tr><tr><td>95</td><td>1.0879432</td></tr><tr><td>95</td><td>1.8247237</td></tr><tr><td>29</td><td>1.5273077</td></tr><tr><td>29</td><td>1.6226492</td></tr><tr><td>29</td><td>3.4332924</td></tr><tr><td>29</td><td>1.0207524</td></tr><tr><td>29</td><td>3.1342168</td></tr><tr><td>29</td><td>4.4785304</td></tr><tr><td>29</td><td>2.5023541</td></tr><tr><td>29</td><td>3.8015943</td></tr><tr><td>29</td><td>1.0252122</td></tr><tr><td>29</td><td>1.9585255</td></tr><tr><td>29</td><td>1.0410748</td></tr><tr><td>29</td><td>1.231944</td></tr><tr><td>29</td><td>2.0176494</td></tr><tr><td>29</td><td>3.8385808</td></tr><tr><td>29</td><td>2.888662</td></tr><tr><td>29</td><td>1.0230197</td></tr><tr><td>29</td><td>1.1789491</td></tr><tr><td>29</td><td>1.133356</td></tr><tr><td>29</td><td>1.1740822</td></tr><tr><td>29</td><td>0.9217195</td></tr><tr><td>98</td><td>1.2334431</td></tr><tr><td>98</td><td>1.2554945</td></tr><tr><td>98</td><td>0.94426864</td></tr><tr><td>98</td><td>1.1706016</td></tr><tr><td>98</td><td>1.1261919</td></tr><tr><td>98</td><td>0.8803605</td></tr><tr><td>98</td><td>2.1067002</td></tr><tr><td>98</td><td>1.136325</td></tr><tr><td>98</td><td>1.0473981</td></tr><tr><td>98</td><td>2.5048625</td></tr><tr><td>98</td><td>3.1564724</td></tr><tr><td>98</td><td>1.0314908</td></tr><tr><td>98</td><td>3.1939192</td></tr><tr><td>98</td><td>3.6129682</td></tr><tr><td>98</td><td>2.3882666</td></tr><tr><td>98</td><td>1.1086913</td></tr><tr><td>98</td><td>0.9959097</td></tr><tr><td>60</td><td>1.2349101</td></tr><tr><td>60</td><td>1.1480527</td></tr><tr><td>60</td><td>2.3616512</td></tr><tr><td>60</td><td>0.8340506</td></tr><tr><td>60</td><td>1.1719147</td></tr><tr><td>60</td><td>2.6307216</td></tr><tr><td>60</td><td>1.2380214</td></tr><tr><td>60</td><td>0.7500325</td></tr><tr><td>60</td><td>0.938837</td></tr><tr><td>60</td><td>0.93554604</td></tr><tr><td>60</td><td>1.4790243</td></tr><tr><td>60</td><td>1.980221</td></tr><tr><td>60</td><td>0.6692064</td></tr><tr><td>60</td><td>0.943551</td></tr><tr><td>60</td><td>1.2191527</td></tr><tr><td>56</td><td>1.8299503</td></tr><tr><td>56</td><td>1.0813007</td></tr><tr><td>56</td><td>2.44384</td></tr><tr><td>56</td><td>0.9271712</td></tr><tr><td>56</td><td>0.94553995</td></tr><tr><td>56</td><td>1.0476383</td></tr><tr><td>56</td><td>0.9570239</td></tr><tr><td>56</td><td>2.1956537</td></tr><tr><td>56</td><td>1.001697</td></tr><tr><td>56</td><td>1.636882</td></tr><tr><td>56</td><td>2.8956401</td></tr><tr><td>56</td><td>0.9557456</td></tr><tr><td>56</td><td>1.6800312</td></tr><tr><td>56</td><td>1.1644061</td></tr><tr><td>56</td><td>1.6556059</td></tr><tr><td>56</td><td>1.013852</td></tr><tr><td>56</td><td>1.11119</td></tr><tr><td>58</td><td>1.2002394</td></tr><tr><td>58</td><td>1.8613565</td></tr><tr><td>58</td><td>1.0560371</td></tr><tr><td>58</td><td>0.95541763</td></tr><tr><td>58</td><td>2.8545136</td></tr><tr><td>58</td><td>3.495125</td></tr><tr><td>58</td><td>2.0367787</td></tr><tr><td>58</td><td>1.3132421</td></tr><tr><td>58</td><td>1.0245206</td></tr><tr><td>58</td><td>0.9882724</td></tr><tr><td>58</td><td>1.0115051</td></tr><tr><td>58</td><td>2.8208475</td></tr><tr><td>58</td><td>1.8935841</td></tr><tr><td>58</td><td>0.9544744</td></tr><tr><td>58</td><td>1.0459358</td></tr><tr><td>33</td><td>0.9143892</td></tr><tr><td>33</td><td>1.1130924</td></tr><tr><td>33</td><td>1.3839021</td></tr><tr><td>33</td><td>1.1912311</td></tr><tr><td>33</td><td>1.003596</td></tr><tr><td>33</td><td>0.9487032</td></tr><tr><td>33</td><td>1.9854802</td></tr><tr><td>33</td><td>1.1143752</td></tr><tr><td>33</td><td>0.8754938</td></tr><tr><td>33</td><td>0.99089104</td></tr><tr><td>33</td><td>1.0275904</td></tr><tr><td>33</td><td>0.9174527</td></tr><tr><td>33</td><td>2.9699812</td></tr><tr><td>33</td><td>1.1664158</td></tr><tr><td>33</td><td>0.932471</td></tr><tr><td>33</td><td>1.1356629</td></tr><tr><td>83</td><td>0.7557658</td></tr><tr><td>83</td><td>4.6114244</td></tr><tr><td>83</td><td>1.9983045</td></tr><tr><td>83</td><td>1.1086076</td></tr><tr><td>83</td><td>0.6698247</td></tr><tr><td>83</td><td>1.074916</td></tr><tr><td>83</td><td>2.5106204</td></tr><tr><td>83</td><td>1.4630262</td></tr><tr><td>83</td><td>4.366677</td></tr><tr><td>83</td><td>1.1570184</td></tr><tr><td>83</td><td>1.3078641</td></tr><tr><td>83</td><td>2.8668423</td></tr><tr><td>83</td><td>1.3222581</td></tr><tr><td>83</td><td>0.9776706</td></tr><tr><td>68</td><td>1.0806645</td></tr><tr><td>68</td><td>3.2300415</td></tr><tr><td>68</td><td>0.41159326</td></tr><tr><td>68</td><td>2.1336234</td></tr><tr><td>68</td><td>3.321721</td></tr><tr><td>68</td><td>0.9708315</td></tr><tr><td>68</td><td>2.3995247</td></tr><tr><td>68</td><td>1.1619736</td></tr><tr><td>68</td><td>0.9144726</td></tr><tr><td>68</td><td>1.3591049</td></tr><tr><td>68</td><td>3.8207154</td></tr><tr><td>68</td><td>1.7340862</td></tr><tr><td>68</td><td>3.4774654</td></tr><tr><td>68</td><td>3.0275335</td></tr><tr><td>68</td><td>2.6882665</td></tr><tr><td>68</td><td>0.851724</td></tr><tr><td>68</td><td>3.9202247</td></tr><tr><td>68</td><td>1.3605517</td></tr><tr><td>68</td><td>2.8425593</td></tr><tr><td>14</td><td>1.0697379</td></tr><tr><td>14</td><td>0.7174832</td></tr><tr><td>14</td><td>1.979678</td></tr><tr><td>14</td><td>1.7113445</td></tr><tr><td>14</td><td>2.4632869</td></tr><tr><td>14</td><td>1.1590595</td></tr><tr><td>14</td><td>1.611677</td></tr><tr><td>14</td><td>1.7061845</td></tr><tr><td>14</td><td>2.414602</td></tr><tr><td>14</td><td>0.8873549</td></tr><tr><td>14</td><td>0.8977553</td></tr><tr><td>14</td><td>1.0233248</td></tr><tr><td>14</td><td>2.5406754</td></tr><tr><td>14</td><td>1.2211661</td></tr><tr><td>14</td><td>1.870675</td></tr><tr><td>14</td><td>1.0621202</td></tr><tr><td>14</td><td>1.0400698</td></tr><tr><td>14</td><td>1.0631168</td></tr><tr><td>42</td><td>1.0871422</td></tr><tr><td>42</td><td>1.819459</td></tr><tr><td>42</td><td>2.5003352</td></tr><tr><td>42</td><td>1.022702</td></tr><tr><td>42</td><td>1.4849743</td></tr><tr><td>42</td><td>0.94025934</td></tr><tr><td>42</td><td>0.9601049</td></tr><tr><td>42</td><td>0.9869313</td></tr><tr><td>2</td><td>2.522292</td></tr><tr><td>2</td><td>1.8603683</td></tr><tr><td>2</td><td>1.0751735</td></tr><tr><td>2</td><td>2.4934397</td></tr><tr><td>2</td><td>2.1255815</td></tr><tr><td>2</td><td>3.6478772</td></tr><tr><td>2</td><td>2.6298194</td></tr><tr><td>2</td><td>3.2582815</td></tr><tr><td>2</td><td>1.0816447</td></tr><tr><td>2</td><td>1.0818394</td></tr><tr><td>2</td><td>1.1601672</td></tr><tr><td>2</td><td>1.0855047</td></tr><tr><td>2</td><td>1.0737883</td></tr><tr><td>2</td><td>1.7670817</td></tr><tr><td>2</td><td>3.5319314</td></tr><tr><td>2</td><td>1.283653</td></tr><tr><td>2</td><td>1.1944063</td></tr><tr><td>2</td><td>1.968438</td></tr><tr><td>2</td><td>3.6110542</td></tr><tr><td>46</td><td>1.3478152</td></tr><tr><td>46</td><td>1.13763</td></tr><tr><td>46</td><td>0.9879081</td></tr><tr><td>46</td><td>4.171382</td></tr><tr><td>46</td><td>1.083648</td></tr><tr><td>46</td><td>4.726519</td></tr><tr><td>46</td><td>1.0570703</td></tr><tr><td>46</td><td>0.8902826</td></tr><tr><td>46</td><td>1.1160282</td></tr><tr><td>46</td><td>4.2725654</td></tr><tr><td>74</td><td>1.7862793</td></tr><tr><td>74</td><td>1.1404823</td></tr><tr><td>74</td><td>1.2089251</td></tr><tr><td>74</td><td>1.0930965</td></tr><tr><td>74</td><td>2.592817</td></tr><tr><td>74</td><td>1.0629994</td></tr><tr><td>74</td><td>2.2248442</td></tr><tr><td>74</td><td>2.4977632</td></tr><tr><td>74</td><td>3.525202</td></tr><tr><td>74</td><td>3.3693123</td></tr><tr><td>74</td><td>0.9304586</td></tr><tr><td>74</td><td>1.2262943</td></tr></tbody></table></div>"
      ]
     },
     "metadata": {
      "application/vnd.databricks.v1+output": {
       "addedWidgets": {},
       "aggData": [],
       "aggError": "",
       "aggOverflow": false,
       "aggSchema": [],
       "aggSeriesLimitReached": false,
       "aggType": "",
       "arguments": {},
       "columnCustomDisplayInfos": {},
       "data": [
        [
         31,
         1.1811305
        ],
        [
         31,
         1.2988654
        ],
        [
         31,
         1.2270397
        ],
        [
         31,
         2.6040952
        ],
        [
         31,
         2.7394843
        ],
        [
         31,
         3.3450334
        ],
        [
         31,
         1.417555
        ],
        [
         31,
         2.5627148
        ],
        [
         31,
         1.0549653
        ],
        [
         31,
         1.2622926
        ],
        [
         31,
         1.1970472
        ],
        [
         31,
         2.0866492
        ],
        [
         31,
         0.9510506
        ],
        [
         31,
         1.0879949
        ],
        [
         31,
         1.6883993
        ],
        [
         85,
         2.4554548
        ],
        [
         85,
         1.1292094
        ],
        [
         85,
         1.6155765
        ],
        [
         85,
         1.1321574
        ],
        [
         85,
         2.7801683
        ],
        [
         85,
         3.4234285
        ],
        [
         85,
         4.0642357
        ],
        [
         85,
         1.0834881
        ],
        [
         85,
         1.1682265
        ],
        [
         85,
         0.989592
        ],
        [
         85,
         4.1843853
        ],
        [
         85,
         2.387853
        ],
        [
         85,
         2.6232564
        ],
        [
         85,
         1.0123494
        ],
        [
         85,
         1.184825
        ],
        [
         85,
         1.2224227
        ],
        [
         85,
         0.96506417
        ],
        [
         85,
         0.96680343
        ],
        [
         65,
         1.0329286
        ],
        [
         65,
         1.6752452
        ],
        [
         65,
         0.99206126
        ],
        [
         65,
         1.7306752
        ],
        [
         65,
         1.7322918
        ],
        [
         65,
         1.0396793
        ],
        [
         65,
         1.1230989
        ],
        [
         65,
         1.7555646
        ],
        [
         65,
         1.933638
        ],
        [
         65,
         1.0009445
        ],
        [
         65,
         1.0373589
        ],
        [
         53,
         1.3890452
        ],
        [
         53,
         1.4195434
        ],
        [
         53,
         4.205834
        ],
        [
         53,
         1.4271152
        ],
        [
         53,
         0.9071081
        ],
        [
         53,
         2.8224208
        ],
        [
         53,
         3.0930545
        ],
        [
         53,
         1.9907256
        ],
        [
         53,
         2.7102458
        ],
        [
         53,
         4.177071
        ],
        [
         53,
         0.9306968
        ],
        [
         53,
         0.9196376
        ],
        [
         34,
         1.007747
        ],
        [
         34,
         3.5348792
        ],
        [
         34,
         2.5767126
        ],
        [
         34,
         1.1115184
        ],
        [
         34,
         1.50014
        ],
        [
         34,
         1.1415335
        ],
        [
         34,
         1.4647816
        ],
        [
         34,
         0.9605367
        ],
        [
         34,
         1.06601
        ],
        [
         34,
         2.5768132
        ],
        [
         34,
         1.1377416
        ],
        [
         28,
         1.0945399
        ],
        [
         28,
         2.4807038
        ],
        [
         28,
         1.4196221
        ],
        [
         28,
         1.1491839
        ],
        [
         28,
         1.0084707
        ],
        [
         28,
         0.87465703
        ],
        [
         28,
         0.99665874
        ],
        [
         28,
         1.7528784
        ],
        [
         28,
         1.0902393
        ],
        [
         28,
         3.882443
        ],
        [
         28,
         0.8217815
        ],
        [
         28,
         1.0906646
        ],
        [
         26,
         1.8886279
        ],
        [
         26,
         1.1114234
        ],
        [
         26,
         0.8693135
        ],
        [
         26,
         1.2033538
        ],
        [
         26,
         0.9917871
        ],
        [
         26,
         0.9304109
        ],
        [
         26,
         0.9160754
        ],
        [
         26,
         2.3901222
        ],
        [
         26,
         1.0461321
        ],
        [
         26,
         1.0673786
        ],
        [
         26,
         1.1996295
        ],
        [
         26,
         1.1153271
        ],
        [
         26,
         1.1185278
        ],
        [
         26,
         1.9191172
        ],
        [
         44,
         0.95600396
        ],
        [
         44,
         1.194009
        ],
        [
         44,
         1.2019393
        ],
        [
         44,
         0.74419177
        ],
        [
         44,
         0.79467046
        ],
        [
         44,
         1.2857417
        ],
        [
         44,
         0.94626004
        ],
        [
         44,
         0.9801264
        ],
        [
         44,
         1.3615667
        ],
        [
         44,
         0.9628277
        ],
        [
         44,
         3.089578
        ],
        [
         44,
         0.8825442
        ],
        [
         44,
         0.87062514
        ],
        [
         44,
         1.1797253
        ],
        [
         44,
         2.1322846
        ],
        [
         44,
         1.478105
        ],
        [
         91,
         2.0304956
        ],
        [
         91,
         1.1389565
        ],
        [
         91,
         0.85170037
        ],
        [
         91,
         1.9323846
        ],
        [
         91,
         1.85581
        ],
        [
         91,
         2.9538863
        ],
        [
         91,
         2.5557864
        ],
        [
         91,
         1.0152037
        ],
        [
         91,
         2.4737866
        ],
        [
         91,
         1.2428472
        ],
        [
         91,
         1.0921972
        ],
        [
         91,
         2.5594184
        ],
        [
         91,
         1.1022152
        ],
        [
         91,
         1.1181104
        ],
        [
         93,
         0.9440316
        ],
        [
         93,
         4.632242
        ],
        [
         93,
         3.3210738
        ],
        [
         93,
         2.8595922
        ],
        [
         93,
         0.9979666
        ],
        [
         93,
         1.000312
        ],
        [
         93,
         1.0222877
        ],
        [
         93,
         1.1613668
        ],
        [
         93,
         2.6014674
        ],
        [
         93,
         1.240368
        ],
        [
         1,
         0.9484389
        ],
        [
         1,
         0.7232284
        ],
        [
         1,
         1.2096167
        ],
        [
         1,
         1.011935
        ],
        [
         1,
         1.0609348
        ],
        [
         1,
         0.9670188
        ],
        [
         1,
         2.966712
        ],
        [
         1,
         1.0708996
        ],
        [
         1,
         1.0765666
        ],
        [
         1,
         1.0819577
        ],
        [
         1,
         2.6851609
        ],
        [
         1,
         0.9584676
        ],
        [
         1,
         0.67958474
        ],
        [
         52,
         2.002011
        ],
        [
         52,
         1.5251869
        ],
        [
         52,
         3.3842125
        ],
        [
         52,
         1.0867503
        ],
        [
         52,
         4.5407763
        ],
        [
         52,
         1.1732053
        ],
        [
         52,
         0.99463844
        ],
        [
         52,
         2.6447933
        ],
        [
         52,
         4.638243
        ],
        [
         52,
         0.99606496
        ],
        [
         52,
         4.452403
        ],
        [
         52,
         1.1359972
        ],
        [
         52,
         1.0783393
        ],
        [
         52,
         1.0114924
        ],
        [
         3,
         0.8902817
        ],
        [
         3,
         1.0595198
        ],
        [
         3,
         0.9406596
        ],
        [
         3,
         1.3753576
        ],
        [
         3,
         0.96701294
        ],
        [
         3,
         0.94203365
        ],
        [
         3,
         1.1440791
        ],
        [
         3,
         0.9773678
        ],
        [
         3,
         1.3374125
        ],
        [
         3,
         1.6523223
        ],
        [
         3,
         1.1947588
        ],
        [
         3,
         0.9324151
        ],
        [
         3,
         0.8968185
        ],
        [
         57,
         1.0880562
        ],
        [
         57,
         1.822063
        ],
        [
         57,
         0.93637973
        ],
        [
         57,
         1.0729692
        ],
        [
         57,
         1.1035272
        ],
        [
         57,
         1.1469289
        ],
        [
         57,
         1.6659284
        ],
        [
         57,
         1.0707766
        ],
        [
         57,
         0.9897288
        ],
        [
         57,
         2.7421093
        ],
        [
         57,
         1.2199373
        ],
        [
         57,
         2.5481644
        ],
        [
         54,
         0.7219641
        ],
        [
         54,
         1.406585
        ],
        [
         54,
         0.9352198
        ],
        [
         54,
         0.77421206
        ],
        [
         54,
         1.0576704
        ],
        [
         54,
         0.9929657
        ],
        [
         54,
         1.1279739
        ],
        [
         54,
         1.010187
        ],
        [
         54,
         1.0366188
        ],
        [
         54,
         1.3182795
        ],
        [
         54,
         1.0773216
        ],
        [
         54,
         1.0659958
        ],
        [
         54,
         3.8326967
        ],
        [
         54,
         2.7831562
        ],
        [
         54,
         1.0445967
        ],
        [
         54,
         3.4934156
        ],
        [
         54,
         1.107069
        ],
        [
         96,
         0.9095414
        ],
        [
         96,
         1.140945
        ],
        [
         96,
         1.5230883
        ],
        [
         96,
         1.4130912
        ],
        [
         96,
         1.0967517
        ],
        [
         96,
         2.7432437
        ],
        [
         96,
         0.7410444
        ],
        [
         96,
         3.345747
        ],
        [
         96,
         0.6151662
        ],
        [
         96,
         2.4119246
        ],
        [
         96,
         1.8090761
        ],
        [
         96,
         2.749802
        ],
        [
         96,
         1.9948156
        ],
        [
         96,
         4.349066
        ],
        [
         96,
         0.9326522
        ],
        [
         5,
         1.4578513
        ],
        [
         5,
         1.0277138
        ],
        [
         5,
         1.0382259
        ],
        [
         5,
         1.0938387
        ],
        [
         5,
         0.9375309
        ],
        [
         5,
         1.0259217
        ],
        [
         5,
         0.9213888
        ],
        [
         5,
         1.6663195
        ],
        [
         5,
         1.0544884
        ],
        [
         5,
         1.8199831
        ],
        [
         5,
         1.4682575
        ],
        [
         5,
         1.8045856
        ],
        [
         5,
         1.2142316
        ],
        [
         92,
         0.9403796
        ],
        [
         92,
         1.8167678
        ],
        [
         92,
         1.1196282
        ],
        [
         92,
         1.6934403
        ],
        [
         92,
         2.0235841
        ],
        [
         92,
         0.9845928
        ],
        [
         92,
         1.0427191
        ],
        [
         92,
         1.9506305
        ],
        [
         92,
         1.8294208
        ],
        [
         92,
         2.6208808
        ],
        [
         92,
         1.1740024
        ],
        [
         92,
         1.017988
        ],
        [
         92,
         1.1940564
        ],
        [
         92,
         1.0434148
        ],
        [
         15,
         0.83228886
        ],
        [
         15,
         1.637408
        ],
        [
         15,
         0.8999217
        ],
        [
         15,
         0.8993606
        ],
        [
         15,
         0.94153905
        ],
        [
         15,
         0.9251126
        ],
        [
         15,
         0.98521906
        ],
        [
         15,
         1.0311862
        ],
        [
         15,
         0.969904
        ],
        [
         15,
         1.5691828
        ],
        [
         15,
         1.0613786
        ],
        [
         15,
         1.0224767
        ],
        [
         15,
         0.99160177
        ],
        [
         15,
         0.8928739
        ],
        [
         15,
         1.0333261
        ],
        [
         15,
         1.2045039
        ],
        [
         15,
         0.9304312
        ],
        [
         15,
         0.9822358
        ],
        [
         15,
         1.1423965
        ],
        [
         17,
         0.9541203
        ],
        [
         17,
         0.80303234
        ],
        [
         17,
         1.0763983
        ],
        [
         17,
         1.0062271
        ],
        [
         17,
         4.266823
        ],
        [
         17,
         1.0075186
        ],
        [
         17,
         0.9602076
        ],
        [
         17,
         2.2448297
        ],
        [
         17,
         4.292567
        ],
        [
         17,
         0.9983586
        ],
        [
         17,
         1.1731315
        ],
        [
         17,
         0.864853
        ],
        [
         17,
         3.0595617
        ],
        [
         55,
         1.0694088
        ],
        [
         4,
         1.8170134
        ],
        [
         4,
         2.1785712
        ],
        [
         55,
         1.763833
        ],
        [
         55,
         0.9776908
        ],
        [
         4,
         1.0742512
        ],
        [
         55,
         3.9734645
        ],
        [
         55,
         1.0351892
        ],
        [
         4,
         1.2848041
        ],
        [
         55,
         0.95247775
        ],
        [
         4,
         1.5303109
        ],
        [
         55,
         1.007493
        ],
        [
         4,
         1.1697634
        ],
        [
         4,
         1.1692058
        ],
        [
         55,
         1.3156879
        ],
        [
         4,
         0.877625
        ],
        [
         4,
         1.7781984
        ],
        [
         4,
         1.1310871
        ],
        [
         55,
         1.109972
        ],
        [
         55,
         0.998574
        ],
        [
         55,
         4.357387
        ],
        [
         4,
         2.5404341
        ],
        [
         55,
         1.054851
        ],
        [
         4,
         1.2500277
        ],
        [
         55,
         1.2650212
        ],
        [
         4,
         1.9906948
        ],
        [
         55,
         1.5530156
        ],
        [
         55,
         1.0950258
        ],
        [
         55,
         1.0083039
        ],
        [
         4,
         1.0966487
        ],
        [
         55,
         4.673742
        ],
        [
         4,
         1.2945886
        ],
        [
         4,
         3.3359826
        ],
        [
         55,
         1.5005686
        ],
        [
         55,
         2.3625262
        ],
        [
         4,
         1.172103
        ],
        [
         8,
         4.3835964
        ],
        [
         8,
         2.631425
        ],
        [
         8,
         1.1479595
        ],
        [
         8,
         0.8739415
        ],
        [
         8,
         1.1215487
        ],
        [
         8,
         1.0778157
        ],
        [
         8,
         1.1353527
        ],
        [
         49,
         2.0085487
        ],
        [
         49,
         3.612143
        ],
        [
         49,
         1.7207359
        ],
        [
         49,
         1.1515557
        ],
        [
         49,
         4.195497
        ],
        [
         49,
         2.7928019
        ],
        [
         49,
         1.2015533
        ],
        [
         49,
         0.9759008
        ],
        [
         49,
         0.91213894
        ],
        [
         49,
         3.0567951
        ],
        [
         49,
         1.3325022
        ],
        [
         49,
         4.5430574
        ],
        [
         49,
         1.1353124
        ],
        [
         49,
         3.0057914
        ],
        [
         49,
         3.4843895
        ],
        [
         49,
         2.8909445
        ],
        [
         7,
         1.9438704
        ],
        [
         7,
         0.98832846
        ],
        [
         7,
         1.0591837
        ],
        [
         7,
         3.8364756
        ],
        [
         7,
         1.0790819
        ],
        [
         7,
         2.7890365
        ],
        [
         7,
         1.1163107
        ],
        [
         7,
         1.0774277
        ],
        [
         7,
         1.1342386
        ],
        [
         7,
         0.9990744
        ],
        [
         7,
         1.9157492
        ],
        [
         7,
         1.110979
        ],
        [
         7,
         0.72445315
        ],
        [
         7,
         4.1710305
        ],
        [
         7,
         1.3394804
        ],
        [
         7,
         2.2188983
        ],
        [
         84,
         1.0431516
        ],
        [
         84,
         0.88730586
        ],
        [
         84,
         1.0031182
        ],
        [
         84,
         0.99237055
        ],
        [
         84,
         0.9870423
        ],
        [
         84,
         0.7633894
        ],
        [
         84,
         1.1129038
        ],
        [
         84,
         1.1240207
        ],
        [
         84,
         0.9709209
        ],
        [
         84,
         0.8389015
        ],
        [
         84,
         1.3299214
        ],
        [
         84,
         1.048452
        ],
        [
         84,
         1.2735645
        ],
        [
         84,
         0.8470396
        ],
        [
         84,
         0.8021534
        ],
        [
         84,
         1.5837724
        ],
        [
         87,
         1.1919663
        ],
        [
         87,
         1.8803024
        ],
        [
         87,
         1.8866364
        ],
        [
         87,
         2.7745688
        ],
        [
         87,
         1.2566608
        ],
        [
         87,
         3.2502296
        ],
        [
         87,
         1.4295969
        ],
        [
         87,
         2.0777998
        ],
        [
         87,
         0.8830426
        ],
        [
         87,
         1.6804601
        ],
        [
         87,
         3.1363077
        ],
        [
         87,
         2.83484
        ],
        [
         87,
         2.7621088
        ],
        [
         87,
         1.5272514
        ],
        [
         87,
         1.869338
        ],
        [
         63,
         1.3389629
        ],
        [
         63,
         2.6678548
        ],
        [
         63,
         2.6099274
        ],
        [
         63,
         2.2460392
        ],
        [
         63,
         2.591786
        ],
        [
         63,
         1.0244653
        ],
        [
         63,
         1.1783093
        ],
        [
         63,
         2.1152155
        ],
        [
         63,
         4.0190916
        ],
        [
         63,
         1.8441492
        ],
        [
         63,
         0.981681
        ],
        [
         63,
         0.9325063
        ],
        [
         63,
         1.2024785
        ],
        [
         63,
         1.9414345
        ],
        [
         63,
         3.6944356
        ],
        [
         63,
         1.0649531
        ],
        [
         73,
         1.3029833
        ],
        [
         73,
         0.9963639
        ],
        [
         73,
         0.84745353
        ],
        [
         73,
         2.0822122
        ],
        [
         73,
         1.2938251
        ],
        [
         73,
         0.82252103
        ],
        [
         73,
         1.1712584
        ],
        [
         73,
         2.6490326
        ],
        [
         73,
         1.9597015
        ],
        [
         73,
         1.0567132
        ],
        [
         73,
         2.7501988
        ],
        [
         73,
         0.6705917
        ],
        [
         73,
         3.506574
        ],
        [
         24,
         2.7210026
        ],
        [
         24,
         1.1853285
        ],
        [
         24,
         0.8584556
        ],
        [
         24,
         1.1013339
        ],
        [
         24,
         1.3050616
        ],
        [
         24,
         0.9462131
        ],
        [
         24,
         0.38091257
        ],
        [
         24,
         2.1294396
        ],
        [
         24,
         0.89893466
        ],
        [
         24,
         1.1672186
        ],
        [
         24,
         1.1018445
        ],
        [
         24,
         4.387907
        ],
        [
         24,
         1.5622181
        ],
        [
         24,
         2.529023
        ],
        [
         95,
         1.8135716
        ],
        [
         95,
         1.7158514
        ],
        [
         95,
         1.9350913
        ],
        [
         95,
         3.175832
        ],
        [
         95,
         2.1444855
        ],
        [
         95,
         2.0016642
        ],
        [
         95,
         2.0513432
        ],
        [
         95,
         1.5691985
        ],
        [
         95,
         1.8929342
        ],
        [
         95,
         1.5498686
        ],
        [
         95,
         1.8821497
        ],
        [
         95,
         1.8715183
        ],
        [
         95,
         1.3788762
        ],
        [
         95,
         1.2903666
        ],
        [
         95,
         1.2464134
        ],
        [
         95,
         1.0879432
        ],
        [
         95,
         1.8247237
        ],
        [
         29,
         1.5273077
        ],
        [
         29,
         1.6226492
        ],
        [
         29,
         3.4332924
        ],
        [
         29,
         1.0207524
        ],
        [
         29,
         3.1342168
        ],
        [
         29,
         4.4785304
        ],
        [
         29,
         2.5023541
        ],
        [
         29,
         3.8015943
        ],
        [
         29,
         1.0252122
        ],
        [
         29,
         1.9585255
        ],
        [
         29,
         1.0410748
        ],
        [
         29,
         1.231944
        ],
        [
         29,
         2.0176494
        ],
        [
         29,
         3.8385808
        ],
        [
         29,
         2.888662
        ],
        [
         29,
         1.0230197
        ],
        [
         29,
         1.1789491
        ],
        [
         29,
         1.133356
        ],
        [
         29,
         1.1740822
        ],
        [
         29,
         0.9217195
        ],
        [
         98,
         1.2334431
        ],
        [
         98,
         1.2554945
        ],
        [
         98,
         0.94426864
        ],
        [
         98,
         1.1706016
        ],
        [
         98,
         1.1261919
        ],
        [
         98,
         0.8803605
        ],
        [
         98,
         2.1067002
        ],
        [
         98,
         1.136325
        ],
        [
         98,
         1.0473981
        ],
        [
         98,
         2.5048625
        ],
        [
         98,
         3.1564724
        ],
        [
         98,
         1.0314908
        ],
        [
         98,
         3.1939192
        ],
        [
         98,
         3.6129682
        ],
        [
         98,
         2.3882666
        ],
        [
         98,
         1.1086913
        ],
        [
         98,
         0.9959097
        ],
        [
         60,
         1.2349101
        ],
        [
         60,
         1.1480527
        ],
        [
         60,
         2.3616512
        ],
        [
         60,
         0.8340506
        ],
        [
         60,
         1.1719147
        ],
        [
         60,
         2.6307216
        ],
        [
         60,
         1.2380214
        ],
        [
         60,
         0.7500325
        ],
        [
         60,
         0.938837
        ],
        [
         60,
         0.93554604
        ],
        [
         60,
         1.4790243
        ],
        [
         60,
         1.980221
        ],
        [
         60,
         0.6692064
        ],
        [
         60,
         0.943551
        ],
        [
         60,
         1.2191527
        ],
        [
         56,
         1.8299503
        ],
        [
         56,
         1.0813007
        ],
        [
         56,
         2.44384
        ],
        [
         56,
         0.9271712
        ],
        [
         56,
         0.94553995
        ],
        [
         56,
         1.0476383
        ],
        [
         56,
         0.9570239
        ],
        [
         56,
         2.1956537
        ],
        [
         56,
         1.001697
        ],
        [
         56,
         1.636882
        ],
        [
         56,
         2.8956401
        ],
        [
         56,
         0.9557456
        ],
        [
         56,
         1.6800312
        ],
        [
         56,
         1.1644061
        ],
        [
         56,
         1.6556059
        ],
        [
         56,
         1.013852
        ],
        [
         56,
         1.11119
        ],
        [
         58,
         1.2002394
        ],
        [
         58,
         1.8613565
        ],
        [
         58,
         1.0560371
        ],
        [
         58,
         0.95541763
        ],
        [
         58,
         2.8545136
        ],
        [
         58,
         3.495125
        ],
        [
         58,
         2.0367787
        ],
        [
         58,
         1.3132421
        ],
        [
         58,
         1.0245206
        ],
        [
         58,
         0.9882724
        ],
        [
         58,
         1.0115051
        ],
        [
         58,
         2.8208475
        ],
        [
         58,
         1.8935841
        ],
        [
         58,
         0.9544744
        ],
        [
         58,
         1.0459358
        ],
        [
         33,
         0.9143892
        ],
        [
         33,
         1.1130924
        ],
        [
         33,
         1.3839021
        ],
        [
         33,
         1.1912311
        ],
        [
         33,
         1.003596
        ],
        [
         33,
         0.9487032
        ],
        [
         33,
         1.9854802
        ],
        [
         33,
         1.1143752
        ],
        [
         33,
         0.8754938
        ],
        [
         33,
         0.99089104
        ],
        [
         33,
         1.0275904
        ],
        [
         33,
         0.9174527
        ],
        [
         33,
         2.9699812
        ],
        [
         33,
         1.1664158
        ],
        [
         33,
         0.932471
        ],
        [
         33,
         1.1356629
        ],
        [
         83,
         0.7557658
        ],
        [
         83,
         4.6114244
        ],
        [
         83,
         1.9983045
        ],
        [
         83,
         1.1086076
        ],
        [
         83,
         0.6698247
        ],
        [
         83,
         1.074916
        ],
        [
         83,
         2.5106204
        ],
        [
         83,
         1.4630262
        ],
        [
         83,
         4.366677
        ],
        [
         83,
         1.1570184
        ],
        [
         83,
         1.3078641
        ],
        [
         83,
         2.8668423
        ],
        [
         83,
         1.3222581
        ],
        [
         83,
         0.9776706
        ],
        [
         68,
         1.0806645
        ],
        [
         68,
         3.2300415
        ],
        [
         68,
         0.41159326
        ],
        [
         68,
         2.1336234
        ],
        [
         68,
         3.321721
        ],
        [
         68,
         0.9708315
        ],
        [
         68,
         2.3995247
        ],
        [
         68,
         1.1619736
        ],
        [
         68,
         0.9144726
        ],
        [
         68,
         1.3591049
        ],
        [
         68,
         3.8207154
        ],
        [
         68,
         1.7340862
        ],
        [
         68,
         3.4774654
        ],
        [
         68,
         3.0275335
        ],
        [
         68,
         2.6882665
        ],
        [
         68,
         0.851724
        ],
        [
         68,
         3.9202247
        ],
        [
         68,
         1.3605517
        ],
        [
         68,
         2.8425593
        ],
        [
         14,
         1.0697379
        ],
        [
         14,
         0.7174832
        ],
        [
         14,
         1.979678
        ],
        [
         14,
         1.7113445
        ],
        [
         14,
         2.4632869
        ],
        [
         14,
         1.1590595
        ],
        [
         14,
         1.611677
        ],
        [
         14,
         1.7061845
        ],
        [
         14,
         2.414602
        ],
        [
         14,
         0.8873549
        ],
        [
         14,
         0.8977553
        ],
        [
         14,
         1.0233248
        ],
        [
         14,
         2.5406754
        ],
        [
         14,
         1.2211661
        ],
        [
         14,
         1.870675
        ],
        [
         14,
         1.0621202
        ],
        [
         14,
         1.0400698
        ],
        [
         14,
         1.0631168
        ],
        [
         42,
         1.0871422
        ],
        [
         42,
         1.819459
        ],
        [
         42,
         2.5003352
        ],
        [
         42,
         1.022702
        ],
        [
         42,
         1.4849743
        ],
        [
         42,
         0.94025934
        ],
        [
         42,
         0.9601049
        ],
        [
         42,
         0.9869313
        ],
        [
         2,
         2.522292
        ],
        [
         2,
         1.8603683
        ],
        [
         2,
         1.0751735
        ],
        [
         2,
         2.4934397
        ],
        [
         2,
         2.1255815
        ],
        [
         2,
         3.6478772
        ],
        [
         2,
         2.6298194
        ],
        [
         2,
         3.2582815
        ],
        [
         2,
         1.0816447
        ],
        [
         2,
         1.0818394
        ],
        [
         2,
         1.1601672
        ],
        [
         2,
         1.0855047
        ],
        [
         2,
         1.0737883
        ],
        [
         2,
         1.7670817
        ],
        [
         2,
         3.5319314
        ],
        [
         2,
         1.283653
        ],
        [
         2,
         1.1944063
        ],
        [
         2,
         1.968438
        ],
        [
         2,
         3.6110542
        ],
        [
         46,
         1.3478152
        ],
        [
         46,
         1.13763
        ],
        [
         46,
         0.9879081
        ],
        [
         46,
         4.171382
        ],
        [
         46,
         1.083648
        ],
        [
         46,
         4.726519
        ],
        [
         46,
         1.0570703
        ],
        [
         46,
         0.8902826
        ],
        [
         46,
         1.1160282
        ],
        [
         46,
         4.2725654
        ],
        [
         74,
         1.7862793
        ],
        [
         74,
         1.1404823
        ],
        [
         74,
         1.2089251
        ],
        [
         74,
         1.0930965
        ],
        [
         74,
         2.592817
        ],
        [
         74,
         1.0629994
        ],
        [
         74,
         2.2248442
        ],
        [
         74,
         2.4977632
        ],
        [
         74,
         3.525202
        ],
        [
         74,
         3.3693123
        ],
        [
         74,
         0.9304586
        ],
        [
         74,
         1.2262943
        ]
       ],
       "datasetInfos": [
        {
         "name": "movies_15_recommendation_user_11",
         "schema": {
          "fields": [
           {
            "metadata": {},
            "name": "movieId",
            "nullable": true,
            "type": "integer"
           },
           {
            "metadata": {},
            "name": "rating",
            "nullable": true,
            "type": "integer"
           },
           {
            "metadata": {},
            "name": "userId",
            "nullable": true,
            "type": "integer"
           },
           {
            "metadata": {},
            "name": "prediction",
            "nullable": false,
            "type": "float"
           }
          ],
          "type": "struct"
         },
         "tableIdentifier": null,
         "typeStr": "pyspark.sql.dataframe.DataFrame"
        }
       ],
       "dbfsResultPath": null,
       "isJsonSchema": true,
       "metadata": {},
       "overflow": false,
       "plotOptions": {
        "customPlotOptions": {},
        "displayType": "table",
        "pivotAggregation": null,
        "pivotColumns": null,
        "xColumns": null,
        "yColumns": null
       },
       "removedWidgets": [],
       "schema": [
        {
         "metadata": "{}",
         "name": "movieId",
         "type": "\"integer\""
        },
        {
         "metadata": "{}",
         "name": "prediction",
         "type": "\"float\""
        }
       ],
       "type": "table"
      }
     },
     "output_type": "display_data"
    }
   ],
   "source": [
    "# Prediction based on Best ALS model from Cross Validation\n",
    "movies_15_recommendation_user_11 = best_model.transform(Unwatched_user11)\n",
    "display(movies_15_recommendation_user_11.select('movieId','prediction'))"
   ]
  },
  {
   "cell_type": "code",
   "execution_count": 0,
   "metadata": {
    "application/vnd.databricks.v1+cell": {
     "inputWidgets": {},
     "nuid": "a66c1c42-fd52-450e-a4d5-0208513fe5c4",
     "showTitle": true,
     "title": "TOP 15 Movies for User 11"
    }
   },
   "outputs": [
    {
     "data": {
      "text/html": [
       "<style scoped>\n",
       "  .ansiout {\n",
       "    display: block;\n",
       "    unicode-bidi: embed;\n",
       "    white-space: pre-wrap;\n",
       "    word-wrap: break-word;\n",
       "    word-break: break-all;\n",
       "    font-family: \"Source Code Pro\", \"Menlo\", monospace;;\n",
       "    font-size: 13px;\n",
       "    color: #555;\n",
       "    margin-left: 4px;\n",
       "    line-height: 19px;\n",
       "  }\n",
       "</style>\n",
       "<div class=\"ansiout\">+-------+----------+------+\n",
       "movieId|prediction|userId|\n",
       "+-------+----------+------+\n",
       "     46|  4.726519|    11|\n",
       "     55|  4.673742|    11|\n",
       "     52|  4.638243|    11|\n",
       "     93|  4.632242|    11|\n",
       "     83| 4.6114244|    11|\n",
       "     49| 4.5430574|    11|\n",
       "     52| 4.5407763|    11|\n",
       "     29| 4.4785304|    11|\n",
       "     52|  4.452403|    11|\n",
       "     24|  4.387907|    11|\n",
       "      8| 4.3835964|    11|\n",
       "     83|  4.366677|    11|\n",
       "     55|  4.357387|    11|\n",
       "     96|  4.349066|    11|\n",
       "     17|  4.292567|    11|\n",
       "+-------+----------+------+\n",
       "only showing top 15 rows\n",
       "\n",
       "</div>"
      ]
     },
     "metadata": {
      "application/vnd.databricks.v1+output": {
       "addedWidgets": {},
       "arguments": {},
       "data": "<div class=\"ansiout\">+-------+----------+------+\n|movieId|prediction|userId|\n+-------+----------+------+\n|     46|  4.726519|    11|\n|     55|  4.673742|    11|\n|     52|  4.638243|    11|\n|     93|  4.632242|    11|\n|     83| 4.6114244|    11|\n|     49| 4.5430574|    11|\n|     52| 4.5407763|    11|\n|     29| 4.4785304|    11|\n|     52|  4.452403|    11|\n|     24|  4.387907|    11|\n|      8| 4.3835964|    11|\n|     83|  4.366677|    11|\n|     55|  4.357387|    11|\n|     96|  4.349066|    11|\n|     17|  4.292567|    11|\n+-------+----------+------+\nonly showing top 15 rows\n\n</div>",
       "datasetInfos": [],
       "metadata": {},
       "removedWidgets": [],
       "type": "html"
      }
     },
     "output_type": "display_data"
    }
   ],
   "source": [
    "top15Movies = movies_15_recommendation_user_11.select('movieId','prediction').orderBy('prediction', ascending = False).withColumn('userId', lit(11)).show(15)\n"
   ]
  },
  {
   "cell_type": "code",
   "execution_count": 0,
   "metadata": {
    "application/vnd.databricks.v1+cell": {
     "inputWidgets": {},
     "nuid": "3e81dbac-1ca0-4ed9-b5ba-31f14bb86d0a",
     "showTitle": true,
     "title": "User ID 23 Movie Recommendation"
    }
   },
   "outputs": [
    {
     "data": {
      "text/html": [
       "<style scoped>\n",
       "  .ansiout {\n",
       "    display: block;\n",
       "    unicode-bidi: embed;\n",
       "    white-space: pre-wrap;\n",
       "    word-wrap: break-word;\n",
       "    word-break: break-all;\n",
       "    font-family: \"Source Code Pro\", \"Menlo\", monospace;;\n",
       "    font-size: 13px;\n",
       "    color: #555;\n",
       "    margin-left: 4px;\n",
       "    line-height: 19px;\n",
       "  }\n",
       "</style>\n",
       "<div class=\"ansiout\">+-------+------+\n",
       "movieId|rating|\n",
       "+-------+------+\n",
       "     65|     5|\n",
       "     27|     5|\n",
       "     48|     5|\n",
       "     49|     5|\n",
       "     32|     5|\n",
       "     55|     5|\n",
       "     64|     4|\n",
       "     10|     4|\n",
       "     13|     4|\n",
       "     30|     4|\n",
       "     50|     4|\n",
       "     18|     4|\n",
       "     23|     4|\n",
       "     68|     3|\n",
       "     36|     3|\n",
       "     73|     3|\n",
       "     87|     3|\n",
       "      6|     2|\n",
       "     22|     2|\n",
       "     33|     2|\n",
       "+-------+------+\n",
       "only showing top 20 rows\n",
       "\n",
       "</div>"
      ]
     },
     "metadata": {
      "application/vnd.databricks.v1+output": {
       "addedWidgets": {},
       "arguments": {},
       "data": "<div class=\"ansiout\">+-------+------+\n|movieId|rating|\n+-------+------+\n|     65|     5|\n|     27|     5|\n|     48|     5|\n|     49|     5|\n|     32|     5|\n|     55|     5|\n|     64|     4|\n|     10|     4|\n|     13|     4|\n|     30|     4|\n|     50|     4|\n|     18|     4|\n|     23|     4|\n|     68|     3|\n|     36|     3|\n|     73|     3|\n|     87|     3|\n|      6|     2|\n|     22|     2|\n|     33|     2|\n+-------+------+\nonly showing top 20 rows\n\n</div>",
       "datasetInfos": [
        {
         "name": "watched_user23",
         "schema": {
          "fields": [
           {
            "metadata": {},
            "name": "userId",
            "nullable": true,
            "type": "integer"
           },
           {
            "metadata": {},
            "name": "movieId",
            "nullable": true,
            "type": "integer"
           },
           {
            "metadata": {},
            "name": "rating",
            "nullable": true,
            "type": "integer"
           }
          ],
          "type": "struct"
         },
         "tableIdentifier": null,
         "typeStr": "pyspark.sql.dataframe.DataFrame"
        }
       ],
       "metadata": {},
       "removedWidgets": [],
       "type": "html"
      }
     },
     "output_type": "display_data"
    }
   ],
   "source": [
    "watched_user23 = df.select(['userId','movieId',  'rating']).filter(df.userId == 23).orderBy('rating', ascending = False)\n",
    "watched_user23.select('movieId','rating').show()"
   ]
  },
  {
   "cell_type": "code",
   "execution_count": 0,
   "metadata": {
    "application/vnd.databricks.v1+cell": {
     "inputWidgets": {},
     "nuid": "ec44737b-4676-43d6-8ab5-7766f05f8c04",
     "showTitle": false,
     "title": ""
    }
   },
   "outputs": [
    {
     "data": {
      "text/html": [
       "<style scoped>\n",
       "  .ansiout {\n",
       "    display: block;\n",
       "    unicode-bidi: embed;\n",
       "    white-space: pre-wrap;\n",
       "    word-wrap: break-word;\n",
       "    word-break: break-all;\n",
       "    font-family: \"Source Code Pro\", \"Menlo\", monospace;;\n",
       "    font-size: 13px;\n",
       "    color: #555;\n",
       "    margin-left: 4px;\n",
       "    line-height: 19px;\n",
       "  }\n",
       "</style>\n",
       "<div class=\"ansiout\"></div>"
      ]
     },
     "metadata": {
      "application/vnd.databricks.v1+output": {
       "addedWidgets": {},
       "arguments": {},
       "data": "<div class=\"ansiout\"></div>",
       "datasetInfos": [],
       "metadata": {},
       "removedWidgets": [],
       "type": "html"
      }
     },
     "output_type": "display_data"
    }
   ],
   "source": [
    "# Extracting movie id for watched movies\n",
    "movie_list_23 = []\n",
    "for movie in watched_user23.collect():\n",
    "  movie_list_23.append(movie.movieId)"
   ]
  },
  {
   "cell_type": "code",
   "execution_count": 0,
   "metadata": {
    "application/vnd.databricks.v1+cell": {
     "inputWidgets": {},
     "nuid": "ce89fb80-8773-47cf-a65e-df270440b0a7",
     "showTitle": false,
     "title": ""
    }
   },
   "outputs": [
    {
     "data": {
      "text/html": [
       "<style scoped>\n",
       "  .table-result-container {\n",
       "    max-height: 300px;\n",
       "    overflow: auto;\n",
       "  }\n",
       "  table, th, td {\n",
       "    border: 1px solid black;\n",
       "    border-collapse: collapse;\n",
       "  }\n",
       "  th, td {\n",
       "    padding: 5px;\n",
       "  }\n",
       "  th {\n",
       "    text-align: left;\n",
       "  }\n",
       "</style><div class='table-result-container'><table class='table-result'><thead style='background-color: white'><tr><th>movieId</th><th>prediction</th></tr></thead><tbody><tr><td>31</td><td>1.1811305</td></tr><tr><td>31</td><td>1.2988654</td></tr><tr><td>31</td><td>1.2270397</td></tr><tr><td>31</td><td>2.6040952</td></tr><tr><td>31</td><td>2.7394843</td></tr><tr><td>31</td><td>3.3450334</td></tr><tr><td>31</td><td>1.417555</td></tr><tr><td>31</td><td>2.5627148</td></tr><tr><td>31</td><td>1.0549653</td></tr><tr><td>31</td><td>1.2622926</td></tr><tr><td>31</td><td>1.1970472</td></tr><tr><td>31</td><td>2.0866492</td></tr><tr><td>31</td><td>0.9510506</td></tr><tr><td>31</td><td>1.0879949</td></tr><tr><td>31</td><td>1.6883993</td></tr><tr><td>78</td><td>0.89258224</td></tr><tr><td>78</td><td>1.0166485</td></tr><tr><td>78</td><td>0.9411313</td></tr><tr><td>78</td><td>0.97737527</td></tr><tr><td>78</td><td>1.0001327</td></tr><tr><td>78</td><td>0.7766229</td></tr><tr><td>78</td><td>0.87152535</td></tr><tr><td>78</td><td>0.93953216</td></tr><tr><td>78</td><td>0.72270465</td></tr><tr><td>78</td><td>0.96415734</td></tr><tr><td>78</td><td>1.164653</td></tr><tr><td>78</td><td>0.97007674</td></tr><tr><td>78</td><td>0.88031447</td></tr><tr><td>78</td><td>0.9215529</td></tr><tr><td>34</td><td>1.007747</td></tr><tr><td>34</td><td>3.5348792</td></tr><tr><td>34</td><td>2.5767126</td></tr><tr><td>34</td><td>1.1115184</td></tr><tr><td>34</td><td>1.50014</td></tr><tr><td>34</td><td>1.1415335</td></tr><tr><td>34</td><td>1.4647816</td></tr><tr><td>34</td><td>0.9605367</td></tr><tr><td>34</td><td>1.06601</td></tr><tr><td>34</td><td>2.5768132</td></tr><tr><td>34</td><td>1.1377416</td></tr><tr><td>81</td><td>1.1562711</td></tr><tr><td>81</td><td>1.4143704</td></tr><tr><td>81</td><td>1.9541795</td></tr><tr><td>81</td><td>1.1218313</td></tr><tr><td>81</td><td>0.9505043</td></tr><tr><td>81</td><td>2.021286</td></tr><tr><td>81</td><td>3.4252162</td></tr><tr><td>81</td><td>1.0720906</td></tr><tr><td>81</td><td>1.0307332</td></tr><tr><td>81</td><td>2.661681</td></tr><tr><td>81</td><td>0.7961805</td></tr><tr><td>81</td><td>1.0983484</td></tr><tr><td>81</td><td>0.99705255</td></tr><tr><td>81</td><td>2.7660804</td></tr><tr><td>81</td><td>4.014509</td></tr><tr><td>81</td><td>2.2037988</td></tr><tr><td>76</td><td>1.1747452</td></tr><tr><td>76</td><td>1.2246553</td></tr><tr><td>76</td><td>0.59773743</td></tr><tr><td>76</td><td>2.498318</td></tr><tr><td>76</td><td>0.9498888</td></tr><tr><td>76</td><td>1.5526713</td></tr><tr><td>76</td><td>2.6163244</td></tr><tr><td>76</td><td>0.44439232</td></tr><tr><td>76</td><td>0.41081294</td></tr><tr><td>76</td><td>1.0695744</td></tr><tr><td>76</td><td>1.0285662</td></tr><tr><td>44</td><td>0.95600396</td></tr><tr><td>44</td><td>1.194009</td></tr><tr><td>44</td><td>1.2019393</td></tr><tr><td>44</td><td>0.74419177</td></tr><tr><td>44</td><td>0.79467046</td></tr><tr><td>44</td><td>1.2857417</td></tr><tr><td>44</td><td>0.94626004</td></tr><tr><td>44</td><td>0.9801264</td></tr><tr><td>44</td><td>1.3615667</td></tr><tr><td>44</td><td>0.9628277</td></tr><tr><td>44</td><td>3.089578</td></tr><tr><td>44</td><td>0.8825442</td></tr><tr><td>44</td><td>0.87062514</td></tr><tr><td>44</td><td>1.1797253</td></tr><tr><td>44</td><td>2.1322846</td></tr><tr><td>44</td><td>1.478105</td></tr><tr><td>91</td><td>2.0304956</td></tr><tr><td>91</td><td>1.1389565</td></tr><tr><td>91</td><td>0.85170037</td></tr><tr><td>91</td><td>1.9323846</td></tr><tr><td>91</td><td>1.85581</td></tr><tr><td>91</td><td>2.9538863</td></tr><tr><td>91</td><td>2.5557864</td></tr><tr><td>91</td><td>1.0152037</td></tr><tr><td>91</td><td>2.4737866</td></tr><tr><td>91</td><td>1.2428472</td></tr><tr><td>91</td><td>1.0921972</td></tr><tr><td>91</td><td>2.5594184</td></tr><tr><td>91</td><td>1.1022152</td></tr><tr><td>91</td><td>1.1181104</td></tr><tr><td>93</td><td>0.9440316</td></tr><tr><td>93</td><td>4.632242</td></tr><tr><td>93</td><td>3.3210738</td></tr><tr><td>93</td><td>2.8595922</td></tr><tr><td>93</td><td>0.9979666</td></tr><tr><td>93</td><td>1.000312</td></tr><tr><td>93</td><td>1.0222877</td></tr><tr><td>93</td><td>1.1613668</td></tr><tr><td>93</td><td>2.6014674</td></tr><tr><td>93</td><td>1.240368</td></tr><tr><td>47</td><td>1.150959</td></tr><tr><td>47</td><td>1.4970556</td></tr><tr><td>47</td><td>1.265174</td></tr><tr><td>47</td><td>1.0523409</td></tr><tr><td>47</td><td>1.2136451</td></tr><tr><td>47</td><td>3.1208909</td></tr><tr><td>47</td><td>1.0212823</td></tr><tr><td>47</td><td>2.7073448</td></tr><tr><td>47</td><td>1.6808803</td></tr><tr><td>47</td><td>1.0699679</td></tr><tr><td>47</td><td>1.9098954</td></tr><tr><td>47</td><td>1.0511605</td></tr><tr><td>47</td><td>3.2089407</td></tr><tr><td>47</td><td>0.8924938</td></tr><tr><td>1</td><td>0.9484389</td></tr><tr><td>1</td><td>0.7232284</td></tr><tr><td>1</td><td>1.2096167</td></tr><tr><td>1</td><td>1.011935</td></tr><tr><td>1</td><td>1.0609348</td></tr><tr><td>1</td><td>0.9670188</td></tr><tr><td>1</td><td>2.966712</td></tr><tr><td>1</td><td>1.0708996</td></tr><tr><td>1</td><td>1.0765666</td></tr><tr><td>1</td><td>1.0819577</td></tr><tr><td>1</td><td>2.6851609</td></tr><tr><td>1</td><td>0.9584676</td></tr><tr><td>1</td><td>0.67958474</td></tr><tr><td>52</td><td>2.002011</td></tr><tr><td>52</td><td>1.5251869</td></tr><tr><td>52</td><td>3.3842125</td></tr><tr><td>52</td><td>1.0867503</td></tr><tr><td>52</td><td>4.5407763</td></tr><tr><td>52</td><td>1.1732053</td></tr><tr><td>52</td><td>0.99463844</td></tr><tr><td>52</td><td>2.6447933</td></tr><tr><td>52</td><td>4.638243</td></tr><tr><td>52</td><td>0.99606496</td></tr><tr><td>52</td><td>4.452403</td></tr><tr><td>52</td><td>1.1359972</td></tr><tr><td>52</td><td>1.0783393</td></tr><tr><td>52</td><td>1.0114924</td></tr><tr><td>16</td><td>0.8684648</td></tr><tr><td>86</td><td>1.3821533</td></tr><tr><td>16</td><td>0.75717425</td></tr><tr><td>86</td><td>1.081832</td></tr><tr><td>86</td><td>1.1672847</td></tr><tr><td>16</td><td>1.6908805</td></tr><tr><td>86</td><td>0.8393064</td></tr><tr><td>16</td><td>1.2778542</td></tr><tr><td>86</td><td>0.889528</td></tr><tr><td>86</td><td>0.9066182</td></tr><tr><td>86</td><td>1.1183897</td></tr><tr><td>16</td><td>1.7388059</td></tr><tr><td>86</td><td>0.7444756</td></tr><tr><td>16</td><td>1.174427</td></tr><tr><td>86</td><td>0.82027644</td></tr><tr><td>16</td><td>3.4507275</td></tr><tr><td>86</td><td>0.93085915</td></tr><tr><td>86</td><td>0.82736206</td></tr><tr><td>16</td><td>1.0904381</td></tr><tr><td>86</td><td>1.0719358</td></tr><tr><td>86</td><td>0.9220379</td></tr><tr><td>16</td><td>0.8702633</td></tr><tr><td>86</td><td>1.466369</td></tr><tr><td>86</td><td>0.9172521</td></tr><tr><td>16</td><td>2.6548054</td></tr><tr><td>16</td><td>1.1320964</td></tr><tr><td>86</td><td>2.3131285</td></tr><tr><td>86</td><td>0.8712625</td></tr><tr><td>86</td><td>1.1137149</td></tr><tr><td>3</td><td>0.8902817</td></tr><tr><td>3</td><td>1.0595198</td></tr><tr><td>3</td><td>0.9406596</td></tr><tr><td>3</td><td>1.3753576</td></tr><tr><td>3</td><td>0.96701294</td></tr><tr><td>3</td><td>0.94203365</td></tr><tr><td>3</td><td>1.1440791</td></tr><tr><td>3</td><td>0.9773678</td></tr><tr><td>3</td><td>1.3374125</td></tr><tr><td>3</td><td>1.6523223</td></tr><tr><td>3</td><td>1.1947588</td></tr><tr><td>3</td><td>0.9324151</td></tr><tr><td>3</td><td>0.8968185</td></tr><tr><td>40</td><td>1.0504438</td></tr><tr><td>40</td><td>3.4590569</td></tr><tr><td>20</td><td>0.9923541</td></tr><tr><td>40</td><td>2.514907</td></tr><tr><td>20</td><td>2.943336</td></tr><tr><td>20</td><td>0.8284095</td></tr><tr><td>40</td><td>1.7035326</td></tr><tr><td>40</td><td>2.1011972</td></tr><tr><td>40</td><td>3.1449637</td></tr><tr><td>20</td><td>1.0969074</td></tr><tr><td>40</td><td>1.3736863</td></tr><tr><td>20</td><td>0.9099971</td></tr><tr><td>40</td><td>1.8445469</td></tr><tr><td>20</td><td>0.98321</td></tr><tr><td>40</td><td>1.2896105</td></tr><tr><td>20</td><td>4.094309</td></tr><tr><td>20</td><td>0.9302201</td></tr><tr><td>40</td><td>2.0283265</td></tr><tr><td>40</td><td>0.9693814</td></tr><tr><td>20</td><td>1.0995014</td></tr><tr><td>40</td><td>2.1016517</td></tr><tr><td>40</td><td>1.1794349</td></tr><tr><td>40</td><td>0.8373879</td></tr><tr><td>20</td><td>1.0553646</td></tr><tr><td>40</td><td>1.1539311</td></tr><tr><td>20</td><td>2.3238707</td></tr><tr><td>40</td><td>1.5192804</td></tr><tr><td>20</td><td>1.0372827</td></tr><tr><td>40</td><td>1.2160403</td></tr><tr><td>20</td><td>1.0206555</td></tr><tr><td>94</td><td>1.0686269</td></tr><tr><td>94</td><td>2.1449385</td></tr><tr><td>94</td><td>2.9694161</td></tr><tr><td>94</td><td>1.0534669</td></tr><tr><td>94</td><td>2.0722892</td></tr><tr><td>94</td><td>2.2442675</td></tr><tr><td>94</td><td>3.5754914</td></tr><tr><td>94</td><td>1.544921</td></tr><tr><td>94</td><td>1.0499154</td></tr><tr><td>94</td><td>2.996046</td></tr><tr><td>94</td><td>3.9503982</td></tr><tr><td>94</td><td>3.2707758</td></tr><tr><td>94</td><td>3.3820114</td></tr><tr><td>94</td><td>2.063974</td></tr><tr><td>94</td><td>1.6068113</td></tr><tr><td>94</td><td>4.5454707</td></tr><tr><td>94</td><td>1.8186334</td></tr><tr><td>94</td><td>1.2430117</td></tr><tr><td>94</td><td>3.3547175</td></tr><tr><td>54</td><td>0.7219641</td></tr><tr><td>54</td><td>1.406585</td></tr><tr><td>54</td><td>0.9352198</td></tr><tr><td>54</td><td>0.77421206</td></tr><tr><td>54</td><td>1.0576704</td></tr><tr><td>54</td><td>0.9929657</td></tr><tr><td>54</td><td>1.1279739</td></tr><tr><td>54</td><td>1.010187</td></tr><tr><td>54</td><td>1.0366188</td></tr><tr><td>54</td><td>1.3182795</td></tr><tr><td>54</td><td>1.0773216</td></tr><tr><td>54</td><td>1.0659958</td></tr><tr><td>54</td><td>3.8326967</td></tr><tr><td>54</td><td>2.7831562</td></tr><tr><td>54</td><td>1.0445967</td></tr><tr><td>54</td><td>3.4934156</td></tr><tr><td>54</td><td>1.107069</td></tr><tr><td>96</td><td>0.9095414</td></tr><tr><td>96</td><td>1.140945</td></tr><tr><td>96</td><td>1.5230883</td></tr><tr><td>96</td><td>1.4130912</td></tr><tr><td>96</td><td>1.0967517</td></tr><tr><td>96</td><td>2.7432437</td></tr><tr><td>96</td><td>0.7410444</td></tr><tr><td>96</td><td>3.345747</td></tr><tr><td>96</td><td>0.6151662</td></tr><tr><td>96</td><td>2.4119246</td></tr><tr><td>96</td><td>1.8090761</td></tr><tr><td>96</td><td>2.749802</td></tr><tr><td>96</td><td>1.9948156</td></tr><tr><td>96</td><td>4.349066</td></tr><tr><td>96</td><td>0.9326522</td></tr><tr><td>5</td><td>1.4578513</td></tr><tr><td>5</td><td>1.0277138</td></tr><tr><td>5</td><td>1.0382259</td></tr><tr><td>5</td><td>1.0938387</td></tr><tr><td>5</td><td>0.9375309</td></tr><tr><td>5</td><td>1.0259217</td></tr><tr><td>5</td><td>0.9213888</td></tr><tr><td>5</td><td>1.6663195</td></tr><tr><td>5</td><td>1.0544884</td></tr><tr><td>5</td><td>1.8199831</td></tr><tr><td>5</td><td>1.4682575</td></tr><tr><td>5</td><td>1.8045856</td></tr><tr><td>5</td><td>1.2142316</td></tr><tr><td>19</td><td>0.93704456</td></tr><tr><td>19</td><td>0.7235836</td></tr><tr><td>19</td><td>3.4932394</td></tr><tr><td>19</td><td>1.5234994</td></tr><tr><td>19</td><td>1.2097521</td></tr><tr><td>19</td><td>1.0269511</td></tr><tr><td>19</td><td>1.1660466</td></tr><tr><td>19</td><td>3.4558816</td></tr><tr><td>19</td><td>0.7805652</td></tr><tr><td>19</td><td>0.9182379</td></tr><tr><td>19</td><td>0.9594144</td></tr><tr><td>19</td><td>1.0586771</td></tr><tr><td>19</td><td>0.8115336</td></tr><tr><td>19</td><td>1.3655213</td></tr><tr><td>19</td><td>2.5644476</td></tr><tr><td>19</td><td>1.8049028</td></tr><tr><td>19</td><td>1.3899851</td></tr><tr><td>92</td><td>0.9403796</td></tr><tr><td>92</td><td>1.8167678</td></tr><tr><td>92</td><td>1.1196282</td></tr><tr><td>92</td><td>1.6934403</td></tr><tr><td>92</td><td>2.0235841</td></tr><tr><td>92</td><td>0.9845928</td></tr><tr><td>92</td><td>1.0427191</td></tr><tr><td>92</td><td>1.9506305</td></tr><tr><td>92</td><td>1.8294208</td></tr><tr><td>92</td><td>2.6208808</td></tr><tr><td>92</td><td>1.1740024</td></tr><tr><td>92</td><td>1.017988</td></tr><tr><td>92</td><td>1.1940564</td></tr><tr><td>92</td><td>1.0434148</td></tr><tr><td>41</td><td>1.6950711</td></tr><tr><td>41</td><td>1.9594445</td></tr><tr><td>41</td><td>3.2296426</td></tr><tr><td>41</td><td>2.0636292</td></tr><tr><td>41</td><td>1.0303596</td></tr><tr><td>41</td><td>0.92533934</td></tr><tr><td>41</td><td>1.1316532</td></tr><tr><td>41</td><td>1.9453285</td></tr><tr><td>41</td><td>2.861998</td></tr><tr><td>41</td><td>1.0362054</td></tr><tr><td>9</td><td>0.81065506</td></tr><tr><td>17</td><td>0.9541203</td></tr><tr><td>9</td><td>2.1057646</td></tr><tr><td>9</td><td>0.7062216</td></tr><tr><td>9</td><td>0.73388296</td></tr><tr><td>9</td><td>1.0421675</td></tr><tr><td>17</td><td>0.80303234</td></tr><tr><td>9</td><td>2.2375288</td></tr><tr><td>9</td><td>0.92557377</td></tr><tr><td>17</td><td>1.0763983</td></tr><tr><td>9</td><td>1.0849922</td></tr><tr><td>9</td><td>1.6456125</td></tr><tr><td>17</td><td>1.0062271</td></tr><tr><td>9</td><td>1.0059906</td></tr><tr><td>17</td><td>4.266823</td></tr><tr><td>17</td><td>1.0075186</td></tr><tr><td>9</td><td>0.9355339</td></tr><tr><td>17</td><td>0.9602076</td></tr><tr><td>17</td><td>2.2448297</td></tr><tr><td>9</td><td>1.0392437</td></tr><tr><td>17</td><td>4.292567</td></tr><tr><td>17</td><td>0.9983586</td></tr><tr><td>9</td><td>1.3442621</td></tr><tr><td>9</td><td>0.9693438</td></tr><tr><td>17</td><td>1.1731315</td></tr><tr><td>9</td><td>1.0517808</td></tr><tr><td>17</td><td>0.864853</td></tr><tr><td>9</td><td>1.3605311</td></tr><tr><td>17</td><td>3.0595617</td></tr><tr><td>35</td><td>1.1196996</td></tr><tr><td>35</td><td>1.121303</td></tr><tr><td>35</td><td>0.78708464</td></tr><tr><td>35</td><td>1.1042918</td></tr><tr><td>35</td><td>1.0212331</td></tr><tr><td>35</td><td>2.0609763</td></tr><tr><td>35</td><td>0.9887671</td></tr><tr><td>35</td><td>2.7727075</td></tr><tr><td>35</td><td>3.8417869</td></tr><tr><td>35</td><td>2.1115735</td></tr><tr><td>35</td><td>2.2923892</td></tr><tr><td>35</td><td>0.9300592</td></tr><tr><td>35</td><td>1.9445064</td></tr><tr><td>35</td><td>1.1686603</td></tr><tr><td>8</td><td>4.3835964</td></tr><tr><td>8</td><td>2.631425</td></tr><tr><td>8</td><td>1.1479595</td></tr><tr><td>8</td><td>0.8739415</td></tr><tr><td>8</td><td>1.1215487</td></tr><tr><td>8</td><td>1.0778157</td></tr><tr><td>8</td><td>1.1353527</td></tr><tr><td>7</td><td>1.9438704</td></tr><tr><td>7</td><td>0.98832846</td></tr><tr><td>7</td><td>1.0591837</td></tr><tr><td>7</td><td>3.8364756</td></tr><tr><td>7</td><td>1.0790819</td></tr><tr><td>7</td><td>2.7890365</td></tr><tr><td>7</td><td>1.1163107</td></tr><tr><td>7</td><td>1.0774277</td></tr><tr><td>7</td><td>1.1342386</td></tr><tr><td>7</td><td>0.9990744</td></tr><tr><td>7</td><td>1.9157492</td></tr><tr><td>7</td><td>1.110979</td></tr><tr><td>7</td><td>0.72445315</td></tr><tr><td>7</td><td>4.1710305</td></tr><tr><td>7</td><td>1.3394804</td></tr><tr><td>7</td><td>2.2188983</td></tr><tr><td>51</td><td>0.9530804</td></tr><tr><td>51</td><td>4.066766</td></tr><tr><td>51</td><td>1.1292344</td></tr><tr><td>51</td><td>1.0921729</td></tr><tr><td>51</td><td>1.1236637</td></tr><tr><td>51</td><td>0.83469886</td></tr><tr><td>51</td><td>2.8964515</td></tr><tr><td>51</td><td>1.0300564</td></tr><tr><td>51</td><td>1.2902303</td></tr><tr><td>51</td><td>1.0678395</td></tr><tr><td>51</td><td>1.0106215</td></tr><tr><td>51</td><td>4.104096</td></tr><tr><td>51</td><td>1.3292619</td></tr><tr><td>51</td><td>1.7935011</td></tr><tr><td>51</td><td>2.9312098</td></tr><tr><td>51</td><td>1.1531055</td></tr><tr><td>51</td><td>4.2914286</td></tr><tr><td>51</td><td>1.039537</td></tr><tr><td>51</td><td>2.1235456</td></tr><tr><td>51</td><td>1.8002495</td></tr><tr><td>63</td><td>1.3389629</td></tr><tr><td>63</td><td>2.6678548</td></tr><tr><td>63</td><td>2.6099274</td></tr><tr><td>63</td><td>2.2460392</td></tr><tr><td>63</td><td>2.591786</td></tr><tr><td>63</td><td>1.0244653</td></tr><tr><td>63</td><td>1.1783093</td></tr><tr><td>63</td><td>2.1152155</td></tr><tr><td>63</td><td>4.0190916</td></tr><tr><td>63</td><td>1.8441492</td></tr><tr><td>63</td><td>0.981681</td></tr><tr><td>63</td><td>0.9325063</td></tr><tr><td>63</td><td>1.2024785</td></tr><tr><td>63</td><td>1.9414345</td></tr><tr><td>63</td><td>3.6944356</td></tr><tr><td>63</td><td>1.0649531</td></tr><tr><td>45</td><td>0.71326655</td></tr><tr><td>45</td><td>1.1048026</td></tr><tr><td>45</td><td>1.0110226</td></tr><tr><td>45</td><td>1.3641583</td></tr><tr><td>45</td><td>1.2491841</td></tr><tr><td>45</td><td>0.98585135</td></tr><tr><td>45</td><td>0.99146366</td></tr><tr><td>45</td><td>0.8816935</td></tr><tr><td>45</td><td>1.0376852</td></tr><tr><td>45</td><td>1.0502057</td></tr><tr><td>45</td><td>1.0452627</td></tr><tr><td>45</td><td>1.520979</td></tr><tr><td>45</td><td>1.0159268</td></tr><tr><td>45</td><td>1.8568807</td></tr><tr><td>45</td><td>0.9541025</td></tr><tr><td>45</td><td>1.8739302</td></tr><tr><td>45</td><td>0.9876</td></tr><tr><td>45</td><td>0.94231766</td></tr><tr><td>80</td><td>1.2546148</td></tr><tr><td>80</td><td>3.357286</td></tr><tr><td>80</td><td>2.9385731</td></tr><tr><td>80</td><td>0.6291625</td></tr><tr><td>80</td><td>1.7439351</td></tr><tr><td>80</td><td>0.8709334</td></tr><tr><td>80</td><td>0.95211643</td></tr><tr><td>80</td><td>3.0454025</td></tr><tr><td>80</td><td>1.0998</td></tr><tr><td>80</td><td>2.5205464</td></tr><tr><td>80</td><td>1.144645</td></tr><tr><td>70</td><td>2.0298724</td></tr><tr><td>70</td><td>1.3165194</td></tr><tr><td>70</td><td>3.2463167</td></tr><tr><td>70</td><td>1.6174912</td></tr><tr><td>70</td><td>2.7135</td></tr><tr><td>70</td><td>0.9855674</td></tr><tr><td>70</td><td>1.1055318</td></tr><tr><td>70</td><td>1.3670533</td></tr><tr><td>70</td><td>1.0057042</td></tr><tr><td>70</td><td>1.8568676</td></tr><tr><td>70</td><td>2.723396</td></tr><tr><td>70</td><td>0.9094621</td></tr><tr><td>70</td><td>1.0151274</td></tr><tr><td>70</td><td>1.0213383</td></tr><tr><td>62</td><td>3.1357613</td></tr><tr><td>62</td><td>0.9920722</td></tr><tr><td>62</td><td>1.7585466</td></tr><tr><td>62</td><td>3.3821313</td></tr><tr><td>62</td><td>2.7797828</td></tr><tr><td>62</td><td>3.884368</td></tr><tr><td>62</td><td>0.99974495</td></tr><tr><td>62</td><td>1.5585481</td></tr><tr><td>62</td><td>3.4421768</td></tr><tr><td>62</td><td>1.4207467</td></tr><tr><td>62</td><td>1.2165353</td></tr><tr><td>62</td><td>1.3446758</td></tr><tr><td>62</td><td>3.5623944</td></tr><tr><td>62</td><td>2.078116</td></tr><tr><td>62</td><td>1.3169732</td></tr><tr><td>62</td><td>1.0333369</td></tr><tr><td>21</td><td>0.93778265</td></tr><tr><td>21</td><td>2.2577474</td></tr><tr><td>21</td><td>1.8755352</td></tr><tr><td>21</td><td>0.87790155</td></tr><tr><td>21</td><td>1.1174471</td></tr><tr><td>21</td><td>1.1231817</td></tr><tr><td>21</td><td>1.4807256</td></tr><tr><td>21</td><td>1.035501</td></tr><tr><td>21</td><td>1.0583082</td></tr><tr><td>21</td><td>1.0396764</td></tr><tr><td>21</td><td>0.83803976</td></tr><tr><td>21</td><td>0.9510275</td></tr><tr><td>21</td><td>1.6185558</td></tr><tr><td>21</td><td>1.8488271</td></tr><tr><td>21</td><td>2.0025916</td></tr><tr><td>21</td><td>1.2375094</td></tr><tr><td>21</td><td>2.786205</td></tr><tr><td>98</td><td>1.2334431</td></tr><tr><td>98</td><td>1.2554945</td></tr><tr><td>98</td><td>0.94426864</td></tr><tr><td>98</td><td>1.1706016</td></tr><tr><td>98</td><td>1.1261919</td></tr><tr><td>98</td><td>0.8803605</td></tr><tr><td>98</td><td>2.1067002</td></tr><tr><td>98</td><td>1.136325</td></tr><tr><td>98</td><td>1.0473981</td></tr><tr><td>98</td><td>2.5048625</td></tr><tr><td>98</td><td>3.1564724</td></tr><tr><td>98</td><td>1.0314908</td></tr><tr><td>98</td><td>3.1939192</td></tr><tr><td>98</td><td>3.6129682</td></tr><tr><td>98</td><td>2.3882666</td></tr><tr><td>98</td><td>1.1086913</td></tr><tr><td>98</td><td>0.9959097</td></tr><tr><td>90</td><td>0.9961258</td></tr><tr><td>90</td><td>3.5462425</td></tr><tr><td>90</td><td>1.3428868</td></tr><tr><td>90</td><td>2.8140728</td></tr><tr><td>90</td><td>1.01441</td></tr><tr><td>90</td><td>3.6310692</td></tr><tr><td>90</td><td>1.1100131</td></tr><tr><td>90</td><td>4.2941847</td></tr><tr><td>90</td><td>4.586747</td></tr><tr><td>90</td><td>3.5162423</td></tr><tr><td>90</td><td>2.6760623</td></tr><tr><td>90</td><td>2.630558</td></tr><tr><td>90</td><td>4.3384457</td></tr><tr><td>90</td><td>1.4199342</td></tr><tr><td>90</td><td>1.8208377</td></tr><tr><td>90</td><td>3.8940847</td></tr><tr><td>75</td><td>0.91942257</td></tr><tr><td>75</td><td>1.0714977</td></tr><tr><td>75</td><td>1.1801374</td></tr><tr><td>75</td><td>0.9862809</td></tr><tr><td>75</td><td>2.6636963</td></tr><tr><td>75</td><td>1.0542805</td></tr><tr><td>75</td><td>1.1187576</td></tr><tr><td>75</td><td>3.290255</td></tr><tr><td>75</td><td>4.488112</td></tr><tr><td>75</td><td>2.6345818</td></tr><tr><td>75</td><td>1.3433636</td></tr><tr><td>75</td><td>1.394791</td></tr><tr><td>56</td><td>1.8299503</td></tr><tr><td>56</td><td>1.0813007</td></tr><tr><td>56</td><td>2.44384</td></tr><tr><td>56</td><td>0.9271712</td></tr><tr><td>56</td><td>0.94553995</td></tr><tr><td>56</td><td>1.0476383</td></tr><tr><td>56</td><td>0.9570239</td></tr><tr><td>56</td><td>2.1956537</td></tr><tr><td>56</td><td>1.001697</td></tr><tr><td>56</td><td>1.636882</td></tr><tr><td>56</td><td>2.8956401</td></tr><tr><td>56</td><td>0.9557456</td></tr><tr><td>56</td><td>1.6800312</td></tr><tr><td>56</td><td>1.1644061</td></tr><tr><td>56</td><td>1.6556059</td></tr><tr><td>56</td><td>1.013852</td></tr><tr><td>56</td><td>1.11119</td></tr><tr><td>58</td><td>1.2002394</td></tr><tr><td>58</td><td>1.8613565</td></tr><tr><td>58</td><td>1.0560371</td></tr><tr><td>58</td><td>0.95541763</td></tr><tr><td>58</td><td>2.8545136</td></tr><tr><td>58</td><td>3.495125</td></tr><tr><td>58</td><td>2.0367787</td></tr><tr><td>58</td><td>1.3132421</td></tr><tr><td>58</td><td>1.0245206</td></tr><tr><td>58</td><td>0.9882724</td></tr><tr><td>58</td><td>1.0115051</td></tr><tr><td>58</td><td>2.8208475</td></tr><tr><td>58</td><td>1.8935841</td></tr><tr><td>58</td><td>0.9544744</td></tr><tr><td>58</td><td>1.0459358</td></tr><tr><td>11</td><td>0.984304</td></tr><tr><td>11</td><td>0.92847186</td></tr><tr><td>11</td><td>1.7863116</td></tr><tr><td>11</td><td>1.0645648</td></tr><tr><td>11</td><td>1.2305301</td></tr><tr><td>11</td><td>1.0457139</td></tr><tr><td>11</td><td>0.9707945</td></tr><tr><td>11</td><td>3.3094442</td></tr><tr><td>11</td><td>0.82447946</td></tr><tr><td>11</td><td>0.8452139</td></tr><tr><td>11</td><td>1.0904139</td></tr><tr><td>11</td><td>1.0407276</td></tr><tr><td>71</td><td>1.2277435</td></tr><tr><td>71</td><td>2.6625912</td></tr><tr><td>71</td><td>0.8764366</td></tr><tr><td>71</td><td>1.1877059</td></tr><tr><td>71</td><td>1.6812094</td></tr><tr><td>71</td><td>1.1066463</td></tr><tr><td>71</td><td>1.1453224</td></tr><tr><td>71</td><td>2.623237</td></tr><tr><td>71</td><td>1.2892604</td></tr><tr><td>71</td><td>1.6290815</td></tr><tr><td>71</td><td>0.94568455</td></tr><tr><td>71</td><td>1.01404</td></tr><tr><td>71</td><td>1.0117457</td></tr><tr><td>71</td><td>3.0492914</td></tr><tr><td>71</td><td>1.0445945</td></tr><tr><td>71</td><td>1.9493461</td></tr><tr><td>42</td><td>1.0871422</td></tr><tr><td>42</td><td>1.819459</td></tr><tr><td>42</td><td>2.5003352</td></tr><tr><td>42</td><td>1.022702</td></tr><tr><td>42</td><td>1.4849743</td></tr><tr><td>42</td><td>0.94025934</td></tr><tr><td>42</td><td>0.9601049</td></tr><tr><td>42</td><td>0.9869313</td></tr><tr><td>79</td><td>0.91841453</td></tr><tr><td>79</td><td>2.6186333</td></tr><tr><td>79</td><td>1.2251853</td></tr><tr><td>79</td><td>0.9319637</td></tr><tr><td>79</td><td>0.9366082</td></tr><tr><td>79</td><td>0.9716837</td></tr><tr><td>79</td><td>4.151344</td></tr><tr><td>79</td><td>1.7427695</td></tr><tr><td>79</td><td>1.7320672</td></tr><tr><td>79</td><td>1.182176</td></tr><tr><td>79</td><td>0.91549695</td></tr><tr><td>79</td><td>0.9386642</td></tr><tr><td>79</td><td>1.182647</td></tr><tr><td>79</td><td>1.0273854</td></tr><tr><td>79</td><td>1.0730507</td></tr><tr><td>79</td><td>1.883378</td></tr><tr><td>99</td><td>0.85149664</td></tr><tr><td>99</td><td>0.9388692</td></tr><tr><td>99</td><td>0.88628095</td></tr><tr><td>99</td><td>1.0078738</td></tr><tr><td>99</td><td>1.0130446</td></tr><tr><td>99</td><td>0.94081</td></tr><tr><td>99</td><td>0.9533058</td></tr><tr><td>99</td><td>1.6779565</td></tr><tr><td>99</td><td>0.97411996</td></tr><tr><td>99</td><td>1.0118427</td></tr><tr><td>99</td><td>0.97771996</td></tr><tr><td>99</td><td>1.23538</td></tr><tr><td>99</td><td>0.8632635</td></tr><tr><td>46</td><td>1.3478152</td></tr><tr><td>46</td><td>1.13763</td></tr><tr><td>46</td><td>0.9879081</td></tr><tr><td>46</td><td>4.171382</td></tr><tr><td>46</td><td>1.083648</td></tr><tr><td>46</td><td>4.726519</td></tr><tr><td>46</td><td>1.0570703</td></tr><tr><td>46</td><td>0.8902826</td></tr><tr><td>46</td><td>1.1160282</td></tr><tr><td>46</td><td>4.2725654</td></tr><tr><td>74</td><td>1.7862793</td></tr><tr><td>74</td><td>1.1404823</td></tr><tr><td>74</td><td>1.2089251</td></tr><tr><td>74</td><td>1.0930965</td></tr><tr><td>74</td><td>2.592817</td></tr><tr><td>74</td><td>1.0629994</td></tr><tr><td>74</td><td>2.2248442</td></tr><tr><td>74</td><td>2.4977632</td></tr><tr><td>74</td><td>3.525202</td></tr><tr><td>74</td><td>3.3693123</td></tr><tr><td>74</td><td>0.9304586</td></tr><tr><td>74</td><td>1.2262943</td></tr><tr><td>89</td><td>1.9391937</td></tr><tr><td>89</td><td>3.4880216</td></tr><tr><td>89</td><td>0.9801933</td></tr><tr><td>89</td><td>2.0112636</td></tr><tr><td>89</td><td>1.1394783</td></tr><tr><td>89</td><td>2.750743</td></tr><tr><td>89</td><td>1.2415625</td></tr><tr><td>89</td><td>1.0752336</td></tr><tr><td>89</td><td>1.880212</td></tr><tr><td>89</td><td>0.94453406</td></tr><tr><td>89</td><td>3.4789276</td></tr></tbody></table></div>"
      ]
     },
     "metadata": {
      "application/vnd.databricks.v1+output": {
       "addedWidgets": {},
       "aggData": [],
       "aggError": "",
       "aggOverflow": false,
       "aggSchema": [],
       "aggSeriesLimitReached": false,
       "aggType": "",
       "arguments": {},
       "columnCustomDisplayInfos": {},
       "data": [
        [
         31,
         1.1811305
        ],
        [
         31,
         1.2988654
        ],
        [
         31,
         1.2270397
        ],
        [
         31,
         2.6040952
        ],
        [
         31,
         2.7394843
        ],
        [
         31,
         3.3450334
        ],
        [
         31,
         1.417555
        ],
        [
         31,
         2.5627148
        ],
        [
         31,
         1.0549653
        ],
        [
         31,
         1.2622926
        ],
        [
         31,
         1.1970472
        ],
        [
         31,
         2.0866492
        ],
        [
         31,
         0.9510506
        ],
        [
         31,
         1.0879949
        ],
        [
         31,
         1.6883993
        ],
        [
         78,
         0.89258224
        ],
        [
         78,
         1.0166485
        ],
        [
         78,
         0.9411313
        ],
        [
         78,
         0.97737527
        ],
        [
         78,
         1.0001327
        ],
        [
         78,
         0.7766229
        ],
        [
         78,
         0.87152535
        ],
        [
         78,
         0.93953216
        ],
        [
         78,
         0.72270465
        ],
        [
         78,
         0.96415734
        ],
        [
         78,
         1.164653
        ],
        [
         78,
         0.97007674
        ],
        [
         78,
         0.88031447
        ],
        [
         78,
         0.9215529
        ],
        [
         34,
         1.007747
        ],
        [
         34,
         3.5348792
        ],
        [
         34,
         2.5767126
        ],
        [
         34,
         1.1115184
        ],
        [
         34,
         1.50014
        ],
        [
         34,
         1.1415335
        ],
        [
         34,
         1.4647816
        ],
        [
         34,
         0.9605367
        ],
        [
         34,
         1.06601
        ],
        [
         34,
         2.5768132
        ],
        [
         34,
         1.1377416
        ],
        [
         81,
         1.1562711
        ],
        [
         81,
         1.4143704
        ],
        [
         81,
         1.9541795
        ],
        [
         81,
         1.1218313
        ],
        [
         81,
         0.9505043
        ],
        [
         81,
         2.021286
        ],
        [
         81,
         3.4252162
        ],
        [
         81,
         1.0720906
        ],
        [
         81,
         1.0307332
        ],
        [
         81,
         2.661681
        ],
        [
         81,
         0.7961805
        ],
        [
         81,
         1.0983484
        ],
        [
         81,
         0.99705255
        ],
        [
         81,
         2.7660804
        ],
        [
         81,
         4.014509
        ],
        [
         81,
         2.2037988
        ],
        [
         76,
         1.1747452
        ],
        [
         76,
         1.2246553
        ],
        [
         76,
         0.59773743
        ],
        [
         76,
         2.498318
        ],
        [
         76,
         0.9498888
        ],
        [
         76,
         1.5526713
        ],
        [
         76,
         2.6163244
        ],
        [
         76,
         0.44439232
        ],
        [
         76,
         0.41081294
        ],
        [
         76,
         1.0695744
        ],
        [
         76,
         1.0285662
        ],
        [
         44,
         0.95600396
        ],
        [
         44,
         1.194009
        ],
        [
         44,
         1.2019393
        ],
        [
         44,
         0.74419177
        ],
        [
         44,
         0.79467046
        ],
        [
         44,
         1.2857417
        ],
        [
         44,
         0.94626004
        ],
        [
         44,
         0.9801264
        ],
        [
         44,
         1.3615667
        ],
        [
         44,
         0.9628277
        ],
        [
         44,
         3.089578
        ],
        [
         44,
         0.8825442
        ],
        [
         44,
         0.87062514
        ],
        [
         44,
         1.1797253
        ],
        [
         44,
         2.1322846
        ],
        [
         44,
         1.478105
        ],
        [
         91,
         2.0304956
        ],
        [
         91,
         1.1389565
        ],
        [
         91,
         0.85170037
        ],
        [
         91,
         1.9323846
        ],
        [
         91,
         1.85581
        ],
        [
         91,
         2.9538863
        ],
        [
         91,
         2.5557864
        ],
        [
         91,
         1.0152037
        ],
        [
         91,
         2.4737866
        ],
        [
         91,
         1.2428472
        ],
        [
         91,
         1.0921972
        ],
        [
         91,
         2.5594184
        ],
        [
         91,
         1.1022152
        ],
        [
         91,
         1.1181104
        ],
        [
         93,
         0.9440316
        ],
        [
         93,
         4.632242
        ],
        [
         93,
         3.3210738
        ],
        [
         93,
         2.8595922
        ],
        [
         93,
         0.9979666
        ],
        [
         93,
         1.000312
        ],
        [
         93,
         1.0222877
        ],
        [
         93,
         1.1613668
        ],
        [
         93,
         2.6014674
        ],
        [
         93,
         1.240368
        ],
        [
         47,
         1.150959
        ],
        [
         47,
         1.4970556
        ],
        [
         47,
         1.265174
        ],
        [
         47,
         1.0523409
        ],
        [
         47,
         1.2136451
        ],
        [
         47,
         3.1208909
        ],
        [
         47,
         1.0212823
        ],
        [
         47,
         2.7073448
        ],
        [
         47,
         1.6808803
        ],
        [
         47,
         1.0699679
        ],
        [
         47,
         1.9098954
        ],
        [
         47,
         1.0511605
        ],
        [
         47,
         3.2089407
        ],
        [
         47,
         0.8924938
        ],
        [
         1,
         0.9484389
        ],
        [
         1,
         0.7232284
        ],
        [
         1,
         1.2096167
        ],
        [
         1,
         1.011935
        ],
        [
         1,
         1.0609348
        ],
        [
         1,
         0.9670188
        ],
        [
         1,
         2.966712
        ],
        [
         1,
         1.0708996
        ],
        [
         1,
         1.0765666
        ],
        [
         1,
         1.0819577
        ],
        [
         1,
         2.6851609
        ],
        [
         1,
         0.9584676
        ],
        [
         1,
         0.67958474
        ],
        [
         52,
         2.002011
        ],
        [
         52,
         1.5251869
        ],
        [
         52,
         3.3842125
        ],
        [
         52,
         1.0867503
        ],
        [
         52,
         4.5407763
        ],
        [
         52,
         1.1732053
        ],
        [
         52,
         0.99463844
        ],
        [
         52,
         2.6447933
        ],
        [
         52,
         4.638243
        ],
        [
         52,
         0.99606496
        ],
        [
         52,
         4.452403
        ],
        [
         52,
         1.1359972
        ],
        [
         52,
         1.0783393
        ],
        [
         52,
         1.0114924
        ],
        [
         16,
         0.8684648
        ],
        [
         86,
         1.3821533
        ],
        [
         16,
         0.75717425
        ],
        [
         86,
         1.081832
        ],
        [
         86,
         1.1672847
        ],
        [
         16,
         1.6908805
        ],
        [
         86,
         0.8393064
        ],
        [
         16,
         1.2778542
        ],
        [
         86,
         0.889528
        ],
        [
         86,
         0.9066182
        ],
        [
         86,
         1.1183897
        ],
        [
         16,
         1.7388059
        ],
        [
         86,
         0.7444756
        ],
        [
         16,
         1.174427
        ],
        [
         86,
         0.82027644
        ],
        [
         16,
         3.4507275
        ],
        [
         86,
         0.93085915
        ],
        [
         86,
         0.82736206
        ],
        [
         16,
         1.0904381
        ],
        [
         86,
         1.0719358
        ],
        [
         86,
         0.9220379
        ],
        [
         16,
         0.8702633
        ],
        [
         86,
         1.466369
        ],
        [
         86,
         0.9172521
        ],
        [
         16,
         2.6548054
        ],
        [
         16,
         1.1320964
        ],
        [
         86,
         2.3131285
        ],
        [
         86,
         0.8712625
        ],
        [
         86,
         1.1137149
        ],
        [
         3,
         0.8902817
        ],
        [
         3,
         1.0595198
        ],
        [
         3,
         0.9406596
        ],
        [
         3,
         1.3753576
        ],
        [
         3,
         0.96701294
        ],
        [
         3,
         0.94203365
        ],
        [
         3,
         1.1440791
        ],
        [
         3,
         0.9773678
        ],
        [
         3,
         1.3374125
        ],
        [
         3,
         1.6523223
        ],
        [
         3,
         1.1947588
        ],
        [
         3,
         0.9324151
        ],
        [
         3,
         0.8968185
        ],
        [
         40,
         1.0504438
        ],
        [
         40,
         3.4590569
        ],
        [
         20,
         0.9923541
        ],
        [
         40,
         2.514907
        ],
        [
         20,
         2.943336
        ],
        [
         20,
         0.8284095
        ],
        [
         40,
         1.7035326
        ],
        [
         40,
         2.1011972
        ],
        [
         40,
         3.1449637
        ],
        [
         20,
         1.0969074
        ],
        [
         40,
         1.3736863
        ],
        [
         20,
         0.9099971
        ],
        [
         40,
         1.8445469
        ],
        [
         20,
         0.98321
        ],
        [
         40,
         1.2896105
        ],
        [
         20,
         4.094309
        ],
        [
         20,
         0.9302201
        ],
        [
         40,
         2.0283265
        ],
        [
         40,
         0.9693814
        ],
        [
         20,
         1.0995014
        ],
        [
         40,
         2.1016517
        ],
        [
         40,
         1.1794349
        ],
        [
         40,
         0.8373879
        ],
        [
         20,
         1.0553646
        ],
        [
         40,
         1.1539311
        ],
        [
         20,
         2.3238707
        ],
        [
         40,
         1.5192804
        ],
        [
         20,
         1.0372827
        ],
        [
         40,
         1.2160403
        ],
        [
         20,
         1.0206555
        ],
        [
         94,
         1.0686269
        ],
        [
         94,
         2.1449385
        ],
        [
         94,
         2.9694161
        ],
        [
         94,
         1.0534669
        ],
        [
         94,
         2.0722892
        ],
        [
         94,
         2.2442675
        ],
        [
         94,
         3.5754914
        ],
        [
         94,
         1.544921
        ],
        [
         94,
         1.0499154
        ],
        [
         94,
         2.996046
        ],
        [
         94,
         3.9503982
        ],
        [
         94,
         3.2707758
        ],
        [
         94,
         3.3820114
        ],
        [
         94,
         2.063974
        ],
        [
         94,
         1.6068113
        ],
        [
         94,
         4.5454707
        ],
        [
         94,
         1.8186334
        ],
        [
         94,
         1.2430117
        ],
        [
         94,
         3.3547175
        ],
        [
         54,
         0.7219641
        ],
        [
         54,
         1.406585
        ],
        [
         54,
         0.9352198
        ],
        [
         54,
         0.77421206
        ],
        [
         54,
         1.0576704
        ],
        [
         54,
         0.9929657
        ],
        [
         54,
         1.1279739
        ],
        [
         54,
         1.010187
        ],
        [
         54,
         1.0366188
        ],
        [
         54,
         1.3182795
        ],
        [
         54,
         1.0773216
        ],
        [
         54,
         1.0659958
        ],
        [
         54,
         3.8326967
        ],
        [
         54,
         2.7831562
        ],
        [
         54,
         1.0445967
        ],
        [
         54,
         3.4934156
        ],
        [
         54,
         1.107069
        ],
        [
         96,
         0.9095414
        ],
        [
         96,
         1.140945
        ],
        [
         96,
         1.5230883
        ],
        [
         96,
         1.4130912
        ],
        [
         96,
         1.0967517
        ],
        [
         96,
         2.7432437
        ],
        [
         96,
         0.7410444
        ],
        [
         96,
         3.345747
        ],
        [
         96,
         0.6151662
        ],
        [
         96,
         2.4119246
        ],
        [
         96,
         1.8090761
        ],
        [
         96,
         2.749802
        ],
        [
         96,
         1.9948156
        ],
        [
         96,
         4.349066
        ],
        [
         96,
         0.9326522
        ],
        [
         5,
         1.4578513
        ],
        [
         5,
         1.0277138
        ],
        [
         5,
         1.0382259
        ],
        [
         5,
         1.0938387
        ],
        [
         5,
         0.9375309
        ],
        [
         5,
         1.0259217
        ],
        [
         5,
         0.9213888
        ],
        [
         5,
         1.6663195
        ],
        [
         5,
         1.0544884
        ],
        [
         5,
         1.8199831
        ],
        [
         5,
         1.4682575
        ],
        [
         5,
         1.8045856
        ],
        [
         5,
         1.2142316
        ],
        [
         19,
         0.93704456
        ],
        [
         19,
         0.7235836
        ],
        [
         19,
         3.4932394
        ],
        [
         19,
         1.5234994
        ],
        [
         19,
         1.2097521
        ],
        [
         19,
         1.0269511
        ],
        [
         19,
         1.1660466
        ],
        [
         19,
         3.4558816
        ],
        [
         19,
         0.7805652
        ],
        [
         19,
         0.9182379
        ],
        [
         19,
         0.9594144
        ],
        [
         19,
         1.0586771
        ],
        [
         19,
         0.8115336
        ],
        [
         19,
         1.3655213
        ],
        [
         19,
         2.5644476
        ],
        [
         19,
         1.8049028
        ],
        [
         19,
         1.3899851
        ],
        [
         92,
         0.9403796
        ],
        [
         92,
         1.8167678
        ],
        [
         92,
         1.1196282
        ],
        [
         92,
         1.6934403
        ],
        [
         92,
         2.0235841
        ],
        [
         92,
         0.9845928
        ],
        [
         92,
         1.0427191
        ],
        [
         92,
         1.9506305
        ],
        [
         92,
         1.8294208
        ],
        [
         92,
         2.6208808
        ],
        [
         92,
         1.1740024
        ],
        [
         92,
         1.017988
        ],
        [
         92,
         1.1940564
        ],
        [
         92,
         1.0434148
        ],
        [
         41,
         1.6950711
        ],
        [
         41,
         1.9594445
        ],
        [
         41,
         3.2296426
        ],
        [
         41,
         2.0636292
        ],
        [
         41,
         1.0303596
        ],
        [
         41,
         0.92533934
        ],
        [
         41,
         1.1316532
        ],
        [
         41,
         1.9453285
        ],
        [
         41,
         2.861998
        ],
        [
         41,
         1.0362054
        ],
        [
         9,
         0.81065506
        ],
        [
         17,
         0.9541203
        ],
        [
         9,
         2.1057646
        ],
        [
         9,
         0.7062216
        ],
        [
         9,
         0.73388296
        ],
        [
         9,
         1.0421675
        ],
        [
         17,
         0.80303234
        ],
        [
         9,
         2.2375288
        ],
        [
         9,
         0.92557377
        ],
        [
         17,
         1.0763983
        ],
        [
         9,
         1.0849922
        ],
        [
         9,
         1.6456125
        ],
        [
         17,
         1.0062271
        ],
        [
         9,
         1.0059906
        ],
        [
         17,
         4.266823
        ],
        [
         17,
         1.0075186
        ],
        [
         9,
         0.9355339
        ],
        [
         17,
         0.9602076
        ],
        [
         17,
         2.2448297
        ],
        [
         9,
         1.0392437
        ],
        [
         17,
         4.292567
        ],
        [
         17,
         0.9983586
        ],
        [
         9,
         1.3442621
        ],
        [
         9,
         0.9693438
        ],
        [
         17,
         1.1731315
        ],
        [
         9,
         1.0517808
        ],
        [
         17,
         0.864853
        ],
        [
         9,
         1.3605311
        ],
        [
         17,
         3.0595617
        ],
        [
         35,
         1.1196996
        ],
        [
         35,
         1.121303
        ],
        [
         35,
         0.78708464
        ],
        [
         35,
         1.1042918
        ],
        [
         35,
         1.0212331
        ],
        [
         35,
         2.0609763
        ],
        [
         35,
         0.9887671
        ],
        [
         35,
         2.7727075
        ],
        [
         35,
         3.8417869
        ],
        [
         35,
         2.1115735
        ],
        [
         35,
         2.2923892
        ],
        [
         35,
         0.9300592
        ],
        [
         35,
         1.9445064
        ],
        [
         35,
         1.1686603
        ],
        [
         8,
         4.3835964
        ],
        [
         8,
         2.631425
        ],
        [
         8,
         1.1479595
        ],
        [
         8,
         0.8739415
        ],
        [
         8,
         1.1215487
        ],
        [
         8,
         1.0778157
        ],
        [
         8,
         1.1353527
        ],
        [
         7,
         1.9438704
        ],
        [
         7,
         0.98832846
        ],
        [
         7,
         1.0591837
        ],
        [
         7,
         3.8364756
        ],
        [
         7,
         1.0790819
        ],
        [
         7,
         2.7890365
        ],
        [
         7,
         1.1163107
        ],
        [
         7,
         1.0774277
        ],
        [
         7,
         1.1342386
        ],
        [
         7,
         0.9990744
        ],
        [
         7,
         1.9157492
        ],
        [
         7,
         1.110979
        ],
        [
         7,
         0.72445315
        ],
        [
         7,
         4.1710305
        ],
        [
         7,
         1.3394804
        ],
        [
         7,
         2.2188983
        ],
        [
         51,
         0.9530804
        ],
        [
         51,
         4.066766
        ],
        [
         51,
         1.1292344
        ],
        [
         51,
         1.0921729
        ],
        [
         51,
         1.1236637
        ],
        [
         51,
         0.83469886
        ],
        [
         51,
         2.8964515
        ],
        [
         51,
         1.0300564
        ],
        [
         51,
         1.2902303
        ],
        [
         51,
         1.0678395
        ],
        [
         51,
         1.0106215
        ],
        [
         51,
         4.104096
        ],
        [
         51,
         1.3292619
        ],
        [
         51,
         1.7935011
        ],
        [
         51,
         2.9312098
        ],
        [
         51,
         1.1531055
        ],
        [
         51,
         4.2914286
        ],
        [
         51,
         1.039537
        ],
        [
         51,
         2.1235456
        ],
        [
         51,
         1.8002495
        ],
        [
         63,
         1.3389629
        ],
        [
         63,
         2.6678548
        ],
        [
         63,
         2.6099274
        ],
        [
         63,
         2.2460392
        ],
        [
         63,
         2.591786
        ],
        [
         63,
         1.0244653
        ],
        [
         63,
         1.1783093
        ],
        [
         63,
         2.1152155
        ],
        [
         63,
         4.0190916
        ],
        [
         63,
         1.8441492
        ],
        [
         63,
         0.981681
        ],
        [
         63,
         0.9325063
        ],
        [
         63,
         1.2024785
        ],
        [
         63,
         1.9414345
        ],
        [
         63,
         3.6944356
        ],
        [
         63,
         1.0649531
        ],
        [
         45,
         0.71326655
        ],
        [
         45,
         1.1048026
        ],
        [
         45,
         1.0110226
        ],
        [
         45,
         1.3641583
        ],
        [
         45,
         1.2491841
        ],
        [
         45,
         0.98585135
        ],
        [
         45,
         0.99146366
        ],
        [
         45,
         0.8816935
        ],
        [
         45,
         1.0376852
        ],
        [
         45,
         1.0502057
        ],
        [
         45,
         1.0452627
        ],
        [
         45,
         1.520979
        ],
        [
         45,
         1.0159268
        ],
        [
         45,
         1.8568807
        ],
        [
         45,
         0.9541025
        ],
        [
         45,
         1.8739302
        ],
        [
         45,
         0.9876
        ],
        [
         45,
         0.94231766
        ],
        [
         80,
         1.2546148
        ],
        [
         80,
         3.357286
        ],
        [
         80,
         2.9385731
        ],
        [
         80,
         0.6291625
        ],
        [
         80,
         1.7439351
        ],
        [
         80,
         0.8709334
        ],
        [
         80,
         0.95211643
        ],
        [
         80,
         3.0454025
        ],
        [
         80,
         1.0998
        ],
        [
         80,
         2.5205464
        ],
        [
         80,
         1.144645
        ],
        [
         70,
         2.0298724
        ],
        [
         70,
         1.3165194
        ],
        [
         70,
         3.2463167
        ],
        [
         70,
         1.6174912
        ],
        [
         70,
         2.7135
        ],
        [
         70,
         0.9855674
        ],
        [
         70,
         1.1055318
        ],
        [
         70,
         1.3670533
        ],
        [
         70,
         1.0057042
        ],
        [
         70,
         1.8568676
        ],
        [
         70,
         2.723396
        ],
        [
         70,
         0.9094621
        ],
        [
         70,
         1.0151274
        ],
        [
         70,
         1.0213383
        ],
        [
         62,
         3.1357613
        ],
        [
         62,
         0.9920722
        ],
        [
         62,
         1.7585466
        ],
        [
         62,
         3.3821313
        ],
        [
         62,
         2.7797828
        ],
        [
         62,
         3.884368
        ],
        [
         62,
         0.99974495
        ],
        [
         62,
         1.5585481
        ],
        [
         62,
         3.4421768
        ],
        [
         62,
         1.4207467
        ],
        [
         62,
         1.2165353
        ],
        [
         62,
         1.3446758
        ],
        [
         62,
         3.5623944
        ],
        [
         62,
         2.078116
        ],
        [
         62,
         1.3169732
        ],
        [
         62,
         1.0333369
        ],
        [
         21,
         0.93778265
        ],
        [
         21,
         2.2577474
        ],
        [
         21,
         1.8755352
        ],
        [
         21,
         0.87790155
        ],
        [
         21,
         1.1174471
        ],
        [
         21,
         1.1231817
        ],
        [
         21,
         1.4807256
        ],
        [
         21,
         1.035501
        ],
        [
         21,
         1.0583082
        ],
        [
         21,
         1.0396764
        ],
        [
         21,
         0.83803976
        ],
        [
         21,
         0.9510275
        ],
        [
         21,
         1.6185558
        ],
        [
         21,
         1.8488271
        ],
        [
         21,
         2.0025916
        ],
        [
         21,
         1.2375094
        ],
        [
         21,
         2.786205
        ],
        [
         98,
         1.2334431
        ],
        [
         98,
         1.2554945
        ],
        [
         98,
         0.94426864
        ],
        [
         98,
         1.1706016
        ],
        [
         98,
         1.1261919
        ],
        [
         98,
         0.8803605
        ],
        [
         98,
         2.1067002
        ],
        [
         98,
         1.136325
        ],
        [
         98,
         1.0473981
        ],
        [
         98,
         2.5048625
        ],
        [
         98,
         3.1564724
        ],
        [
         98,
         1.0314908
        ],
        [
         98,
         3.1939192
        ],
        [
         98,
         3.6129682
        ],
        [
         98,
         2.3882666
        ],
        [
         98,
         1.1086913
        ],
        [
         98,
         0.9959097
        ],
        [
         90,
         0.9961258
        ],
        [
         90,
         3.5462425
        ],
        [
         90,
         1.3428868
        ],
        [
         90,
         2.8140728
        ],
        [
         90,
         1.01441
        ],
        [
         90,
         3.6310692
        ],
        [
         90,
         1.1100131
        ],
        [
         90,
         4.2941847
        ],
        [
         90,
         4.586747
        ],
        [
         90,
         3.5162423
        ],
        [
         90,
         2.6760623
        ],
        [
         90,
         2.630558
        ],
        [
         90,
         4.3384457
        ],
        [
         90,
         1.4199342
        ],
        [
         90,
         1.8208377
        ],
        [
         90,
         3.8940847
        ],
        [
         75,
         0.91942257
        ],
        [
         75,
         1.0714977
        ],
        [
         75,
         1.1801374
        ],
        [
         75,
         0.9862809
        ],
        [
         75,
         2.6636963
        ],
        [
         75,
         1.0542805
        ],
        [
         75,
         1.1187576
        ],
        [
         75,
         3.290255
        ],
        [
         75,
         4.488112
        ],
        [
         75,
         2.6345818
        ],
        [
         75,
         1.3433636
        ],
        [
         75,
         1.394791
        ],
        [
         56,
         1.8299503
        ],
        [
         56,
         1.0813007
        ],
        [
         56,
         2.44384
        ],
        [
         56,
         0.9271712
        ],
        [
         56,
         0.94553995
        ],
        [
         56,
         1.0476383
        ],
        [
         56,
         0.9570239
        ],
        [
         56,
         2.1956537
        ],
        [
         56,
         1.001697
        ],
        [
         56,
         1.636882
        ],
        [
         56,
         2.8956401
        ],
        [
         56,
         0.9557456
        ],
        [
         56,
         1.6800312
        ],
        [
         56,
         1.1644061
        ],
        [
         56,
         1.6556059
        ],
        [
         56,
         1.013852
        ],
        [
         56,
         1.11119
        ],
        [
         58,
         1.2002394
        ],
        [
         58,
         1.8613565
        ],
        [
         58,
         1.0560371
        ],
        [
         58,
         0.95541763
        ],
        [
         58,
         2.8545136
        ],
        [
         58,
         3.495125
        ],
        [
         58,
         2.0367787
        ],
        [
         58,
         1.3132421
        ],
        [
         58,
         1.0245206
        ],
        [
         58,
         0.9882724
        ],
        [
         58,
         1.0115051
        ],
        [
         58,
         2.8208475
        ],
        [
         58,
         1.8935841
        ],
        [
         58,
         0.9544744
        ],
        [
         58,
         1.0459358
        ],
        [
         11,
         0.984304
        ],
        [
         11,
         0.92847186
        ],
        [
         11,
         1.7863116
        ],
        [
         11,
         1.0645648
        ],
        [
         11,
         1.2305301
        ],
        [
         11,
         1.0457139
        ],
        [
         11,
         0.9707945
        ],
        [
         11,
         3.3094442
        ],
        [
         11,
         0.82447946
        ],
        [
         11,
         0.8452139
        ],
        [
         11,
         1.0904139
        ],
        [
         11,
         1.0407276
        ],
        [
         71,
         1.2277435
        ],
        [
         71,
         2.6625912
        ],
        [
         71,
         0.8764366
        ],
        [
         71,
         1.1877059
        ],
        [
         71,
         1.6812094
        ],
        [
         71,
         1.1066463
        ],
        [
         71,
         1.1453224
        ],
        [
         71,
         2.623237
        ],
        [
         71,
         1.2892604
        ],
        [
         71,
         1.6290815
        ],
        [
         71,
         0.94568455
        ],
        [
         71,
         1.01404
        ],
        [
         71,
         1.0117457
        ],
        [
         71,
         3.0492914
        ],
        [
         71,
         1.0445945
        ],
        [
         71,
         1.9493461
        ],
        [
         42,
         1.0871422
        ],
        [
         42,
         1.819459
        ],
        [
         42,
         2.5003352
        ],
        [
         42,
         1.022702
        ],
        [
         42,
         1.4849743
        ],
        [
         42,
         0.94025934
        ],
        [
         42,
         0.9601049
        ],
        [
         42,
         0.9869313
        ],
        [
         79,
         0.91841453
        ],
        [
         79,
         2.6186333
        ],
        [
         79,
         1.2251853
        ],
        [
         79,
         0.9319637
        ],
        [
         79,
         0.9366082
        ],
        [
         79,
         0.9716837
        ],
        [
         79,
         4.151344
        ],
        [
         79,
         1.7427695
        ],
        [
         79,
         1.7320672
        ],
        [
         79,
         1.182176
        ],
        [
         79,
         0.91549695
        ],
        [
         79,
         0.9386642
        ],
        [
         79,
         1.182647
        ],
        [
         79,
         1.0273854
        ],
        [
         79,
         1.0730507
        ],
        [
         79,
         1.883378
        ],
        [
         99,
         0.85149664
        ],
        [
         99,
         0.9388692
        ],
        [
         99,
         0.88628095
        ],
        [
         99,
         1.0078738
        ],
        [
         99,
         1.0130446
        ],
        [
         99,
         0.94081
        ],
        [
         99,
         0.9533058
        ],
        [
         99,
         1.6779565
        ],
        [
         99,
         0.97411996
        ],
        [
         99,
         1.0118427
        ],
        [
         99,
         0.97771996
        ],
        [
         99,
         1.23538
        ],
        [
         99,
         0.8632635
        ],
        [
         46,
         1.3478152
        ],
        [
         46,
         1.13763
        ],
        [
         46,
         0.9879081
        ],
        [
         46,
         4.171382
        ],
        [
         46,
         1.083648
        ],
        [
         46,
         4.726519
        ],
        [
         46,
         1.0570703
        ],
        [
         46,
         0.8902826
        ],
        [
         46,
         1.1160282
        ],
        [
         46,
         4.2725654
        ],
        [
         74,
         1.7862793
        ],
        [
         74,
         1.1404823
        ],
        [
         74,
         1.2089251
        ],
        [
         74,
         1.0930965
        ],
        [
         74,
         2.592817
        ],
        [
         74,
         1.0629994
        ],
        [
         74,
         2.2248442
        ],
        [
         74,
         2.4977632
        ],
        [
         74,
         3.525202
        ],
        [
         74,
         3.3693123
        ],
        [
         74,
         0.9304586
        ],
        [
         74,
         1.2262943
        ],
        [
         89,
         1.9391937
        ],
        [
         89,
         3.4880216
        ],
        [
         89,
         0.9801933
        ],
        [
         89,
         2.0112636
        ],
        [
         89,
         1.1394783
        ],
        [
         89,
         2.750743
        ],
        [
         89,
         1.2415625
        ],
        [
         89,
         1.0752336
        ],
        [
         89,
         1.880212
        ],
        [
         89,
         0.94453406
        ],
        [
         89,
         3.4789276
        ]
       ],
       "datasetInfos": [
        {
         "name": "Unwatched_user23",
         "schema": {
          "fields": [
           {
            "metadata": {},
            "name": "movieId",
            "nullable": true,
            "type": "integer"
           },
           {
            "metadata": {},
            "name": "rating",
            "nullable": true,
            "type": "integer"
           },
           {
            "metadata": {},
            "name": "userId",
            "nullable": true,
            "type": "integer"
           }
          ],
          "type": "struct"
         },
         "tableIdentifier": null,
         "typeStr": "pyspark.sql.dataframe.DataFrame"
        },
        {
         "name": "movies_15_recommendation_user_23",
         "schema": {
          "fields": [
           {
            "metadata": {},
            "name": "movieId",
            "nullable": true,
            "type": "integer"
           },
           {
            "metadata": {},
            "name": "rating",
            "nullable": true,
            "type": "integer"
           },
           {
            "metadata": {},
            "name": "userId",
            "nullable": true,
            "type": "integer"
           },
           {
            "metadata": {},
            "name": "prediction",
            "nullable": false,
            "type": "float"
           }
          ],
          "type": "struct"
         },
         "tableIdentifier": null,
         "typeStr": "pyspark.sql.dataframe.DataFrame"
        }
       ],
       "dbfsResultPath": null,
       "isJsonSchema": true,
       "metadata": {},
       "overflow": false,
       "plotOptions": {
        "customPlotOptions": {},
        "displayType": "table",
        "pivotAggregation": null,
        "pivotColumns": null,
        "xColumns": null,
        "yColumns": null
       },
       "removedWidgets": [],
       "schema": [
        {
         "metadata": "{}",
         "name": "movieId",
         "type": "\"integer\""
        },
        {
         "metadata": "{}",
         "name": "prediction",
         "type": "\"float\""
        }
       ],
       "type": "table"
      }
     },
     "output_type": "display_data"
    }
   ],
   "source": [
    "# Getting Unwatched movies\n",
    "Unwatched_user23 = (df.filter(df.movieId.isin(movie_list_23) == False))\n",
    "\n",
    "movies_15_recommendation_user_23 = best_model.transform(Unwatched_user23)\n",
    "display(movies_15_recommendation_user_23.select('movieId','prediction'))"
   ]
  },
  {
   "cell_type": "code",
   "execution_count": 0,
   "metadata": {
    "application/vnd.databricks.v1+cell": {
     "inputWidgets": {},
     "nuid": "827f5416-d4bc-4dd3-9513-86ea5623b769",
     "showTitle": true,
     "title": "Top 15 movies for user 23"
    }
   },
   "outputs": [
    {
     "data": {
      "text/html": [
       "<style scoped>\n",
       "  .ansiout {\n",
       "    display: block;\n",
       "    unicode-bidi: embed;\n",
       "    white-space: pre-wrap;\n",
       "    word-wrap: break-word;\n",
       "    word-break: break-all;\n",
       "    font-family: \"Source Code Pro\", \"Menlo\", monospace;;\n",
       "    font-size: 13px;\n",
       "    color: #555;\n",
       "    margin-left: 4px;\n",
       "    line-height: 19px;\n",
       "  }\n",
       "</style>\n",
       "<div class=\"ansiout\">+-------+----------+------+\n",
       "movieId|prediction|userId|\n",
       "+-------+----------+------+\n",
       "     46|  4.726519|    23|\n",
       "     52|  4.638243|    23|\n",
       "     93|  4.632242|    23|\n",
       "     90|  4.586747|    23|\n",
       "     94| 4.5454707|    23|\n",
       "     52| 4.5407763|    23|\n",
       "     75|  4.488112|    23|\n",
       "     52|  4.452403|    23|\n",
       "      8| 4.3835964|    23|\n",
       "     96|  4.349066|    23|\n",
       "     90| 4.3384457|    23|\n",
       "     90| 4.2941847|    23|\n",
       "     17|  4.292567|    23|\n",
       "     51| 4.2914286|    23|\n",
       "     46| 4.2725654|    23|\n",
       "+-------+----------+------+\n",
       "only showing top 15 rows\n",
       "\n",
       "</div>"
      ]
     },
     "metadata": {
      "application/vnd.databricks.v1+output": {
       "addedWidgets": {},
       "arguments": {},
       "data": "<div class=\"ansiout\">+-------+----------+------+\n|movieId|prediction|userId|\n+-------+----------+------+\n|     46|  4.726519|    23|\n|     52|  4.638243|    23|\n|     93|  4.632242|    23|\n|     90|  4.586747|    23|\n|     94| 4.5454707|    23|\n|     52| 4.5407763|    23|\n|     75|  4.488112|    23|\n|     52|  4.452403|    23|\n|      8| 4.3835964|    23|\n|     96|  4.349066|    23|\n|     90| 4.3384457|    23|\n|     90| 4.2941847|    23|\n|     17|  4.292567|    23|\n|     51| 4.2914286|    23|\n|     46| 4.2725654|    23|\n+-------+----------+------+\nonly showing top 15 rows\n\n</div>",
       "datasetInfos": [],
       "metadata": {},
       "removedWidgets": [],
       "type": "html"
      }
     },
     "output_type": "display_data"
    }
   ],
   "source": [
    "top15Movies_23 = movies_15_recommendation_user_23.select('movieId','prediction').orderBy('prediction', ascending = False).withColumn('userId', lit(23)).show(15)\n"
   ]
  },
  {
   "cell_type": "code",
   "execution_count": 0,
   "metadata": {
    "application/vnd.databricks.v1+cell": {
     "inputWidgets": {},
     "nuid": "3242c77c-bf0e-4028-b908-a03ecd847b9b",
     "showTitle": false,
     "title": ""
    }
   },
   "outputs": [
    {
     "data": {
      "text/html": [
       "<style scoped>\n",
       "  .ansiout {\n",
       "    display: block;\n",
       "    unicode-bidi: embed;\n",
       "    white-space: pre-wrap;\n",
       "    word-wrap: break-word;\n",
       "    word-break: break-all;\n",
       "    font-family: \"Source Code Pro\", \"Menlo\", monospace;;\n",
       "    font-size: 13px;\n",
       "    color: #555;\n",
       "    margin-left: 4px;\n",
       "    line-height: 19px;\n",
       "  }\n",
       "</style>"
      ]
     },
     "metadata": {
      "application/vnd.databricks.v1+output": {
       "arguments": {},
       "data": "",
       "errorSummary": "",
       "errorTraceType": null,
       "metadata": {},
       "type": "ipynbError"
      }
     },
     "output_type": "display_data"
    }
   ],
   "source": []
  }
 ],
 "metadata": {
  "application/vnd.databricks.v1+notebook": {
   "dashboards": [],
   "language": "python",
   "notebookMetadata": {
    "pythonIndentUnit": 2
   },
   "notebookName": "A2 PartB",
   "notebookOrigID": 189908282523730,
   "widgets": {}
  },
  "kernelspec": {
   "display_name": "Python 3",
   "language": "python",
   "name": "python3"
  },
  "language_info": {
   "codemirror_mode": {
    "name": "ipython",
    "version": 3
   },
   "file_extension": ".py",
   "mimetype": "text/x-python",
   "name": "python",
   "nbconvert_exporter": "python",
   "pygments_lexer": "ipython3",
   "version": "3.8.3"
  }
 },
 "nbformat": 4,
 "nbformat_minor": 1
}
